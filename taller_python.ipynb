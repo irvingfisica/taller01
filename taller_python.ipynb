{
 "metadata": {
  "language_info": {
   "codemirror_mode": {
    "name": "ipython",
    "version": 3
   },
   "file_extension": ".py",
   "mimetype": "text/x-python",
   "name": "python",
   "nbconvert_exporter": "python",
   "pygments_lexer": "ipython3",
   "version": "3.8.3-final"
  },
  "orig_nbformat": 2,
  "kernelspec": {
   "name": "Python 3.8.3 64-bit ('base': conda)",
   "display_name": "Python 3.8.3 64-bit ('base': conda)",
   "metadata": {
    "interpreter": {
     "hash": "9ff26dfd9b0fc0cca3d8c400f6814bd976a81d0f03d9612ba05cf6591c88322d"
    }
   }
  }
 },
 "nbformat": 4,
 "nbformat_minor": 2,
 "cells": [
  {
   "source": [
    "# Taller de visualización de datos, \"Visualizando datos de COVID-19\n",
    "## Manejo y procesamiento de datos\n",
    "En esta sección del tutorial descragaremos los datos, los procesaremos, haremos algunas gráficas exploratorias y generaremos los insumos necesarios para visualizar nuestros datos en la web."
   ],
   "cell_type": "markdown",
   "metadata": {}
  },
  {
   "source": [
    "La celda que estas leyendo es una celda de texto, no es necesario que teclees todo esto en tu ejemplo. La siguiente celda es una celda de código. Para seguir el ejemplo tendras que ir tecleando cada una de ellas y ejecutandolas paso a paso. La manera más fácil de ejecutar una celda de Jupyter es después de teclearla presionar Shift+Enter, esto ejecutará el código en ella, te mosdtrará el resultado de la ejecución si es que hay algo que mostrar y te dará una celda nueva debajo de la celda actual. Probemos con la siguiente celda, escribe 2+2 y presiona Shift+Enter, la celda debería de darte el resultado de la suma y colocarte en una celda nueva."
   ],
   "cell_type": "markdown",
   "metadata": {}
  },
  {
   "cell_type": "code",
   "execution_count": 3,
   "metadata": {},
   "outputs": [
    {
     "output_type": "execute_result",
     "data": {
      "text/plain": [
       "4"
      ]
     },
     "metadata": {},
     "execution_count": 3
    }
   ],
   "source": [
    "2+2"
   ]
  },
  {
   "source": [
    "Si se ejecutó la celda y obtuviste el resultado todo está listo para continuar."
   ],
   "cell_type": "markdown",
   "metadata": {}
  },
  {
   "source": [
    "## Importando las librerías necesarias para realizar análisis de datos\n",
    "\n",
    "Lo primero que haremos es importar las librerías necesarias para hacer análisis de datos. Por lo pronto necesitaremos 2 librterías:\n",
    "\n",
    "* [Pandas](https://pandas.pydata.org/pandas-docs/stable/index.html)\n",
    "* [Bokeh](https://docs.bokeh.org/en/latest/index.html)\n",
    "\n",
    "Pandas lo usaremos para manipular de formas muy eficientes nuestra base de datos. \n",
    "\n",
    "Bokeh lo utilizaremos para graficar y realizar algunas visualizaciones de datos básicas con nuestros datos.\n",
    "\n",
    "Ambas las importaremos a nuestro notebook a traves del comando import y las guardaremos en aliases para que no tengamos que teclear tanto cuando las llamamos. Pandas la guardaremos en el alias \"pd\" y Bokeh lo guardaremos en el alias \"bpl\"\n"
   ],
   "cell_type": "markdown",
   "metadata": {}
  },
  {
   "cell_type": "code",
   "execution_count": 4,
   "metadata": {},
   "outputs": [],
   "source": [
    "import pandas as pd \n",
    "import bokeh.plotting as bpl"
   ]
  },
  {
   "source": [
    "## Descargando los datos\n",
    "\n",
    "En este tutorial trabajaremos con los datos mexicanos reportados por la secretaría de salud relacionados al COVID19. Los datos se publican diariamente y se pueden encontrar [aquí](https://www.gob.mx/salud/documentos/datos-abiertos-152127).\n",
    "\n",
    "En específico nos concentraremos en los datos actuales, que se encuentran en un enlace en esa página. \n",
    "\n",
    "Para poder trabajar con los datos en python necesitamos \"cargarlos\" a memoria. Pandas nos permite crear una estructura de datos con ellos. A esta estructura la llamamos DataFrame.\n",
    "\n",
    "Pandas nos permite crear DataFrames a partir de una gran cantidad de formatos de datos. Los más usuales son los formatos de texto separado por comas o \"CSVs\", texto en notación de objeto tipo JavaScript o \"JSON\", hojas de cálculo de excel. Además Pandas nos permite indicar la dirección de donde está guardado nuestro archivo a utilizar, puede ser una dirección local en tu computadora, por ejemplo una carpeta donde tengas guardados los datos o una dirección URL donde estén almacenados los datos en la web.\n",
    "\n",
    "Para este ejercicio descargaremos directamente los datos de la página de la secretaría de salud pública. Los datos que liberaron están en formato zip, dentro del archivo comprimido hay un archivo de tipo CSV que podemos usar para crear un DataFrame. Pandas nos permite crear un DataFrame en nuestro notebook directamente desde la URL donde están guardados los datos, sin descargarlos y descomprimirlos a nuestra computadora previamente.\n",
    "\n",
    "Teclea y ejecuta lo siguiente en tu notebook:"
   ],
   "cell_type": "markdown",
   "metadata": {}
  },
  {
   "cell_type": "code",
   "execution_count": 5,
   "metadata": {},
   "outputs": [],
   "source": [
    "data = pd.read_csv('http://datosabiertos.salud.gob.mx/gobmx/salud/datos_abiertos/datos_abiertos_covid19.zip', compression='zip',encoding=\"latin1\")"
   ]
  },
  {
   "source": [
    "Hay varias cosas importantes en la celda anterior:\n",
    "\n",
    "* Estamos ocupando la función read_csv de Pandas, por eso la invocamos como pd.read_csv() \n",
    "* El primer parámetro de la función es la ruta en la cual se encuentra nuestro archivo, en este caso es una dirección URL al archivo zip en la página de la secretaría de salud mexicana.\n",
    "* Estamos utilizando la opción \"compression\" para indicar que es un archivo tipo zip\n",
    "* Necesitamos indicar que la codificación del archivo es \"latin1\".\n",
    "* La función read_csv() crea un DataFrame listo para procesarse. Este DataFrame lo guardamos en la variable \"data\".\n",
    "\n",
    "Para poder visualizar nuestro DataFrame necesitamos ver el contenido de la variable data, nuestro DataFrame tiene la estructura de una tabla de datos, muy parecida a una hoja de cálculo. En la siguiente celda veremos que hay en esta variable"
   ],
   "cell_type": "markdown",
   "metadata": {}
  },
  {
   "cell_type": "code",
   "execution_count": 7,
   "metadata": {},
   "outputs": [
    {
     "output_type": "execute_result",
     "data": {
      "text/plain": [
       "        FECHA_ACTUALIZACION ID_REGISTRO  ORIGEN  SECTOR  ENTIDAD_UM  SEXO  \\\n",
       "0                2020-10-18      1426fb       1       4          10     1   \n",
       "1                2020-10-18      1c4583       2      12           9     2   \n",
       "2                2020-10-18      0d55c9       2      12           9     1   \n",
       "3                2020-10-18      071735       2       9          21     2   \n",
       "4                2020-10-18      1468a5       1       4           5     1   \n",
       "...                     ...         ...     ...     ...         ...   ...   \n",
       "2183267          2020-10-18      332cf5       2       4          30     1   \n",
       "2183268          2020-10-18      42c51a       2      12           9     2   \n",
       "2183269          2020-10-18      408ef1       2       6           9     2   \n",
       "2183270          2020-10-18      372368       2       9           8     2   \n",
       "2183271          2020-10-18      427b3f       2       9          19     2   \n",
       "\n",
       "         ENTIDAD_NAC  ENTIDAD_RES  MUNICIPIO_RES  TIPO_PACIENTE  ...  \\\n",
       "0                 28           10              7              1  ...   \n",
       "1                  9            9              4              1  ...   \n",
       "2                  9            9             16              1  ...   \n",
       "3                 21           21            114              1  ...   \n",
       "4                 15            5             18              1  ...   \n",
       "...              ...          ...            ...            ...  ...   \n",
       "2183267           30           30            135              1  ...   \n",
       "2183268            9            9             10              1  ...   \n",
       "2183269            9            9              5              1  ...   \n",
       "2183270            8            8             19              2  ...   \n",
       "2183271           19           19             18              2  ...   \n",
       "\n",
       "        RENAL_CRONICA TABAQUISMO OTRO_CASO  TOMA_MUESTRA  RESULTADO_LAB  \\\n",
       "0                   2          2        99             1              1   \n",
       "1                   2          2         2             1              1   \n",
       "2                   2          2         2             1              1   \n",
       "3                   2          2         2             1              1   \n",
       "4                   2          2         1             1              1   \n",
       "...               ...        ...       ...           ...            ...   \n",
       "2183267             2          2         2             1              3   \n",
       "2183268             2          2         1             1              3   \n",
       "2183269             2          2         1             2             97   \n",
       "2183270             2          2         2             1              3   \n",
       "2183271             2          2         2             1              3   \n",
       "\n",
       "         CLASIFICACION_FINAL  MIGRANTE  PAIS_NACIONALIDAD  PAIS_ORIGEN  UCI  \n",
       "0                          3        99            MÃ©xico           97   97  \n",
       "1                          3        99            MÃ©xico           97   97  \n",
       "2                          3        99            MÃ©xico           97   97  \n",
       "3                          3        99            MÃ©xico           97   97  \n",
       "4                          3        99            MÃ©xico           97   97  \n",
       "...                      ...       ...                ...          ...  ...  \n",
       "2183267                    6        99            MÃ©xico           97   97  \n",
       "2183268                    6        99            MÃ©xico           97   97  \n",
       "2183269                    1        99            MÃ©xico           97   97  \n",
       "2183270                    6        99            MÃ©xico           97    2  \n",
       "2183271                    6        99            MÃ©xico           97    2  \n",
       "\n",
       "[2183272 rows x 38 columns]"
      ],
      "text/html": "<div>\n<style scoped>\n    .dataframe tbody tr th:only-of-type {\n        vertical-align: middle;\n    }\n\n    .dataframe tbody tr th {\n        vertical-align: top;\n    }\n\n    .dataframe thead th {\n        text-align: right;\n    }\n</style>\n<table border=\"1\" class=\"dataframe\">\n  <thead>\n    <tr style=\"text-align: right;\">\n      <th></th>\n      <th>FECHA_ACTUALIZACION</th>\n      <th>ID_REGISTRO</th>\n      <th>ORIGEN</th>\n      <th>SECTOR</th>\n      <th>ENTIDAD_UM</th>\n      <th>SEXO</th>\n      <th>ENTIDAD_NAC</th>\n      <th>ENTIDAD_RES</th>\n      <th>MUNICIPIO_RES</th>\n      <th>TIPO_PACIENTE</th>\n      <th>...</th>\n      <th>RENAL_CRONICA</th>\n      <th>TABAQUISMO</th>\n      <th>OTRO_CASO</th>\n      <th>TOMA_MUESTRA</th>\n      <th>RESULTADO_LAB</th>\n      <th>CLASIFICACION_FINAL</th>\n      <th>MIGRANTE</th>\n      <th>PAIS_NACIONALIDAD</th>\n      <th>PAIS_ORIGEN</th>\n      <th>UCI</th>\n    </tr>\n  </thead>\n  <tbody>\n    <tr>\n      <th>0</th>\n      <td>2020-10-18</td>\n      <td>1426fb</td>\n      <td>1</td>\n      <td>4</td>\n      <td>10</td>\n      <td>1</td>\n      <td>28</td>\n      <td>10</td>\n      <td>7</td>\n      <td>1</td>\n      <td>...</td>\n      <td>2</td>\n      <td>2</td>\n      <td>99</td>\n      <td>1</td>\n      <td>1</td>\n      <td>3</td>\n      <td>99</td>\n      <td>MÃ©xico</td>\n      <td>97</td>\n      <td>97</td>\n    </tr>\n    <tr>\n      <th>1</th>\n      <td>2020-10-18</td>\n      <td>1c4583</td>\n      <td>2</td>\n      <td>12</td>\n      <td>9</td>\n      <td>2</td>\n      <td>9</td>\n      <td>9</td>\n      <td>4</td>\n      <td>1</td>\n      <td>...</td>\n      <td>2</td>\n      <td>2</td>\n      <td>2</td>\n      <td>1</td>\n      <td>1</td>\n      <td>3</td>\n      <td>99</td>\n      <td>MÃ©xico</td>\n      <td>97</td>\n      <td>97</td>\n    </tr>\n    <tr>\n      <th>2</th>\n      <td>2020-10-18</td>\n      <td>0d55c9</td>\n      <td>2</td>\n      <td>12</td>\n      <td>9</td>\n      <td>1</td>\n      <td>9</td>\n      <td>9</td>\n      <td>16</td>\n      <td>1</td>\n      <td>...</td>\n      <td>2</td>\n      <td>2</td>\n      <td>2</td>\n      <td>1</td>\n      <td>1</td>\n      <td>3</td>\n      <td>99</td>\n      <td>MÃ©xico</td>\n      <td>97</td>\n      <td>97</td>\n    </tr>\n    <tr>\n      <th>3</th>\n      <td>2020-10-18</td>\n      <td>071735</td>\n      <td>2</td>\n      <td>9</td>\n      <td>21</td>\n      <td>2</td>\n      <td>21</td>\n      <td>21</td>\n      <td>114</td>\n      <td>1</td>\n      <td>...</td>\n      <td>2</td>\n      <td>2</td>\n      <td>2</td>\n      <td>1</td>\n      <td>1</td>\n      <td>3</td>\n      <td>99</td>\n      <td>MÃ©xico</td>\n      <td>97</td>\n      <td>97</td>\n    </tr>\n    <tr>\n      <th>4</th>\n      <td>2020-10-18</td>\n      <td>1468a5</td>\n      <td>1</td>\n      <td>4</td>\n      <td>5</td>\n      <td>1</td>\n      <td>15</td>\n      <td>5</td>\n      <td>18</td>\n      <td>1</td>\n      <td>...</td>\n      <td>2</td>\n      <td>2</td>\n      <td>1</td>\n      <td>1</td>\n      <td>1</td>\n      <td>3</td>\n      <td>99</td>\n      <td>MÃ©xico</td>\n      <td>97</td>\n      <td>97</td>\n    </tr>\n    <tr>\n      <th>...</th>\n      <td>...</td>\n      <td>...</td>\n      <td>...</td>\n      <td>...</td>\n      <td>...</td>\n      <td>...</td>\n      <td>...</td>\n      <td>...</td>\n      <td>...</td>\n      <td>...</td>\n      <td>...</td>\n      <td>...</td>\n      <td>...</td>\n      <td>...</td>\n      <td>...</td>\n      <td>...</td>\n      <td>...</td>\n      <td>...</td>\n      <td>...</td>\n      <td>...</td>\n      <td>...</td>\n    </tr>\n    <tr>\n      <th>2183267</th>\n      <td>2020-10-18</td>\n      <td>332cf5</td>\n      <td>2</td>\n      <td>4</td>\n      <td>30</td>\n      <td>1</td>\n      <td>30</td>\n      <td>30</td>\n      <td>135</td>\n      <td>1</td>\n      <td>...</td>\n      <td>2</td>\n      <td>2</td>\n      <td>2</td>\n      <td>1</td>\n      <td>3</td>\n      <td>6</td>\n      <td>99</td>\n      <td>MÃ©xico</td>\n      <td>97</td>\n      <td>97</td>\n    </tr>\n    <tr>\n      <th>2183268</th>\n      <td>2020-10-18</td>\n      <td>42c51a</td>\n      <td>2</td>\n      <td>12</td>\n      <td>9</td>\n      <td>2</td>\n      <td>9</td>\n      <td>9</td>\n      <td>10</td>\n      <td>1</td>\n      <td>...</td>\n      <td>2</td>\n      <td>2</td>\n      <td>1</td>\n      <td>1</td>\n      <td>3</td>\n      <td>6</td>\n      <td>99</td>\n      <td>MÃ©xico</td>\n      <td>97</td>\n      <td>97</td>\n    </tr>\n    <tr>\n      <th>2183269</th>\n      <td>2020-10-18</td>\n      <td>408ef1</td>\n      <td>2</td>\n      <td>6</td>\n      <td>9</td>\n      <td>2</td>\n      <td>9</td>\n      <td>9</td>\n      <td>5</td>\n      <td>1</td>\n      <td>...</td>\n      <td>2</td>\n      <td>2</td>\n      <td>1</td>\n      <td>2</td>\n      <td>97</td>\n      <td>1</td>\n      <td>99</td>\n      <td>MÃ©xico</td>\n      <td>97</td>\n      <td>97</td>\n    </tr>\n    <tr>\n      <th>2183270</th>\n      <td>2020-10-18</td>\n      <td>372368</td>\n      <td>2</td>\n      <td>9</td>\n      <td>8</td>\n      <td>2</td>\n      <td>8</td>\n      <td>8</td>\n      <td>19</td>\n      <td>2</td>\n      <td>...</td>\n      <td>2</td>\n      <td>2</td>\n      <td>2</td>\n      <td>1</td>\n      <td>3</td>\n      <td>6</td>\n      <td>99</td>\n      <td>MÃ©xico</td>\n      <td>97</td>\n      <td>2</td>\n    </tr>\n    <tr>\n      <th>2183271</th>\n      <td>2020-10-18</td>\n      <td>427b3f</td>\n      <td>2</td>\n      <td>9</td>\n      <td>19</td>\n      <td>2</td>\n      <td>19</td>\n      <td>19</td>\n      <td>18</td>\n      <td>2</td>\n      <td>...</td>\n      <td>2</td>\n      <td>2</td>\n      <td>2</td>\n      <td>1</td>\n      <td>3</td>\n      <td>6</td>\n      <td>99</td>\n      <td>MÃ©xico</td>\n      <td>97</td>\n      <td>2</td>\n    </tr>\n  </tbody>\n</table>\n<p>2183272 rows × 38 columns</p>\n</div>"
     },
     "metadata": {},
     "execution_count": 7
    }
   ],
   "source": [
    "data"
   ]
  },
  {
   "source": [
    "Podemos observar que la estructura es muy similar a una hoja de cálculo. Cada dato está identificado por una columna en la parte posterior y un índice en la parte izquierda. Cada fila representa un caso en la base de datos, cada columna una variable con datos para cada caso. En la parte inferior podemos observar que nuestro DataFrame tiene 2,183,272 filas (este número puede variar dependiendo de cuando descargas el archivo pues diariamente este archivo crece debido a los casos que se agregan) y 38 columnas."
   ],
   "cell_type": "markdown",
   "metadata": {}
  },
  {
   "source": [
    "## Explorando un DataFrame"
   ],
   "cell_type": "markdown",
   "metadata": {}
  },
  {
   "source": [
    "El primer paso para explorar una base de datos es conocer las variables que se encuentran en ella. En este caso podemos pedirle al DataFrame que nos muestre las columnas que contiene. El nombre de las columnas están guardadas en la propiedad \"columns\""
   ],
   "cell_type": "markdown",
   "metadata": {}
  },
  {
   "cell_type": "code",
   "execution_count": 36,
   "metadata": {},
   "outputs": [
    {
     "output_type": "execute_result",
     "data": {
      "text/plain": [
       "Index(['FECHA_ACTUALIZACION', 'ID_REGISTRO', 'ORIGEN', 'SECTOR', 'ENTIDAD_UM',\n",
       "       'SEXO', 'ENTIDAD_NAC', 'ENTIDAD_RES', 'MUNICIPIO_RES', 'TIPO_PACIENTE',\n",
       "       'FECHA_INGRESO', 'FECHA_SINTOMAS', 'FECHA_DEF', 'INTUBADO', 'NEUMONIA',\n",
       "       'EDAD', 'NACIONALIDAD', 'EMBARAZO', 'HABLA_LENGUA_INDIG', 'INDIGENA',\n",
       "       'DIABETES', 'EPOC', 'ASMA', 'INMUSUPR', 'HIPERTENSION', 'OTRA_COM',\n",
       "       'CARDIOVASCULAR', 'OBESIDAD', 'RENAL_CRONICA', 'TABAQUISMO',\n",
       "       'OTRO_CASO', 'TOMA_MUESTRA', 'RESULTADO_LAB', 'CLASIFICACION_FINAL',\n",
       "       'MIGRANTE', 'PAIS_NACIONALIDAD', 'PAIS_ORIGEN', 'UCI'],\n",
       "      dtype='object')"
      ]
     },
     "metadata": {},
     "execution_count": 36
    }
   ],
   "source": [
    "data.columns"
   ]
  },
  {
   "source": [
    "Existen varias maneras para poder extraer pedazos o rebanadas del DataFrame. Por ejemplo podemos pedir una rebanada que contenga solamente la columna \"FECHA_ACTUALIZACION\". Para esto utilizaremos la notación de corchete, escribimos el nombre de la variable donde tenemos guardado nuestro DataFrame y luego entre corchetes la columna que nos interesa. La estructura resultante no es un DataFrame, es una Serie (similar a un DataFrame de una columna)."
   ],
   "cell_type": "markdown",
   "metadata": {}
  },
  {
   "cell_type": "code",
   "execution_count": 44,
   "metadata": {},
   "outputs": [
    {
     "output_type": "execute_result",
     "data": {
      "text/plain": [
       "0          2020-10-18\n",
       "1          2020-10-18\n",
       "2          2020-10-18\n",
       "3          2020-10-18\n",
       "4          2020-10-18\n",
       "              ...    \n",
       "2183267    2020-10-18\n",
       "2183268    2020-10-18\n",
       "2183269    2020-10-18\n",
       "2183270    2020-10-18\n",
       "2183271    2020-10-18\n",
       "Name: FECHA_ACTUALIZACION, Length: 2183272, dtype: object"
      ]
     },
     "metadata": {},
     "execution_count": 44
    }
   ],
   "source": [
    "data[\"FECHA_ACTUALIZACION\"]"
   ]
  },
  {
   "source": [
    "Tambien podemos pedir un conjunto de columnas, para ello utilizamos la misma notación pero con una lista de las columnas que deseamos, por ejemplo pidamos las columnas relacionadas con fechas:"
   ],
   "cell_type": "markdown",
   "metadata": {}
  },
  {
   "cell_type": "code",
   "execution_count": 49,
   "metadata": {},
   "outputs": [
    {
     "output_type": "execute_result",
     "data": {
      "text/plain": [
       "        FECHA_ACTUALIZACION FECHA_INGRESO FECHA_SINTOMAS   FECHA_DEF\n",
       "0                2020-10-18    2020-03-31     2020-03-29  9999-99-99\n",
       "1                2020-10-18    2020-03-30     2020-03-30  9999-99-99\n",
       "2                2020-10-18    2020-03-26     2020-03-24  9999-99-99\n",
       "3                2020-10-18    2020-03-18     2020-03-12  9999-99-99\n",
       "4                2020-10-18    2020-04-02     2020-03-27  9999-99-99\n",
       "...                     ...           ...            ...         ...\n",
       "2183267          2020-10-18    2020-10-14     2020-10-11  9999-99-99\n",
       "2183268          2020-10-18    2020-10-09     2020-10-07  9999-99-99\n",
       "2183269          2020-10-18    2020-10-09     2020-10-02  9999-99-99\n",
       "2183270          2020-10-18    2020-10-15     2020-10-05  9999-99-99\n",
       "2183271          2020-10-18    2020-10-15     2020-10-10  9999-99-99\n",
       "\n",
       "[2183272 rows x 4 columns]"
      ],
      "text/html": "<div>\n<style scoped>\n    .dataframe tbody tr th:only-of-type {\n        vertical-align: middle;\n    }\n\n    .dataframe tbody tr th {\n        vertical-align: top;\n    }\n\n    .dataframe thead th {\n        text-align: right;\n    }\n</style>\n<table border=\"1\" class=\"dataframe\">\n  <thead>\n    <tr style=\"text-align: right;\">\n      <th></th>\n      <th>FECHA_ACTUALIZACION</th>\n      <th>FECHA_INGRESO</th>\n      <th>FECHA_SINTOMAS</th>\n      <th>FECHA_DEF</th>\n    </tr>\n  </thead>\n  <tbody>\n    <tr>\n      <th>0</th>\n      <td>2020-10-18</td>\n      <td>2020-03-31</td>\n      <td>2020-03-29</td>\n      <td>9999-99-99</td>\n    </tr>\n    <tr>\n      <th>1</th>\n      <td>2020-10-18</td>\n      <td>2020-03-30</td>\n      <td>2020-03-30</td>\n      <td>9999-99-99</td>\n    </tr>\n    <tr>\n      <th>2</th>\n      <td>2020-10-18</td>\n      <td>2020-03-26</td>\n      <td>2020-03-24</td>\n      <td>9999-99-99</td>\n    </tr>\n    <tr>\n      <th>3</th>\n      <td>2020-10-18</td>\n      <td>2020-03-18</td>\n      <td>2020-03-12</td>\n      <td>9999-99-99</td>\n    </tr>\n    <tr>\n      <th>4</th>\n      <td>2020-10-18</td>\n      <td>2020-04-02</td>\n      <td>2020-03-27</td>\n      <td>9999-99-99</td>\n    </tr>\n    <tr>\n      <th>...</th>\n      <td>...</td>\n      <td>...</td>\n      <td>...</td>\n      <td>...</td>\n    </tr>\n    <tr>\n      <th>2183267</th>\n      <td>2020-10-18</td>\n      <td>2020-10-14</td>\n      <td>2020-10-11</td>\n      <td>9999-99-99</td>\n    </tr>\n    <tr>\n      <th>2183268</th>\n      <td>2020-10-18</td>\n      <td>2020-10-09</td>\n      <td>2020-10-07</td>\n      <td>9999-99-99</td>\n    </tr>\n    <tr>\n      <th>2183269</th>\n      <td>2020-10-18</td>\n      <td>2020-10-09</td>\n      <td>2020-10-02</td>\n      <td>9999-99-99</td>\n    </tr>\n    <tr>\n      <th>2183270</th>\n      <td>2020-10-18</td>\n      <td>2020-10-15</td>\n      <td>2020-10-05</td>\n      <td>9999-99-99</td>\n    </tr>\n    <tr>\n      <th>2183271</th>\n      <td>2020-10-18</td>\n      <td>2020-10-15</td>\n      <td>2020-10-10</td>\n      <td>9999-99-99</td>\n    </tr>\n  </tbody>\n</table>\n<p>2183272 rows × 4 columns</p>\n</div>"
     },
     "metadata": {},
     "execution_count": 49
    }
   ],
   "source": [
    "data[[\"FECHA_ACTUALIZACION\",\"FECHA_INGRESO\",\"FECHA_SINTOMAS\",\"FECHA_DEF\"]]"
   ]
  },
  {
   "source": [
    "La estructura de datos obtenida es un DataFrame con todas las filas de nuestro DataFrame original pero con solo 4 columnas."
   ],
   "cell_type": "markdown",
   "metadata": {}
  },
  {
   "source": [
    "También podemos pedir filas en específico, para distinguir entre columnas y filas siempre que necesitemos filas utilizaremos la propiedad \"loc\". Su uso es muy similar, por ejemplo, si quisera la fila 10 únicamente puedo hacerlo de la siguiente manera:"
   ],
   "cell_type": "markdown",
   "metadata": {}
  },
  {
   "cell_type": "code",
   "execution_count": 50,
   "metadata": {},
   "outputs": [
    {
     "output_type": "execute_result",
     "data": {
      "text/plain": [
       "FECHA_ACTUALIZACION    2020-10-18\n",
       "ID_REGISTRO                092521\n",
       "ORIGEN                          1\n",
       "SECTOR                         12\n",
       "ENTIDAD_UM                      9\n",
       "SEXO                            1\n",
       "ENTIDAD_NAC                     9\n",
       "ENTIDAD_RES                     9\n",
       "MUNICIPIO_RES                  17\n",
       "TIPO_PACIENTE                   1\n",
       "FECHA_INGRESO          2020-03-30\n",
       "FECHA_SINTOMAS         2020-03-28\n",
       "FECHA_DEF              9999-99-99\n",
       "INTUBADO                       97\n",
       "NEUMONIA                        2\n",
       "EDAD                           49\n",
       "NACIONALIDAD                    1\n",
       "EMBARAZO                        2\n",
       "HABLA_LENGUA_INDIG              2\n",
       "INDIGENA                        2\n",
       "DIABETES                        2\n",
       "EPOC                            2\n",
       "ASMA                            2\n",
       "INMUSUPR                        2\n",
       "HIPERTENSION                    2\n",
       "OTRA_COM                        2\n",
       "CARDIOVASCULAR                  2\n",
       "OBESIDAD                        2\n",
       "RENAL_CRONICA                   2\n",
       "TABAQUISMO                      2\n",
       "OTRO_CASO                       2\n",
       "TOMA_MUESTRA                    1\n",
       "RESULTADO_LAB                   1\n",
       "CLASIFICACION_FINAL             3\n",
       "MIGRANTE                       99\n",
       "PAIS_NACIONALIDAD         MÃ©xico\n",
       "PAIS_ORIGEN                    97\n",
       "UCI                            97\n",
       "Name: 10, dtype: object"
      ]
     },
     "metadata": {},
     "execution_count": 50
    }
   ],
   "source": [
    "data.loc[10]"
   ]
  },
  {
   "source": [
    "También podemos pedir varias filas, por ejemplo hagamos un DataFrame con las filas 1,3 y 6:"
   ],
   "cell_type": "markdown",
   "metadata": {}
  },
  {
   "cell_type": "code",
   "execution_count": 54,
   "metadata": {},
   "outputs": [
    {
     "output_type": "execute_result",
     "data": {
      "text/plain": [
       "  FECHA_ACTUALIZACION ID_REGISTRO  ORIGEN  SECTOR  ENTIDAD_UM  SEXO  \\\n",
       "1          2020-10-18      1c4583       2      12           9     2   \n",
       "3          2020-10-18      071735       2       9          21     2   \n",
       "6          2020-10-18      0e07d8       1       4          15     2   \n",
       "\n",
       "   ENTIDAD_NAC  ENTIDAD_RES  MUNICIPIO_RES  TIPO_PACIENTE  ... RENAL_CRONICA  \\\n",
       "1            9            9              4              1  ...             2   \n",
       "3           21           21            114              1  ...             2   \n",
       "6           15           15            104              2  ...             2   \n",
       "\n",
       "  TABAQUISMO OTRO_CASO  TOMA_MUESTRA  RESULTADO_LAB  CLASIFICACION_FINAL  \\\n",
       "1          2         2             1              1                    3   \n",
       "3          2         2             1              1                    3   \n",
       "6          2        99             1              1                    3   \n",
       "\n",
       "   MIGRANTE  PAIS_NACIONALIDAD  PAIS_ORIGEN  UCI  \n",
       "1        99            MÃ©xico           97   97  \n",
       "3        99            MÃ©xico           97   97  \n",
       "6        99            MÃ©xico           97    2  \n",
       "\n",
       "[3 rows x 38 columns]"
      ],
      "text/html": "<div>\n<style scoped>\n    .dataframe tbody tr th:only-of-type {\n        vertical-align: middle;\n    }\n\n    .dataframe tbody tr th {\n        vertical-align: top;\n    }\n\n    .dataframe thead th {\n        text-align: right;\n    }\n</style>\n<table border=\"1\" class=\"dataframe\">\n  <thead>\n    <tr style=\"text-align: right;\">\n      <th></th>\n      <th>FECHA_ACTUALIZACION</th>\n      <th>ID_REGISTRO</th>\n      <th>ORIGEN</th>\n      <th>SECTOR</th>\n      <th>ENTIDAD_UM</th>\n      <th>SEXO</th>\n      <th>ENTIDAD_NAC</th>\n      <th>ENTIDAD_RES</th>\n      <th>MUNICIPIO_RES</th>\n      <th>TIPO_PACIENTE</th>\n      <th>...</th>\n      <th>RENAL_CRONICA</th>\n      <th>TABAQUISMO</th>\n      <th>OTRO_CASO</th>\n      <th>TOMA_MUESTRA</th>\n      <th>RESULTADO_LAB</th>\n      <th>CLASIFICACION_FINAL</th>\n      <th>MIGRANTE</th>\n      <th>PAIS_NACIONALIDAD</th>\n      <th>PAIS_ORIGEN</th>\n      <th>UCI</th>\n    </tr>\n  </thead>\n  <tbody>\n    <tr>\n      <th>1</th>\n      <td>2020-10-18</td>\n      <td>1c4583</td>\n      <td>2</td>\n      <td>12</td>\n      <td>9</td>\n      <td>2</td>\n      <td>9</td>\n      <td>9</td>\n      <td>4</td>\n      <td>1</td>\n      <td>...</td>\n      <td>2</td>\n      <td>2</td>\n      <td>2</td>\n      <td>1</td>\n      <td>1</td>\n      <td>3</td>\n      <td>99</td>\n      <td>MÃ©xico</td>\n      <td>97</td>\n      <td>97</td>\n    </tr>\n    <tr>\n      <th>3</th>\n      <td>2020-10-18</td>\n      <td>071735</td>\n      <td>2</td>\n      <td>9</td>\n      <td>21</td>\n      <td>2</td>\n      <td>21</td>\n      <td>21</td>\n      <td>114</td>\n      <td>1</td>\n      <td>...</td>\n      <td>2</td>\n      <td>2</td>\n      <td>2</td>\n      <td>1</td>\n      <td>1</td>\n      <td>3</td>\n      <td>99</td>\n      <td>MÃ©xico</td>\n      <td>97</td>\n      <td>97</td>\n    </tr>\n    <tr>\n      <th>6</th>\n      <td>2020-10-18</td>\n      <td>0e07d8</td>\n      <td>1</td>\n      <td>4</td>\n      <td>15</td>\n      <td>2</td>\n      <td>15</td>\n      <td>15</td>\n      <td>104</td>\n      <td>2</td>\n      <td>...</td>\n      <td>2</td>\n      <td>2</td>\n      <td>99</td>\n      <td>1</td>\n      <td>1</td>\n      <td>3</td>\n      <td>99</td>\n      <td>MÃ©xico</td>\n      <td>97</td>\n      <td>2</td>\n    </tr>\n  </tbody>\n</table>\n<p>3 rows × 38 columns</p>\n</div>"
     },
     "metadata": {},
     "execution_count": 54
    }
   ],
   "source": [
    "data.loc[[1,3,6]]"
   ]
  },
  {
   "source": [
    "La notación loc nos permite combinar y pedir solamente un número determinado de filas y un número determinado de columnas. Solamente tenemos que recordar que primero van las filas y luego las columnas, por ejemplo si quisieramos un mini DataFrame conformado por las filas 1,3,6 y las columnas relacionadas con fechas haríamos lo siguiente:"
   ],
   "cell_type": "markdown",
   "metadata": {}
  },
  {
   "cell_type": "code",
   "execution_count": 57,
   "metadata": {},
   "outputs": [
    {
     "output_type": "execute_result",
     "data": {
      "text/plain": [
       "  FECHA_ACTUALIZACION FECHA_INGRESO FECHA_SINTOMAS   FECHA_DEF\n",
       "1          2020-10-18    2020-03-30     2020-03-30  9999-99-99\n",
       "3          2020-10-18    2020-03-18     2020-03-12  9999-99-99\n",
       "6          2020-10-18    2020-03-28     2020-03-28  2020-04-02"
      ],
      "text/html": "<div>\n<style scoped>\n    .dataframe tbody tr th:only-of-type {\n        vertical-align: middle;\n    }\n\n    .dataframe tbody tr th {\n        vertical-align: top;\n    }\n\n    .dataframe thead th {\n        text-align: right;\n    }\n</style>\n<table border=\"1\" class=\"dataframe\">\n  <thead>\n    <tr style=\"text-align: right;\">\n      <th></th>\n      <th>FECHA_ACTUALIZACION</th>\n      <th>FECHA_INGRESO</th>\n      <th>FECHA_SINTOMAS</th>\n      <th>FECHA_DEF</th>\n    </tr>\n  </thead>\n  <tbody>\n    <tr>\n      <th>1</th>\n      <td>2020-10-18</td>\n      <td>2020-03-30</td>\n      <td>2020-03-30</td>\n      <td>9999-99-99</td>\n    </tr>\n    <tr>\n      <th>3</th>\n      <td>2020-10-18</td>\n      <td>2020-03-18</td>\n      <td>2020-03-12</td>\n      <td>9999-99-99</td>\n    </tr>\n    <tr>\n      <th>6</th>\n      <td>2020-10-18</td>\n      <td>2020-03-28</td>\n      <td>2020-03-28</td>\n      <td>2020-04-02</td>\n    </tr>\n  </tbody>\n</table>\n</div>"
     },
     "metadata": {},
     "execution_count": 57
    }
   ],
   "source": [
    "data.loc[[1,3,6],[\"FECHA_ACTUALIZACION\",\"FECHA_INGRESO\",\"FECHA_SINTOMAS\",\"FECHA_DEF\"]]"
   ]
  },
  {
   "source": [
    "Una última cosa que tenemos que saber acerca de la notación loc es que nos permite usar rangos. La notación de rangos nos permite pedir filas o columnas empezando en una y terminando en otra incluyendo todas las que estén en medio. El inicio y el final del rango se separan con el símbolo de 2 puntos. Por ejemplo, para pedir las filas 10 a 20 y columnas entre \"ENTIDAD_NAC\" y \"TIPO_PACIENTE\" usamos la siguiente instrucción:"
   ],
   "cell_type": "markdown",
   "metadata": {}
  },
  {
   "cell_type": "code",
   "execution_count": 59,
   "metadata": {},
   "outputs": [
    {
     "output_type": "execute_result",
     "data": {
      "text/plain": [
       "    ENTIDAD_NAC  ENTIDAD_RES  MUNICIPIO_RES  TIPO_PACIENTE\n",
       "10            9            9             17              1\n",
       "11           14            6             10              1\n",
       "12            9           14             67              2\n",
       "13           23           23              5              1\n",
       "14           17            9             12              1\n",
       "15           14           14            120              1\n",
       "16           11           11             20              1\n",
       "17            9            9             10              1\n",
       "18           11           11              7              1\n",
       "19           26           26             55              2\n",
       "20           21           21             85              2"
      ],
      "text/html": "<div>\n<style scoped>\n    .dataframe tbody tr th:only-of-type {\n        vertical-align: middle;\n    }\n\n    .dataframe tbody tr th {\n        vertical-align: top;\n    }\n\n    .dataframe thead th {\n        text-align: right;\n    }\n</style>\n<table border=\"1\" class=\"dataframe\">\n  <thead>\n    <tr style=\"text-align: right;\">\n      <th></th>\n      <th>ENTIDAD_NAC</th>\n      <th>ENTIDAD_RES</th>\n      <th>MUNICIPIO_RES</th>\n      <th>TIPO_PACIENTE</th>\n    </tr>\n  </thead>\n  <tbody>\n    <tr>\n      <th>10</th>\n      <td>9</td>\n      <td>9</td>\n      <td>17</td>\n      <td>1</td>\n    </tr>\n    <tr>\n      <th>11</th>\n      <td>14</td>\n      <td>6</td>\n      <td>10</td>\n      <td>1</td>\n    </tr>\n    <tr>\n      <th>12</th>\n      <td>9</td>\n      <td>14</td>\n      <td>67</td>\n      <td>2</td>\n    </tr>\n    <tr>\n      <th>13</th>\n      <td>23</td>\n      <td>23</td>\n      <td>5</td>\n      <td>1</td>\n    </tr>\n    <tr>\n      <th>14</th>\n      <td>17</td>\n      <td>9</td>\n      <td>12</td>\n      <td>1</td>\n    </tr>\n    <tr>\n      <th>15</th>\n      <td>14</td>\n      <td>14</td>\n      <td>120</td>\n      <td>1</td>\n    </tr>\n    <tr>\n      <th>16</th>\n      <td>11</td>\n      <td>11</td>\n      <td>20</td>\n      <td>1</td>\n    </tr>\n    <tr>\n      <th>17</th>\n      <td>9</td>\n      <td>9</td>\n      <td>10</td>\n      <td>1</td>\n    </tr>\n    <tr>\n      <th>18</th>\n      <td>11</td>\n      <td>11</td>\n      <td>7</td>\n      <td>1</td>\n    </tr>\n    <tr>\n      <th>19</th>\n      <td>26</td>\n      <td>26</td>\n      <td>55</td>\n      <td>2</td>\n    </tr>\n    <tr>\n      <th>20</th>\n      <td>21</td>\n      <td>21</td>\n      <td>85</td>\n      <td>2</td>\n    </tr>\n  </tbody>\n</table>\n</div>"
     },
     "metadata": {},
     "execution_count": 59
    }
   ],
   "source": [
    "data.loc[10:20,\"ENTIDAD_NAC\":\"TIPO_PACIENTE\"]"
   ]
  },
  {
   "source": [
    "## Los datos principales\n",
    "\n",
    "En el DataFrame hay variables muy interesantes, hay mucho material para hacer visualizaciones! Por el momento nos enfocaremos en los datos básicos reportados en las conferencias diarias de la secretaría de salud. La secretaría de Salud en su conferencia nocturna muestra la siguiente imagen:\n",
    "\n",
    "![Resultados covid](./imagenes/img2.png)\n",
    "\n",
    "En ella se muestran algunos datos que son importantes, principalmente el número de casos confirmados, el número de casos sospechosos, el número de casos negativos y el número de defunciones hasta la fecha. Los sospechosos los dividen en sospechosos sin muestra, sospechosos sin posibilidad de resultado y sopechosos con posibilidad de resultado."
   ],
   "cell_type": "markdown",
   "metadata": {}
  },
  {
   "source": [
    "## Obteniendo las datos principales"
   ],
   "cell_type": "markdown",
   "metadata": {}
  },
  {
   "source": [
    "Si analilzamos el diccionario de datos proporcionado por la Secretaría de Salud que se encuentra en este [enlace](http://datosabiertos.salud.gob.mx/gobmx/salud/datos_abiertos/diccionario_datos_covid19.zip) podemos observar que la variable \"CLASIFICACION_FINAL\" nos permite clasificar los casos de acuerdo a su calidad de confirmados, sospechosos o negativos. Para explorar los valores de una columna podemos utilizar la función value_counts(). Seleccionamos la columna de interes, en este caso \"CLASIFICACION_FINAL\" y ehecutamos la función value_counts()"
   ],
   "cell_type": "markdown",
   "metadata": {}
  },
  {
   "cell_type": "code",
   "execution_count": 61,
   "metadata": {},
   "outputs": [
    {
     "output_type": "execute_result",
     "data": {
      "text/plain": [
       "7    1019821\n",
       "3     826576\n",
       "6     265492\n",
       "5      40954\n",
       "1      24032\n",
       "4       5778\n",
       "2        619\n",
       "Name: CLASIFICACION_FINAL, dtype: int64"
      ]
     },
     "metadata": {},
     "execution_count": 61
    }
   ],
   "source": [
    "data[\"CLASIFICACION_FINAL\"].value_counts()"
   ]
  },
  {
   "source": [
    "Esta instrucción nos permite saber cuantos registros existen en la columna para cada uno de los valores que aparecen en ella, así podemos ver que en la columna ocurren valores del 1 al 7, los cuales se concuerdan con los valores de esa variable de acuerdo al diccionario de datos proporcionado. Además podemos ver cuantas veces aparece en la base de datos cada valor, así el valor 7 correspondiente en el diccionario a los casos \"Negativos a SARS-COV-2\" es el que aparece más veces en la base de datos. Aparece 1,019,821 veces lo cual quiere decir que la base de datos contiene ese número de casos negativos. Si comparamos con la imágen vemos que se corresponde el valor de nuestra base de datos y lo reportado por la Secretaría de Salud en su conferencia. (La imágen corresponde a los datos descargados el 18 de octubre de 2020, si estás repitiendo este ejercicio otro día el número será diferente, compáralo con lo reportado en la conferencia de ese día. Acá encuentras todas las [conferencias](https://www.youtube.com/channel/UCu2Uc7YeJmE9mvGG9OK-zbQ))."
   ],
   "cell_type": "markdown",
   "metadata": {}
  },
  {
   "source": [
    "## Filtrando el DataFrame\n",
    "\n",
    "¿Cómo le haríamos para obtener de nuestro DataFrame todos los casos negativos? Extraer todos los casos negativos equivale a obtener todas las filas para las que la columna \"CLASIFICACION_FINAL\" tiene un valor de 7. Afortunadamente Pandas nos permite seleccionarlas y generar un nuevo DataFrame solamente con nuestra selección. El procedimiento es el siguiente:"
   ],
   "cell_type": "markdown",
   "metadata": {}
  },
  {
   "source": [
    "Pandas nos permite evaluar una condición en toda una columna en una sola operación, por ejemplo, para el caso que nos ocupa, queremos saber de la columna \"CLASIFICACION_FINAL\" cuales filas cumplen con la condición de tener un valor igual a 7. Podemos evaluar esta condicón seleccionando la columna e igualandola (con doble igual) al valor que queremos evaluar"
   ],
   "cell_type": "markdown",
   "metadata": {}
  },
  {
   "cell_type": "code",
   "execution_count": 63,
   "metadata": {},
   "outputs": [
    {
     "output_type": "execute_result",
     "data": {
      "text/plain": [
       "0          False\n",
       "1          False\n",
       "2          False\n",
       "3          False\n",
       "4          False\n",
       "           ...  \n",
       "2183267    False\n",
       "2183268    False\n",
       "2183269    False\n",
       "2183270    False\n",
       "2183271    False\n",
       "Name: CLASIFICACION_FINAL, Length: 2183272, dtype: bool"
      ]
     },
     "metadata": {},
     "execution_count": 63
    }
   ],
   "source": [
    "data[\"CLASIFICACION_FINAL\"]==7"
   ]
  },
  {
   "source": [
    "podemos observar que el resultado es una serie llena de valores verdaderos y falsos, guardemos esa columna con valores verdaderos y falsos en una variable, llamémosla \"condicion_negativos\":"
   ],
   "cell_type": "markdown",
   "metadata": {}
  },
  {
   "cell_type": "code",
   "execution_count": 64,
   "metadata": {},
   "outputs": [],
   "source": [
    "condicion_negativos = data[\"CLASIFICACION_FINAL\"]==7"
   ]
  },
  {
   "source": [
    "Exploremos que valores contiene la serie y cuantos registros de cada valor, para esto volvemos a utilizar la función value_counts():"
   ],
   "cell_type": "markdown",
   "metadata": {}
  },
  {
   "cell_type": "code",
   "execution_count": 65,
   "metadata": {},
   "outputs": [
    {
     "output_type": "execute_result",
     "data": {
      "text/plain": [
       "False    1163451\n",
       "True     1019821\n",
       "Name: CLASIFICACION_FINAL, dtype: int64"
      ]
     },
     "metadata": {},
     "execution_count": 65
    }
   ],
   "source": [
    "condicion_negativos.value_counts()"
   ]
  },
  {
   "source": [
    "Observamos que hay 1,163,451 registros o filas con el valor \"False\" y 1,019,821 registros o filas con el valor \"True\". Este último conteo se corresponde con nuestro número de casos negativos a SARS-COV-2 en la base de datos. Es decir, todas aquellas filas en donde el valor de la columna era 7 se transformaron en un True y todas aquellas que tenían un valor diferente a 7 se transformaron en un False."
   ],
   "cell_type": "markdown",
   "metadata": {}
  },
  {
   "source": [
    "Recordemos que en la variable condicion_negativos está guardada nuestra columna llena de True y False. Pandas nos permite usarla para filtrar el DataFrame original (que está guardado en nuestra variable \"data\"). La sintaxis es similar a cuando le pediamos una columna (lo cual es desafortunado). Se hace de la siguiente manera:"
   ],
   "cell_type": "markdown",
   "metadata": {}
  },
  {
   "cell_type": "code",
   "execution_count": 67,
   "metadata": {},
   "outputs": [
    {
     "output_type": "execute_result",
     "data": {
      "text/plain": [
       "        FECHA_ACTUALIZACION ID_REGISTRO  ORIGEN  SECTOR  ENTIDAD_UM  SEXO  \\\n",
       "3950             2020-10-18      13f641       1      12          26     1   \n",
       "3951             2020-10-18      1e20d5       1       4          16     1   \n",
       "3952             2020-10-18      01ee3f       1      12          24     2   \n",
       "3953             2020-10-18      0cf214       1      12          13     2   \n",
       "3954             2020-10-18      0b5ebb       2      12          19     1   \n",
       "...                     ...         ...     ...     ...         ...   ...   \n",
       "2134599          2020-10-18      38af8c       2       4           9     1   \n",
       "2134600          2020-10-18      390ba7       1       4          14     1   \n",
       "2134601          2020-10-18      33b9ba       2       4          21     1   \n",
       "2134602          2020-10-18      33712d       2      12           9     2   \n",
       "2134603          2020-10-18      374518       2      12           9     1   \n",
       "\n",
       "         ENTIDAD_NAC  ENTIDAD_RES  MUNICIPIO_RES  TIPO_PACIENTE  ...  \\\n",
       "3950              16           26             55              2  ...   \n",
       "3951              16           16             52              1  ...   \n",
       "3952              24           24             13              1  ...   \n",
       "3953              13           13             60              1  ...   \n",
       "3954              19           19             26              1  ...   \n",
       "...              ...          ...            ...            ...  ...   \n",
       "2134599            9            9             17              1  ...   \n",
       "2134600           14           14             39              1  ...   \n",
       "2134601           21           21            114              2  ...   \n",
       "2134602           15            9              7              1  ...   \n",
       "2134603            9            9             13              1  ...   \n",
       "\n",
       "        RENAL_CRONICA TABAQUISMO OTRO_CASO  TOMA_MUESTRA  RESULTADO_LAB  \\\n",
       "3950                2          2         2             1              2   \n",
       "3951                2          2        99             1              2   \n",
       "3952                2          2         2             1              2   \n",
       "3953                2          2         2             1              2   \n",
       "3954                2          2         2             1              2   \n",
       "...               ...        ...       ...           ...            ...   \n",
       "2134599             2          1         2             1              2   \n",
       "2134600             2          2         1             1              2   \n",
       "2134601             2          2         2             1              2   \n",
       "2134602             2          1         1             1              2   \n",
       "2134603             2          2         1             1              2   \n",
       "\n",
       "         CLASIFICACION_FINAL  MIGRANTE  PAIS_NACIONALIDAD  PAIS_ORIGEN  UCI  \n",
       "3950                       7        99            MÃ©xico           97   99  \n",
       "3951                       7        99            MÃ©xico           97   97  \n",
       "3952                       7        99            MÃ©xico           97   97  \n",
       "3953                       7        99            MÃ©xico           97   97  \n",
       "3954                       7        99            MÃ©xico           97   97  \n",
       "...                      ...       ...                ...          ...  ...  \n",
       "2134599                    7        99            MÃ©xico           97   97  \n",
       "2134600                    7        99            MÃ©xico           97   97  \n",
       "2134601                    7        99            MÃ©xico           97    2  \n",
       "2134602                    7        99            MÃ©xico           97   97  \n",
       "2134603                    7        99            MÃ©xico           97   97  \n",
       "\n",
       "[1019821 rows x 38 columns]"
      ],
      "text/html": "<div>\n<style scoped>\n    .dataframe tbody tr th:only-of-type {\n        vertical-align: middle;\n    }\n\n    .dataframe tbody tr th {\n        vertical-align: top;\n    }\n\n    .dataframe thead th {\n        text-align: right;\n    }\n</style>\n<table border=\"1\" class=\"dataframe\">\n  <thead>\n    <tr style=\"text-align: right;\">\n      <th></th>\n      <th>FECHA_ACTUALIZACION</th>\n      <th>ID_REGISTRO</th>\n      <th>ORIGEN</th>\n      <th>SECTOR</th>\n      <th>ENTIDAD_UM</th>\n      <th>SEXO</th>\n      <th>ENTIDAD_NAC</th>\n      <th>ENTIDAD_RES</th>\n      <th>MUNICIPIO_RES</th>\n      <th>TIPO_PACIENTE</th>\n      <th>...</th>\n      <th>RENAL_CRONICA</th>\n      <th>TABAQUISMO</th>\n      <th>OTRO_CASO</th>\n      <th>TOMA_MUESTRA</th>\n      <th>RESULTADO_LAB</th>\n      <th>CLASIFICACION_FINAL</th>\n      <th>MIGRANTE</th>\n      <th>PAIS_NACIONALIDAD</th>\n      <th>PAIS_ORIGEN</th>\n      <th>UCI</th>\n    </tr>\n  </thead>\n  <tbody>\n    <tr>\n      <th>3950</th>\n      <td>2020-10-18</td>\n      <td>13f641</td>\n      <td>1</td>\n      <td>12</td>\n      <td>26</td>\n      <td>1</td>\n      <td>16</td>\n      <td>26</td>\n      <td>55</td>\n      <td>2</td>\n      <td>...</td>\n      <td>2</td>\n      <td>2</td>\n      <td>2</td>\n      <td>1</td>\n      <td>2</td>\n      <td>7</td>\n      <td>99</td>\n      <td>MÃ©xico</td>\n      <td>97</td>\n      <td>99</td>\n    </tr>\n    <tr>\n      <th>3951</th>\n      <td>2020-10-18</td>\n      <td>1e20d5</td>\n      <td>1</td>\n      <td>4</td>\n      <td>16</td>\n      <td>1</td>\n      <td>16</td>\n      <td>16</td>\n      <td>52</td>\n      <td>1</td>\n      <td>...</td>\n      <td>2</td>\n      <td>2</td>\n      <td>99</td>\n      <td>1</td>\n      <td>2</td>\n      <td>7</td>\n      <td>99</td>\n      <td>MÃ©xico</td>\n      <td>97</td>\n      <td>97</td>\n    </tr>\n    <tr>\n      <th>3952</th>\n      <td>2020-10-18</td>\n      <td>01ee3f</td>\n      <td>1</td>\n      <td>12</td>\n      <td>24</td>\n      <td>2</td>\n      <td>24</td>\n      <td>24</td>\n      <td>13</td>\n      <td>1</td>\n      <td>...</td>\n      <td>2</td>\n      <td>2</td>\n      <td>2</td>\n      <td>1</td>\n      <td>2</td>\n      <td>7</td>\n      <td>99</td>\n      <td>MÃ©xico</td>\n      <td>97</td>\n      <td>97</td>\n    </tr>\n    <tr>\n      <th>3953</th>\n      <td>2020-10-18</td>\n      <td>0cf214</td>\n      <td>1</td>\n      <td>12</td>\n      <td>13</td>\n      <td>2</td>\n      <td>13</td>\n      <td>13</td>\n      <td>60</td>\n      <td>1</td>\n      <td>...</td>\n      <td>2</td>\n      <td>2</td>\n      <td>2</td>\n      <td>1</td>\n      <td>2</td>\n      <td>7</td>\n      <td>99</td>\n      <td>MÃ©xico</td>\n      <td>97</td>\n      <td>97</td>\n    </tr>\n    <tr>\n      <th>3954</th>\n      <td>2020-10-18</td>\n      <td>0b5ebb</td>\n      <td>2</td>\n      <td>12</td>\n      <td>19</td>\n      <td>1</td>\n      <td>19</td>\n      <td>19</td>\n      <td>26</td>\n      <td>1</td>\n      <td>...</td>\n      <td>2</td>\n      <td>2</td>\n      <td>2</td>\n      <td>1</td>\n      <td>2</td>\n      <td>7</td>\n      <td>99</td>\n      <td>MÃ©xico</td>\n      <td>97</td>\n      <td>97</td>\n    </tr>\n    <tr>\n      <th>...</th>\n      <td>...</td>\n      <td>...</td>\n      <td>...</td>\n      <td>...</td>\n      <td>...</td>\n      <td>...</td>\n      <td>...</td>\n      <td>...</td>\n      <td>...</td>\n      <td>...</td>\n      <td>...</td>\n      <td>...</td>\n      <td>...</td>\n      <td>...</td>\n      <td>...</td>\n      <td>...</td>\n      <td>...</td>\n      <td>...</td>\n      <td>...</td>\n      <td>...</td>\n      <td>...</td>\n    </tr>\n    <tr>\n      <th>2134599</th>\n      <td>2020-10-18</td>\n      <td>38af8c</td>\n      <td>2</td>\n      <td>4</td>\n      <td>9</td>\n      <td>1</td>\n      <td>9</td>\n      <td>9</td>\n      <td>17</td>\n      <td>1</td>\n      <td>...</td>\n      <td>2</td>\n      <td>1</td>\n      <td>2</td>\n      <td>1</td>\n      <td>2</td>\n      <td>7</td>\n      <td>99</td>\n      <td>MÃ©xico</td>\n      <td>97</td>\n      <td>97</td>\n    </tr>\n    <tr>\n      <th>2134600</th>\n      <td>2020-10-18</td>\n      <td>390ba7</td>\n      <td>1</td>\n      <td>4</td>\n      <td>14</td>\n      <td>1</td>\n      <td>14</td>\n      <td>14</td>\n      <td>39</td>\n      <td>1</td>\n      <td>...</td>\n      <td>2</td>\n      <td>2</td>\n      <td>1</td>\n      <td>1</td>\n      <td>2</td>\n      <td>7</td>\n      <td>99</td>\n      <td>MÃ©xico</td>\n      <td>97</td>\n      <td>97</td>\n    </tr>\n    <tr>\n      <th>2134601</th>\n      <td>2020-10-18</td>\n      <td>33b9ba</td>\n      <td>2</td>\n      <td>4</td>\n      <td>21</td>\n      <td>1</td>\n      <td>21</td>\n      <td>21</td>\n      <td>114</td>\n      <td>2</td>\n      <td>...</td>\n      <td>2</td>\n      <td>2</td>\n      <td>2</td>\n      <td>1</td>\n      <td>2</td>\n      <td>7</td>\n      <td>99</td>\n      <td>MÃ©xico</td>\n      <td>97</td>\n      <td>2</td>\n    </tr>\n    <tr>\n      <th>2134602</th>\n      <td>2020-10-18</td>\n      <td>33712d</td>\n      <td>2</td>\n      <td>12</td>\n      <td>9</td>\n      <td>2</td>\n      <td>15</td>\n      <td>9</td>\n      <td>7</td>\n      <td>1</td>\n      <td>...</td>\n      <td>2</td>\n      <td>1</td>\n      <td>1</td>\n      <td>1</td>\n      <td>2</td>\n      <td>7</td>\n      <td>99</td>\n      <td>MÃ©xico</td>\n      <td>97</td>\n      <td>97</td>\n    </tr>\n    <tr>\n      <th>2134603</th>\n      <td>2020-10-18</td>\n      <td>374518</td>\n      <td>2</td>\n      <td>12</td>\n      <td>9</td>\n      <td>1</td>\n      <td>9</td>\n      <td>9</td>\n      <td>13</td>\n      <td>1</td>\n      <td>...</td>\n      <td>2</td>\n      <td>2</td>\n      <td>1</td>\n      <td>1</td>\n      <td>2</td>\n      <td>7</td>\n      <td>99</td>\n      <td>MÃ©xico</td>\n      <td>97</td>\n      <td>97</td>\n    </tr>\n  </tbody>\n</table>\n<p>1019821 rows × 38 columns</p>\n</div>"
     },
     "metadata": {},
     "execution_count": 67
    }
   ],
   "source": [
    "data[condicion_negativos]"
   ]
  },
  {
   "source": [
    "En la parte inferior izquierda del resultado podemos ver que este es un nuevo DataFrame que contiene únicamente 1,019,821 filas, es decir contiene únicamente casos negativos. Contiene únicamente casos para los cuales la condición que evaluamos a la columna resultó ser verdadera o True\n",
    "\n",
    "Repitamos el ejercicio pero ahora sin guardar la condición en una variable intermedia y guardando el resultado en una variable que contenga un DataFrame con únicamente los casos negativos a SARS-COV-2:"
   ],
   "cell_type": "markdown",
   "metadata": {}
  },
  {
   "cell_type": "code",
   "execution_count": 68,
   "metadata": {},
   "outputs": [
    {
     "output_type": "execute_result",
     "data": {
      "text/plain": [
       "        FECHA_ACTUALIZACION ID_REGISTRO  ORIGEN  SECTOR  ENTIDAD_UM  SEXO  \\\n",
       "3950             2020-10-18      13f641       1      12          26     1   \n",
       "3951             2020-10-18      1e20d5       1       4          16     1   \n",
       "3952             2020-10-18      01ee3f       1      12          24     2   \n",
       "3953             2020-10-18      0cf214       1      12          13     2   \n",
       "3954             2020-10-18      0b5ebb       2      12          19     1   \n",
       "...                     ...         ...     ...     ...         ...   ...   \n",
       "2134599          2020-10-18      38af8c       2       4           9     1   \n",
       "2134600          2020-10-18      390ba7       1       4          14     1   \n",
       "2134601          2020-10-18      33b9ba       2       4          21     1   \n",
       "2134602          2020-10-18      33712d       2      12           9     2   \n",
       "2134603          2020-10-18      374518       2      12           9     1   \n",
       "\n",
       "         ENTIDAD_NAC  ENTIDAD_RES  MUNICIPIO_RES  TIPO_PACIENTE  ...  \\\n",
       "3950              16           26             55              2  ...   \n",
       "3951              16           16             52              1  ...   \n",
       "3952              24           24             13              1  ...   \n",
       "3953              13           13             60              1  ...   \n",
       "3954              19           19             26              1  ...   \n",
       "...              ...          ...            ...            ...  ...   \n",
       "2134599            9            9             17              1  ...   \n",
       "2134600           14           14             39              1  ...   \n",
       "2134601           21           21            114              2  ...   \n",
       "2134602           15            9              7              1  ...   \n",
       "2134603            9            9             13              1  ...   \n",
       "\n",
       "        RENAL_CRONICA TABAQUISMO OTRO_CASO  TOMA_MUESTRA  RESULTADO_LAB  \\\n",
       "3950                2          2         2             1              2   \n",
       "3951                2          2        99             1              2   \n",
       "3952                2          2         2             1              2   \n",
       "3953                2          2         2             1              2   \n",
       "3954                2          2         2             1              2   \n",
       "...               ...        ...       ...           ...            ...   \n",
       "2134599             2          1         2             1              2   \n",
       "2134600             2          2         1             1              2   \n",
       "2134601             2          2         2             1              2   \n",
       "2134602             2          1         1             1              2   \n",
       "2134603             2          2         1             1              2   \n",
       "\n",
       "         CLASIFICACION_FINAL  MIGRANTE  PAIS_NACIONALIDAD  PAIS_ORIGEN  UCI  \n",
       "3950                       7        99            MÃ©xico           97   99  \n",
       "3951                       7        99            MÃ©xico           97   97  \n",
       "3952                       7        99            MÃ©xico           97   97  \n",
       "3953                       7        99            MÃ©xico           97   97  \n",
       "3954                       7        99            MÃ©xico           97   97  \n",
       "...                      ...       ...                ...          ...  ...  \n",
       "2134599                    7        99            MÃ©xico           97   97  \n",
       "2134600                    7        99            MÃ©xico           97   97  \n",
       "2134601                    7        99            MÃ©xico           97    2  \n",
       "2134602                    7        99            MÃ©xico           97   97  \n",
       "2134603                    7        99            MÃ©xico           97   97  \n",
       "\n",
       "[1019821 rows x 38 columns]"
      ],
      "text/html": "<div>\n<style scoped>\n    .dataframe tbody tr th:only-of-type {\n        vertical-align: middle;\n    }\n\n    .dataframe tbody tr th {\n        vertical-align: top;\n    }\n\n    .dataframe thead th {\n        text-align: right;\n    }\n</style>\n<table border=\"1\" class=\"dataframe\">\n  <thead>\n    <tr style=\"text-align: right;\">\n      <th></th>\n      <th>FECHA_ACTUALIZACION</th>\n      <th>ID_REGISTRO</th>\n      <th>ORIGEN</th>\n      <th>SECTOR</th>\n      <th>ENTIDAD_UM</th>\n      <th>SEXO</th>\n      <th>ENTIDAD_NAC</th>\n      <th>ENTIDAD_RES</th>\n      <th>MUNICIPIO_RES</th>\n      <th>TIPO_PACIENTE</th>\n      <th>...</th>\n      <th>RENAL_CRONICA</th>\n      <th>TABAQUISMO</th>\n      <th>OTRO_CASO</th>\n      <th>TOMA_MUESTRA</th>\n      <th>RESULTADO_LAB</th>\n      <th>CLASIFICACION_FINAL</th>\n      <th>MIGRANTE</th>\n      <th>PAIS_NACIONALIDAD</th>\n      <th>PAIS_ORIGEN</th>\n      <th>UCI</th>\n    </tr>\n  </thead>\n  <tbody>\n    <tr>\n      <th>3950</th>\n      <td>2020-10-18</td>\n      <td>13f641</td>\n      <td>1</td>\n      <td>12</td>\n      <td>26</td>\n      <td>1</td>\n      <td>16</td>\n      <td>26</td>\n      <td>55</td>\n      <td>2</td>\n      <td>...</td>\n      <td>2</td>\n      <td>2</td>\n      <td>2</td>\n      <td>1</td>\n      <td>2</td>\n      <td>7</td>\n      <td>99</td>\n      <td>MÃ©xico</td>\n      <td>97</td>\n      <td>99</td>\n    </tr>\n    <tr>\n      <th>3951</th>\n      <td>2020-10-18</td>\n      <td>1e20d5</td>\n      <td>1</td>\n      <td>4</td>\n      <td>16</td>\n      <td>1</td>\n      <td>16</td>\n      <td>16</td>\n      <td>52</td>\n      <td>1</td>\n      <td>...</td>\n      <td>2</td>\n      <td>2</td>\n      <td>99</td>\n      <td>1</td>\n      <td>2</td>\n      <td>7</td>\n      <td>99</td>\n      <td>MÃ©xico</td>\n      <td>97</td>\n      <td>97</td>\n    </tr>\n    <tr>\n      <th>3952</th>\n      <td>2020-10-18</td>\n      <td>01ee3f</td>\n      <td>1</td>\n      <td>12</td>\n      <td>24</td>\n      <td>2</td>\n      <td>24</td>\n      <td>24</td>\n      <td>13</td>\n      <td>1</td>\n      <td>...</td>\n      <td>2</td>\n      <td>2</td>\n      <td>2</td>\n      <td>1</td>\n      <td>2</td>\n      <td>7</td>\n      <td>99</td>\n      <td>MÃ©xico</td>\n      <td>97</td>\n      <td>97</td>\n    </tr>\n    <tr>\n      <th>3953</th>\n      <td>2020-10-18</td>\n      <td>0cf214</td>\n      <td>1</td>\n      <td>12</td>\n      <td>13</td>\n      <td>2</td>\n      <td>13</td>\n      <td>13</td>\n      <td>60</td>\n      <td>1</td>\n      <td>...</td>\n      <td>2</td>\n      <td>2</td>\n      <td>2</td>\n      <td>1</td>\n      <td>2</td>\n      <td>7</td>\n      <td>99</td>\n      <td>MÃ©xico</td>\n      <td>97</td>\n      <td>97</td>\n    </tr>\n    <tr>\n      <th>3954</th>\n      <td>2020-10-18</td>\n      <td>0b5ebb</td>\n      <td>2</td>\n      <td>12</td>\n      <td>19</td>\n      <td>1</td>\n      <td>19</td>\n      <td>19</td>\n      <td>26</td>\n      <td>1</td>\n      <td>...</td>\n      <td>2</td>\n      <td>2</td>\n      <td>2</td>\n      <td>1</td>\n      <td>2</td>\n      <td>7</td>\n      <td>99</td>\n      <td>MÃ©xico</td>\n      <td>97</td>\n      <td>97</td>\n    </tr>\n    <tr>\n      <th>...</th>\n      <td>...</td>\n      <td>...</td>\n      <td>...</td>\n      <td>...</td>\n      <td>...</td>\n      <td>...</td>\n      <td>...</td>\n      <td>...</td>\n      <td>...</td>\n      <td>...</td>\n      <td>...</td>\n      <td>...</td>\n      <td>...</td>\n      <td>...</td>\n      <td>...</td>\n      <td>...</td>\n      <td>...</td>\n      <td>...</td>\n      <td>...</td>\n      <td>...</td>\n      <td>...</td>\n    </tr>\n    <tr>\n      <th>2134599</th>\n      <td>2020-10-18</td>\n      <td>38af8c</td>\n      <td>2</td>\n      <td>4</td>\n      <td>9</td>\n      <td>1</td>\n      <td>9</td>\n      <td>9</td>\n      <td>17</td>\n      <td>1</td>\n      <td>...</td>\n      <td>2</td>\n      <td>1</td>\n      <td>2</td>\n      <td>1</td>\n      <td>2</td>\n      <td>7</td>\n      <td>99</td>\n      <td>MÃ©xico</td>\n      <td>97</td>\n      <td>97</td>\n    </tr>\n    <tr>\n      <th>2134600</th>\n      <td>2020-10-18</td>\n      <td>390ba7</td>\n      <td>1</td>\n      <td>4</td>\n      <td>14</td>\n      <td>1</td>\n      <td>14</td>\n      <td>14</td>\n      <td>39</td>\n      <td>1</td>\n      <td>...</td>\n      <td>2</td>\n      <td>2</td>\n      <td>1</td>\n      <td>1</td>\n      <td>2</td>\n      <td>7</td>\n      <td>99</td>\n      <td>MÃ©xico</td>\n      <td>97</td>\n      <td>97</td>\n    </tr>\n    <tr>\n      <th>2134601</th>\n      <td>2020-10-18</td>\n      <td>33b9ba</td>\n      <td>2</td>\n      <td>4</td>\n      <td>21</td>\n      <td>1</td>\n      <td>21</td>\n      <td>21</td>\n      <td>114</td>\n      <td>2</td>\n      <td>...</td>\n      <td>2</td>\n      <td>2</td>\n      <td>2</td>\n      <td>1</td>\n      <td>2</td>\n      <td>7</td>\n      <td>99</td>\n      <td>MÃ©xico</td>\n      <td>97</td>\n      <td>2</td>\n    </tr>\n    <tr>\n      <th>2134602</th>\n      <td>2020-10-18</td>\n      <td>33712d</td>\n      <td>2</td>\n      <td>12</td>\n      <td>9</td>\n      <td>2</td>\n      <td>15</td>\n      <td>9</td>\n      <td>7</td>\n      <td>1</td>\n      <td>...</td>\n      <td>2</td>\n      <td>1</td>\n      <td>1</td>\n      <td>1</td>\n      <td>2</td>\n      <td>7</td>\n      <td>99</td>\n      <td>MÃ©xico</td>\n      <td>97</td>\n      <td>97</td>\n    </tr>\n    <tr>\n      <th>2134603</th>\n      <td>2020-10-18</td>\n      <td>374518</td>\n      <td>2</td>\n      <td>12</td>\n      <td>9</td>\n      <td>1</td>\n      <td>9</td>\n      <td>9</td>\n      <td>13</td>\n      <td>1</td>\n      <td>...</td>\n      <td>2</td>\n      <td>2</td>\n      <td>1</td>\n      <td>1</td>\n      <td>2</td>\n      <td>7</td>\n      <td>99</td>\n      <td>MÃ©xico</td>\n      <td>97</td>\n      <td>97</td>\n    </tr>\n  </tbody>\n</table>\n<p>1019821 rows × 38 columns</p>\n</div>"
     },
     "metadata": {},
     "execution_count": 68
    }
   ],
   "source": [
    "negativos = data[data[\"CLASIFICACION_FINAL\"]==7]\n",
    "negativos"
   ]
  },
  {
   "cell_type": "code",
   "execution_count": 23,
   "metadata": {},
   "outputs": [
    {
     "output_type": "execute_result",
     "data": {
      "text/plain": [
       "        FECHA_ACTUALIZACION ID_REGISTRO  ORIGEN  SECTOR  ENTIDAD_UM  SEXO  \\\n",
       "0                2020-10-18      1426fb       1       4          10     1   \n",
       "1                2020-10-18      1c4583       2      12           9     2   \n",
       "2                2020-10-18      0d55c9       2      12           9     1   \n",
       "3                2020-10-18      071735       2       9          21     2   \n",
       "4                2020-10-18      1468a5       1       4           5     1   \n",
       "...                     ...         ...     ...     ...         ...   ...   \n",
       "2183114          2020-10-18      2fcdc7       1      12          26     1   \n",
       "2183136          2020-10-18      3c6f4d       1      12          26     2   \n",
       "2183216          2020-10-18      373591       1       6          20     1   \n",
       "2183262          2020-10-18      365e11       1       6           9     1   \n",
       "2183269          2020-10-18      408ef1       2       6           9     2   \n",
       "\n",
       "         ENTIDAD_NAC  ENTIDAD_RES  MUNICIPIO_RES  TIPO_PACIENTE  ...  \\\n",
       "0                 28           10              7              1  ...   \n",
       "1                  9            9              4              1  ...   \n",
       "2                  9            9             16              1  ...   \n",
       "3                 21           21            114              1  ...   \n",
       "4                 15            5             18              1  ...   \n",
       "...              ...          ...            ...            ...  ...   \n",
       "2183114           26           26             30              1  ...   \n",
       "2183136           26           26             19              1  ...   \n",
       "2183216           20           20            399              1  ...   \n",
       "2183262           17           15             58              2  ...   \n",
       "2183269            9            9              5              1  ...   \n",
       "\n",
       "        RENAL_CRONICA TABAQUISMO OTRO_CASO  TOMA_MUESTRA  RESULTADO_LAB  \\\n",
       "0                   2          2        99             1              1   \n",
       "1                   2          2         2             1              1   \n",
       "2                   2          2         2             1              1   \n",
       "3                   2          2         2             1              1   \n",
       "4                   2          2         1             1              1   \n",
       "...               ...        ...       ...           ...            ...   \n",
       "2183114             2          2         1             2             97   \n",
       "2183136             2          2         1             2             97   \n",
       "2183216             2          2         2             2             97   \n",
       "2183262             2          2         2             2             97   \n",
       "2183269             2          2         1             2             97   \n",
       "\n",
       "         CLASIFICACION_FINAL  MIGRANTE  PAIS_NACIONALIDAD  PAIS_ORIGEN  UCI  \n",
       "0                          3        99            MÃ©xico           97   97  \n",
       "1                          3        99            MÃ©xico           97   97  \n",
       "2                          3        99            MÃ©xico           97   97  \n",
       "3                          3        99            MÃ©xico           97   97  \n",
       "4                          3        99            MÃ©xico           97   97  \n",
       "...                      ...       ...                ...          ...  ...  \n",
       "2183114                    1        99            MÃ©xico           97   97  \n",
       "2183136                    1        99            MÃ©xico           97   97  \n",
       "2183216                    1        99            MÃ©xico           97   97  \n",
       "2183262                    1        99            MÃ©xico           97    2  \n",
       "2183269                    1        99            MÃ©xico           97   97  \n",
       "\n",
       "[851227 rows x 38 columns]"
      ],
      "text/html": "<div>\n<style scoped>\n    .dataframe tbody tr th:only-of-type {\n        vertical-align: middle;\n    }\n\n    .dataframe tbody tr th {\n        vertical-align: top;\n    }\n\n    .dataframe thead th {\n        text-align: right;\n    }\n</style>\n<table border=\"1\" class=\"dataframe\">\n  <thead>\n    <tr style=\"text-align: right;\">\n      <th></th>\n      <th>FECHA_ACTUALIZACION</th>\n      <th>ID_REGISTRO</th>\n      <th>ORIGEN</th>\n      <th>SECTOR</th>\n      <th>ENTIDAD_UM</th>\n      <th>SEXO</th>\n      <th>ENTIDAD_NAC</th>\n      <th>ENTIDAD_RES</th>\n      <th>MUNICIPIO_RES</th>\n      <th>TIPO_PACIENTE</th>\n      <th>...</th>\n      <th>RENAL_CRONICA</th>\n      <th>TABAQUISMO</th>\n      <th>OTRO_CASO</th>\n      <th>TOMA_MUESTRA</th>\n      <th>RESULTADO_LAB</th>\n      <th>CLASIFICACION_FINAL</th>\n      <th>MIGRANTE</th>\n      <th>PAIS_NACIONALIDAD</th>\n      <th>PAIS_ORIGEN</th>\n      <th>UCI</th>\n    </tr>\n  </thead>\n  <tbody>\n    <tr>\n      <th>0</th>\n      <td>2020-10-18</td>\n      <td>1426fb</td>\n      <td>1</td>\n      <td>4</td>\n      <td>10</td>\n      <td>1</td>\n      <td>28</td>\n      <td>10</td>\n      <td>7</td>\n      <td>1</td>\n      <td>...</td>\n      <td>2</td>\n      <td>2</td>\n      <td>99</td>\n      <td>1</td>\n      <td>1</td>\n      <td>3</td>\n      <td>99</td>\n      <td>MÃ©xico</td>\n      <td>97</td>\n      <td>97</td>\n    </tr>\n    <tr>\n      <th>1</th>\n      <td>2020-10-18</td>\n      <td>1c4583</td>\n      <td>2</td>\n      <td>12</td>\n      <td>9</td>\n      <td>2</td>\n      <td>9</td>\n      <td>9</td>\n      <td>4</td>\n      <td>1</td>\n      <td>...</td>\n      <td>2</td>\n      <td>2</td>\n      <td>2</td>\n      <td>1</td>\n      <td>1</td>\n      <td>3</td>\n      <td>99</td>\n      <td>MÃ©xico</td>\n      <td>97</td>\n      <td>97</td>\n    </tr>\n    <tr>\n      <th>2</th>\n      <td>2020-10-18</td>\n      <td>0d55c9</td>\n      <td>2</td>\n      <td>12</td>\n      <td>9</td>\n      <td>1</td>\n      <td>9</td>\n      <td>9</td>\n      <td>16</td>\n      <td>1</td>\n      <td>...</td>\n      <td>2</td>\n      <td>2</td>\n      <td>2</td>\n      <td>1</td>\n      <td>1</td>\n      <td>3</td>\n      <td>99</td>\n      <td>MÃ©xico</td>\n      <td>97</td>\n      <td>97</td>\n    </tr>\n    <tr>\n      <th>3</th>\n      <td>2020-10-18</td>\n      <td>071735</td>\n      <td>2</td>\n      <td>9</td>\n      <td>21</td>\n      <td>2</td>\n      <td>21</td>\n      <td>21</td>\n      <td>114</td>\n      <td>1</td>\n      <td>...</td>\n      <td>2</td>\n      <td>2</td>\n      <td>2</td>\n      <td>1</td>\n      <td>1</td>\n      <td>3</td>\n      <td>99</td>\n      <td>MÃ©xico</td>\n      <td>97</td>\n      <td>97</td>\n    </tr>\n    <tr>\n      <th>4</th>\n      <td>2020-10-18</td>\n      <td>1468a5</td>\n      <td>1</td>\n      <td>4</td>\n      <td>5</td>\n      <td>1</td>\n      <td>15</td>\n      <td>5</td>\n      <td>18</td>\n      <td>1</td>\n      <td>...</td>\n      <td>2</td>\n      <td>2</td>\n      <td>1</td>\n      <td>1</td>\n      <td>1</td>\n      <td>3</td>\n      <td>99</td>\n      <td>MÃ©xico</td>\n      <td>97</td>\n      <td>97</td>\n    </tr>\n    <tr>\n      <th>...</th>\n      <td>...</td>\n      <td>...</td>\n      <td>...</td>\n      <td>...</td>\n      <td>...</td>\n      <td>...</td>\n      <td>...</td>\n      <td>...</td>\n      <td>...</td>\n      <td>...</td>\n      <td>...</td>\n      <td>...</td>\n      <td>...</td>\n      <td>...</td>\n      <td>...</td>\n      <td>...</td>\n      <td>...</td>\n      <td>...</td>\n      <td>...</td>\n      <td>...</td>\n      <td>...</td>\n    </tr>\n    <tr>\n      <th>2183114</th>\n      <td>2020-10-18</td>\n      <td>2fcdc7</td>\n      <td>1</td>\n      <td>12</td>\n      <td>26</td>\n      <td>1</td>\n      <td>26</td>\n      <td>26</td>\n      <td>30</td>\n      <td>1</td>\n      <td>...</td>\n      <td>2</td>\n      <td>2</td>\n      <td>1</td>\n      <td>2</td>\n      <td>97</td>\n      <td>1</td>\n      <td>99</td>\n      <td>MÃ©xico</td>\n      <td>97</td>\n      <td>97</td>\n    </tr>\n    <tr>\n      <th>2183136</th>\n      <td>2020-10-18</td>\n      <td>3c6f4d</td>\n      <td>1</td>\n      <td>12</td>\n      <td>26</td>\n      <td>2</td>\n      <td>26</td>\n      <td>26</td>\n      <td>19</td>\n      <td>1</td>\n      <td>...</td>\n      <td>2</td>\n      <td>2</td>\n      <td>1</td>\n      <td>2</td>\n      <td>97</td>\n      <td>1</td>\n      <td>99</td>\n      <td>MÃ©xico</td>\n      <td>97</td>\n      <td>97</td>\n    </tr>\n    <tr>\n      <th>2183216</th>\n      <td>2020-10-18</td>\n      <td>373591</td>\n      <td>1</td>\n      <td>6</td>\n      <td>20</td>\n      <td>1</td>\n      <td>20</td>\n      <td>20</td>\n      <td>399</td>\n      <td>1</td>\n      <td>...</td>\n      <td>2</td>\n      <td>2</td>\n      <td>2</td>\n      <td>2</td>\n      <td>97</td>\n      <td>1</td>\n      <td>99</td>\n      <td>MÃ©xico</td>\n      <td>97</td>\n      <td>97</td>\n    </tr>\n    <tr>\n      <th>2183262</th>\n      <td>2020-10-18</td>\n      <td>365e11</td>\n      <td>1</td>\n      <td>6</td>\n      <td>9</td>\n      <td>1</td>\n      <td>17</td>\n      <td>15</td>\n      <td>58</td>\n      <td>2</td>\n      <td>...</td>\n      <td>2</td>\n      <td>2</td>\n      <td>2</td>\n      <td>2</td>\n      <td>97</td>\n      <td>1</td>\n      <td>99</td>\n      <td>MÃ©xico</td>\n      <td>97</td>\n      <td>2</td>\n    </tr>\n    <tr>\n      <th>2183269</th>\n      <td>2020-10-18</td>\n      <td>408ef1</td>\n      <td>2</td>\n      <td>6</td>\n      <td>9</td>\n      <td>2</td>\n      <td>9</td>\n      <td>9</td>\n      <td>5</td>\n      <td>1</td>\n      <td>...</td>\n      <td>2</td>\n      <td>2</td>\n      <td>1</td>\n      <td>2</td>\n      <td>97</td>\n      <td>1</td>\n      <td>99</td>\n      <td>MÃ©xico</td>\n      <td>97</td>\n      <td>97</td>\n    </tr>\n  </tbody>\n</table>\n<p>851227 rows × 38 columns</p>\n</div>"
     },
     "metadata": {},
     "execution_count": 23
    }
   ],
   "source": [
    "confirmados = data[data[\"CLASIFICACION_FINAL\"].isin([1,2,3])]\n",
    "confirmados"
   ]
  },
  {
   "cell_type": "code",
   "execution_count": 29,
   "metadata": {},
   "outputs": [
    {
     "output_type": "execute_result",
     "data": {
      "text/plain": [
       "        FECHA_ACTUALIZACION ID_REGISTRO  ORIGEN  SECTOR  ENTIDAD_UM  SEXO  \\\n",
       "39125            2020-10-18      193243       2       4          19     2   \n",
       "39126            2020-10-18      0462c9       2       4          14     1   \n",
       "39127            2020-10-18      0cafed       2       4          19     2   \n",
       "39128            2020-10-18      194bf3       2       4          11     2   \n",
       "39129            2020-10-18      1b4b5a       2       4          26     2   \n",
       "...                     ...         ...     ...     ...         ...   ...   \n",
       "2183266          2020-10-18      2edfde       2       6          28     2   \n",
       "2183267          2020-10-18      332cf5       2       4          30     1   \n",
       "2183268          2020-10-18      42c51a       2      12           9     2   \n",
       "2183270          2020-10-18      372368       2       9           8     2   \n",
       "2183271          2020-10-18      427b3f       2       9          19     2   \n",
       "\n",
       "         ENTIDAD_NAC  ENTIDAD_RES  MUNICIPIO_RES  TIPO_PACIENTE  ...  \\\n",
       "39125             10           19             46              1  ...   \n",
       "39126             14           14            120              1  ...   \n",
       "39127             19           19             26              1  ...   \n",
       "39128             11           11              7              1  ...   \n",
       "39129             26           26             55              1  ...   \n",
       "...              ...          ...            ...            ...  ...   \n",
       "2183266           28           28              9              1  ...   \n",
       "2183267           30           30            135              1  ...   \n",
       "2183268            9            9             10              1  ...   \n",
       "2183270            8            8             19              2  ...   \n",
       "2183271           19           19             18              2  ...   \n",
       "\n",
       "        RENAL_CRONICA TABAQUISMO OTRO_CASO  TOMA_MUESTRA  RESULTADO_LAB  \\\n",
       "39125               2          2        99             2             97   \n",
       "39126               2          2        99             2             97   \n",
       "39127               2          2        99             2             97   \n",
       "39128               2          2        99             2             97   \n",
       "39129               2          2        99             2             97   \n",
       "...               ...        ...       ...           ...            ...   \n",
       "2183266             2          2         2             1              3   \n",
       "2183267             2          2         2             1              3   \n",
       "2183268             2          2         1             1              3   \n",
       "2183270             2          2         2             1              3   \n",
       "2183271             2          2         2             1              3   \n",
       "\n",
       "         CLASIFICACION_FINAL  MIGRANTE  PAIS_NACIONALIDAD  PAIS_ORIGEN  UCI  \n",
       "39125                      6        99            MÃ©xico           97   97  \n",
       "39126                      6        99            MÃ©xico           97   97  \n",
       "39127                      6        99            MÃ©xico           97   97  \n",
       "39128                      6        99            MÃ©xico           97   97  \n",
       "39129                      6        99            MÃ©xico           97   97  \n",
       "...                      ...       ...                ...          ...  ...  \n",
       "2183266                    6        99            MÃ©xico           97   97  \n",
       "2183267                    6        99            MÃ©xico           97   97  \n",
       "2183268                    6        99            MÃ©xico           97   97  \n",
       "2183270                    6        99            MÃ©xico           97    2  \n",
       "2183271                    6        99            MÃ©xico           97    2  \n",
       "\n",
       "[265492 rows x 38 columns]"
      ],
      "text/html": "<div>\n<style scoped>\n    .dataframe tbody tr th:only-of-type {\n        vertical-align: middle;\n    }\n\n    .dataframe tbody tr th {\n        vertical-align: top;\n    }\n\n    .dataframe thead th {\n        text-align: right;\n    }\n</style>\n<table border=\"1\" class=\"dataframe\">\n  <thead>\n    <tr style=\"text-align: right;\">\n      <th></th>\n      <th>FECHA_ACTUALIZACION</th>\n      <th>ID_REGISTRO</th>\n      <th>ORIGEN</th>\n      <th>SECTOR</th>\n      <th>ENTIDAD_UM</th>\n      <th>SEXO</th>\n      <th>ENTIDAD_NAC</th>\n      <th>ENTIDAD_RES</th>\n      <th>MUNICIPIO_RES</th>\n      <th>TIPO_PACIENTE</th>\n      <th>...</th>\n      <th>RENAL_CRONICA</th>\n      <th>TABAQUISMO</th>\n      <th>OTRO_CASO</th>\n      <th>TOMA_MUESTRA</th>\n      <th>RESULTADO_LAB</th>\n      <th>CLASIFICACION_FINAL</th>\n      <th>MIGRANTE</th>\n      <th>PAIS_NACIONALIDAD</th>\n      <th>PAIS_ORIGEN</th>\n      <th>UCI</th>\n    </tr>\n  </thead>\n  <tbody>\n    <tr>\n      <th>39125</th>\n      <td>2020-10-18</td>\n      <td>193243</td>\n      <td>2</td>\n      <td>4</td>\n      <td>19</td>\n      <td>2</td>\n      <td>10</td>\n      <td>19</td>\n      <td>46</td>\n      <td>1</td>\n      <td>...</td>\n      <td>2</td>\n      <td>2</td>\n      <td>99</td>\n      <td>2</td>\n      <td>97</td>\n      <td>6</td>\n      <td>99</td>\n      <td>MÃ©xico</td>\n      <td>97</td>\n      <td>97</td>\n    </tr>\n    <tr>\n      <th>39126</th>\n      <td>2020-10-18</td>\n      <td>0462c9</td>\n      <td>2</td>\n      <td>4</td>\n      <td>14</td>\n      <td>1</td>\n      <td>14</td>\n      <td>14</td>\n      <td>120</td>\n      <td>1</td>\n      <td>...</td>\n      <td>2</td>\n      <td>2</td>\n      <td>99</td>\n      <td>2</td>\n      <td>97</td>\n      <td>6</td>\n      <td>99</td>\n      <td>MÃ©xico</td>\n      <td>97</td>\n      <td>97</td>\n    </tr>\n    <tr>\n      <th>39127</th>\n      <td>2020-10-18</td>\n      <td>0cafed</td>\n      <td>2</td>\n      <td>4</td>\n      <td>19</td>\n      <td>2</td>\n      <td>19</td>\n      <td>19</td>\n      <td>26</td>\n      <td>1</td>\n      <td>...</td>\n      <td>2</td>\n      <td>2</td>\n      <td>99</td>\n      <td>2</td>\n      <td>97</td>\n      <td>6</td>\n      <td>99</td>\n      <td>MÃ©xico</td>\n      <td>97</td>\n      <td>97</td>\n    </tr>\n    <tr>\n      <th>39128</th>\n      <td>2020-10-18</td>\n      <td>194bf3</td>\n      <td>2</td>\n      <td>4</td>\n      <td>11</td>\n      <td>2</td>\n      <td>11</td>\n      <td>11</td>\n      <td>7</td>\n      <td>1</td>\n      <td>...</td>\n      <td>2</td>\n      <td>2</td>\n      <td>99</td>\n      <td>2</td>\n      <td>97</td>\n      <td>6</td>\n      <td>99</td>\n      <td>MÃ©xico</td>\n      <td>97</td>\n      <td>97</td>\n    </tr>\n    <tr>\n      <th>39129</th>\n      <td>2020-10-18</td>\n      <td>1b4b5a</td>\n      <td>2</td>\n      <td>4</td>\n      <td>26</td>\n      <td>2</td>\n      <td>26</td>\n      <td>26</td>\n      <td>55</td>\n      <td>1</td>\n      <td>...</td>\n      <td>2</td>\n      <td>2</td>\n      <td>99</td>\n      <td>2</td>\n      <td>97</td>\n      <td>6</td>\n      <td>99</td>\n      <td>MÃ©xico</td>\n      <td>97</td>\n      <td>97</td>\n    </tr>\n    <tr>\n      <th>...</th>\n      <td>...</td>\n      <td>...</td>\n      <td>...</td>\n      <td>...</td>\n      <td>...</td>\n      <td>...</td>\n      <td>...</td>\n      <td>...</td>\n      <td>...</td>\n      <td>...</td>\n      <td>...</td>\n      <td>...</td>\n      <td>...</td>\n      <td>...</td>\n      <td>...</td>\n      <td>...</td>\n      <td>...</td>\n      <td>...</td>\n      <td>...</td>\n      <td>...</td>\n      <td>...</td>\n    </tr>\n    <tr>\n      <th>2183266</th>\n      <td>2020-10-18</td>\n      <td>2edfde</td>\n      <td>2</td>\n      <td>6</td>\n      <td>28</td>\n      <td>2</td>\n      <td>28</td>\n      <td>28</td>\n      <td>9</td>\n      <td>1</td>\n      <td>...</td>\n      <td>2</td>\n      <td>2</td>\n      <td>2</td>\n      <td>1</td>\n      <td>3</td>\n      <td>6</td>\n      <td>99</td>\n      <td>MÃ©xico</td>\n      <td>97</td>\n      <td>97</td>\n    </tr>\n    <tr>\n      <th>2183267</th>\n      <td>2020-10-18</td>\n      <td>332cf5</td>\n      <td>2</td>\n      <td>4</td>\n      <td>30</td>\n      <td>1</td>\n      <td>30</td>\n      <td>30</td>\n      <td>135</td>\n      <td>1</td>\n      <td>...</td>\n      <td>2</td>\n      <td>2</td>\n      <td>2</td>\n      <td>1</td>\n      <td>3</td>\n      <td>6</td>\n      <td>99</td>\n      <td>MÃ©xico</td>\n      <td>97</td>\n      <td>97</td>\n    </tr>\n    <tr>\n      <th>2183268</th>\n      <td>2020-10-18</td>\n      <td>42c51a</td>\n      <td>2</td>\n      <td>12</td>\n      <td>9</td>\n      <td>2</td>\n      <td>9</td>\n      <td>9</td>\n      <td>10</td>\n      <td>1</td>\n      <td>...</td>\n      <td>2</td>\n      <td>2</td>\n      <td>1</td>\n      <td>1</td>\n      <td>3</td>\n      <td>6</td>\n      <td>99</td>\n      <td>MÃ©xico</td>\n      <td>97</td>\n      <td>97</td>\n    </tr>\n    <tr>\n      <th>2183270</th>\n      <td>2020-10-18</td>\n      <td>372368</td>\n      <td>2</td>\n      <td>9</td>\n      <td>8</td>\n      <td>2</td>\n      <td>8</td>\n      <td>8</td>\n      <td>19</td>\n      <td>2</td>\n      <td>...</td>\n      <td>2</td>\n      <td>2</td>\n      <td>2</td>\n      <td>1</td>\n      <td>3</td>\n      <td>6</td>\n      <td>99</td>\n      <td>MÃ©xico</td>\n      <td>97</td>\n      <td>2</td>\n    </tr>\n    <tr>\n      <th>2183271</th>\n      <td>2020-10-18</td>\n      <td>427b3f</td>\n      <td>2</td>\n      <td>9</td>\n      <td>19</td>\n      <td>2</td>\n      <td>19</td>\n      <td>19</td>\n      <td>18</td>\n      <td>2</td>\n      <td>...</td>\n      <td>2</td>\n      <td>2</td>\n      <td>2</td>\n      <td>1</td>\n      <td>3</td>\n      <td>6</td>\n      <td>99</td>\n      <td>MÃ©xico</td>\n      <td>97</td>\n      <td>2</td>\n    </tr>\n  </tbody>\n</table>\n<p>265492 rows × 38 columns</p>\n</div>"
     },
     "metadata": {},
     "execution_count": 29
    }
   ],
   "source": [
    "sospechosos=data[data[\"CLASIFICACION_FINAL\"]==6]\n",
    "sospechosos"
   ]
  },
  {
   "cell_type": "code",
   "execution_count": 26,
   "metadata": {},
   "outputs": [
    {
     "output_type": "execute_result",
     "data": {
      "text/plain": [
       "        FECHA_ACTUALIZACION ID_REGISTRO  ORIGEN  SECTOR  ENTIDAD_UM  SEXO  \\\n",
       "39125            2020-10-18      193243       2       4          19     2   \n",
       "39126            2020-10-18      0462c9       2       4          14     1   \n",
       "39127            2020-10-18      0cafed       2       4          19     2   \n",
       "39128            2020-10-18      194bf3       2       4          11     2   \n",
       "39129            2020-10-18      1b4b5a       2       4          26     2   \n",
       "...                     ...         ...     ...     ...         ...   ...   \n",
       "2183248          2020-10-18      37c6a8       2      12          11     1   \n",
       "2183251          2020-10-18      28b4d5       1      12           1     2   \n",
       "2183255          2020-10-18      414a3f       1      12           1     2   \n",
       "2183263          2020-10-18      3d7bff       1       4          19     2   \n",
       "2183264          2020-10-18      2d9933       1      12          13     2   \n",
       "\n",
       "         ENTIDAD_NAC  ENTIDAD_RES  MUNICIPIO_RES  TIPO_PACIENTE  ...  \\\n",
       "39125             10           19             46              1  ...   \n",
       "39126             14           14            120              1  ...   \n",
       "39127             19           19             26              1  ...   \n",
       "39128             11           11              7              1  ...   \n",
       "39129             26           26             55              1  ...   \n",
       "...              ...          ...            ...            ...  ...   \n",
       "2183248           11           11             31              1  ...   \n",
       "2183251            1            1              1              1  ...   \n",
       "2183255            1            1              1              1  ...   \n",
       "2183263           19           19             31              1  ...   \n",
       "2183264           13           13             77              1  ...   \n",
       "\n",
       "        RENAL_CRONICA TABAQUISMO OTRO_CASO  TOMA_MUESTRA  RESULTADO_LAB  \\\n",
       "39125               2          2        99             2             97   \n",
       "39126               2          2        99             2             97   \n",
       "39127               2          2        99             2             97   \n",
       "39128               2          2        99             2             97   \n",
       "39129               2          2        99             2             97   \n",
       "...               ...        ...       ...           ...            ...   \n",
       "2183248             2          2         2             2             97   \n",
       "2183251             2          2         2             2             97   \n",
       "2183255             2          2        99             2             97   \n",
       "2183263             2          2         2             2             97   \n",
       "2183264             2          2         2             2             97   \n",
       "\n",
       "         CLASIFICACION_FINAL  MIGRANTE  PAIS_NACIONALIDAD  PAIS_ORIGEN  UCI  \n",
       "39125                      6        99            MÃ©xico           97   97  \n",
       "39126                      6        99            MÃ©xico           97   97  \n",
       "39127                      6        99            MÃ©xico           97   97  \n",
       "39128                      6        99            MÃ©xico           97   97  \n",
       "39129                      6        99            MÃ©xico           97   97  \n",
       "...                      ...       ...                ...          ...  ...  \n",
       "2183248                    6        99            MÃ©xico           97   97  \n",
       "2183251                    6        99            MÃ©xico           97   97  \n",
       "2183255                    6        99            MÃ©xico           97   97  \n",
       "2183263                    6        99            MÃ©xico           97   97  \n",
       "2183264                    6        99            MÃ©xico           97   97  \n",
       "\n",
       "[176840 rows x 38 columns]"
      ],
      "text/html": "<div>\n<style scoped>\n    .dataframe tbody tr th:only-of-type {\n        vertical-align: middle;\n    }\n\n    .dataframe tbody tr th {\n        vertical-align: top;\n    }\n\n    .dataframe thead th {\n        text-align: right;\n    }\n</style>\n<table border=\"1\" class=\"dataframe\">\n  <thead>\n    <tr style=\"text-align: right;\">\n      <th></th>\n      <th>FECHA_ACTUALIZACION</th>\n      <th>ID_REGISTRO</th>\n      <th>ORIGEN</th>\n      <th>SECTOR</th>\n      <th>ENTIDAD_UM</th>\n      <th>SEXO</th>\n      <th>ENTIDAD_NAC</th>\n      <th>ENTIDAD_RES</th>\n      <th>MUNICIPIO_RES</th>\n      <th>TIPO_PACIENTE</th>\n      <th>...</th>\n      <th>RENAL_CRONICA</th>\n      <th>TABAQUISMO</th>\n      <th>OTRO_CASO</th>\n      <th>TOMA_MUESTRA</th>\n      <th>RESULTADO_LAB</th>\n      <th>CLASIFICACION_FINAL</th>\n      <th>MIGRANTE</th>\n      <th>PAIS_NACIONALIDAD</th>\n      <th>PAIS_ORIGEN</th>\n      <th>UCI</th>\n    </tr>\n  </thead>\n  <tbody>\n    <tr>\n      <th>39125</th>\n      <td>2020-10-18</td>\n      <td>193243</td>\n      <td>2</td>\n      <td>4</td>\n      <td>19</td>\n      <td>2</td>\n      <td>10</td>\n      <td>19</td>\n      <td>46</td>\n      <td>1</td>\n      <td>...</td>\n      <td>2</td>\n      <td>2</td>\n      <td>99</td>\n      <td>2</td>\n      <td>97</td>\n      <td>6</td>\n      <td>99</td>\n      <td>MÃ©xico</td>\n      <td>97</td>\n      <td>97</td>\n    </tr>\n    <tr>\n      <th>39126</th>\n      <td>2020-10-18</td>\n      <td>0462c9</td>\n      <td>2</td>\n      <td>4</td>\n      <td>14</td>\n      <td>1</td>\n      <td>14</td>\n      <td>14</td>\n      <td>120</td>\n      <td>1</td>\n      <td>...</td>\n      <td>2</td>\n      <td>2</td>\n      <td>99</td>\n      <td>2</td>\n      <td>97</td>\n      <td>6</td>\n      <td>99</td>\n      <td>MÃ©xico</td>\n      <td>97</td>\n      <td>97</td>\n    </tr>\n    <tr>\n      <th>39127</th>\n      <td>2020-10-18</td>\n      <td>0cafed</td>\n      <td>2</td>\n      <td>4</td>\n      <td>19</td>\n      <td>2</td>\n      <td>19</td>\n      <td>19</td>\n      <td>26</td>\n      <td>1</td>\n      <td>...</td>\n      <td>2</td>\n      <td>2</td>\n      <td>99</td>\n      <td>2</td>\n      <td>97</td>\n      <td>6</td>\n      <td>99</td>\n      <td>MÃ©xico</td>\n      <td>97</td>\n      <td>97</td>\n    </tr>\n    <tr>\n      <th>39128</th>\n      <td>2020-10-18</td>\n      <td>194bf3</td>\n      <td>2</td>\n      <td>4</td>\n      <td>11</td>\n      <td>2</td>\n      <td>11</td>\n      <td>11</td>\n      <td>7</td>\n      <td>1</td>\n      <td>...</td>\n      <td>2</td>\n      <td>2</td>\n      <td>99</td>\n      <td>2</td>\n      <td>97</td>\n      <td>6</td>\n      <td>99</td>\n      <td>MÃ©xico</td>\n      <td>97</td>\n      <td>97</td>\n    </tr>\n    <tr>\n      <th>39129</th>\n      <td>2020-10-18</td>\n      <td>1b4b5a</td>\n      <td>2</td>\n      <td>4</td>\n      <td>26</td>\n      <td>2</td>\n      <td>26</td>\n      <td>26</td>\n      <td>55</td>\n      <td>1</td>\n      <td>...</td>\n      <td>2</td>\n      <td>2</td>\n      <td>99</td>\n      <td>2</td>\n      <td>97</td>\n      <td>6</td>\n      <td>99</td>\n      <td>MÃ©xico</td>\n      <td>97</td>\n      <td>97</td>\n    </tr>\n    <tr>\n      <th>...</th>\n      <td>...</td>\n      <td>...</td>\n      <td>...</td>\n      <td>...</td>\n      <td>...</td>\n      <td>...</td>\n      <td>...</td>\n      <td>...</td>\n      <td>...</td>\n      <td>...</td>\n      <td>...</td>\n      <td>...</td>\n      <td>...</td>\n      <td>...</td>\n      <td>...</td>\n      <td>...</td>\n      <td>...</td>\n      <td>...</td>\n      <td>...</td>\n      <td>...</td>\n      <td>...</td>\n    </tr>\n    <tr>\n      <th>2183248</th>\n      <td>2020-10-18</td>\n      <td>37c6a8</td>\n      <td>2</td>\n      <td>12</td>\n      <td>11</td>\n      <td>1</td>\n      <td>11</td>\n      <td>11</td>\n      <td>31</td>\n      <td>1</td>\n      <td>...</td>\n      <td>2</td>\n      <td>2</td>\n      <td>2</td>\n      <td>2</td>\n      <td>97</td>\n      <td>6</td>\n      <td>99</td>\n      <td>MÃ©xico</td>\n      <td>97</td>\n      <td>97</td>\n    </tr>\n    <tr>\n      <th>2183251</th>\n      <td>2020-10-18</td>\n      <td>28b4d5</td>\n      <td>1</td>\n      <td>12</td>\n      <td>1</td>\n      <td>2</td>\n      <td>1</td>\n      <td>1</td>\n      <td>1</td>\n      <td>1</td>\n      <td>...</td>\n      <td>2</td>\n      <td>2</td>\n      <td>2</td>\n      <td>2</td>\n      <td>97</td>\n      <td>6</td>\n      <td>99</td>\n      <td>MÃ©xico</td>\n      <td>97</td>\n      <td>97</td>\n    </tr>\n    <tr>\n      <th>2183255</th>\n      <td>2020-10-18</td>\n      <td>414a3f</td>\n      <td>1</td>\n      <td>12</td>\n      <td>1</td>\n      <td>2</td>\n      <td>1</td>\n      <td>1</td>\n      <td>1</td>\n      <td>1</td>\n      <td>...</td>\n      <td>2</td>\n      <td>2</td>\n      <td>99</td>\n      <td>2</td>\n      <td>97</td>\n      <td>6</td>\n      <td>99</td>\n      <td>MÃ©xico</td>\n      <td>97</td>\n      <td>97</td>\n    </tr>\n    <tr>\n      <th>2183263</th>\n      <td>2020-10-18</td>\n      <td>3d7bff</td>\n      <td>1</td>\n      <td>4</td>\n      <td>19</td>\n      <td>2</td>\n      <td>19</td>\n      <td>19</td>\n      <td>31</td>\n      <td>1</td>\n      <td>...</td>\n      <td>2</td>\n      <td>2</td>\n      <td>2</td>\n      <td>2</td>\n      <td>97</td>\n      <td>6</td>\n      <td>99</td>\n      <td>MÃ©xico</td>\n      <td>97</td>\n      <td>97</td>\n    </tr>\n    <tr>\n      <th>2183264</th>\n      <td>2020-10-18</td>\n      <td>2d9933</td>\n      <td>1</td>\n      <td>12</td>\n      <td>13</td>\n      <td>2</td>\n      <td>13</td>\n      <td>13</td>\n      <td>77</td>\n      <td>1</td>\n      <td>...</td>\n      <td>2</td>\n      <td>2</td>\n      <td>2</td>\n      <td>2</td>\n      <td>97</td>\n      <td>6</td>\n      <td>99</td>\n      <td>MÃ©xico</td>\n      <td>97</td>\n      <td>97</td>\n    </tr>\n  </tbody>\n</table>\n<p>176840 rows × 38 columns</p>\n</div>"
     },
     "metadata": {},
     "execution_count": 26
    }
   ],
   "source": [
    "sosp_sinm=data[(data[\"CLASIFICACION_FINAL\"]==6)&(data[\"RESULTADO_LAB\"]==97)]\n",
    "sosp_sinm"
   ]
  },
  {
   "cell_type": "code",
   "execution_count": 33,
   "metadata": {},
   "outputs": [
    {
     "output_type": "execute_result",
     "data": {
      "text/plain": [
       "        FECHA_ACTUALIZACION ID_REGISTRO  ORIGEN  SECTOR  ENTIDAD_UM  SEXO  \\\n",
       "39256            2020-10-18      2c4777       2       9           9     2   \n",
       "39713            2020-10-18      0f2dd8       1      13          21     1   \n",
       "40000            2020-10-18      10e9a3       1      12          10     2   \n",
       "41098            2020-10-18      01bcdf       1      12          21     2   \n",
       "41341            2020-10-18      13ec48       1      12          26     1   \n",
       "...                     ...         ...     ...     ...         ...   ...   \n",
       "2183266          2020-10-18      2edfde       2       6          28     2   \n",
       "2183267          2020-10-18      332cf5       2       4          30     1   \n",
       "2183268          2020-10-18      42c51a       2      12           9     2   \n",
       "2183270          2020-10-18      372368       2       9           8     2   \n",
       "2183271          2020-10-18      427b3f       2       9          19     2   \n",
       "\n",
       "         ENTIDAD_NAC  ENTIDAD_RES  MUNICIPIO_RES  TIPO_PACIENTE  ...  \\\n",
       "39256              9            9             14              1  ...   \n",
       "39713             21           21             74              1  ...   \n",
       "40000             10           10              5              1  ...   \n",
       "41098             30           21            114              1  ...   \n",
       "41341             26           26             30              1  ...   \n",
       "...              ...          ...            ...            ...  ...   \n",
       "2183266           28           28              9              1  ...   \n",
       "2183267           30           30            135              1  ...   \n",
       "2183268            9            9             10              1  ...   \n",
       "2183270            8            8             19              2  ...   \n",
       "2183271           19           19             18              2  ...   \n",
       "\n",
       "        RENAL_CRONICA TABAQUISMO OTRO_CASO  TOMA_MUESTRA  RESULTADO_LAB  \\\n",
       "39256               2          2         2             1              4   \n",
       "39713               2          2         2             1              4   \n",
       "40000               2          2        99             1              4   \n",
       "41098               2          2         2             1              4   \n",
       "41341               2          2         1             1              4   \n",
       "...               ...        ...       ...           ...            ...   \n",
       "2183266             2          2         2             1              3   \n",
       "2183267             2          2         2             1              3   \n",
       "2183268             2          2         1             1              3   \n",
       "2183270             2          2         2             1              3   \n",
       "2183271             2          2         2             1              3   \n",
       "\n",
       "         CLASIFICACION_FINAL  MIGRANTE  PAIS_NACIONALIDAD  PAIS_ORIGEN  UCI  \n",
       "39256                      6        99            MÃ©xico           97   97  \n",
       "39713                      6        99            MÃ©xico           97   97  \n",
       "40000                      6        99            MÃ©xico           97   97  \n",
       "41098                      6        99            MÃ©xico           97   97  \n",
       "41341                      6        99            MÃ©xico           97   97  \n",
       "...                      ...       ...                ...          ...  ...  \n",
       "2183266                    6        99            MÃ©xico           97   97  \n",
       "2183267                    6        99            MÃ©xico           97   97  \n",
       "2183268                    6        99            MÃ©xico           97   97  \n",
       "2183270                    6        99            MÃ©xico           97    2  \n",
       "2183271                    6        99            MÃ©xico           97    2  \n",
       "\n",
       "[88652 rows x 38 columns]"
      ],
      "text/html": "<div>\n<style scoped>\n    .dataframe tbody tr th:only-of-type {\n        vertical-align: middle;\n    }\n\n    .dataframe tbody tr th {\n        vertical-align: top;\n    }\n\n    .dataframe thead th {\n        text-align: right;\n    }\n</style>\n<table border=\"1\" class=\"dataframe\">\n  <thead>\n    <tr style=\"text-align: right;\">\n      <th></th>\n      <th>FECHA_ACTUALIZACION</th>\n      <th>ID_REGISTRO</th>\n      <th>ORIGEN</th>\n      <th>SECTOR</th>\n      <th>ENTIDAD_UM</th>\n      <th>SEXO</th>\n      <th>ENTIDAD_NAC</th>\n      <th>ENTIDAD_RES</th>\n      <th>MUNICIPIO_RES</th>\n      <th>TIPO_PACIENTE</th>\n      <th>...</th>\n      <th>RENAL_CRONICA</th>\n      <th>TABAQUISMO</th>\n      <th>OTRO_CASO</th>\n      <th>TOMA_MUESTRA</th>\n      <th>RESULTADO_LAB</th>\n      <th>CLASIFICACION_FINAL</th>\n      <th>MIGRANTE</th>\n      <th>PAIS_NACIONALIDAD</th>\n      <th>PAIS_ORIGEN</th>\n      <th>UCI</th>\n    </tr>\n  </thead>\n  <tbody>\n    <tr>\n      <th>39256</th>\n      <td>2020-10-18</td>\n      <td>2c4777</td>\n      <td>2</td>\n      <td>9</td>\n      <td>9</td>\n      <td>2</td>\n      <td>9</td>\n      <td>9</td>\n      <td>14</td>\n      <td>1</td>\n      <td>...</td>\n      <td>2</td>\n      <td>2</td>\n      <td>2</td>\n      <td>1</td>\n      <td>4</td>\n      <td>6</td>\n      <td>99</td>\n      <td>MÃ©xico</td>\n      <td>97</td>\n      <td>97</td>\n    </tr>\n    <tr>\n      <th>39713</th>\n      <td>2020-10-18</td>\n      <td>0f2dd8</td>\n      <td>1</td>\n      <td>13</td>\n      <td>21</td>\n      <td>1</td>\n      <td>21</td>\n      <td>21</td>\n      <td>74</td>\n      <td>1</td>\n      <td>...</td>\n      <td>2</td>\n      <td>2</td>\n      <td>2</td>\n      <td>1</td>\n      <td>4</td>\n      <td>6</td>\n      <td>99</td>\n      <td>MÃ©xico</td>\n      <td>97</td>\n      <td>97</td>\n    </tr>\n    <tr>\n      <th>40000</th>\n      <td>2020-10-18</td>\n      <td>10e9a3</td>\n      <td>1</td>\n      <td>12</td>\n      <td>10</td>\n      <td>2</td>\n      <td>10</td>\n      <td>10</td>\n      <td>5</td>\n      <td>1</td>\n      <td>...</td>\n      <td>2</td>\n      <td>2</td>\n      <td>99</td>\n      <td>1</td>\n      <td>4</td>\n      <td>6</td>\n      <td>99</td>\n      <td>MÃ©xico</td>\n      <td>97</td>\n      <td>97</td>\n    </tr>\n    <tr>\n      <th>41098</th>\n      <td>2020-10-18</td>\n      <td>01bcdf</td>\n      <td>1</td>\n      <td>12</td>\n      <td>21</td>\n      <td>2</td>\n      <td>30</td>\n      <td>21</td>\n      <td>114</td>\n      <td>1</td>\n      <td>...</td>\n      <td>2</td>\n      <td>2</td>\n      <td>2</td>\n      <td>1</td>\n      <td>4</td>\n      <td>6</td>\n      <td>99</td>\n      <td>MÃ©xico</td>\n      <td>97</td>\n      <td>97</td>\n    </tr>\n    <tr>\n      <th>41341</th>\n      <td>2020-10-18</td>\n      <td>13ec48</td>\n      <td>1</td>\n      <td>12</td>\n      <td>26</td>\n      <td>1</td>\n      <td>26</td>\n      <td>26</td>\n      <td>30</td>\n      <td>1</td>\n      <td>...</td>\n      <td>2</td>\n      <td>2</td>\n      <td>1</td>\n      <td>1</td>\n      <td>4</td>\n      <td>6</td>\n      <td>99</td>\n      <td>MÃ©xico</td>\n      <td>97</td>\n      <td>97</td>\n    </tr>\n    <tr>\n      <th>...</th>\n      <td>...</td>\n      <td>...</td>\n      <td>...</td>\n      <td>...</td>\n      <td>...</td>\n      <td>...</td>\n      <td>...</td>\n      <td>...</td>\n      <td>...</td>\n      <td>...</td>\n      <td>...</td>\n      <td>...</td>\n      <td>...</td>\n      <td>...</td>\n      <td>...</td>\n      <td>...</td>\n      <td>...</td>\n      <td>...</td>\n      <td>...</td>\n      <td>...</td>\n      <td>...</td>\n    </tr>\n    <tr>\n      <th>2183266</th>\n      <td>2020-10-18</td>\n      <td>2edfde</td>\n      <td>2</td>\n      <td>6</td>\n      <td>28</td>\n      <td>2</td>\n      <td>28</td>\n      <td>28</td>\n      <td>9</td>\n      <td>1</td>\n      <td>...</td>\n      <td>2</td>\n      <td>2</td>\n      <td>2</td>\n      <td>1</td>\n      <td>3</td>\n      <td>6</td>\n      <td>99</td>\n      <td>MÃ©xico</td>\n      <td>97</td>\n      <td>97</td>\n    </tr>\n    <tr>\n      <th>2183267</th>\n      <td>2020-10-18</td>\n      <td>332cf5</td>\n      <td>2</td>\n      <td>4</td>\n      <td>30</td>\n      <td>1</td>\n      <td>30</td>\n      <td>30</td>\n      <td>135</td>\n      <td>1</td>\n      <td>...</td>\n      <td>2</td>\n      <td>2</td>\n      <td>2</td>\n      <td>1</td>\n      <td>3</td>\n      <td>6</td>\n      <td>99</td>\n      <td>MÃ©xico</td>\n      <td>97</td>\n      <td>97</td>\n    </tr>\n    <tr>\n      <th>2183268</th>\n      <td>2020-10-18</td>\n      <td>42c51a</td>\n      <td>2</td>\n      <td>12</td>\n      <td>9</td>\n      <td>2</td>\n      <td>9</td>\n      <td>9</td>\n      <td>10</td>\n      <td>1</td>\n      <td>...</td>\n      <td>2</td>\n      <td>2</td>\n      <td>1</td>\n      <td>1</td>\n      <td>3</td>\n      <td>6</td>\n      <td>99</td>\n      <td>MÃ©xico</td>\n      <td>97</td>\n      <td>97</td>\n    </tr>\n    <tr>\n      <th>2183270</th>\n      <td>2020-10-18</td>\n      <td>372368</td>\n      <td>2</td>\n      <td>9</td>\n      <td>8</td>\n      <td>2</td>\n      <td>8</td>\n      <td>8</td>\n      <td>19</td>\n      <td>2</td>\n      <td>...</td>\n      <td>2</td>\n      <td>2</td>\n      <td>2</td>\n      <td>1</td>\n      <td>3</td>\n      <td>6</td>\n      <td>99</td>\n      <td>MÃ©xico</td>\n      <td>97</td>\n      <td>2</td>\n    </tr>\n    <tr>\n      <th>2183271</th>\n      <td>2020-10-18</td>\n      <td>427b3f</td>\n      <td>2</td>\n      <td>9</td>\n      <td>19</td>\n      <td>2</td>\n      <td>19</td>\n      <td>19</td>\n      <td>18</td>\n      <td>2</td>\n      <td>...</td>\n      <td>2</td>\n      <td>2</td>\n      <td>2</td>\n      <td>1</td>\n      <td>3</td>\n      <td>6</td>\n      <td>99</td>\n      <td>MÃ©xico</td>\n      <td>97</td>\n      <td>2</td>\n    </tr>\n  </tbody>\n</table>\n<p>88652 rows × 38 columns</p>\n</div>"
     },
     "metadata": {},
     "execution_count": 33
    }
   ],
   "source": [
    "sosp_sinpr=data[(data[\"CLASIFICACION_FINAL\"]==6)&(data[\"RESULTADO_LAB\"].isin([4))]\n",
    "sosp_sinpr"
   ]
  },
  {
   "cell_type": "code",
   "execution_count": 28,
   "metadata": {},
   "outputs": [
    {
     "output_type": "execute_result",
     "data": {
      "text/plain": [
       "        FECHA_ACTUALIZACION ID_REGISTRO  ORIGEN  SECTOR  ENTIDAD_UM  SEXO  \\\n",
       "2134604          2020-10-18      3611b6       2       4          15     2   \n",
       "2134605          2020-10-18      2ba8f7       2       4          11     2   \n",
       "2134606          2020-10-18      45a62c       2       4           9     1   \n",
       "2134607          2020-10-18      23f242       2       4           9     1   \n",
       "2134608          2020-10-18      28907e       2       4          15     1   \n",
       "...                     ...         ...     ...     ...         ...   ...   \n",
       "2183266          2020-10-18      2edfde       2       6          28     2   \n",
       "2183267          2020-10-18      332cf5       2       4          30     1   \n",
       "2183268          2020-10-18      42c51a       2      12           9     2   \n",
       "2183270          2020-10-18      372368       2       9           8     2   \n",
       "2183271          2020-10-18      427b3f       2       9          19     2   \n",
       "\n",
       "         ENTIDAD_NAC  ENTIDAD_RES  MUNICIPIO_RES  TIPO_PACIENTE  ...  \\\n",
       "2134604           15           15             50              1  ...   \n",
       "2134605           11           11              7              1  ...   \n",
       "2134606           14           15            104              1  ...   \n",
       "2134607            9            9             13              1  ...   \n",
       "2134608           15           15            120              1  ...   \n",
       "...              ...          ...            ...            ...  ...   \n",
       "2183266           28           28              9              1  ...   \n",
       "2183267           30           30            135              1  ...   \n",
       "2183268            9            9             10              1  ...   \n",
       "2183270            8            8             19              2  ...   \n",
       "2183271           19           19             18              2  ...   \n",
       "\n",
       "        RENAL_CRONICA TABAQUISMO OTRO_CASO  TOMA_MUESTRA  RESULTADO_LAB  \\\n",
       "2134604             2          2         2             1              3   \n",
       "2134605             2          2         2             1              3   \n",
       "2134606             2          2         2             1              3   \n",
       "2134607             2          2         1             1              3   \n",
       "2134608             2          2         1             1              3   \n",
       "...               ...        ...       ...           ...            ...   \n",
       "2183266             2          2         2             1              3   \n",
       "2183267             2          2         2             1              3   \n",
       "2183268             2          2         1             1              3   \n",
       "2183270             2          2         2             1              3   \n",
       "2183271             2          2         2             1              3   \n",
       "\n",
       "         CLASIFICACION_FINAL  MIGRANTE  PAIS_NACIONALIDAD  PAIS_ORIGEN  UCI  \n",
       "2134604                    6        99            MÃ©xico           97   97  \n",
       "2134605                    6        99            MÃ©xico           97   97  \n",
       "2134606                    6        99            MÃ©xico           97   97  \n",
       "2134607                    6        99            MÃ©xico           97   97  \n",
       "2134608                    6        99            MÃ©xico           97   97  \n",
       "...                      ...       ...                ...          ...  ...  \n",
       "2183266                    6        99            MÃ©xico           97   97  \n",
       "2183267                    6        99            MÃ©xico           97   97  \n",
       "2183268                    6        99            MÃ©xico           97   97  \n",
       "2183270                    6        99            MÃ©xico           97    2  \n",
       "2183271                    6        99            MÃ©xico           97    2  \n",
       "\n",
       "[37200 rows x 38 columns]"
      ],
      "text/html": "<div>\n<style scoped>\n    .dataframe tbody tr th:only-of-type {\n        vertical-align: middle;\n    }\n\n    .dataframe tbody tr th {\n        vertical-align: top;\n    }\n\n    .dataframe thead th {\n        text-align: right;\n    }\n</style>\n<table border=\"1\" class=\"dataframe\">\n  <thead>\n    <tr style=\"text-align: right;\">\n      <th></th>\n      <th>FECHA_ACTUALIZACION</th>\n      <th>ID_REGISTRO</th>\n      <th>ORIGEN</th>\n      <th>SECTOR</th>\n      <th>ENTIDAD_UM</th>\n      <th>SEXO</th>\n      <th>ENTIDAD_NAC</th>\n      <th>ENTIDAD_RES</th>\n      <th>MUNICIPIO_RES</th>\n      <th>TIPO_PACIENTE</th>\n      <th>...</th>\n      <th>RENAL_CRONICA</th>\n      <th>TABAQUISMO</th>\n      <th>OTRO_CASO</th>\n      <th>TOMA_MUESTRA</th>\n      <th>RESULTADO_LAB</th>\n      <th>CLASIFICACION_FINAL</th>\n      <th>MIGRANTE</th>\n      <th>PAIS_NACIONALIDAD</th>\n      <th>PAIS_ORIGEN</th>\n      <th>UCI</th>\n    </tr>\n  </thead>\n  <tbody>\n    <tr>\n      <th>2134604</th>\n      <td>2020-10-18</td>\n      <td>3611b6</td>\n      <td>2</td>\n      <td>4</td>\n      <td>15</td>\n      <td>2</td>\n      <td>15</td>\n      <td>15</td>\n      <td>50</td>\n      <td>1</td>\n      <td>...</td>\n      <td>2</td>\n      <td>2</td>\n      <td>2</td>\n      <td>1</td>\n      <td>3</td>\n      <td>6</td>\n      <td>99</td>\n      <td>MÃ©xico</td>\n      <td>97</td>\n      <td>97</td>\n    </tr>\n    <tr>\n      <th>2134605</th>\n      <td>2020-10-18</td>\n      <td>2ba8f7</td>\n      <td>2</td>\n      <td>4</td>\n      <td>11</td>\n      <td>2</td>\n      <td>11</td>\n      <td>11</td>\n      <td>7</td>\n      <td>1</td>\n      <td>...</td>\n      <td>2</td>\n      <td>2</td>\n      <td>2</td>\n      <td>1</td>\n      <td>3</td>\n      <td>6</td>\n      <td>99</td>\n      <td>MÃ©xico</td>\n      <td>97</td>\n      <td>97</td>\n    </tr>\n    <tr>\n      <th>2134606</th>\n      <td>2020-10-18</td>\n      <td>45a62c</td>\n      <td>2</td>\n      <td>4</td>\n      <td>9</td>\n      <td>1</td>\n      <td>14</td>\n      <td>15</td>\n      <td>104</td>\n      <td>1</td>\n      <td>...</td>\n      <td>2</td>\n      <td>2</td>\n      <td>2</td>\n      <td>1</td>\n      <td>3</td>\n      <td>6</td>\n      <td>99</td>\n      <td>MÃ©xico</td>\n      <td>97</td>\n      <td>97</td>\n    </tr>\n    <tr>\n      <th>2134607</th>\n      <td>2020-10-18</td>\n      <td>23f242</td>\n      <td>2</td>\n      <td>4</td>\n      <td>9</td>\n      <td>1</td>\n      <td>9</td>\n      <td>9</td>\n      <td>13</td>\n      <td>1</td>\n      <td>...</td>\n      <td>2</td>\n      <td>2</td>\n      <td>1</td>\n      <td>1</td>\n      <td>3</td>\n      <td>6</td>\n      <td>99</td>\n      <td>MÃ©xico</td>\n      <td>97</td>\n      <td>97</td>\n    </tr>\n    <tr>\n      <th>2134608</th>\n      <td>2020-10-18</td>\n      <td>28907e</td>\n      <td>2</td>\n      <td>4</td>\n      <td>15</td>\n      <td>1</td>\n      <td>15</td>\n      <td>15</td>\n      <td>120</td>\n      <td>1</td>\n      <td>...</td>\n      <td>2</td>\n      <td>2</td>\n      <td>1</td>\n      <td>1</td>\n      <td>3</td>\n      <td>6</td>\n      <td>99</td>\n      <td>MÃ©xico</td>\n      <td>97</td>\n      <td>97</td>\n    </tr>\n    <tr>\n      <th>...</th>\n      <td>...</td>\n      <td>...</td>\n      <td>...</td>\n      <td>...</td>\n      <td>...</td>\n      <td>...</td>\n      <td>...</td>\n      <td>...</td>\n      <td>...</td>\n      <td>...</td>\n      <td>...</td>\n      <td>...</td>\n      <td>...</td>\n      <td>...</td>\n      <td>...</td>\n      <td>...</td>\n      <td>...</td>\n      <td>...</td>\n      <td>...</td>\n      <td>...</td>\n      <td>...</td>\n    </tr>\n    <tr>\n      <th>2183266</th>\n      <td>2020-10-18</td>\n      <td>2edfde</td>\n      <td>2</td>\n      <td>6</td>\n      <td>28</td>\n      <td>2</td>\n      <td>28</td>\n      <td>28</td>\n      <td>9</td>\n      <td>1</td>\n      <td>...</td>\n      <td>2</td>\n      <td>2</td>\n      <td>2</td>\n      <td>1</td>\n      <td>3</td>\n      <td>6</td>\n      <td>99</td>\n      <td>MÃ©xico</td>\n      <td>97</td>\n      <td>97</td>\n    </tr>\n    <tr>\n      <th>2183267</th>\n      <td>2020-10-18</td>\n      <td>332cf5</td>\n      <td>2</td>\n      <td>4</td>\n      <td>30</td>\n      <td>1</td>\n      <td>30</td>\n      <td>30</td>\n      <td>135</td>\n      <td>1</td>\n      <td>...</td>\n      <td>2</td>\n      <td>2</td>\n      <td>2</td>\n      <td>1</td>\n      <td>3</td>\n      <td>6</td>\n      <td>99</td>\n      <td>MÃ©xico</td>\n      <td>97</td>\n      <td>97</td>\n    </tr>\n    <tr>\n      <th>2183268</th>\n      <td>2020-10-18</td>\n      <td>42c51a</td>\n      <td>2</td>\n      <td>12</td>\n      <td>9</td>\n      <td>2</td>\n      <td>9</td>\n      <td>9</td>\n      <td>10</td>\n      <td>1</td>\n      <td>...</td>\n      <td>2</td>\n      <td>2</td>\n      <td>1</td>\n      <td>1</td>\n      <td>3</td>\n      <td>6</td>\n      <td>99</td>\n      <td>MÃ©xico</td>\n      <td>97</td>\n      <td>97</td>\n    </tr>\n    <tr>\n      <th>2183270</th>\n      <td>2020-10-18</td>\n      <td>372368</td>\n      <td>2</td>\n      <td>9</td>\n      <td>8</td>\n      <td>2</td>\n      <td>8</td>\n      <td>8</td>\n      <td>19</td>\n      <td>2</td>\n      <td>...</td>\n      <td>2</td>\n      <td>2</td>\n      <td>2</td>\n      <td>1</td>\n      <td>3</td>\n      <td>6</td>\n      <td>99</td>\n      <td>MÃ©xico</td>\n      <td>97</td>\n      <td>2</td>\n    </tr>\n    <tr>\n      <th>2183271</th>\n      <td>2020-10-18</td>\n      <td>427b3f</td>\n      <td>2</td>\n      <td>9</td>\n      <td>19</td>\n      <td>2</td>\n      <td>19</td>\n      <td>19</td>\n      <td>18</td>\n      <td>2</td>\n      <td>...</td>\n      <td>2</td>\n      <td>2</td>\n      <td>2</td>\n      <td>1</td>\n      <td>3</td>\n      <td>6</td>\n      <td>99</td>\n      <td>MÃ©xico</td>\n      <td>97</td>\n      <td>2</td>\n    </tr>\n  </tbody>\n</table>\n<p>37200 rows × 38 columns</p>\n</div>"
     },
     "metadata": {},
     "execution_count": 28
    }
   ],
   "source": [
    "sosp_conpr=data[(data[\"CLASIFICACION_FINAL\"]==6)&(data[\"RESULTADO_LAB\"]==3)]\n",
    "sosp_conpr"
   ]
  },
  {
   "cell_type": "code",
   "execution_count": null,
   "metadata": {},
   "outputs": [],
   "source": []
  }
 ]
}