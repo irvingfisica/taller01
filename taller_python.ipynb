{
 "metadata": {
  "language_info": {
   "codemirror_mode": {
    "name": "ipython",
    "version": 3
   },
   "file_extension": ".py",
   "mimetype": "text/x-python",
   "name": "python",
   "nbconvert_exporter": "python",
   "pygments_lexer": "ipython3",
   "version": "3.8.3-final"
  },
  "orig_nbformat": 2,
  "kernelspec": {
   "name": "Python 3.8.3 64-bit ('base': conda)",
   "display_name": "Python 3.8.3 64-bit ('base': conda)",
   "metadata": {
    "interpreter": {
     "hash": "9ff26dfd9b0fc0cca3d8c400f6814bd976a81d0f03d9612ba05cf6591c88322d"
    }
   }
  }
 },
 "nbformat": 4,
 "nbformat_minor": 2,
 "cells": [
  {
   "source": [
    "# Taller de visualización de datos, \"Visualizando datos de COVID-19\"\n",
    "## Manejo y procesamiento de datos\n",
    "En esta sección del tutorial descragaremos los datos, los procesaremos, haremos algunas gráficas exploratorias y generaremos los insumos necesarios para visualizar nuestros datos en la web."
   ],
   "cell_type": "markdown",
   "metadata": {}
  },
  {
   "source": [
    "La celda que estas leyendo es una celda de texto, no es necesario que teclees todo esto en tu ejemplo. La siguiente celda es una celda de código. Para seguir el ejemplo tendras que ir tecleando cada una de ellas y ejecutandolas paso a paso. La manera más fácil de ejecutar una celda de Jupyter es después de teclearla presionar Shift+Enter, esto ejecutará el código en ella, te mosdtrará el resultado de la ejecución si es que hay algo que mostrar y te dará una celda nueva debajo de la celda actual. Probemos con la siguiente celda, escribe 2+2 y presiona Shift+Enter, la celda debería de darte el resultado de la suma y colocarte en una celda nueva."
   ],
   "cell_type": "markdown",
   "metadata": {}
  },
  {
   "cell_type": "code",
   "execution_count": 3,
   "metadata": {},
   "outputs": [
    {
     "output_type": "execute_result",
     "data": {
      "text/plain": [
       "4"
      ]
     },
     "metadata": {},
     "execution_count": 3
    }
   ],
   "source": [
    "2+2"
   ]
  },
  {
   "source": [
    "Si se ejecutó la celda y obtuviste el resultado todo está listo para continuar."
   ],
   "cell_type": "markdown",
   "metadata": {}
  },
  {
   "source": [
    "## Importando las librerías necesarias para realizar análisis de datos\n",
    "\n",
    "Lo primero que haremos es importar las librerías necesarias para hacer análisis de datos. Por lo pronto necesitaremos 2 librterías:\n",
    "\n",
    "* [Pandas](https://pandas.pydata.org/pandas-docs/stable/index.html)\n",
    "* [Bokeh](https://docs.bokeh.org/en/latest/index.html)\n",
    "\n",
    "Pandas lo usaremos para manipular de formas muy eficientes nuestra base de datos. \n",
    "\n",
    "Bokeh lo utilizaremos para graficar y realizar algunas visualizaciones de datos básicas con nuestros datos.\n",
    "\n",
    "Ambas las importaremos a nuestro notebook a traves del comando import y las guardaremos en aliases para que no tengamos que teclear tanto cuando las llamamos. Pandas la guardaremos en el alias \"pd\" y Bokeh lo guardaremos en el alias \"bpl\"\n"
   ],
   "cell_type": "markdown",
   "metadata": {}
  },
  {
   "cell_type": "code",
   "execution_count": 4,
   "metadata": {},
   "outputs": [],
   "source": [
    "import pandas as pd \n",
    "import bokeh.plotting as bpl"
   ]
  },
  {
   "source": [
    "## Descargando los datos\n",
    "\n",
    "En este tutorial trabajaremos con los datos mexicanos reportados por la secretaría de salud relacionados al COVID19. Los datos se publican diariamente y se pueden encontrar [aquí](https://www.gob.mx/salud/documentos/datos-abiertos-152127).\n",
    "\n",
    "En específico nos concentraremos en los datos actuales, que se encuentran en un enlace en esa página. \n",
    "\n",
    "Para poder trabajar con los datos en python necesitamos \"cargarlos\" a memoria. Pandas nos permite crear una estructura de datos con ellos. A esta estructura la llamamos DataFrame.\n",
    "\n",
    "Pandas nos permite crear DataFrames a partir de una gran cantidad de formatos de datos. Los más usuales son los formatos de texto separado por comas o \"CSVs\", texto en notación de objeto tipo JavaScript o \"JSON\", hojas de cálculo de excel. Además Pandas nos permite indicar la dirección de donde está guardado nuestro archivo a utilizar, puede ser una dirección local en tu computadora, por ejemplo una carpeta donde tengas guardados los datos o una dirección URL donde estén almacenados los datos en la web.\n",
    "\n",
    "Para este ejercicio descargaremos directamente los datos de la página de la secretaría de salud pública. Los datos que liberaron están en formato zip, dentro del archivo comprimido hay un archivo de tipo CSV que podemos usar para crear un DataFrame. Pandas nos permite crear un DataFrame en nuestro notebook directamente desde la URL donde están guardados los datos, sin descargarlos y descomprimirlos a nuestra computadora previamente.\n",
    "\n",
    "Teclea y ejecuta lo siguiente en tu notebook:"
   ],
   "cell_type": "markdown",
   "metadata": {}
  },
  {
   "cell_type": "code",
   "execution_count": 5,
   "metadata": {},
   "outputs": [],
   "source": [
    "data = pd.read_csv('http://datosabiertos.salud.gob.mx/gobmx/salud/datos_abiertos/datos_abiertos_covid19.zip', compression='zip',encoding=\"latin1\")"
   ]
  },
  {
   "source": [
    "Hay varias cosas importantes en la celda anterior:\n",
    "\n",
    "* Estamos ocupando la función read_csv de Pandas, por eso la invocamos como pd.read_csv() \n",
    "* El primer parámetro de la función es la ruta en la cual se encuentra nuestro archivo, en este caso es una dirección URL al archivo zip en la página de la secretaría de salud mexicana.\n",
    "* Estamos utilizando la opción \"compression\" para indicar que es un archivo tipo zip\n",
    "* Necesitamos indicar que la codificación del archivo es \"latin1\".\n",
    "* La función read_csv() crea un DataFrame listo para procesarse. Este DataFrame lo guardamos en la variable \"data\".\n",
    "\n",
    "Para poder visualizar nuestro DataFrame necesitamos ver el contenido de la variable data, nuestro DataFrame tiene la estructura de una tabla de datos, muy parecida a una hoja de cálculo. En la siguiente celda veremos que hay en esta variable"
   ],
   "cell_type": "markdown",
   "metadata": {}
  },
  {
   "cell_type": "code",
   "execution_count": 7,
   "metadata": {},
   "outputs": [
    {
     "output_type": "execute_result",
     "data": {
      "text/plain": [
       "        FECHA_ACTUALIZACION ID_REGISTRO  ORIGEN  SECTOR  ENTIDAD_UM  SEXO  \\\n",
       "0                2020-10-18      1426fb       1       4          10     1   \n",
       "1                2020-10-18      1c4583       2      12           9     2   \n",
       "2                2020-10-18      0d55c9       2      12           9     1   \n",
       "3                2020-10-18      071735       2       9          21     2   \n",
       "4                2020-10-18      1468a5       1       4           5     1   \n",
       "...                     ...         ...     ...     ...         ...   ...   \n",
       "2183267          2020-10-18      332cf5       2       4          30     1   \n",
       "2183268          2020-10-18      42c51a       2      12           9     2   \n",
       "2183269          2020-10-18      408ef1       2       6           9     2   \n",
       "2183270          2020-10-18      372368       2       9           8     2   \n",
       "2183271          2020-10-18      427b3f       2       9          19     2   \n",
       "\n",
       "         ENTIDAD_NAC  ENTIDAD_RES  MUNICIPIO_RES  TIPO_PACIENTE  ...  \\\n",
       "0                 28           10              7              1  ...   \n",
       "1                  9            9              4              1  ...   \n",
       "2                  9            9             16              1  ...   \n",
       "3                 21           21            114              1  ...   \n",
       "4                 15            5             18              1  ...   \n",
       "...              ...          ...            ...            ...  ...   \n",
       "2183267           30           30            135              1  ...   \n",
       "2183268            9            9             10              1  ...   \n",
       "2183269            9            9              5              1  ...   \n",
       "2183270            8            8             19              2  ...   \n",
       "2183271           19           19             18              2  ...   \n",
       "\n",
       "        RENAL_CRONICA TABAQUISMO OTRO_CASO  TOMA_MUESTRA  RESULTADO_LAB  \\\n",
       "0                   2          2        99             1              1   \n",
       "1                   2          2         2             1              1   \n",
       "2                   2          2         2             1              1   \n",
       "3                   2          2         2             1              1   \n",
       "4                   2          2         1             1              1   \n",
       "...               ...        ...       ...           ...            ...   \n",
       "2183267             2          2         2             1              3   \n",
       "2183268             2          2         1             1              3   \n",
       "2183269             2          2         1             2             97   \n",
       "2183270             2          2         2             1              3   \n",
       "2183271             2          2         2             1              3   \n",
       "\n",
       "         CLASIFICACION_FINAL  MIGRANTE  PAIS_NACIONALIDAD  PAIS_ORIGEN  UCI  \n",
       "0                          3        99            MÃ©xico           97   97  \n",
       "1                          3        99            MÃ©xico           97   97  \n",
       "2                          3        99            MÃ©xico           97   97  \n",
       "3                          3        99            MÃ©xico           97   97  \n",
       "4                          3        99            MÃ©xico           97   97  \n",
       "...                      ...       ...                ...          ...  ...  \n",
       "2183267                    6        99            MÃ©xico           97   97  \n",
       "2183268                    6        99            MÃ©xico           97   97  \n",
       "2183269                    1        99            MÃ©xico           97   97  \n",
       "2183270                    6        99            MÃ©xico           97    2  \n",
       "2183271                    6        99            MÃ©xico           97    2  \n",
       "\n",
       "[2183272 rows x 38 columns]"
      ],
      "text/html": "<div>\n<style scoped>\n    .dataframe tbody tr th:only-of-type {\n        vertical-align: middle;\n    }\n\n    .dataframe tbody tr th {\n        vertical-align: top;\n    }\n\n    .dataframe thead th {\n        text-align: right;\n    }\n</style>\n<table border=\"1\" class=\"dataframe\">\n  <thead>\n    <tr style=\"text-align: right;\">\n      <th></th>\n      <th>FECHA_ACTUALIZACION</th>\n      <th>ID_REGISTRO</th>\n      <th>ORIGEN</th>\n      <th>SECTOR</th>\n      <th>ENTIDAD_UM</th>\n      <th>SEXO</th>\n      <th>ENTIDAD_NAC</th>\n      <th>ENTIDAD_RES</th>\n      <th>MUNICIPIO_RES</th>\n      <th>TIPO_PACIENTE</th>\n      <th>...</th>\n      <th>RENAL_CRONICA</th>\n      <th>TABAQUISMO</th>\n      <th>OTRO_CASO</th>\n      <th>TOMA_MUESTRA</th>\n      <th>RESULTADO_LAB</th>\n      <th>CLASIFICACION_FINAL</th>\n      <th>MIGRANTE</th>\n      <th>PAIS_NACIONALIDAD</th>\n      <th>PAIS_ORIGEN</th>\n      <th>UCI</th>\n    </tr>\n  </thead>\n  <tbody>\n    <tr>\n      <th>0</th>\n      <td>2020-10-18</td>\n      <td>1426fb</td>\n      <td>1</td>\n      <td>4</td>\n      <td>10</td>\n      <td>1</td>\n      <td>28</td>\n      <td>10</td>\n      <td>7</td>\n      <td>1</td>\n      <td>...</td>\n      <td>2</td>\n      <td>2</td>\n      <td>99</td>\n      <td>1</td>\n      <td>1</td>\n      <td>3</td>\n      <td>99</td>\n      <td>MÃ©xico</td>\n      <td>97</td>\n      <td>97</td>\n    </tr>\n    <tr>\n      <th>1</th>\n      <td>2020-10-18</td>\n      <td>1c4583</td>\n      <td>2</td>\n      <td>12</td>\n      <td>9</td>\n      <td>2</td>\n      <td>9</td>\n      <td>9</td>\n      <td>4</td>\n      <td>1</td>\n      <td>...</td>\n      <td>2</td>\n      <td>2</td>\n      <td>2</td>\n      <td>1</td>\n      <td>1</td>\n      <td>3</td>\n      <td>99</td>\n      <td>MÃ©xico</td>\n      <td>97</td>\n      <td>97</td>\n    </tr>\n    <tr>\n      <th>2</th>\n      <td>2020-10-18</td>\n      <td>0d55c9</td>\n      <td>2</td>\n      <td>12</td>\n      <td>9</td>\n      <td>1</td>\n      <td>9</td>\n      <td>9</td>\n      <td>16</td>\n      <td>1</td>\n      <td>...</td>\n      <td>2</td>\n      <td>2</td>\n      <td>2</td>\n      <td>1</td>\n      <td>1</td>\n      <td>3</td>\n      <td>99</td>\n      <td>MÃ©xico</td>\n      <td>97</td>\n      <td>97</td>\n    </tr>\n    <tr>\n      <th>3</th>\n      <td>2020-10-18</td>\n      <td>071735</td>\n      <td>2</td>\n      <td>9</td>\n      <td>21</td>\n      <td>2</td>\n      <td>21</td>\n      <td>21</td>\n      <td>114</td>\n      <td>1</td>\n      <td>...</td>\n      <td>2</td>\n      <td>2</td>\n      <td>2</td>\n      <td>1</td>\n      <td>1</td>\n      <td>3</td>\n      <td>99</td>\n      <td>MÃ©xico</td>\n      <td>97</td>\n      <td>97</td>\n    </tr>\n    <tr>\n      <th>4</th>\n      <td>2020-10-18</td>\n      <td>1468a5</td>\n      <td>1</td>\n      <td>4</td>\n      <td>5</td>\n      <td>1</td>\n      <td>15</td>\n      <td>5</td>\n      <td>18</td>\n      <td>1</td>\n      <td>...</td>\n      <td>2</td>\n      <td>2</td>\n      <td>1</td>\n      <td>1</td>\n      <td>1</td>\n      <td>3</td>\n      <td>99</td>\n      <td>MÃ©xico</td>\n      <td>97</td>\n      <td>97</td>\n    </tr>\n    <tr>\n      <th>...</th>\n      <td>...</td>\n      <td>...</td>\n      <td>...</td>\n      <td>...</td>\n      <td>...</td>\n      <td>...</td>\n      <td>...</td>\n      <td>...</td>\n      <td>...</td>\n      <td>...</td>\n      <td>...</td>\n      <td>...</td>\n      <td>...</td>\n      <td>...</td>\n      <td>...</td>\n      <td>...</td>\n      <td>...</td>\n      <td>...</td>\n      <td>...</td>\n      <td>...</td>\n      <td>...</td>\n    </tr>\n    <tr>\n      <th>2183267</th>\n      <td>2020-10-18</td>\n      <td>332cf5</td>\n      <td>2</td>\n      <td>4</td>\n      <td>30</td>\n      <td>1</td>\n      <td>30</td>\n      <td>30</td>\n      <td>135</td>\n      <td>1</td>\n      <td>...</td>\n      <td>2</td>\n      <td>2</td>\n      <td>2</td>\n      <td>1</td>\n      <td>3</td>\n      <td>6</td>\n      <td>99</td>\n      <td>MÃ©xico</td>\n      <td>97</td>\n      <td>97</td>\n    </tr>\n    <tr>\n      <th>2183268</th>\n      <td>2020-10-18</td>\n      <td>42c51a</td>\n      <td>2</td>\n      <td>12</td>\n      <td>9</td>\n      <td>2</td>\n      <td>9</td>\n      <td>9</td>\n      <td>10</td>\n      <td>1</td>\n      <td>...</td>\n      <td>2</td>\n      <td>2</td>\n      <td>1</td>\n      <td>1</td>\n      <td>3</td>\n      <td>6</td>\n      <td>99</td>\n      <td>MÃ©xico</td>\n      <td>97</td>\n      <td>97</td>\n    </tr>\n    <tr>\n      <th>2183269</th>\n      <td>2020-10-18</td>\n      <td>408ef1</td>\n      <td>2</td>\n      <td>6</td>\n      <td>9</td>\n      <td>2</td>\n      <td>9</td>\n      <td>9</td>\n      <td>5</td>\n      <td>1</td>\n      <td>...</td>\n      <td>2</td>\n      <td>2</td>\n      <td>1</td>\n      <td>2</td>\n      <td>97</td>\n      <td>1</td>\n      <td>99</td>\n      <td>MÃ©xico</td>\n      <td>97</td>\n      <td>97</td>\n    </tr>\n    <tr>\n      <th>2183270</th>\n      <td>2020-10-18</td>\n      <td>372368</td>\n      <td>2</td>\n      <td>9</td>\n      <td>8</td>\n      <td>2</td>\n      <td>8</td>\n      <td>8</td>\n      <td>19</td>\n      <td>2</td>\n      <td>...</td>\n      <td>2</td>\n      <td>2</td>\n      <td>2</td>\n      <td>1</td>\n      <td>3</td>\n      <td>6</td>\n      <td>99</td>\n      <td>MÃ©xico</td>\n      <td>97</td>\n      <td>2</td>\n    </tr>\n    <tr>\n      <th>2183271</th>\n      <td>2020-10-18</td>\n      <td>427b3f</td>\n      <td>2</td>\n      <td>9</td>\n      <td>19</td>\n      <td>2</td>\n      <td>19</td>\n      <td>19</td>\n      <td>18</td>\n      <td>2</td>\n      <td>...</td>\n      <td>2</td>\n      <td>2</td>\n      <td>2</td>\n      <td>1</td>\n      <td>3</td>\n      <td>6</td>\n      <td>99</td>\n      <td>MÃ©xico</td>\n      <td>97</td>\n      <td>2</td>\n    </tr>\n  </tbody>\n</table>\n<p>2183272 rows × 38 columns</p>\n</div>"
     },
     "metadata": {},
     "execution_count": 7
    }
   ],
   "source": [
    "data"
   ]
  },
  {
   "source": [
    "Podemos observar que la estructura es muy similar a una hoja de cálculo. Cada dato está identificado por una columna en la parte posterior y un índice en la parte izquierda. Cada fila representa un caso en la base de datos, cada columna una variable con datos para cada caso. En la parte inferior podemos observar que nuestro DataFrame tiene 2,183,272 filas (este número puede variar dependiendo de cuando descargas el archivo pues diariamente este archivo crece debido a los casos que se agregan) y 38 columnas."
   ],
   "cell_type": "markdown",
   "metadata": {}
  },
  {
   "source": [
    "## Explorando un DataFrame"
   ],
   "cell_type": "markdown",
   "metadata": {}
  },
  {
   "source": [
    "El primer paso para explorar una base de datos es conocer las variables que se encuentran en ella. En este caso podemos pedirle al DataFrame que nos muestre las columnas que contiene. El nombre de las columnas están guardadas en la propiedad \"columns\""
   ],
   "cell_type": "markdown",
   "metadata": {}
  },
  {
   "cell_type": "code",
   "execution_count": 36,
   "metadata": {},
   "outputs": [
    {
     "output_type": "execute_result",
     "data": {
      "text/plain": [
       "Index(['FECHA_ACTUALIZACION', 'ID_REGISTRO', 'ORIGEN', 'SECTOR', 'ENTIDAD_UM',\n",
       "       'SEXO', 'ENTIDAD_NAC', 'ENTIDAD_RES', 'MUNICIPIO_RES', 'TIPO_PACIENTE',\n",
       "       'FECHA_INGRESO', 'FECHA_SINTOMAS', 'FECHA_DEF', 'INTUBADO', 'NEUMONIA',\n",
       "       'EDAD', 'NACIONALIDAD', 'EMBARAZO', 'HABLA_LENGUA_INDIG', 'INDIGENA',\n",
       "       'DIABETES', 'EPOC', 'ASMA', 'INMUSUPR', 'HIPERTENSION', 'OTRA_COM',\n",
       "       'CARDIOVASCULAR', 'OBESIDAD', 'RENAL_CRONICA', 'TABAQUISMO',\n",
       "       'OTRO_CASO', 'TOMA_MUESTRA', 'RESULTADO_LAB', 'CLASIFICACION_FINAL',\n",
       "       'MIGRANTE', 'PAIS_NACIONALIDAD', 'PAIS_ORIGEN', 'UCI'],\n",
       "      dtype='object')"
      ]
     },
     "metadata": {},
     "execution_count": 36
    }
   ],
   "source": [
    "data.columns"
   ]
  },
  {
   "source": [
    "Existen varias maneras para poder extraer pedazos o rebanadas del DataFrame. Por ejemplo podemos pedir una rebanada que contenga solamente la columna \"FECHA_ACTUALIZACION\". Para esto utilizaremos la notación de corchete, escribimos el nombre de la variable donde tenemos guardado nuestro DataFrame y luego entre corchetes la columna que nos interesa. La estructura resultante no es un DataFrame, es una Serie (similar a un DataFrame de una columna)."
   ],
   "cell_type": "markdown",
   "metadata": {}
  },
  {
   "cell_type": "code",
   "execution_count": 44,
   "metadata": {},
   "outputs": [
    {
     "output_type": "execute_result",
     "data": {
      "text/plain": [
       "0          2020-10-18\n",
       "1          2020-10-18\n",
       "2          2020-10-18\n",
       "3          2020-10-18\n",
       "4          2020-10-18\n",
       "              ...    \n",
       "2183267    2020-10-18\n",
       "2183268    2020-10-18\n",
       "2183269    2020-10-18\n",
       "2183270    2020-10-18\n",
       "2183271    2020-10-18\n",
       "Name: FECHA_ACTUALIZACION, Length: 2183272, dtype: object"
      ]
     },
     "metadata": {},
     "execution_count": 44
    }
   ],
   "source": [
    "data[\"FECHA_ACTUALIZACION\"]"
   ]
  },
  {
   "source": [
    "Tambien podemos pedir un conjunto de columnas, para ello utilizamos la misma notación pero con una lista de las columnas que deseamos, por ejemplo pidamos las columnas relacionadas con fechas:"
   ],
   "cell_type": "markdown",
   "metadata": {}
  },
  {
   "cell_type": "code",
   "execution_count": 49,
   "metadata": {},
   "outputs": [
    {
     "output_type": "execute_result",
     "data": {
      "text/plain": [
       "        FECHA_ACTUALIZACION FECHA_INGRESO FECHA_SINTOMAS   FECHA_DEF\n",
       "0                2020-10-18    2020-03-31     2020-03-29  9999-99-99\n",
       "1                2020-10-18    2020-03-30     2020-03-30  9999-99-99\n",
       "2                2020-10-18    2020-03-26     2020-03-24  9999-99-99\n",
       "3                2020-10-18    2020-03-18     2020-03-12  9999-99-99\n",
       "4                2020-10-18    2020-04-02     2020-03-27  9999-99-99\n",
       "...                     ...           ...            ...         ...\n",
       "2183267          2020-10-18    2020-10-14     2020-10-11  9999-99-99\n",
       "2183268          2020-10-18    2020-10-09     2020-10-07  9999-99-99\n",
       "2183269          2020-10-18    2020-10-09     2020-10-02  9999-99-99\n",
       "2183270          2020-10-18    2020-10-15     2020-10-05  9999-99-99\n",
       "2183271          2020-10-18    2020-10-15     2020-10-10  9999-99-99\n",
       "\n",
       "[2183272 rows x 4 columns]"
      ],
      "text/html": "<div>\n<style scoped>\n    .dataframe tbody tr th:only-of-type {\n        vertical-align: middle;\n    }\n\n    .dataframe tbody tr th {\n        vertical-align: top;\n    }\n\n    .dataframe thead th {\n        text-align: right;\n    }\n</style>\n<table border=\"1\" class=\"dataframe\">\n  <thead>\n    <tr style=\"text-align: right;\">\n      <th></th>\n      <th>FECHA_ACTUALIZACION</th>\n      <th>FECHA_INGRESO</th>\n      <th>FECHA_SINTOMAS</th>\n      <th>FECHA_DEF</th>\n    </tr>\n  </thead>\n  <tbody>\n    <tr>\n      <th>0</th>\n      <td>2020-10-18</td>\n      <td>2020-03-31</td>\n      <td>2020-03-29</td>\n      <td>9999-99-99</td>\n    </tr>\n    <tr>\n      <th>1</th>\n      <td>2020-10-18</td>\n      <td>2020-03-30</td>\n      <td>2020-03-30</td>\n      <td>9999-99-99</td>\n    </tr>\n    <tr>\n      <th>2</th>\n      <td>2020-10-18</td>\n      <td>2020-03-26</td>\n      <td>2020-03-24</td>\n      <td>9999-99-99</td>\n    </tr>\n    <tr>\n      <th>3</th>\n      <td>2020-10-18</td>\n      <td>2020-03-18</td>\n      <td>2020-03-12</td>\n      <td>9999-99-99</td>\n    </tr>\n    <tr>\n      <th>4</th>\n      <td>2020-10-18</td>\n      <td>2020-04-02</td>\n      <td>2020-03-27</td>\n      <td>9999-99-99</td>\n    </tr>\n    <tr>\n      <th>...</th>\n      <td>...</td>\n      <td>...</td>\n      <td>...</td>\n      <td>...</td>\n    </tr>\n    <tr>\n      <th>2183267</th>\n      <td>2020-10-18</td>\n      <td>2020-10-14</td>\n      <td>2020-10-11</td>\n      <td>9999-99-99</td>\n    </tr>\n    <tr>\n      <th>2183268</th>\n      <td>2020-10-18</td>\n      <td>2020-10-09</td>\n      <td>2020-10-07</td>\n      <td>9999-99-99</td>\n    </tr>\n    <tr>\n      <th>2183269</th>\n      <td>2020-10-18</td>\n      <td>2020-10-09</td>\n      <td>2020-10-02</td>\n      <td>9999-99-99</td>\n    </tr>\n    <tr>\n      <th>2183270</th>\n      <td>2020-10-18</td>\n      <td>2020-10-15</td>\n      <td>2020-10-05</td>\n      <td>9999-99-99</td>\n    </tr>\n    <tr>\n      <th>2183271</th>\n      <td>2020-10-18</td>\n      <td>2020-10-15</td>\n      <td>2020-10-10</td>\n      <td>9999-99-99</td>\n    </tr>\n  </tbody>\n</table>\n<p>2183272 rows × 4 columns</p>\n</div>"
     },
     "metadata": {},
     "execution_count": 49
    }
   ],
   "source": [
    "data[[\"FECHA_ACTUALIZACION\",\"FECHA_INGRESO\",\"FECHA_SINTOMAS\",\"FECHA_DEF\"]]"
   ]
  },
  {
   "source": [
    "La estructura de datos obtenida es un DataFrame con todas las filas de nuestro DataFrame original pero con solo 4 columnas."
   ],
   "cell_type": "markdown",
   "metadata": {}
  },
  {
   "source": [
    "También podemos pedir filas en específico, para distinguir entre columnas y filas siempre que necesitemos filas utilizaremos la propiedad \"loc\". Su uso es muy similar, por ejemplo, si quisera la fila 10 únicamente puedo hacerlo de la siguiente manera:"
   ],
   "cell_type": "markdown",
   "metadata": {}
  },
  {
   "cell_type": "code",
   "execution_count": 50,
   "metadata": {},
   "outputs": [
    {
     "output_type": "execute_result",
     "data": {
      "text/plain": [
       "FECHA_ACTUALIZACION    2020-10-18\n",
       "ID_REGISTRO                092521\n",
       "ORIGEN                          1\n",
       "SECTOR                         12\n",
       "ENTIDAD_UM                      9\n",
       "SEXO                            1\n",
       "ENTIDAD_NAC                     9\n",
       "ENTIDAD_RES                     9\n",
       "MUNICIPIO_RES                  17\n",
       "TIPO_PACIENTE                   1\n",
       "FECHA_INGRESO          2020-03-30\n",
       "FECHA_SINTOMAS         2020-03-28\n",
       "FECHA_DEF              9999-99-99\n",
       "INTUBADO                       97\n",
       "NEUMONIA                        2\n",
       "EDAD                           49\n",
       "NACIONALIDAD                    1\n",
       "EMBARAZO                        2\n",
       "HABLA_LENGUA_INDIG              2\n",
       "INDIGENA                        2\n",
       "DIABETES                        2\n",
       "EPOC                            2\n",
       "ASMA                            2\n",
       "INMUSUPR                        2\n",
       "HIPERTENSION                    2\n",
       "OTRA_COM                        2\n",
       "CARDIOVASCULAR                  2\n",
       "OBESIDAD                        2\n",
       "RENAL_CRONICA                   2\n",
       "TABAQUISMO                      2\n",
       "OTRO_CASO                       2\n",
       "TOMA_MUESTRA                    1\n",
       "RESULTADO_LAB                   1\n",
       "CLASIFICACION_FINAL             3\n",
       "MIGRANTE                       99\n",
       "PAIS_NACIONALIDAD         MÃ©xico\n",
       "PAIS_ORIGEN                    97\n",
       "UCI                            97\n",
       "Name: 10, dtype: object"
      ]
     },
     "metadata": {},
     "execution_count": 50
    }
   ],
   "source": [
    "data.loc[10]"
   ]
  },
  {
   "source": [
    "También podemos pedir varias filas, por ejemplo hagamos un DataFrame con las filas 1,3 y 6:"
   ],
   "cell_type": "markdown",
   "metadata": {}
  },
  {
   "cell_type": "code",
   "execution_count": 54,
   "metadata": {},
   "outputs": [
    {
     "output_type": "execute_result",
     "data": {
      "text/plain": [
       "  FECHA_ACTUALIZACION ID_REGISTRO  ORIGEN  SECTOR  ENTIDAD_UM  SEXO  \\\n",
       "1          2020-10-18      1c4583       2      12           9     2   \n",
       "3          2020-10-18      071735       2       9          21     2   \n",
       "6          2020-10-18      0e07d8       1       4          15     2   \n",
       "\n",
       "   ENTIDAD_NAC  ENTIDAD_RES  MUNICIPIO_RES  TIPO_PACIENTE  ... RENAL_CRONICA  \\\n",
       "1            9            9              4              1  ...             2   \n",
       "3           21           21            114              1  ...             2   \n",
       "6           15           15            104              2  ...             2   \n",
       "\n",
       "  TABAQUISMO OTRO_CASO  TOMA_MUESTRA  RESULTADO_LAB  CLASIFICACION_FINAL  \\\n",
       "1          2         2             1              1                    3   \n",
       "3          2         2             1              1                    3   \n",
       "6          2        99             1              1                    3   \n",
       "\n",
       "   MIGRANTE  PAIS_NACIONALIDAD  PAIS_ORIGEN  UCI  \n",
       "1        99            MÃ©xico           97   97  \n",
       "3        99            MÃ©xico           97   97  \n",
       "6        99            MÃ©xico           97    2  \n",
       "\n",
       "[3 rows x 38 columns]"
      ],
      "text/html": "<div>\n<style scoped>\n    .dataframe tbody tr th:only-of-type {\n        vertical-align: middle;\n    }\n\n    .dataframe tbody tr th {\n        vertical-align: top;\n    }\n\n    .dataframe thead th {\n        text-align: right;\n    }\n</style>\n<table border=\"1\" class=\"dataframe\">\n  <thead>\n    <tr style=\"text-align: right;\">\n      <th></th>\n      <th>FECHA_ACTUALIZACION</th>\n      <th>ID_REGISTRO</th>\n      <th>ORIGEN</th>\n      <th>SECTOR</th>\n      <th>ENTIDAD_UM</th>\n      <th>SEXO</th>\n      <th>ENTIDAD_NAC</th>\n      <th>ENTIDAD_RES</th>\n      <th>MUNICIPIO_RES</th>\n      <th>TIPO_PACIENTE</th>\n      <th>...</th>\n      <th>RENAL_CRONICA</th>\n      <th>TABAQUISMO</th>\n      <th>OTRO_CASO</th>\n      <th>TOMA_MUESTRA</th>\n      <th>RESULTADO_LAB</th>\n      <th>CLASIFICACION_FINAL</th>\n      <th>MIGRANTE</th>\n      <th>PAIS_NACIONALIDAD</th>\n      <th>PAIS_ORIGEN</th>\n      <th>UCI</th>\n    </tr>\n  </thead>\n  <tbody>\n    <tr>\n      <th>1</th>\n      <td>2020-10-18</td>\n      <td>1c4583</td>\n      <td>2</td>\n      <td>12</td>\n      <td>9</td>\n      <td>2</td>\n      <td>9</td>\n      <td>9</td>\n      <td>4</td>\n      <td>1</td>\n      <td>...</td>\n      <td>2</td>\n      <td>2</td>\n      <td>2</td>\n      <td>1</td>\n      <td>1</td>\n      <td>3</td>\n      <td>99</td>\n      <td>MÃ©xico</td>\n      <td>97</td>\n      <td>97</td>\n    </tr>\n    <tr>\n      <th>3</th>\n      <td>2020-10-18</td>\n      <td>071735</td>\n      <td>2</td>\n      <td>9</td>\n      <td>21</td>\n      <td>2</td>\n      <td>21</td>\n      <td>21</td>\n      <td>114</td>\n      <td>1</td>\n      <td>...</td>\n      <td>2</td>\n      <td>2</td>\n      <td>2</td>\n      <td>1</td>\n      <td>1</td>\n      <td>3</td>\n      <td>99</td>\n      <td>MÃ©xico</td>\n      <td>97</td>\n      <td>97</td>\n    </tr>\n    <tr>\n      <th>6</th>\n      <td>2020-10-18</td>\n      <td>0e07d8</td>\n      <td>1</td>\n      <td>4</td>\n      <td>15</td>\n      <td>2</td>\n      <td>15</td>\n      <td>15</td>\n      <td>104</td>\n      <td>2</td>\n      <td>...</td>\n      <td>2</td>\n      <td>2</td>\n      <td>99</td>\n      <td>1</td>\n      <td>1</td>\n      <td>3</td>\n      <td>99</td>\n      <td>MÃ©xico</td>\n      <td>97</td>\n      <td>2</td>\n    </tr>\n  </tbody>\n</table>\n<p>3 rows × 38 columns</p>\n</div>"
     },
     "metadata": {},
     "execution_count": 54
    }
   ],
   "source": [
    "data.loc[[1,3,6]]"
   ]
  },
  {
   "source": [
    "La notación loc nos permite combinar y pedir solamente un número determinado de filas y un número determinado de columnas. Solamente tenemos que recordar que primero van las filas y luego las columnas, por ejemplo si quisieramos un mini DataFrame conformado por las filas 1,3,6 y las columnas relacionadas con fechas haríamos lo siguiente:"
   ],
   "cell_type": "markdown",
   "metadata": {}
  },
  {
   "cell_type": "code",
   "execution_count": 57,
   "metadata": {},
   "outputs": [
    {
     "output_type": "execute_result",
     "data": {
      "text/plain": [
       "  FECHA_ACTUALIZACION FECHA_INGRESO FECHA_SINTOMAS   FECHA_DEF\n",
       "1          2020-10-18    2020-03-30     2020-03-30  9999-99-99\n",
       "3          2020-10-18    2020-03-18     2020-03-12  9999-99-99\n",
       "6          2020-10-18    2020-03-28     2020-03-28  2020-04-02"
      ],
      "text/html": "<div>\n<style scoped>\n    .dataframe tbody tr th:only-of-type {\n        vertical-align: middle;\n    }\n\n    .dataframe tbody tr th {\n        vertical-align: top;\n    }\n\n    .dataframe thead th {\n        text-align: right;\n    }\n</style>\n<table border=\"1\" class=\"dataframe\">\n  <thead>\n    <tr style=\"text-align: right;\">\n      <th></th>\n      <th>FECHA_ACTUALIZACION</th>\n      <th>FECHA_INGRESO</th>\n      <th>FECHA_SINTOMAS</th>\n      <th>FECHA_DEF</th>\n    </tr>\n  </thead>\n  <tbody>\n    <tr>\n      <th>1</th>\n      <td>2020-10-18</td>\n      <td>2020-03-30</td>\n      <td>2020-03-30</td>\n      <td>9999-99-99</td>\n    </tr>\n    <tr>\n      <th>3</th>\n      <td>2020-10-18</td>\n      <td>2020-03-18</td>\n      <td>2020-03-12</td>\n      <td>9999-99-99</td>\n    </tr>\n    <tr>\n      <th>6</th>\n      <td>2020-10-18</td>\n      <td>2020-03-28</td>\n      <td>2020-03-28</td>\n      <td>2020-04-02</td>\n    </tr>\n  </tbody>\n</table>\n</div>"
     },
     "metadata": {},
     "execution_count": 57
    }
   ],
   "source": [
    "data.loc[[1,3,6],[\"FECHA_ACTUALIZACION\",\"FECHA_INGRESO\",\"FECHA_SINTOMAS\",\"FECHA_DEF\"]]"
   ]
  },
  {
   "source": [
    "Una última cosa que tenemos que saber acerca de la notación loc es que nos permite usar rangos. La notación de rangos nos permite pedir filas o columnas empezando en una y terminando en otra incluyendo todas las que estén en medio. El inicio y el final del rango se separan con el símbolo de 2 puntos. Por ejemplo, para pedir las filas 10 a 20 y columnas entre \"ENTIDAD_NAC\" y \"TIPO_PACIENTE\" usamos la siguiente instrucción:"
   ],
   "cell_type": "markdown",
   "metadata": {}
  },
  {
   "cell_type": "code",
   "execution_count": 59,
   "metadata": {},
   "outputs": [
    {
     "output_type": "execute_result",
     "data": {
      "text/plain": [
       "    ENTIDAD_NAC  ENTIDAD_RES  MUNICIPIO_RES  TIPO_PACIENTE\n",
       "10            9            9             17              1\n",
       "11           14            6             10              1\n",
       "12            9           14             67              2\n",
       "13           23           23              5              1\n",
       "14           17            9             12              1\n",
       "15           14           14            120              1\n",
       "16           11           11             20              1\n",
       "17            9            9             10              1\n",
       "18           11           11              7              1\n",
       "19           26           26             55              2\n",
       "20           21           21             85              2"
      ],
      "text/html": "<div>\n<style scoped>\n    .dataframe tbody tr th:only-of-type {\n        vertical-align: middle;\n    }\n\n    .dataframe tbody tr th {\n        vertical-align: top;\n    }\n\n    .dataframe thead th {\n        text-align: right;\n    }\n</style>\n<table border=\"1\" class=\"dataframe\">\n  <thead>\n    <tr style=\"text-align: right;\">\n      <th></th>\n      <th>ENTIDAD_NAC</th>\n      <th>ENTIDAD_RES</th>\n      <th>MUNICIPIO_RES</th>\n      <th>TIPO_PACIENTE</th>\n    </tr>\n  </thead>\n  <tbody>\n    <tr>\n      <th>10</th>\n      <td>9</td>\n      <td>9</td>\n      <td>17</td>\n      <td>1</td>\n    </tr>\n    <tr>\n      <th>11</th>\n      <td>14</td>\n      <td>6</td>\n      <td>10</td>\n      <td>1</td>\n    </tr>\n    <tr>\n      <th>12</th>\n      <td>9</td>\n      <td>14</td>\n      <td>67</td>\n      <td>2</td>\n    </tr>\n    <tr>\n      <th>13</th>\n      <td>23</td>\n      <td>23</td>\n      <td>5</td>\n      <td>1</td>\n    </tr>\n    <tr>\n      <th>14</th>\n      <td>17</td>\n      <td>9</td>\n      <td>12</td>\n      <td>1</td>\n    </tr>\n    <tr>\n      <th>15</th>\n      <td>14</td>\n      <td>14</td>\n      <td>120</td>\n      <td>1</td>\n    </tr>\n    <tr>\n      <th>16</th>\n      <td>11</td>\n      <td>11</td>\n      <td>20</td>\n      <td>1</td>\n    </tr>\n    <tr>\n      <th>17</th>\n      <td>9</td>\n      <td>9</td>\n      <td>10</td>\n      <td>1</td>\n    </tr>\n    <tr>\n      <th>18</th>\n      <td>11</td>\n      <td>11</td>\n      <td>7</td>\n      <td>1</td>\n    </tr>\n    <tr>\n      <th>19</th>\n      <td>26</td>\n      <td>26</td>\n      <td>55</td>\n      <td>2</td>\n    </tr>\n    <tr>\n      <th>20</th>\n      <td>21</td>\n      <td>21</td>\n      <td>85</td>\n      <td>2</td>\n    </tr>\n  </tbody>\n</table>\n</div>"
     },
     "metadata": {},
     "execution_count": 59
    }
   ],
   "source": [
    "data.loc[10:20,\"ENTIDAD_NAC\":\"TIPO_PACIENTE\"]"
   ]
  },
  {
   "source": [
    "## Los datos principales\n",
    "\n",
    "En el DataFrame hay variables muy interesantes, hay mucho material para hacer visualizaciones! Por el momento nos enfocaremos en los datos básicos reportados en las conferencias diarias de la secretaría de salud. La secretaría de Salud en su conferencia nocturna muestra la siguiente imagen:\n",
    "\n",
    "![Resultados covid](./imagenes/img2.png)\n",
    "\n",
    "En ella se muestran algunos datos que son importantes, principalmente el número de casos confirmados, el número de casos sospechosos, el número de casos negativos y el número de defunciones hasta la fecha. Los sospechosos los dividen en sospechosos sin muestra, sospechosos sin posibilidad de resultado y sopechosos con posibilidad de resultado."
   ],
   "cell_type": "markdown",
   "metadata": {}
  },
  {
   "source": [
    "## Obteniendo las datos principales"
   ],
   "cell_type": "markdown",
   "metadata": {}
  },
  {
   "source": [
    "Si analilzamos el diccionario de datos proporcionado por la Secretaría de Salud que se encuentra en este [enlace](http://datosabiertos.salud.gob.mx/gobmx/salud/datos_abiertos/diccionario_datos_covid19.zip) podemos observar que la variable \"CLASIFICACION_FINAL\" nos permite clasificar los casos de acuerdo a su calidad de confirmados, sospechosos o negativos. Para explorar los valores de una columna podemos utilizar la función value_counts(). Seleccionamos la columna de interes, en este caso \"CLASIFICACION_FINAL\" y ehecutamos la función value_counts()"
   ],
   "cell_type": "markdown",
   "metadata": {}
  },
  {
   "cell_type": "code",
   "execution_count": 61,
   "metadata": {},
   "outputs": [
    {
     "output_type": "execute_result",
     "data": {
      "text/plain": [
       "7    1019821\n",
       "3     826576\n",
       "6     265492\n",
       "5      40954\n",
       "1      24032\n",
       "4       5778\n",
       "2        619\n",
       "Name: CLASIFICACION_FINAL, dtype: int64"
      ]
     },
     "metadata": {},
     "execution_count": 61
    }
   ],
   "source": [
    "data[\"CLASIFICACION_FINAL\"].value_counts()"
   ]
  },
  {
   "source": [
    "Esta instrucción nos permite saber cuantos registros existen en la columna para cada uno de los valores que aparecen en ella, así podemos ver que en la columna ocurren valores del 1 al 7, los cuales se concuerdan con los valores de esa variable de acuerdo al diccionario de datos proporcionado. Además podemos ver cuantas veces aparece en la base de datos cada valor, así el valor 7 correspondiente en el diccionario a los casos \"Negativos a SARS-COV-2\" es el que aparece más veces en la base de datos. Aparece 1,019,821 veces lo cual quiere decir que la base de datos contiene ese número de casos negativos. Si comparamos con la imágen vemos que se corresponde el valor de nuestra base de datos y lo reportado por la Secretaría de Salud en su conferencia. (La imágen corresponde a los datos descargados el 18 de octubre de 2020, si estás repitiendo este ejercicio otro día el número será diferente, compáralo con lo reportado en la conferencia de ese día. Acá encuentras todas las [conferencias](https://www.youtube.com/channel/UCu2Uc7YeJmE9mvGG9OK-zbQ))."
   ],
   "cell_type": "markdown",
   "metadata": {}
  },
  {
   "source": [
    "## Filtrando el DataFrame\n",
    "\n",
    "¿Cómo le haríamos para obtener de nuestro DataFrame todos los casos negativos? Extraer todos los casos negativos equivale a obtener todas las filas para las que la columna \"CLASIFICACION_FINAL\" tiene un valor de 7. Afortunadamente Pandas nos permite seleccionarlas y generar un nuevo DataFrame solamente con nuestra selección. El procedimiento es el siguiente:"
   ],
   "cell_type": "markdown",
   "metadata": {}
  },
  {
   "source": [
    "## Casos negativos\n",
    "\n",
    "Pandas nos permite evaluar una condición en toda una columna en una sola operación, por ejemplo, para el caso que nos ocupa, queremos saber de la columna \"CLASIFICACION_FINAL\" cuales filas cumplen con la condición de tener un valor igual a 7. Podemos evaluar esta condicón seleccionando la columna e igualandola (con doble igual) al valor que queremos evaluar"
   ],
   "cell_type": "markdown",
   "metadata": {}
  },
  {
   "cell_type": "code",
   "execution_count": 63,
   "metadata": {},
   "outputs": [
    {
     "output_type": "execute_result",
     "data": {
      "text/plain": [
       "0          False\n",
       "1          False\n",
       "2          False\n",
       "3          False\n",
       "4          False\n",
       "           ...  \n",
       "2183267    False\n",
       "2183268    False\n",
       "2183269    False\n",
       "2183270    False\n",
       "2183271    False\n",
       "Name: CLASIFICACION_FINAL, Length: 2183272, dtype: bool"
      ]
     },
     "metadata": {},
     "execution_count": 63
    }
   ],
   "source": [
    "data[\"CLASIFICACION_FINAL\"]==7"
   ]
  },
  {
   "source": [
    "podemos observar que el resultado es una serie llena de valores verdaderos y falsos, guardemos esa columna con valores verdaderos y falsos en una variable, llamémosla \"condicion_negativos\":"
   ],
   "cell_type": "markdown",
   "metadata": {}
  },
  {
   "cell_type": "code",
   "execution_count": 64,
   "metadata": {},
   "outputs": [],
   "source": [
    "condicion_negativos = data[\"CLASIFICACION_FINAL\"]==7"
   ]
  },
  {
   "source": [
    "Exploremos que valores contiene la serie y cuantos registros de cada valor, para esto volvemos a utilizar la función value_counts():"
   ],
   "cell_type": "markdown",
   "metadata": {}
  },
  {
   "cell_type": "code",
   "execution_count": 65,
   "metadata": {},
   "outputs": [
    {
     "output_type": "execute_result",
     "data": {
      "text/plain": [
       "False    1163451\n",
       "True     1019821\n",
       "Name: CLASIFICACION_FINAL, dtype: int64"
      ]
     },
     "metadata": {},
     "execution_count": 65
    }
   ],
   "source": [
    "condicion_negativos.value_counts()"
   ]
  },
  {
   "source": [
    "Observamos que hay 1,163,451 registros o filas con el valor \"False\" y 1,019,821 registros o filas con el valor \"True\". Este último conteo se corresponde con nuestro número de casos negativos a SARS-COV-2 en la base de datos. Es decir, todas aquellas filas en donde el valor de la columna era 7 se transformaron en un True y todas aquellas que tenían un valor diferente a 7 se transformaron en un False."
   ],
   "cell_type": "markdown",
   "metadata": {}
  },
  {
   "source": [
    "Recordemos que en la variable condicion_negativos está guardada nuestra columna llena de True y False. Pandas nos permite usarla para filtrar el DataFrame original (que está guardado en nuestra variable \"data\"). La sintaxis es similar a cuando le pediamos una columna (lo cual es desafortunado). Se hace de la siguiente manera:"
   ],
   "cell_type": "markdown",
   "metadata": {}
  },
  {
   "cell_type": "code",
   "execution_count": 67,
   "metadata": {},
   "outputs": [
    {
     "output_type": "execute_result",
     "data": {
      "text/plain": [
       "        FECHA_ACTUALIZACION ID_REGISTRO  ORIGEN  SECTOR  ENTIDAD_UM  SEXO  \\\n",
       "3950             2020-10-18      13f641       1      12          26     1   \n",
       "3951             2020-10-18      1e20d5       1       4          16     1   \n",
       "3952             2020-10-18      01ee3f       1      12          24     2   \n",
       "3953             2020-10-18      0cf214       1      12          13     2   \n",
       "3954             2020-10-18      0b5ebb       2      12          19     1   \n",
       "...                     ...         ...     ...     ...         ...   ...   \n",
       "2134599          2020-10-18      38af8c       2       4           9     1   \n",
       "2134600          2020-10-18      390ba7       1       4          14     1   \n",
       "2134601          2020-10-18      33b9ba       2       4          21     1   \n",
       "2134602          2020-10-18      33712d       2      12           9     2   \n",
       "2134603          2020-10-18      374518       2      12           9     1   \n",
       "\n",
       "         ENTIDAD_NAC  ENTIDAD_RES  MUNICIPIO_RES  TIPO_PACIENTE  ...  \\\n",
       "3950              16           26             55              2  ...   \n",
       "3951              16           16             52              1  ...   \n",
       "3952              24           24             13              1  ...   \n",
       "3953              13           13             60              1  ...   \n",
       "3954              19           19             26              1  ...   \n",
       "...              ...          ...            ...            ...  ...   \n",
       "2134599            9            9             17              1  ...   \n",
       "2134600           14           14             39              1  ...   \n",
       "2134601           21           21            114              2  ...   \n",
       "2134602           15            9              7              1  ...   \n",
       "2134603            9            9             13              1  ...   \n",
       "\n",
       "        RENAL_CRONICA TABAQUISMO OTRO_CASO  TOMA_MUESTRA  RESULTADO_LAB  \\\n",
       "3950                2          2         2             1              2   \n",
       "3951                2          2        99             1              2   \n",
       "3952                2          2         2             1              2   \n",
       "3953                2          2         2             1              2   \n",
       "3954                2          2         2             1              2   \n",
       "...               ...        ...       ...           ...            ...   \n",
       "2134599             2          1         2             1              2   \n",
       "2134600             2          2         1             1              2   \n",
       "2134601             2          2         2             1              2   \n",
       "2134602             2          1         1             1              2   \n",
       "2134603             2          2         1             1              2   \n",
       "\n",
       "         CLASIFICACION_FINAL  MIGRANTE  PAIS_NACIONALIDAD  PAIS_ORIGEN  UCI  \n",
       "3950                       7        99            MÃ©xico           97   99  \n",
       "3951                       7        99            MÃ©xico           97   97  \n",
       "3952                       7        99            MÃ©xico           97   97  \n",
       "3953                       7        99            MÃ©xico           97   97  \n",
       "3954                       7        99            MÃ©xico           97   97  \n",
       "...                      ...       ...                ...          ...  ...  \n",
       "2134599                    7        99            MÃ©xico           97   97  \n",
       "2134600                    7        99            MÃ©xico           97   97  \n",
       "2134601                    7        99            MÃ©xico           97    2  \n",
       "2134602                    7        99            MÃ©xico           97   97  \n",
       "2134603                    7        99            MÃ©xico           97   97  \n",
       "\n",
       "[1019821 rows x 38 columns]"
      ],
      "text/html": "<div>\n<style scoped>\n    .dataframe tbody tr th:only-of-type {\n        vertical-align: middle;\n    }\n\n    .dataframe tbody tr th {\n        vertical-align: top;\n    }\n\n    .dataframe thead th {\n        text-align: right;\n    }\n</style>\n<table border=\"1\" class=\"dataframe\">\n  <thead>\n    <tr style=\"text-align: right;\">\n      <th></th>\n      <th>FECHA_ACTUALIZACION</th>\n      <th>ID_REGISTRO</th>\n      <th>ORIGEN</th>\n      <th>SECTOR</th>\n      <th>ENTIDAD_UM</th>\n      <th>SEXO</th>\n      <th>ENTIDAD_NAC</th>\n      <th>ENTIDAD_RES</th>\n      <th>MUNICIPIO_RES</th>\n      <th>TIPO_PACIENTE</th>\n      <th>...</th>\n      <th>RENAL_CRONICA</th>\n      <th>TABAQUISMO</th>\n      <th>OTRO_CASO</th>\n      <th>TOMA_MUESTRA</th>\n      <th>RESULTADO_LAB</th>\n      <th>CLASIFICACION_FINAL</th>\n      <th>MIGRANTE</th>\n      <th>PAIS_NACIONALIDAD</th>\n      <th>PAIS_ORIGEN</th>\n      <th>UCI</th>\n    </tr>\n  </thead>\n  <tbody>\n    <tr>\n      <th>3950</th>\n      <td>2020-10-18</td>\n      <td>13f641</td>\n      <td>1</td>\n      <td>12</td>\n      <td>26</td>\n      <td>1</td>\n      <td>16</td>\n      <td>26</td>\n      <td>55</td>\n      <td>2</td>\n      <td>...</td>\n      <td>2</td>\n      <td>2</td>\n      <td>2</td>\n      <td>1</td>\n      <td>2</td>\n      <td>7</td>\n      <td>99</td>\n      <td>MÃ©xico</td>\n      <td>97</td>\n      <td>99</td>\n    </tr>\n    <tr>\n      <th>3951</th>\n      <td>2020-10-18</td>\n      <td>1e20d5</td>\n      <td>1</td>\n      <td>4</td>\n      <td>16</td>\n      <td>1</td>\n      <td>16</td>\n      <td>16</td>\n      <td>52</td>\n      <td>1</td>\n      <td>...</td>\n      <td>2</td>\n      <td>2</td>\n      <td>99</td>\n      <td>1</td>\n      <td>2</td>\n      <td>7</td>\n      <td>99</td>\n      <td>MÃ©xico</td>\n      <td>97</td>\n      <td>97</td>\n    </tr>\n    <tr>\n      <th>3952</th>\n      <td>2020-10-18</td>\n      <td>01ee3f</td>\n      <td>1</td>\n      <td>12</td>\n      <td>24</td>\n      <td>2</td>\n      <td>24</td>\n      <td>24</td>\n      <td>13</td>\n      <td>1</td>\n      <td>...</td>\n      <td>2</td>\n      <td>2</td>\n      <td>2</td>\n      <td>1</td>\n      <td>2</td>\n      <td>7</td>\n      <td>99</td>\n      <td>MÃ©xico</td>\n      <td>97</td>\n      <td>97</td>\n    </tr>\n    <tr>\n      <th>3953</th>\n      <td>2020-10-18</td>\n      <td>0cf214</td>\n      <td>1</td>\n      <td>12</td>\n      <td>13</td>\n      <td>2</td>\n      <td>13</td>\n      <td>13</td>\n      <td>60</td>\n      <td>1</td>\n      <td>...</td>\n      <td>2</td>\n      <td>2</td>\n      <td>2</td>\n      <td>1</td>\n      <td>2</td>\n      <td>7</td>\n      <td>99</td>\n      <td>MÃ©xico</td>\n      <td>97</td>\n      <td>97</td>\n    </tr>\n    <tr>\n      <th>3954</th>\n      <td>2020-10-18</td>\n      <td>0b5ebb</td>\n      <td>2</td>\n      <td>12</td>\n      <td>19</td>\n      <td>1</td>\n      <td>19</td>\n      <td>19</td>\n      <td>26</td>\n      <td>1</td>\n      <td>...</td>\n      <td>2</td>\n      <td>2</td>\n      <td>2</td>\n      <td>1</td>\n      <td>2</td>\n      <td>7</td>\n      <td>99</td>\n      <td>MÃ©xico</td>\n      <td>97</td>\n      <td>97</td>\n    </tr>\n    <tr>\n      <th>...</th>\n      <td>...</td>\n      <td>...</td>\n      <td>...</td>\n      <td>...</td>\n      <td>...</td>\n      <td>...</td>\n      <td>...</td>\n      <td>...</td>\n      <td>...</td>\n      <td>...</td>\n      <td>...</td>\n      <td>...</td>\n      <td>...</td>\n      <td>...</td>\n      <td>...</td>\n      <td>...</td>\n      <td>...</td>\n      <td>...</td>\n      <td>...</td>\n      <td>...</td>\n      <td>...</td>\n    </tr>\n    <tr>\n      <th>2134599</th>\n      <td>2020-10-18</td>\n      <td>38af8c</td>\n      <td>2</td>\n      <td>4</td>\n      <td>9</td>\n      <td>1</td>\n      <td>9</td>\n      <td>9</td>\n      <td>17</td>\n      <td>1</td>\n      <td>...</td>\n      <td>2</td>\n      <td>1</td>\n      <td>2</td>\n      <td>1</td>\n      <td>2</td>\n      <td>7</td>\n      <td>99</td>\n      <td>MÃ©xico</td>\n      <td>97</td>\n      <td>97</td>\n    </tr>\n    <tr>\n      <th>2134600</th>\n      <td>2020-10-18</td>\n      <td>390ba7</td>\n      <td>1</td>\n      <td>4</td>\n      <td>14</td>\n      <td>1</td>\n      <td>14</td>\n      <td>14</td>\n      <td>39</td>\n      <td>1</td>\n      <td>...</td>\n      <td>2</td>\n      <td>2</td>\n      <td>1</td>\n      <td>1</td>\n      <td>2</td>\n      <td>7</td>\n      <td>99</td>\n      <td>MÃ©xico</td>\n      <td>97</td>\n      <td>97</td>\n    </tr>\n    <tr>\n      <th>2134601</th>\n      <td>2020-10-18</td>\n      <td>33b9ba</td>\n      <td>2</td>\n      <td>4</td>\n      <td>21</td>\n      <td>1</td>\n      <td>21</td>\n      <td>21</td>\n      <td>114</td>\n      <td>2</td>\n      <td>...</td>\n      <td>2</td>\n      <td>2</td>\n      <td>2</td>\n      <td>1</td>\n      <td>2</td>\n      <td>7</td>\n      <td>99</td>\n      <td>MÃ©xico</td>\n      <td>97</td>\n      <td>2</td>\n    </tr>\n    <tr>\n      <th>2134602</th>\n      <td>2020-10-18</td>\n      <td>33712d</td>\n      <td>2</td>\n      <td>12</td>\n      <td>9</td>\n      <td>2</td>\n      <td>15</td>\n      <td>9</td>\n      <td>7</td>\n      <td>1</td>\n      <td>...</td>\n      <td>2</td>\n      <td>1</td>\n      <td>1</td>\n      <td>1</td>\n      <td>2</td>\n      <td>7</td>\n      <td>99</td>\n      <td>MÃ©xico</td>\n      <td>97</td>\n      <td>97</td>\n    </tr>\n    <tr>\n      <th>2134603</th>\n      <td>2020-10-18</td>\n      <td>374518</td>\n      <td>2</td>\n      <td>12</td>\n      <td>9</td>\n      <td>1</td>\n      <td>9</td>\n      <td>9</td>\n      <td>13</td>\n      <td>1</td>\n      <td>...</td>\n      <td>2</td>\n      <td>2</td>\n      <td>1</td>\n      <td>1</td>\n      <td>2</td>\n      <td>7</td>\n      <td>99</td>\n      <td>MÃ©xico</td>\n      <td>97</td>\n      <td>97</td>\n    </tr>\n  </tbody>\n</table>\n<p>1019821 rows × 38 columns</p>\n</div>"
     },
     "metadata": {},
     "execution_count": 67
    }
   ],
   "source": [
    "data[condicion_negativos]"
   ]
  },
  {
   "source": [
    "En la parte inferior izquierda del resultado podemos ver que este es un nuevo DataFrame que contiene únicamente 1,019,821 filas, es decir contiene únicamente casos negativos. Contiene únicamente casos para los cuales la condición que evaluamos a la columna resultó ser verdadera o True\n",
    "\n",
    "Repitamos el ejercicio pero ahora sin guardar la condición en una variable intermedia y guardando el resultado en una variable que contenga un DataFrame con únicamente los casos negativos a SARS-COV-2:"
   ],
   "cell_type": "markdown",
   "metadata": {}
  },
  {
   "cell_type": "code",
   "execution_count": 69,
   "metadata": {},
   "outputs": [
    {
     "output_type": "execute_result",
     "data": {
      "text/plain": [
       "        FECHA_ACTUALIZACION ID_REGISTRO  ORIGEN  SECTOR  ENTIDAD_UM  SEXO  \\\n",
       "3950             2020-10-18      13f641       1      12          26     1   \n",
       "3951             2020-10-18      1e20d5       1       4          16     1   \n",
       "3952             2020-10-18      01ee3f       1      12          24     2   \n",
       "3953             2020-10-18      0cf214       1      12          13     2   \n",
       "3954             2020-10-18      0b5ebb       2      12          19     1   \n",
       "...                     ...         ...     ...     ...         ...   ...   \n",
       "2134599          2020-10-18      38af8c       2       4           9     1   \n",
       "2134600          2020-10-18      390ba7       1       4          14     1   \n",
       "2134601          2020-10-18      33b9ba       2       4          21     1   \n",
       "2134602          2020-10-18      33712d       2      12           9     2   \n",
       "2134603          2020-10-18      374518       2      12           9     1   \n",
       "\n",
       "         ENTIDAD_NAC  ENTIDAD_RES  MUNICIPIO_RES  TIPO_PACIENTE  ...  \\\n",
       "3950              16           26             55              2  ...   \n",
       "3951              16           16             52              1  ...   \n",
       "3952              24           24             13              1  ...   \n",
       "3953              13           13             60              1  ...   \n",
       "3954              19           19             26              1  ...   \n",
       "...              ...          ...            ...            ...  ...   \n",
       "2134599            9            9             17              1  ...   \n",
       "2134600           14           14             39              1  ...   \n",
       "2134601           21           21            114              2  ...   \n",
       "2134602           15            9              7              1  ...   \n",
       "2134603            9            9             13              1  ...   \n",
       "\n",
       "        RENAL_CRONICA TABAQUISMO OTRO_CASO  TOMA_MUESTRA  RESULTADO_LAB  \\\n",
       "3950                2          2         2             1              2   \n",
       "3951                2          2        99             1              2   \n",
       "3952                2          2         2             1              2   \n",
       "3953                2          2         2             1              2   \n",
       "3954                2          2         2             1              2   \n",
       "...               ...        ...       ...           ...            ...   \n",
       "2134599             2          1         2             1              2   \n",
       "2134600             2          2         1             1              2   \n",
       "2134601             2          2         2             1              2   \n",
       "2134602             2          1         1             1              2   \n",
       "2134603             2          2         1             1              2   \n",
       "\n",
       "         CLASIFICACION_FINAL  MIGRANTE  PAIS_NACIONALIDAD  PAIS_ORIGEN  UCI  \n",
       "3950                       7        99            MÃ©xico           97   99  \n",
       "3951                       7        99            MÃ©xico           97   97  \n",
       "3952                       7        99            MÃ©xico           97   97  \n",
       "3953                       7        99            MÃ©xico           97   97  \n",
       "3954                       7        99            MÃ©xico           97   97  \n",
       "...                      ...       ...                ...          ...  ...  \n",
       "2134599                    7        99            MÃ©xico           97   97  \n",
       "2134600                    7        99            MÃ©xico           97   97  \n",
       "2134601                    7        99            MÃ©xico           97    2  \n",
       "2134602                    7        99            MÃ©xico           97   97  \n",
       "2134603                    7        99            MÃ©xico           97   97  \n",
       "\n",
       "[1019821 rows x 38 columns]"
      ],
      "text/html": "<div>\n<style scoped>\n    .dataframe tbody tr th:only-of-type {\n        vertical-align: middle;\n    }\n\n    .dataframe tbody tr th {\n        vertical-align: top;\n    }\n\n    .dataframe thead th {\n        text-align: right;\n    }\n</style>\n<table border=\"1\" class=\"dataframe\">\n  <thead>\n    <tr style=\"text-align: right;\">\n      <th></th>\n      <th>FECHA_ACTUALIZACION</th>\n      <th>ID_REGISTRO</th>\n      <th>ORIGEN</th>\n      <th>SECTOR</th>\n      <th>ENTIDAD_UM</th>\n      <th>SEXO</th>\n      <th>ENTIDAD_NAC</th>\n      <th>ENTIDAD_RES</th>\n      <th>MUNICIPIO_RES</th>\n      <th>TIPO_PACIENTE</th>\n      <th>...</th>\n      <th>RENAL_CRONICA</th>\n      <th>TABAQUISMO</th>\n      <th>OTRO_CASO</th>\n      <th>TOMA_MUESTRA</th>\n      <th>RESULTADO_LAB</th>\n      <th>CLASIFICACION_FINAL</th>\n      <th>MIGRANTE</th>\n      <th>PAIS_NACIONALIDAD</th>\n      <th>PAIS_ORIGEN</th>\n      <th>UCI</th>\n    </tr>\n  </thead>\n  <tbody>\n    <tr>\n      <th>3950</th>\n      <td>2020-10-18</td>\n      <td>13f641</td>\n      <td>1</td>\n      <td>12</td>\n      <td>26</td>\n      <td>1</td>\n      <td>16</td>\n      <td>26</td>\n      <td>55</td>\n      <td>2</td>\n      <td>...</td>\n      <td>2</td>\n      <td>2</td>\n      <td>2</td>\n      <td>1</td>\n      <td>2</td>\n      <td>7</td>\n      <td>99</td>\n      <td>MÃ©xico</td>\n      <td>97</td>\n      <td>99</td>\n    </tr>\n    <tr>\n      <th>3951</th>\n      <td>2020-10-18</td>\n      <td>1e20d5</td>\n      <td>1</td>\n      <td>4</td>\n      <td>16</td>\n      <td>1</td>\n      <td>16</td>\n      <td>16</td>\n      <td>52</td>\n      <td>1</td>\n      <td>...</td>\n      <td>2</td>\n      <td>2</td>\n      <td>99</td>\n      <td>1</td>\n      <td>2</td>\n      <td>7</td>\n      <td>99</td>\n      <td>MÃ©xico</td>\n      <td>97</td>\n      <td>97</td>\n    </tr>\n    <tr>\n      <th>3952</th>\n      <td>2020-10-18</td>\n      <td>01ee3f</td>\n      <td>1</td>\n      <td>12</td>\n      <td>24</td>\n      <td>2</td>\n      <td>24</td>\n      <td>24</td>\n      <td>13</td>\n      <td>1</td>\n      <td>...</td>\n      <td>2</td>\n      <td>2</td>\n      <td>2</td>\n      <td>1</td>\n      <td>2</td>\n      <td>7</td>\n      <td>99</td>\n      <td>MÃ©xico</td>\n      <td>97</td>\n      <td>97</td>\n    </tr>\n    <tr>\n      <th>3953</th>\n      <td>2020-10-18</td>\n      <td>0cf214</td>\n      <td>1</td>\n      <td>12</td>\n      <td>13</td>\n      <td>2</td>\n      <td>13</td>\n      <td>13</td>\n      <td>60</td>\n      <td>1</td>\n      <td>...</td>\n      <td>2</td>\n      <td>2</td>\n      <td>2</td>\n      <td>1</td>\n      <td>2</td>\n      <td>7</td>\n      <td>99</td>\n      <td>MÃ©xico</td>\n      <td>97</td>\n      <td>97</td>\n    </tr>\n    <tr>\n      <th>3954</th>\n      <td>2020-10-18</td>\n      <td>0b5ebb</td>\n      <td>2</td>\n      <td>12</td>\n      <td>19</td>\n      <td>1</td>\n      <td>19</td>\n      <td>19</td>\n      <td>26</td>\n      <td>1</td>\n      <td>...</td>\n      <td>2</td>\n      <td>2</td>\n      <td>2</td>\n      <td>1</td>\n      <td>2</td>\n      <td>7</td>\n      <td>99</td>\n      <td>MÃ©xico</td>\n      <td>97</td>\n      <td>97</td>\n    </tr>\n    <tr>\n      <th>...</th>\n      <td>...</td>\n      <td>...</td>\n      <td>...</td>\n      <td>...</td>\n      <td>...</td>\n      <td>...</td>\n      <td>...</td>\n      <td>...</td>\n      <td>...</td>\n      <td>...</td>\n      <td>...</td>\n      <td>...</td>\n      <td>...</td>\n      <td>...</td>\n      <td>...</td>\n      <td>...</td>\n      <td>...</td>\n      <td>...</td>\n      <td>...</td>\n      <td>...</td>\n      <td>...</td>\n    </tr>\n    <tr>\n      <th>2134599</th>\n      <td>2020-10-18</td>\n      <td>38af8c</td>\n      <td>2</td>\n      <td>4</td>\n      <td>9</td>\n      <td>1</td>\n      <td>9</td>\n      <td>9</td>\n      <td>17</td>\n      <td>1</td>\n      <td>...</td>\n      <td>2</td>\n      <td>1</td>\n      <td>2</td>\n      <td>1</td>\n      <td>2</td>\n      <td>7</td>\n      <td>99</td>\n      <td>MÃ©xico</td>\n      <td>97</td>\n      <td>97</td>\n    </tr>\n    <tr>\n      <th>2134600</th>\n      <td>2020-10-18</td>\n      <td>390ba7</td>\n      <td>1</td>\n      <td>4</td>\n      <td>14</td>\n      <td>1</td>\n      <td>14</td>\n      <td>14</td>\n      <td>39</td>\n      <td>1</td>\n      <td>...</td>\n      <td>2</td>\n      <td>2</td>\n      <td>1</td>\n      <td>1</td>\n      <td>2</td>\n      <td>7</td>\n      <td>99</td>\n      <td>MÃ©xico</td>\n      <td>97</td>\n      <td>97</td>\n    </tr>\n    <tr>\n      <th>2134601</th>\n      <td>2020-10-18</td>\n      <td>33b9ba</td>\n      <td>2</td>\n      <td>4</td>\n      <td>21</td>\n      <td>1</td>\n      <td>21</td>\n      <td>21</td>\n      <td>114</td>\n      <td>2</td>\n      <td>...</td>\n      <td>2</td>\n      <td>2</td>\n      <td>2</td>\n      <td>1</td>\n      <td>2</td>\n      <td>7</td>\n      <td>99</td>\n      <td>MÃ©xico</td>\n      <td>97</td>\n      <td>2</td>\n    </tr>\n    <tr>\n      <th>2134602</th>\n      <td>2020-10-18</td>\n      <td>33712d</td>\n      <td>2</td>\n      <td>12</td>\n      <td>9</td>\n      <td>2</td>\n      <td>15</td>\n      <td>9</td>\n      <td>7</td>\n      <td>1</td>\n      <td>...</td>\n      <td>2</td>\n      <td>1</td>\n      <td>1</td>\n      <td>1</td>\n      <td>2</td>\n      <td>7</td>\n      <td>99</td>\n      <td>MÃ©xico</td>\n      <td>97</td>\n      <td>97</td>\n    </tr>\n    <tr>\n      <th>2134603</th>\n      <td>2020-10-18</td>\n      <td>374518</td>\n      <td>2</td>\n      <td>12</td>\n      <td>9</td>\n      <td>1</td>\n      <td>9</td>\n      <td>9</td>\n      <td>13</td>\n      <td>1</td>\n      <td>...</td>\n      <td>2</td>\n      <td>2</td>\n      <td>1</td>\n      <td>1</td>\n      <td>2</td>\n      <td>7</td>\n      <td>99</td>\n      <td>MÃ©xico</td>\n      <td>97</td>\n      <td>97</td>\n    </tr>\n  </tbody>\n</table>\n<p>1019821 rows × 38 columns</p>\n</div>"
     },
     "metadata": {},
     "execution_count": 69
    }
   ],
   "source": [
    "negativos = data[data[\"CLASIFICACION_FINAL\"]==7]\n",
    "negativos"
   ]
  },
  {
   "source": [
    "Como se puede apreciar en la instrucción anterior podemos poner la condición a evaluar directamente entre los corchetes para filtrar el DataFrame y obtener una versión con los registros que nos interesan."
   ],
   "cell_type": "markdown",
   "metadata": {}
  },
  {
   "source": [
    "## Casos confirmados\n",
    "\n",
    "De acuerdo al diccionario de datos, los casos confirmados se conforman por 3 valores: \n",
    "* el valor 1 correspondiente a casos confirmados por asociación clínica epidemiológica\n",
    "* el valor 2 correspondiente a casos confirmados por comité de dictaminación\n",
    "* el valor 3 correspondiente a casos confirmados por laboratorio\n",
    "\n",
    "Es decir, para detectar los casos confirmados necesitamos todas aquellas filas en nuestro DataFrame original que tengan los valores 1,2 o 3 en la columna \"CLASIFICACION_FINAL\". Para filtrar esas filas necesitamos armar esa condición compuesta.\n",
    "\n",
    "Podemos armar condiciones compuestas usando operadores lógicos como \"and\" y \"or\". En Pandas el operador asociado a and es \"&\" y el operador asociado a or es \"|\".\n",
    "\n",
    "La condición que queremos es: valor de la columna \"CLASIFICACION_FINAL\" igual a 1, o igual a 2 o igual a 3, en código podemos ponerla de la siguiente manera"
   ],
   "cell_type": "markdown",
   "metadata": {}
  },
  {
   "cell_type": "code",
   "execution_count": 71,
   "metadata": {},
   "outputs": [
    {
     "output_type": "execute_result",
     "data": {
      "text/plain": [
       "0           True\n",
       "1           True\n",
       "2           True\n",
       "3           True\n",
       "4           True\n",
       "           ...  \n",
       "2183267    False\n",
       "2183268    False\n",
       "2183269     True\n",
       "2183270    False\n",
       "2183271    False\n",
       "Name: CLASIFICACION_FINAL, Length: 2183272, dtype: bool"
      ]
     },
     "metadata": {},
     "execution_count": 71
    }
   ],
   "source": [
    "(data[\"CLASIFICACION_FINAL\"] == 1) | (data[\"CLASIFICACION_FINAL\"] == 2) | (data[\"CLASIFICACION_FINAL\"] == 3)"
   ]
  },
  {
   "source": [
    "El resultado es una serie llena de True y False, True en donde la fila satisface la condición y False en aquellas que no lo satisfacen. \n",
    "\n",
    "Existe una manera más compacta para evaluar esta condición. Podemos preguntarle al valor de la columna si se encuentra o no en los valores contenidos en una lista de valores. Esto lo hacemos a traves de la función isin(). El único parámetro que utiliza esta función es una lista con los valores a comparar, en este caso pasaremos una lista con los valores 1,2 y 3. En python las listas se ponen entre corchetes."
   ],
   "cell_type": "markdown",
   "metadata": {}
  },
  {
   "cell_type": "code",
   "execution_count": 73,
   "metadata": {},
   "outputs": [
    {
     "output_type": "execute_result",
     "data": {
      "text/plain": [
       "0           True\n",
       "1           True\n",
       "2           True\n",
       "3           True\n",
       "4           True\n",
       "           ...  \n",
       "2183267    False\n",
       "2183268    False\n",
       "2183269     True\n",
       "2183270    False\n",
       "2183271    False\n",
       "Name: CLASIFICACION_FINAL, Length: 2183272, dtype: bool"
      ]
     },
     "metadata": {},
     "execution_count": 73
    }
   ],
   "source": [
    "data[\"CLASIFICACION_FINAL\"].isin([1,2,3])"
   ]
  },
  {
   "source": [
    "Esta es la condición que usaremos para filtrar nuestro DataFrame original. El resultado será un nuevo DataFrame que contiene únicamente los casos confirmados. Este nuevo DataFrame lo guardaremos en la variable confirmados"
   ],
   "cell_type": "markdown",
   "metadata": {}
  },
  {
   "cell_type": "code",
   "execution_count": 74,
   "metadata": {},
   "outputs": [
    {
     "output_type": "execute_result",
     "data": {
      "text/plain": [
       "        FECHA_ACTUALIZACION ID_REGISTRO  ORIGEN  SECTOR  ENTIDAD_UM  SEXO  \\\n",
       "0                2020-10-18      1426fb       1       4          10     1   \n",
       "1                2020-10-18      1c4583       2      12           9     2   \n",
       "2                2020-10-18      0d55c9       2      12           9     1   \n",
       "3                2020-10-18      071735       2       9          21     2   \n",
       "4                2020-10-18      1468a5       1       4           5     1   \n",
       "...                     ...         ...     ...     ...         ...   ...   \n",
       "2183114          2020-10-18      2fcdc7       1      12          26     1   \n",
       "2183136          2020-10-18      3c6f4d       1      12          26     2   \n",
       "2183216          2020-10-18      373591       1       6          20     1   \n",
       "2183262          2020-10-18      365e11       1       6           9     1   \n",
       "2183269          2020-10-18      408ef1       2       6           9     2   \n",
       "\n",
       "         ENTIDAD_NAC  ENTIDAD_RES  MUNICIPIO_RES  TIPO_PACIENTE  ...  \\\n",
       "0                 28           10              7              1  ...   \n",
       "1                  9            9              4              1  ...   \n",
       "2                  9            9             16              1  ...   \n",
       "3                 21           21            114              1  ...   \n",
       "4                 15            5             18              1  ...   \n",
       "...              ...          ...            ...            ...  ...   \n",
       "2183114           26           26             30              1  ...   \n",
       "2183136           26           26             19              1  ...   \n",
       "2183216           20           20            399              1  ...   \n",
       "2183262           17           15             58              2  ...   \n",
       "2183269            9            9              5              1  ...   \n",
       "\n",
       "        RENAL_CRONICA TABAQUISMO OTRO_CASO  TOMA_MUESTRA  RESULTADO_LAB  \\\n",
       "0                   2          2        99             1              1   \n",
       "1                   2          2         2             1              1   \n",
       "2                   2          2         2             1              1   \n",
       "3                   2          2         2             1              1   \n",
       "4                   2          2         1             1              1   \n",
       "...               ...        ...       ...           ...            ...   \n",
       "2183114             2          2         1             2             97   \n",
       "2183136             2          2         1             2             97   \n",
       "2183216             2          2         2             2             97   \n",
       "2183262             2          2         2             2             97   \n",
       "2183269             2          2         1             2             97   \n",
       "\n",
       "         CLASIFICACION_FINAL  MIGRANTE  PAIS_NACIONALIDAD  PAIS_ORIGEN  UCI  \n",
       "0                          3        99            MÃ©xico           97   97  \n",
       "1                          3        99            MÃ©xico           97   97  \n",
       "2                          3        99            MÃ©xico           97   97  \n",
       "3                          3        99            MÃ©xico           97   97  \n",
       "4                          3        99            MÃ©xico           97   97  \n",
       "...                      ...       ...                ...          ...  ...  \n",
       "2183114                    1        99            MÃ©xico           97   97  \n",
       "2183136                    1        99            MÃ©xico           97   97  \n",
       "2183216                    1        99            MÃ©xico           97   97  \n",
       "2183262                    1        99            MÃ©xico           97    2  \n",
       "2183269                    1        99            MÃ©xico           97   97  \n",
       "\n",
       "[851227 rows x 38 columns]"
      ],
      "text/html": "<div>\n<style scoped>\n    .dataframe tbody tr th:only-of-type {\n        vertical-align: middle;\n    }\n\n    .dataframe tbody tr th {\n        vertical-align: top;\n    }\n\n    .dataframe thead th {\n        text-align: right;\n    }\n</style>\n<table border=\"1\" class=\"dataframe\">\n  <thead>\n    <tr style=\"text-align: right;\">\n      <th></th>\n      <th>FECHA_ACTUALIZACION</th>\n      <th>ID_REGISTRO</th>\n      <th>ORIGEN</th>\n      <th>SECTOR</th>\n      <th>ENTIDAD_UM</th>\n      <th>SEXO</th>\n      <th>ENTIDAD_NAC</th>\n      <th>ENTIDAD_RES</th>\n      <th>MUNICIPIO_RES</th>\n      <th>TIPO_PACIENTE</th>\n      <th>...</th>\n      <th>RENAL_CRONICA</th>\n      <th>TABAQUISMO</th>\n      <th>OTRO_CASO</th>\n      <th>TOMA_MUESTRA</th>\n      <th>RESULTADO_LAB</th>\n      <th>CLASIFICACION_FINAL</th>\n      <th>MIGRANTE</th>\n      <th>PAIS_NACIONALIDAD</th>\n      <th>PAIS_ORIGEN</th>\n      <th>UCI</th>\n    </tr>\n  </thead>\n  <tbody>\n    <tr>\n      <th>0</th>\n      <td>2020-10-18</td>\n      <td>1426fb</td>\n      <td>1</td>\n      <td>4</td>\n      <td>10</td>\n      <td>1</td>\n      <td>28</td>\n      <td>10</td>\n      <td>7</td>\n      <td>1</td>\n      <td>...</td>\n      <td>2</td>\n      <td>2</td>\n      <td>99</td>\n      <td>1</td>\n      <td>1</td>\n      <td>3</td>\n      <td>99</td>\n      <td>MÃ©xico</td>\n      <td>97</td>\n      <td>97</td>\n    </tr>\n    <tr>\n      <th>1</th>\n      <td>2020-10-18</td>\n      <td>1c4583</td>\n      <td>2</td>\n      <td>12</td>\n      <td>9</td>\n      <td>2</td>\n      <td>9</td>\n      <td>9</td>\n      <td>4</td>\n      <td>1</td>\n      <td>...</td>\n      <td>2</td>\n      <td>2</td>\n      <td>2</td>\n      <td>1</td>\n      <td>1</td>\n      <td>3</td>\n      <td>99</td>\n      <td>MÃ©xico</td>\n      <td>97</td>\n      <td>97</td>\n    </tr>\n    <tr>\n      <th>2</th>\n      <td>2020-10-18</td>\n      <td>0d55c9</td>\n      <td>2</td>\n      <td>12</td>\n      <td>9</td>\n      <td>1</td>\n      <td>9</td>\n      <td>9</td>\n      <td>16</td>\n      <td>1</td>\n      <td>...</td>\n      <td>2</td>\n      <td>2</td>\n      <td>2</td>\n      <td>1</td>\n      <td>1</td>\n      <td>3</td>\n      <td>99</td>\n      <td>MÃ©xico</td>\n      <td>97</td>\n      <td>97</td>\n    </tr>\n    <tr>\n      <th>3</th>\n      <td>2020-10-18</td>\n      <td>071735</td>\n      <td>2</td>\n      <td>9</td>\n      <td>21</td>\n      <td>2</td>\n      <td>21</td>\n      <td>21</td>\n      <td>114</td>\n      <td>1</td>\n      <td>...</td>\n      <td>2</td>\n      <td>2</td>\n      <td>2</td>\n      <td>1</td>\n      <td>1</td>\n      <td>3</td>\n      <td>99</td>\n      <td>MÃ©xico</td>\n      <td>97</td>\n      <td>97</td>\n    </tr>\n    <tr>\n      <th>4</th>\n      <td>2020-10-18</td>\n      <td>1468a5</td>\n      <td>1</td>\n      <td>4</td>\n      <td>5</td>\n      <td>1</td>\n      <td>15</td>\n      <td>5</td>\n      <td>18</td>\n      <td>1</td>\n      <td>...</td>\n      <td>2</td>\n      <td>2</td>\n      <td>1</td>\n      <td>1</td>\n      <td>1</td>\n      <td>3</td>\n      <td>99</td>\n      <td>MÃ©xico</td>\n      <td>97</td>\n      <td>97</td>\n    </tr>\n    <tr>\n      <th>...</th>\n      <td>...</td>\n      <td>...</td>\n      <td>...</td>\n      <td>...</td>\n      <td>...</td>\n      <td>...</td>\n      <td>...</td>\n      <td>...</td>\n      <td>...</td>\n      <td>...</td>\n      <td>...</td>\n      <td>...</td>\n      <td>...</td>\n      <td>...</td>\n      <td>...</td>\n      <td>...</td>\n      <td>...</td>\n      <td>...</td>\n      <td>...</td>\n      <td>...</td>\n      <td>...</td>\n    </tr>\n    <tr>\n      <th>2183114</th>\n      <td>2020-10-18</td>\n      <td>2fcdc7</td>\n      <td>1</td>\n      <td>12</td>\n      <td>26</td>\n      <td>1</td>\n      <td>26</td>\n      <td>26</td>\n      <td>30</td>\n      <td>1</td>\n      <td>...</td>\n      <td>2</td>\n      <td>2</td>\n      <td>1</td>\n      <td>2</td>\n      <td>97</td>\n      <td>1</td>\n      <td>99</td>\n      <td>MÃ©xico</td>\n      <td>97</td>\n      <td>97</td>\n    </tr>\n    <tr>\n      <th>2183136</th>\n      <td>2020-10-18</td>\n      <td>3c6f4d</td>\n      <td>1</td>\n      <td>12</td>\n      <td>26</td>\n      <td>2</td>\n      <td>26</td>\n      <td>26</td>\n      <td>19</td>\n      <td>1</td>\n      <td>...</td>\n      <td>2</td>\n      <td>2</td>\n      <td>1</td>\n      <td>2</td>\n      <td>97</td>\n      <td>1</td>\n      <td>99</td>\n      <td>MÃ©xico</td>\n      <td>97</td>\n      <td>97</td>\n    </tr>\n    <tr>\n      <th>2183216</th>\n      <td>2020-10-18</td>\n      <td>373591</td>\n      <td>1</td>\n      <td>6</td>\n      <td>20</td>\n      <td>1</td>\n      <td>20</td>\n      <td>20</td>\n      <td>399</td>\n      <td>1</td>\n      <td>...</td>\n      <td>2</td>\n      <td>2</td>\n      <td>2</td>\n      <td>2</td>\n      <td>97</td>\n      <td>1</td>\n      <td>99</td>\n      <td>MÃ©xico</td>\n      <td>97</td>\n      <td>97</td>\n    </tr>\n    <tr>\n      <th>2183262</th>\n      <td>2020-10-18</td>\n      <td>365e11</td>\n      <td>1</td>\n      <td>6</td>\n      <td>9</td>\n      <td>1</td>\n      <td>17</td>\n      <td>15</td>\n      <td>58</td>\n      <td>2</td>\n      <td>...</td>\n      <td>2</td>\n      <td>2</td>\n      <td>2</td>\n      <td>2</td>\n      <td>97</td>\n      <td>1</td>\n      <td>99</td>\n      <td>MÃ©xico</td>\n      <td>97</td>\n      <td>2</td>\n    </tr>\n    <tr>\n      <th>2183269</th>\n      <td>2020-10-18</td>\n      <td>408ef1</td>\n      <td>2</td>\n      <td>6</td>\n      <td>9</td>\n      <td>2</td>\n      <td>9</td>\n      <td>9</td>\n      <td>5</td>\n      <td>1</td>\n      <td>...</td>\n      <td>2</td>\n      <td>2</td>\n      <td>1</td>\n      <td>2</td>\n      <td>97</td>\n      <td>1</td>\n      <td>99</td>\n      <td>MÃ©xico</td>\n      <td>97</td>\n      <td>97</td>\n    </tr>\n  </tbody>\n</table>\n<p>851227 rows × 38 columns</p>\n</div>"
     },
     "metadata": {},
     "execution_count": 74
    }
   ],
   "source": [
    "confirmados = data[data[\"CLASIFICACION_FINAL\"].isin([1,2,3])]\n",
    "confirmados"
   ]
  },
  {
   "source": [
    "En la parte inferior izquierda del resultado podemos ver que este DataFrame contiene 851,227 filas, este número se corresponde con lo reportado por la Secretaría de Salud el 18 de octubre de 2020."
   ],
   "cell_type": "markdown",
   "metadata": {}
  },
  {
   "source": [
    "## Casos sospechosos\n",
    "\n",
    "Para filtrar los casos sospechosos podemos volver a checar el diccionario de datos. De acuerdo a la información en el diccionario los casos sospechosos están identificados con el valor 6 en la columna \"CLASIFICACION_FINAL\". Filtrémoslos y guardémoslos en una variable!"
   ],
   "cell_type": "markdown",
   "metadata": {}
  },
  {
   "cell_type": "code",
   "execution_count": 82,
   "metadata": {},
   "outputs": [
    {
     "output_type": "execute_result",
     "data": {
      "text/plain": [
       "        FECHA_ACTUALIZACION ID_REGISTRO  ORIGEN  SECTOR  ENTIDAD_UM  SEXO  \\\n",
       "39125            2020-10-18      193243       2       4          19     2   \n",
       "39126            2020-10-18      0462c9       2       4          14     1   \n",
       "39127            2020-10-18      0cafed       2       4          19     2   \n",
       "39128            2020-10-18      194bf3       2       4          11     2   \n",
       "39129            2020-10-18      1b4b5a       2       4          26     2   \n",
       "...                     ...         ...     ...     ...         ...   ...   \n",
       "2183266          2020-10-18      2edfde       2       6          28     2   \n",
       "2183267          2020-10-18      332cf5       2       4          30     1   \n",
       "2183268          2020-10-18      42c51a       2      12           9     2   \n",
       "2183270          2020-10-18      372368       2       9           8     2   \n",
       "2183271          2020-10-18      427b3f       2       9          19     2   \n",
       "\n",
       "         ENTIDAD_NAC  ENTIDAD_RES  MUNICIPIO_RES  TIPO_PACIENTE  ...  \\\n",
       "39125             10           19             46              1  ...   \n",
       "39126             14           14            120              1  ...   \n",
       "39127             19           19             26              1  ...   \n",
       "39128             11           11              7              1  ...   \n",
       "39129             26           26             55              1  ...   \n",
       "...              ...          ...            ...            ...  ...   \n",
       "2183266           28           28              9              1  ...   \n",
       "2183267           30           30            135              1  ...   \n",
       "2183268            9            9             10              1  ...   \n",
       "2183270            8            8             19              2  ...   \n",
       "2183271           19           19             18              2  ...   \n",
       "\n",
       "        RENAL_CRONICA TABAQUISMO OTRO_CASO  TOMA_MUESTRA  RESULTADO_LAB  \\\n",
       "39125               2          2        99             2             97   \n",
       "39126               2          2        99             2             97   \n",
       "39127               2          2        99             2             97   \n",
       "39128               2          2        99             2             97   \n",
       "39129               2          2        99             2             97   \n",
       "...               ...        ...       ...           ...            ...   \n",
       "2183266             2          2         2             1              3   \n",
       "2183267             2          2         2             1              3   \n",
       "2183268             2          2         1             1              3   \n",
       "2183270             2          2         2             1              3   \n",
       "2183271             2          2         2             1              3   \n",
       "\n",
       "         CLASIFICACION_FINAL  MIGRANTE  PAIS_NACIONALIDAD  PAIS_ORIGEN  UCI  \n",
       "39125                      6        99            MÃ©xico           97   97  \n",
       "39126                      6        99            MÃ©xico           97   97  \n",
       "39127                      6        99            MÃ©xico           97   97  \n",
       "39128                      6        99            MÃ©xico           97   97  \n",
       "39129                      6        99            MÃ©xico           97   97  \n",
       "...                      ...       ...                ...          ...  ...  \n",
       "2183266                    6        99            MÃ©xico           97   97  \n",
       "2183267                    6        99            MÃ©xico           97   97  \n",
       "2183268                    6        99            MÃ©xico           97   97  \n",
       "2183270                    6        99            MÃ©xico           97    2  \n",
       "2183271                    6        99            MÃ©xico           97    2  \n",
       "\n",
       "[265492 rows x 38 columns]"
      ],
      "text/html": "<div>\n<style scoped>\n    .dataframe tbody tr th:only-of-type {\n        vertical-align: middle;\n    }\n\n    .dataframe tbody tr th {\n        vertical-align: top;\n    }\n\n    .dataframe thead th {\n        text-align: right;\n    }\n</style>\n<table border=\"1\" class=\"dataframe\">\n  <thead>\n    <tr style=\"text-align: right;\">\n      <th></th>\n      <th>FECHA_ACTUALIZACION</th>\n      <th>ID_REGISTRO</th>\n      <th>ORIGEN</th>\n      <th>SECTOR</th>\n      <th>ENTIDAD_UM</th>\n      <th>SEXO</th>\n      <th>ENTIDAD_NAC</th>\n      <th>ENTIDAD_RES</th>\n      <th>MUNICIPIO_RES</th>\n      <th>TIPO_PACIENTE</th>\n      <th>...</th>\n      <th>RENAL_CRONICA</th>\n      <th>TABAQUISMO</th>\n      <th>OTRO_CASO</th>\n      <th>TOMA_MUESTRA</th>\n      <th>RESULTADO_LAB</th>\n      <th>CLASIFICACION_FINAL</th>\n      <th>MIGRANTE</th>\n      <th>PAIS_NACIONALIDAD</th>\n      <th>PAIS_ORIGEN</th>\n      <th>UCI</th>\n    </tr>\n  </thead>\n  <tbody>\n    <tr>\n      <th>39125</th>\n      <td>2020-10-18</td>\n      <td>193243</td>\n      <td>2</td>\n      <td>4</td>\n      <td>19</td>\n      <td>2</td>\n      <td>10</td>\n      <td>19</td>\n      <td>46</td>\n      <td>1</td>\n      <td>...</td>\n      <td>2</td>\n      <td>2</td>\n      <td>99</td>\n      <td>2</td>\n      <td>97</td>\n      <td>6</td>\n      <td>99</td>\n      <td>MÃ©xico</td>\n      <td>97</td>\n      <td>97</td>\n    </tr>\n    <tr>\n      <th>39126</th>\n      <td>2020-10-18</td>\n      <td>0462c9</td>\n      <td>2</td>\n      <td>4</td>\n      <td>14</td>\n      <td>1</td>\n      <td>14</td>\n      <td>14</td>\n      <td>120</td>\n      <td>1</td>\n      <td>...</td>\n      <td>2</td>\n      <td>2</td>\n      <td>99</td>\n      <td>2</td>\n      <td>97</td>\n      <td>6</td>\n      <td>99</td>\n      <td>MÃ©xico</td>\n      <td>97</td>\n      <td>97</td>\n    </tr>\n    <tr>\n      <th>39127</th>\n      <td>2020-10-18</td>\n      <td>0cafed</td>\n      <td>2</td>\n      <td>4</td>\n      <td>19</td>\n      <td>2</td>\n      <td>19</td>\n      <td>19</td>\n      <td>26</td>\n      <td>1</td>\n      <td>...</td>\n      <td>2</td>\n      <td>2</td>\n      <td>99</td>\n      <td>2</td>\n      <td>97</td>\n      <td>6</td>\n      <td>99</td>\n      <td>MÃ©xico</td>\n      <td>97</td>\n      <td>97</td>\n    </tr>\n    <tr>\n      <th>39128</th>\n      <td>2020-10-18</td>\n      <td>194bf3</td>\n      <td>2</td>\n      <td>4</td>\n      <td>11</td>\n      <td>2</td>\n      <td>11</td>\n      <td>11</td>\n      <td>7</td>\n      <td>1</td>\n      <td>...</td>\n      <td>2</td>\n      <td>2</td>\n      <td>99</td>\n      <td>2</td>\n      <td>97</td>\n      <td>6</td>\n      <td>99</td>\n      <td>MÃ©xico</td>\n      <td>97</td>\n      <td>97</td>\n    </tr>\n    <tr>\n      <th>39129</th>\n      <td>2020-10-18</td>\n      <td>1b4b5a</td>\n      <td>2</td>\n      <td>4</td>\n      <td>26</td>\n      <td>2</td>\n      <td>26</td>\n      <td>26</td>\n      <td>55</td>\n      <td>1</td>\n      <td>...</td>\n      <td>2</td>\n      <td>2</td>\n      <td>99</td>\n      <td>2</td>\n      <td>97</td>\n      <td>6</td>\n      <td>99</td>\n      <td>MÃ©xico</td>\n      <td>97</td>\n      <td>97</td>\n    </tr>\n    <tr>\n      <th>...</th>\n      <td>...</td>\n      <td>...</td>\n      <td>...</td>\n      <td>...</td>\n      <td>...</td>\n      <td>...</td>\n      <td>...</td>\n      <td>...</td>\n      <td>...</td>\n      <td>...</td>\n      <td>...</td>\n      <td>...</td>\n      <td>...</td>\n      <td>...</td>\n      <td>...</td>\n      <td>...</td>\n      <td>...</td>\n      <td>...</td>\n      <td>...</td>\n      <td>...</td>\n      <td>...</td>\n    </tr>\n    <tr>\n      <th>2183266</th>\n      <td>2020-10-18</td>\n      <td>2edfde</td>\n      <td>2</td>\n      <td>6</td>\n      <td>28</td>\n      <td>2</td>\n      <td>28</td>\n      <td>28</td>\n      <td>9</td>\n      <td>1</td>\n      <td>...</td>\n      <td>2</td>\n      <td>2</td>\n      <td>2</td>\n      <td>1</td>\n      <td>3</td>\n      <td>6</td>\n      <td>99</td>\n      <td>MÃ©xico</td>\n      <td>97</td>\n      <td>97</td>\n    </tr>\n    <tr>\n      <th>2183267</th>\n      <td>2020-10-18</td>\n      <td>332cf5</td>\n      <td>2</td>\n      <td>4</td>\n      <td>30</td>\n      <td>1</td>\n      <td>30</td>\n      <td>30</td>\n      <td>135</td>\n      <td>1</td>\n      <td>...</td>\n      <td>2</td>\n      <td>2</td>\n      <td>2</td>\n      <td>1</td>\n      <td>3</td>\n      <td>6</td>\n      <td>99</td>\n      <td>MÃ©xico</td>\n      <td>97</td>\n      <td>97</td>\n    </tr>\n    <tr>\n      <th>2183268</th>\n      <td>2020-10-18</td>\n      <td>42c51a</td>\n      <td>2</td>\n      <td>12</td>\n      <td>9</td>\n      <td>2</td>\n      <td>9</td>\n      <td>9</td>\n      <td>10</td>\n      <td>1</td>\n      <td>...</td>\n      <td>2</td>\n      <td>2</td>\n      <td>1</td>\n      <td>1</td>\n      <td>3</td>\n      <td>6</td>\n      <td>99</td>\n      <td>MÃ©xico</td>\n      <td>97</td>\n      <td>97</td>\n    </tr>\n    <tr>\n      <th>2183270</th>\n      <td>2020-10-18</td>\n      <td>372368</td>\n      <td>2</td>\n      <td>9</td>\n      <td>8</td>\n      <td>2</td>\n      <td>8</td>\n      <td>8</td>\n      <td>19</td>\n      <td>2</td>\n      <td>...</td>\n      <td>2</td>\n      <td>2</td>\n      <td>2</td>\n      <td>1</td>\n      <td>3</td>\n      <td>6</td>\n      <td>99</td>\n      <td>MÃ©xico</td>\n      <td>97</td>\n      <td>2</td>\n    </tr>\n    <tr>\n      <th>2183271</th>\n      <td>2020-10-18</td>\n      <td>427b3f</td>\n      <td>2</td>\n      <td>9</td>\n      <td>19</td>\n      <td>2</td>\n      <td>19</td>\n      <td>19</td>\n      <td>18</td>\n      <td>2</td>\n      <td>...</td>\n      <td>2</td>\n      <td>2</td>\n      <td>2</td>\n      <td>1</td>\n      <td>3</td>\n      <td>6</td>\n      <td>99</td>\n      <td>MÃ©xico</td>\n      <td>97</td>\n      <td>2</td>\n    </tr>\n  </tbody>\n</table>\n<p>265492 rows × 38 columns</p>\n</div>"
     },
     "metadata": {},
     "execution_count": 82
    }
   ],
   "source": [
    "sospechosos=data[data[\"CLASIFICACION_FINAL\"]==6]\n",
    "sospechosos"
   ]
  },
  {
   "source": [
    "En el reporte de la secretaría separan a los casos sospechosos en \"sospechosos sin muestra\", \"sospechosos con posibilidad de resultado\" y \"sospechosos sin posibilidad de resultado\". Para obtenerlos necesitamos algunos filtros compuestos mezclando los valores de dos columnas, por un lado la columna que estuvimos utilizando previamente \"CLASIFICACION_FINAL\" y además la columna con los resultados del laboratorio \"RESULTADO_LAB\""
   ],
   "cell_type": "markdown",
   "metadata": {}
  },
  {
   "source": [
    "## Sospechosos sin muestra\n",
    "\n",
    "Los casos sospechosos sin muestra podemos identificarlos como casos con valor 6 en la columna de \"CLASIFICACION_FINAL\" y valor 97 en la columna de \"RESULTADO_LAB\". Este valor corresponde con los resultados de laboratorio clasificados como \"No aplica (caso sin muestra)\" en el diccionario de datos. Para poder filtrar usaremos la notación usada previamente para cada una de las condiciones y el operador \"and\" que en Pandas es \"&\"."
   ],
   "cell_type": "markdown",
   "metadata": {}
  },
  {
   "cell_type": "code",
   "execution_count": 83,
   "metadata": {},
   "outputs": [
    {
     "output_type": "execute_result",
     "data": {
      "text/plain": [
       "        FECHA_ACTUALIZACION ID_REGISTRO  ORIGEN  SECTOR  ENTIDAD_UM  SEXO  \\\n",
       "39125            2020-10-18      193243       2       4          19     2   \n",
       "39126            2020-10-18      0462c9       2       4          14     1   \n",
       "39127            2020-10-18      0cafed       2       4          19     2   \n",
       "39128            2020-10-18      194bf3       2       4          11     2   \n",
       "39129            2020-10-18      1b4b5a       2       4          26     2   \n",
       "...                     ...         ...     ...     ...         ...   ...   \n",
       "2183248          2020-10-18      37c6a8       2      12          11     1   \n",
       "2183251          2020-10-18      28b4d5       1      12           1     2   \n",
       "2183255          2020-10-18      414a3f       1      12           1     2   \n",
       "2183263          2020-10-18      3d7bff       1       4          19     2   \n",
       "2183264          2020-10-18      2d9933       1      12          13     2   \n",
       "\n",
       "         ENTIDAD_NAC  ENTIDAD_RES  MUNICIPIO_RES  TIPO_PACIENTE  ...  \\\n",
       "39125             10           19             46              1  ...   \n",
       "39126             14           14            120              1  ...   \n",
       "39127             19           19             26              1  ...   \n",
       "39128             11           11              7              1  ...   \n",
       "39129             26           26             55              1  ...   \n",
       "...              ...          ...            ...            ...  ...   \n",
       "2183248           11           11             31              1  ...   \n",
       "2183251            1            1              1              1  ...   \n",
       "2183255            1            1              1              1  ...   \n",
       "2183263           19           19             31              1  ...   \n",
       "2183264           13           13             77              1  ...   \n",
       "\n",
       "        RENAL_CRONICA TABAQUISMO OTRO_CASO  TOMA_MUESTRA  RESULTADO_LAB  \\\n",
       "39125               2          2        99             2             97   \n",
       "39126               2          2        99             2             97   \n",
       "39127               2          2        99             2             97   \n",
       "39128               2          2        99             2             97   \n",
       "39129               2          2        99             2             97   \n",
       "...               ...        ...       ...           ...            ...   \n",
       "2183248             2          2         2             2             97   \n",
       "2183251             2          2         2             2             97   \n",
       "2183255             2          2        99             2             97   \n",
       "2183263             2          2         2             2             97   \n",
       "2183264             2          2         2             2             97   \n",
       "\n",
       "         CLASIFICACION_FINAL  MIGRANTE  PAIS_NACIONALIDAD  PAIS_ORIGEN  UCI  \n",
       "39125                      6        99            MÃ©xico           97   97  \n",
       "39126                      6        99            MÃ©xico           97   97  \n",
       "39127                      6        99            MÃ©xico           97   97  \n",
       "39128                      6        99            MÃ©xico           97   97  \n",
       "39129                      6        99            MÃ©xico           97   97  \n",
       "...                      ...       ...                ...          ...  ...  \n",
       "2183248                    6        99            MÃ©xico           97   97  \n",
       "2183251                    6        99            MÃ©xico           97   97  \n",
       "2183255                    6        99            MÃ©xico           97   97  \n",
       "2183263                    6        99            MÃ©xico           97   97  \n",
       "2183264                    6        99            MÃ©xico           97   97  \n",
       "\n",
       "[176840 rows x 38 columns]"
      ],
      "text/html": "<div>\n<style scoped>\n    .dataframe tbody tr th:only-of-type {\n        vertical-align: middle;\n    }\n\n    .dataframe tbody tr th {\n        vertical-align: top;\n    }\n\n    .dataframe thead th {\n        text-align: right;\n    }\n</style>\n<table border=\"1\" class=\"dataframe\">\n  <thead>\n    <tr style=\"text-align: right;\">\n      <th></th>\n      <th>FECHA_ACTUALIZACION</th>\n      <th>ID_REGISTRO</th>\n      <th>ORIGEN</th>\n      <th>SECTOR</th>\n      <th>ENTIDAD_UM</th>\n      <th>SEXO</th>\n      <th>ENTIDAD_NAC</th>\n      <th>ENTIDAD_RES</th>\n      <th>MUNICIPIO_RES</th>\n      <th>TIPO_PACIENTE</th>\n      <th>...</th>\n      <th>RENAL_CRONICA</th>\n      <th>TABAQUISMO</th>\n      <th>OTRO_CASO</th>\n      <th>TOMA_MUESTRA</th>\n      <th>RESULTADO_LAB</th>\n      <th>CLASIFICACION_FINAL</th>\n      <th>MIGRANTE</th>\n      <th>PAIS_NACIONALIDAD</th>\n      <th>PAIS_ORIGEN</th>\n      <th>UCI</th>\n    </tr>\n  </thead>\n  <tbody>\n    <tr>\n      <th>39125</th>\n      <td>2020-10-18</td>\n      <td>193243</td>\n      <td>2</td>\n      <td>4</td>\n      <td>19</td>\n      <td>2</td>\n      <td>10</td>\n      <td>19</td>\n      <td>46</td>\n      <td>1</td>\n      <td>...</td>\n      <td>2</td>\n      <td>2</td>\n      <td>99</td>\n      <td>2</td>\n      <td>97</td>\n      <td>6</td>\n      <td>99</td>\n      <td>MÃ©xico</td>\n      <td>97</td>\n      <td>97</td>\n    </tr>\n    <tr>\n      <th>39126</th>\n      <td>2020-10-18</td>\n      <td>0462c9</td>\n      <td>2</td>\n      <td>4</td>\n      <td>14</td>\n      <td>1</td>\n      <td>14</td>\n      <td>14</td>\n      <td>120</td>\n      <td>1</td>\n      <td>...</td>\n      <td>2</td>\n      <td>2</td>\n      <td>99</td>\n      <td>2</td>\n      <td>97</td>\n      <td>6</td>\n      <td>99</td>\n      <td>MÃ©xico</td>\n      <td>97</td>\n      <td>97</td>\n    </tr>\n    <tr>\n      <th>39127</th>\n      <td>2020-10-18</td>\n      <td>0cafed</td>\n      <td>2</td>\n      <td>4</td>\n      <td>19</td>\n      <td>2</td>\n      <td>19</td>\n      <td>19</td>\n      <td>26</td>\n      <td>1</td>\n      <td>...</td>\n      <td>2</td>\n      <td>2</td>\n      <td>99</td>\n      <td>2</td>\n      <td>97</td>\n      <td>6</td>\n      <td>99</td>\n      <td>MÃ©xico</td>\n      <td>97</td>\n      <td>97</td>\n    </tr>\n    <tr>\n      <th>39128</th>\n      <td>2020-10-18</td>\n      <td>194bf3</td>\n      <td>2</td>\n      <td>4</td>\n      <td>11</td>\n      <td>2</td>\n      <td>11</td>\n      <td>11</td>\n      <td>7</td>\n      <td>1</td>\n      <td>...</td>\n      <td>2</td>\n      <td>2</td>\n      <td>99</td>\n      <td>2</td>\n      <td>97</td>\n      <td>6</td>\n      <td>99</td>\n      <td>MÃ©xico</td>\n      <td>97</td>\n      <td>97</td>\n    </tr>\n    <tr>\n      <th>39129</th>\n      <td>2020-10-18</td>\n      <td>1b4b5a</td>\n      <td>2</td>\n      <td>4</td>\n      <td>26</td>\n      <td>2</td>\n      <td>26</td>\n      <td>26</td>\n      <td>55</td>\n      <td>1</td>\n      <td>...</td>\n      <td>2</td>\n      <td>2</td>\n      <td>99</td>\n      <td>2</td>\n      <td>97</td>\n      <td>6</td>\n      <td>99</td>\n      <td>MÃ©xico</td>\n      <td>97</td>\n      <td>97</td>\n    </tr>\n    <tr>\n      <th>...</th>\n      <td>...</td>\n      <td>...</td>\n      <td>...</td>\n      <td>...</td>\n      <td>...</td>\n      <td>...</td>\n      <td>...</td>\n      <td>...</td>\n      <td>...</td>\n      <td>...</td>\n      <td>...</td>\n      <td>...</td>\n      <td>...</td>\n      <td>...</td>\n      <td>...</td>\n      <td>...</td>\n      <td>...</td>\n      <td>...</td>\n      <td>...</td>\n      <td>...</td>\n      <td>...</td>\n    </tr>\n    <tr>\n      <th>2183248</th>\n      <td>2020-10-18</td>\n      <td>37c6a8</td>\n      <td>2</td>\n      <td>12</td>\n      <td>11</td>\n      <td>1</td>\n      <td>11</td>\n      <td>11</td>\n      <td>31</td>\n      <td>1</td>\n      <td>...</td>\n      <td>2</td>\n      <td>2</td>\n      <td>2</td>\n      <td>2</td>\n      <td>97</td>\n      <td>6</td>\n      <td>99</td>\n      <td>MÃ©xico</td>\n      <td>97</td>\n      <td>97</td>\n    </tr>\n    <tr>\n      <th>2183251</th>\n      <td>2020-10-18</td>\n      <td>28b4d5</td>\n      <td>1</td>\n      <td>12</td>\n      <td>1</td>\n      <td>2</td>\n      <td>1</td>\n      <td>1</td>\n      <td>1</td>\n      <td>1</td>\n      <td>...</td>\n      <td>2</td>\n      <td>2</td>\n      <td>2</td>\n      <td>2</td>\n      <td>97</td>\n      <td>6</td>\n      <td>99</td>\n      <td>MÃ©xico</td>\n      <td>97</td>\n      <td>97</td>\n    </tr>\n    <tr>\n      <th>2183255</th>\n      <td>2020-10-18</td>\n      <td>414a3f</td>\n      <td>1</td>\n      <td>12</td>\n      <td>1</td>\n      <td>2</td>\n      <td>1</td>\n      <td>1</td>\n      <td>1</td>\n      <td>1</td>\n      <td>...</td>\n      <td>2</td>\n      <td>2</td>\n      <td>99</td>\n      <td>2</td>\n      <td>97</td>\n      <td>6</td>\n      <td>99</td>\n      <td>MÃ©xico</td>\n      <td>97</td>\n      <td>97</td>\n    </tr>\n    <tr>\n      <th>2183263</th>\n      <td>2020-10-18</td>\n      <td>3d7bff</td>\n      <td>1</td>\n      <td>4</td>\n      <td>19</td>\n      <td>2</td>\n      <td>19</td>\n      <td>19</td>\n      <td>31</td>\n      <td>1</td>\n      <td>...</td>\n      <td>2</td>\n      <td>2</td>\n      <td>2</td>\n      <td>2</td>\n      <td>97</td>\n      <td>6</td>\n      <td>99</td>\n      <td>MÃ©xico</td>\n      <td>97</td>\n      <td>97</td>\n    </tr>\n    <tr>\n      <th>2183264</th>\n      <td>2020-10-18</td>\n      <td>2d9933</td>\n      <td>1</td>\n      <td>12</td>\n      <td>13</td>\n      <td>2</td>\n      <td>13</td>\n      <td>13</td>\n      <td>77</td>\n      <td>1</td>\n      <td>...</td>\n      <td>2</td>\n      <td>2</td>\n      <td>2</td>\n      <td>2</td>\n      <td>97</td>\n      <td>6</td>\n      <td>99</td>\n      <td>MÃ©xico</td>\n      <td>97</td>\n      <td>97</td>\n    </tr>\n  </tbody>\n</table>\n<p>176840 rows × 38 columns</p>\n</div>"
     },
     "metadata": {},
     "execution_count": 83
    }
   ],
   "source": [
    "sospechosos_sin_muestra=data[(data[\"CLASIFICACION_FINAL\"]==6)&(data[\"RESULTADO_LAB\"]==97)]\n",
    "sospechosos_sin_muestra"
   ]
  },
  {
   "source": [
    "## Sospechosos con posibilidad de resultado\n",
    "\n",
    "Para identificar los sospechosos con posibilidad de resultado necesitamos un filtro compuesto por el valor 6 en la columna \"CLASIFICACION_FINAL\" y el valor 3 en la columna \"RESULTADO_LAB\". Este valor corresponde con la clasificación \"Resultado pendiente\" en el diccionario."
   ],
   "cell_type": "markdown",
   "metadata": {}
  },
  {
   "cell_type": "code",
   "execution_count": 85,
   "metadata": {},
   "outputs": [
    {
     "output_type": "execute_result",
     "data": {
      "text/plain": [
       "        FECHA_ACTUALIZACION ID_REGISTRO  ORIGEN  SECTOR  ENTIDAD_UM  SEXO  \\\n",
       "2134604          2020-10-18      3611b6       2       4          15     2   \n",
       "2134605          2020-10-18      2ba8f7       2       4          11     2   \n",
       "2134606          2020-10-18      45a62c       2       4           9     1   \n",
       "2134607          2020-10-18      23f242       2       4           9     1   \n",
       "2134608          2020-10-18      28907e       2       4          15     1   \n",
       "...                     ...         ...     ...     ...         ...   ...   \n",
       "2183266          2020-10-18      2edfde       2       6          28     2   \n",
       "2183267          2020-10-18      332cf5       2       4          30     1   \n",
       "2183268          2020-10-18      42c51a       2      12           9     2   \n",
       "2183270          2020-10-18      372368       2       9           8     2   \n",
       "2183271          2020-10-18      427b3f       2       9          19     2   \n",
       "\n",
       "         ENTIDAD_NAC  ENTIDAD_RES  MUNICIPIO_RES  TIPO_PACIENTE  ...  \\\n",
       "2134604           15           15             50              1  ...   \n",
       "2134605           11           11              7              1  ...   \n",
       "2134606           14           15            104              1  ...   \n",
       "2134607            9            9             13              1  ...   \n",
       "2134608           15           15            120              1  ...   \n",
       "...              ...          ...            ...            ...  ...   \n",
       "2183266           28           28              9              1  ...   \n",
       "2183267           30           30            135              1  ...   \n",
       "2183268            9            9             10              1  ...   \n",
       "2183270            8            8             19              2  ...   \n",
       "2183271           19           19             18              2  ...   \n",
       "\n",
       "        RENAL_CRONICA TABAQUISMO OTRO_CASO  TOMA_MUESTRA  RESULTADO_LAB  \\\n",
       "2134604             2          2         2             1              3   \n",
       "2134605             2          2         2             1              3   \n",
       "2134606             2          2         2             1              3   \n",
       "2134607             2          2         1             1              3   \n",
       "2134608             2          2         1             1              3   \n",
       "...               ...        ...       ...           ...            ...   \n",
       "2183266             2          2         2             1              3   \n",
       "2183267             2          2         2             1              3   \n",
       "2183268             2          2         1             1              3   \n",
       "2183270             2          2         2             1              3   \n",
       "2183271             2          2         2             1              3   \n",
       "\n",
       "         CLASIFICACION_FINAL  MIGRANTE  PAIS_NACIONALIDAD  PAIS_ORIGEN  UCI  \n",
       "2134604                    6        99            MÃ©xico           97   97  \n",
       "2134605                    6        99            MÃ©xico           97   97  \n",
       "2134606                    6        99            MÃ©xico           97   97  \n",
       "2134607                    6        99            MÃ©xico           97   97  \n",
       "2134608                    6        99            MÃ©xico           97   97  \n",
       "...                      ...       ...                ...          ...  ...  \n",
       "2183266                    6        99            MÃ©xico           97   97  \n",
       "2183267                    6        99            MÃ©xico           97   97  \n",
       "2183268                    6        99            MÃ©xico           97   97  \n",
       "2183270                    6        99            MÃ©xico           97    2  \n",
       "2183271                    6        99            MÃ©xico           97    2  \n",
       "\n",
       "[37200 rows x 38 columns]"
      ],
      "text/html": "<div>\n<style scoped>\n    .dataframe tbody tr th:only-of-type {\n        vertical-align: middle;\n    }\n\n    .dataframe tbody tr th {\n        vertical-align: top;\n    }\n\n    .dataframe thead th {\n        text-align: right;\n    }\n</style>\n<table border=\"1\" class=\"dataframe\">\n  <thead>\n    <tr style=\"text-align: right;\">\n      <th></th>\n      <th>FECHA_ACTUALIZACION</th>\n      <th>ID_REGISTRO</th>\n      <th>ORIGEN</th>\n      <th>SECTOR</th>\n      <th>ENTIDAD_UM</th>\n      <th>SEXO</th>\n      <th>ENTIDAD_NAC</th>\n      <th>ENTIDAD_RES</th>\n      <th>MUNICIPIO_RES</th>\n      <th>TIPO_PACIENTE</th>\n      <th>...</th>\n      <th>RENAL_CRONICA</th>\n      <th>TABAQUISMO</th>\n      <th>OTRO_CASO</th>\n      <th>TOMA_MUESTRA</th>\n      <th>RESULTADO_LAB</th>\n      <th>CLASIFICACION_FINAL</th>\n      <th>MIGRANTE</th>\n      <th>PAIS_NACIONALIDAD</th>\n      <th>PAIS_ORIGEN</th>\n      <th>UCI</th>\n    </tr>\n  </thead>\n  <tbody>\n    <tr>\n      <th>2134604</th>\n      <td>2020-10-18</td>\n      <td>3611b6</td>\n      <td>2</td>\n      <td>4</td>\n      <td>15</td>\n      <td>2</td>\n      <td>15</td>\n      <td>15</td>\n      <td>50</td>\n      <td>1</td>\n      <td>...</td>\n      <td>2</td>\n      <td>2</td>\n      <td>2</td>\n      <td>1</td>\n      <td>3</td>\n      <td>6</td>\n      <td>99</td>\n      <td>MÃ©xico</td>\n      <td>97</td>\n      <td>97</td>\n    </tr>\n    <tr>\n      <th>2134605</th>\n      <td>2020-10-18</td>\n      <td>2ba8f7</td>\n      <td>2</td>\n      <td>4</td>\n      <td>11</td>\n      <td>2</td>\n      <td>11</td>\n      <td>11</td>\n      <td>7</td>\n      <td>1</td>\n      <td>...</td>\n      <td>2</td>\n      <td>2</td>\n      <td>2</td>\n      <td>1</td>\n      <td>3</td>\n      <td>6</td>\n      <td>99</td>\n      <td>MÃ©xico</td>\n      <td>97</td>\n      <td>97</td>\n    </tr>\n    <tr>\n      <th>2134606</th>\n      <td>2020-10-18</td>\n      <td>45a62c</td>\n      <td>2</td>\n      <td>4</td>\n      <td>9</td>\n      <td>1</td>\n      <td>14</td>\n      <td>15</td>\n      <td>104</td>\n      <td>1</td>\n      <td>...</td>\n      <td>2</td>\n      <td>2</td>\n      <td>2</td>\n      <td>1</td>\n      <td>3</td>\n      <td>6</td>\n      <td>99</td>\n      <td>MÃ©xico</td>\n      <td>97</td>\n      <td>97</td>\n    </tr>\n    <tr>\n      <th>2134607</th>\n      <td>2020-10-18</td>\n      <td>23f242</td>\n      <td>2</td>\n      <td>4</td>\n      <td>9</td>\n      <td>1</td>\n      <td>9</td>\n      <td>9</td>\n      <td>13</td>\n      <td>1</td>\n      <td>...</td>\n      <td>2</td>\n      <td>2</td>\n      <td>1</td>\n      <td>1</td>\n      <td>3</td>\n      <td>6</td>\n      <td>99</td>\n      <td>MÃ©xico</td>\n      <td>97</td>\n      <td>97</td>\n    </tr>\n    <tr>\n      <th>2134608</th>\n      <td>2020-10-18</td>\n      <td>28907e</td>\n      <td>2</td>\n      <td>4</td>\n      <td>15</td>\n      <td>1</td>\n      <td>15</td>\n      <td>15</td>\n      <td>120</td>\n      <td>1</td>\n      <td>...</td>\n      <td>2</td>\n      <td>2</td>\n      <td>1</td>\n      <td>1</td>\n      <td>3</td>\n      <td>6</td>\n      <td>99</td>\n      <td>MÃ©xico</td>\n      <td>97</td>\n      <td>97</td>\n    </tr>\n    <tr>\n      <th>...</th>\n      <td>...</td>\n      <td>...</td>\n      <td>...</td>\n      <td>...</td>\n      <td>...</td>\n      <td>...</td>\n      <td>...</td>\n      <td>...</td>\n      <td>...</td>\n      <td>...</td>\n      <td>...</td>\n      <td>...</td>\n      <td>...</td>\n      <td>...</td>\n      <td>...</td>\n      <td>...</td>\n      <td>...</td>\n      <td>...</td>\n      <td>...</td>\n      <td>...</td>\n      <td>...</td>\n    </tr>\n    <tr>\n      <th>2183266</th>\n      <td>2020-10-18</td>\n      <td>2edfde</td>\n      <td>2</td>\n      <td>6</td>\n      <td>28</td>\n      <td>2</td>\n      <td>28</td>\n      <td>28</td>\n      <td>9</td>\n      <td>1</td>\n      <td>...</td>\n      <td>2</td>\n      <td>2</td>\n      <td>2</td>\n      <td>1</td>\n      <td>3</td>\n      <td>6</td>\n      <td>99</td>\n      <td>MÃ©xico</td>\n      <td>97</td>\n      <td>97</td>\n    </tr>\n    <tr>\n      <th>2183267</th>\n      <td>2020-10-18</td>\n      <td>332cf5</td>\n      <td>2</td>\n      <td>4</td>\n      <td>30</td>\n      <td>1</td>\n      <td>30</td>\n      <td>30</td>\n      <td>135</td>\n      <td>1</td>\n      <td>...</td>\n      <td>2</td>\n      <td>2</td>\n      <td>2</td>\n      <td>1</td>\n      <td>3</td>\n      <td>6</td>\n      <td>99</td>\n      <td>MÃ©xico</td>\n      <td>97</td>\n      <td>97</td>\n    </tr>\n    <tr>\n      <th>2183268</th>\n      <td>2020-10-18</td>\n      <td>42c51a</td>\n      <td>2</td>\n      <td>12</td>\n      <td>9</td>\n      <td>2</td>\n      <td>9</td>\n      <td>9</td>\n      <td>10</td>\n      <td>1</td>\n      <td>...</td>\n      <td>2</td>\n      <td>2</td>\n      <td>1</td>\n      <td>1</td>\n      <td>3</td>\n      <td>6</td>\n      <td>99</td>\n      <td>MÃ©xico</td>\n      <td>97</td>\n      <td>97</td>\n    </tr>\n    <tr>\n      <th>2183270</th>\n      <td>2020-10-18</td>\n      <td>372368</td>\n      <td>2</td>\n      <td>9</td>\n      <td>8</td>\n      <td>2</td>\n      <td>8</td>\n      <td>8</td>\n      <td>19</td>\n      <td>2</td>\n      <td>...</td>\n      <td>2</td>\n      <td>2</td>\n      <td>2</td>\n      <td>1</td>\n      <td>3</td>\n      <td>6</td>\n      <td>99</td>\n      <td>MÃ©xico</td>\n      <td>97</td>\n      <td>2</td>\n    </tr>\n    <tr>\n      <th>2183271</th>\n      <td>2020-10-18</td>\n      <td>427b3f</td>\n      <td>2</td>\n      <td>9</td>\n      <td>19</td>\n      <td>2</td>\n      <td>19</td>\n      <td>19</td>\n      <td>18</td>\n      <td>2</td>\n      <td>...</td>\n      <td>2</td>\n      <td>2</td>\n      <td>2</td>\n      <td>1</td>\n      <td>3</td>\n      <td>6</td>\n      <td>99</td>\n      <td>MÃ©xico</td>\n      <td>97</td>\n      <td>2</td>\n    </tr>\n  </tbody>\n</table>\n<p>37200 rows × 38 columns</p>\n</div>"
     },
     "metadata": {},
     "execution_count": 85
    }
   ],
   "source": [
    "sospechosos_con_posibilidad=data[(data[\"CLASIFICACION_FINAL\"]==6)&(data[\"RESULTADO_LAB\"]==3)]\n",
    "sospechosos_con_posibilidad"
   ]
  },
  {
   "source": [
    "## Sospechosos sin posibilidad de resultado\n",
    "\n",
    "LOs casos sospechosos sin posibilidad de resultado son un poco más complejos. El filtro compuesto usado por la secretaría es el sigguiente, primero necesitamos aquellos casos que en la columna \"RESULTADO_LAB\" tienen valor 4, correspondiente a \"Resultado no adecuado\". Con respecto a la columna de \"CLASIFICACION_FINAL\" necesitamos el valor 6 correspondiente a \"Caso sospechoso\", pero además necesitamos agregar los valores 5 y 4 que se corresponden con los casos en donde la muestra no se realizó por el laboratorio o se invalidó por el laboratorio. "
   ],
   "cell_type": "markdown",
   "metadata": {}
  },
  {
   "cell_type": "code",
   "execution_count": 86,
   "metadata": {},
   "outputs": [
    {
     "output_type": "execute_result",
     "data": {
      "text/plain": [
       "        FECHA_ACTUALIZACION ID_REGISTRO  ORIGEN  SECTOR  ENTIDAD_UM  SEXO  \\\n",
       "3955             2020-10-18      15cd78       1       4          26     2   \n",
       "3957             2020-10-18      17088a       1       4           9     1   \n",
       "3960             2020-10-18      14bac7       2      12           1     1   \n",
       "3962             2020-10-18      0e98be       2       4          21     2   \n",
       "3978             2020-10-18      0385cb       2       4          19     2   \n",
       "...                     ...         ...     ...     ...         ...   ...   \n",
       "2183241          2020-10-18      43e449       2      12          15     2   \n",
       "2183246          2020-10-18      3ab0f8       1       6          10     2   \n",
       "2183247          2020-10-18      436cf1       2      12          15     1   \n",
       "2183260          2020-10-18      3b2e97       2       9           9     2   \n",
       "2183261          2020-10-18      3980f8       1      12          15     2   \n",
       "\n",
       "         ENTIDAD_NAC  ENTIDAD_RES  MUNICIPIO_RES  TIPO_PACIENTE  ...  \\\n",
       "3955              26           26             43              2  ...   \n",
       "3957               9            9              2              1  ...   \n",
       "3960               1            1              3              1  ...   \n",
       "3962              21           21             74              1  ...   \n",
       "3978              19           19              6              2  ...   \n",
       "...              ...          ...            ...            ...  ...   \n",
       "2183241           15           15            106              1  ...   \n",
       "2183246           10           10              5              1  ...   \n",
       "2183247           15           15            121              1  ...   \n",
       "2183260            9           15             76              1  ...   \n",
       "2183261           15           15             14              1  ...   \n",
       "\n",
       "        RENAL_CRONICA TABAQUISMO OTRO_CASO  TOMA_MUESTRA  RESULTADO_LAB  \\\n",
       "3955                2          2        99             1              4   \n",
       "3957                2          2         1             1              4   \n",
       "3960                2          2         2             1              4   \n",
       "3962                2          2         1             1              4   \n",
       "3978                2          2        99             1              4   \n",
       "...               ...        ...       ...           ...            ...   \n",
       "2183241             2          2         1             1              4   \n",
       "2183246             2          2         1             1              4   \n",
       "2183247             2          2         2             1              4   \n",
       "2183260             2          2         2             1              4   \n",
       "2183261             2          2         1             1              4   \n",
       "\n",
       "         CLASIFICACION_FINAL  MIGRANTE  PAIS_NACIONALIDAD  PAIS_ORIGEN  UCI  \n",
       "3955                       5        99            MÃ©xico           97    2  \n",
       "3957                       5        99            MÃ©xico           97   97  \n",
       "3960                       5        99            MÃ©xico           97   97  \n",
       "3962                       5        99            MÃ©xico           97   97  \n",
       "3978                       5        99            MÃ©xico           97    2  \n",
       "...                      ...       ...                ...          ...  ...  \n",
       "2183241                    6        99            MÃ©xico           97   97  \n",
       "2183246                    6        99            MÃ©xico           97   97  \n",
       "2183247                    6        99            MÃ©xico           97   97  \n",
       "2183260                    6        99            MÃ©xico           97   97  \n",
       "2183261                    6        99            MÃ©xico           97   97  \n",
       "\n",
       "[98184 rows x 38 columns]"
      ],
      "text/html": "<div>\n<style scoped>\n    .dataframe tbody tr th:only-of-type {\n        vertical-align: middle;\n    }\n\n    .dataframe tbody tr th {\n        vertical-align: top;\n    }\n\n    .dataframe thead th {\n        text-align: right;\n    }\n</style>\n<table border=\"1\" class=\"dataframe\">\n  <thead>\n    <tr style=\"text-align: right;\">\n      <th></th>\n      <th>FECHA_ACTUALIZACION</th>\n      <th>ID_REGISTRO</th>\n      <th>ORIGEN</th>\n      <th>SECTOR</th>\n      <th>ENTIDAD_UM</th>\n      <th>SEXO</th>\n      <th>ENTIDAD_NAC</th>\n      <th>ENTIDAD_RES</th>\n      <th>MUNICIPIO_RES</th>\n      <th>TIPO_PACIENTE</th>\n      <th>...</th>\n      <th>RENAL_CRONICA</th>\n      <th>TABAQUISMO</th>\n      <th>OTRO_CASO</th>\n      <th>TOMA_MUESTRA</th>\n      <th>RESULTADO_LAB</th>\n      <th>CLASIFICACION_FINAL</th>\n      <th>MIGRANTE</th>\n      <th>PAIS_NACIONALIDAD</th>\n      <th>PAIS_ORIGEN</th>\n      <th>UCI</th>\n    </tr>\n  </thead>\n  <tbody>\n    <tr>\n      <th>3955</th>\n      <td>2020-10-18</td>\n      <td>15cd78</td>\n      <td>1</td>\n      <td>4</td>\n      <td>26</td>\n      <td>2</td>\n      <td>26</td>\n      <td>26</td>\n      <td>43</td>\n      <td>2</td>\n      <td>...</td>\n      <td>2</td>\n      <td>2</td>\n      <td>99</td>\n      <td>1</td>\n      <td>4</td>\n      <td>5</td>\n      <td>99</td>\n      <td>MÃ©xico</td>\n      <td>97</td>\n      <td>2</td>\n    </tr>\n    <tr>\n      <th>3957</th>\n      <td>2020-10-18</td>\n      <td>17088a</td>\n      <td>1</td>\n      <td>4</td>\n      <td>9</td>\n      <td>1</td>\n      <td>9</td>\n      <td>9</td>\n      <td>2</td>\n      <td>1</td>\n      <td>...</td>\n      <td>2</td>\n      <td>2</td>\n      <td>1</td>\n      <td>1</td>\n      <td>4</td>\n      <td>5</td>\n      <td>99</td>\n      <td>MÃ©xico</td>\n      <td>97</td>\n      <td>97</td>\n    </tr>\n    <tr>\n      <th>3960</th>\n      <td>2020-10-18</td>\n      <td>14bac7</td>\n      <td>2</td>\n      <td>12</td>\n      <td>1</td>\n      <td>1</td>\n      <td>1</td>\n      <td>1</td>\n      <td>3</td>\n      <td>1</td>\n      <td>...</td>\n      <td>2</td>\n      <td>2</td>\n      <td>2</td>\n      <td>1</td>\n      <td>4</td>\n      <td>5</td>\n      <td>99</td>\n      <td>MÃ©xico</td>\n      <td>97</td>\n      <td>97</td>\n    </tr>\n    <tr>\n      <th>3962</th>\n      <td>2020-10-18</td>\n      <td>0e98be</td>\n      <td>2</td>\n      <td>4</td>\n      <td>21</td>\n      <td>2</td>\n      <td>21</td>\n      <td>21</td>\n      <td>74</td>\n      <td>1</td>\n      <td>...</td>\n      <td>2</td>\n      <td>2</td>\n      <td>1</td>\n      <td>1</td>\n      <td>4</td>\n      <td>5</td>\n      <td>99</td>\n      <td>MÃ©xico</td>\n      <td>97</td>\n      <td>97</td>\n    </tr>\n    <tr>\n      <th>3978</th>\n      <td>2020-10-18</td>\n      <td>0385cb</td>\n      <td>2</td>\n      <td>4</td>\n      <td>19</td>\n      <td>2</td>\n      <td>19</td>\n      <td>19</td>\n      <td>6</td>\n      <td>2</td>\n      <td>...</td>\n      <td>2</td>\n      <td>2</td>\n      <td>99</td>\n      <td>1</td>\n      <td>4</td>\n      <td>5</td>\n      <td>99</td>\n      <td>MÃ©xico</td>\n      <td>97</td>\n      <td>2</td>\n    </tr>\n    <tr>\n      <th>...</th>\n      <td>...</td>\n      <td>...</td>\n      <td>...</td>\n      <td>...</td>\n      <td>...</td>\n      <td>...</td>\n      <td>...</td>\n      <td>...</td>\n      <td>...</td>\n      <td>...</td>\n      <td>...</td>\n      <td>...</td>\n      <td>...</td>\n      <td>...</td>\n      <td>...</td>\n      <td>...</td>\n      <td>...</td>\n      <td>...</td>\n      <td>...</td>\n      <td>...</td>\n      <td>...</td>\n    </tr>\n    <tr>\n      <th>2183241</th>\n      <td>2020-10-18</td>\n      <td>43e449</td>\n      <td>2</td>\n      <td>12</td>\n      <td>15</td>\n      <td>2</td>\n      <td>15</td>\n      <td>15</td>\n      <td>106</td>\n      <td>1</td>\n      <td>...</td>\n      <td>2</td>\n      <td>2</td>\n      <td>1</td>\n      <td>1</td>\n      <td>4</td>\n      <td>6</td>\n      <td>99</td>\n      <td>MÃ©xico</td>\n      <td>97</td>\n      <td>97</td>\n    </tr>\n    <tr>\n      <th>2183246</th>\n      <td>2020-10-18</td>\n      <td>3ab0f8</td>\n      <td>1</td>\n      <td>6</td>\n      <td>10</td>\n      <td>2</td>\n      <td>10</td>\n      <td>10</td>\n      <td>5</td>\n      <td>1</td>\n      <td>...</td>\n      <td>2</td>\n      <td>2</td>\n      <td>1</td>\n      <td>1</td>\n      <td>4</td>\n      <td>6</td>\n      <td>99</td>\n      <td>MÃ©xico</td>\n      <td>97</td>\n      <td>97</td>\n    </tr>\n    <tr>\n      <th>2183247</th>\n      <td>2020-10-18</td>\n      <td>436cf1</td>\n      <td>2</td>\n      <td>12</td>\n      <td>15</td>\n      <td>1</td>\n      <td>15</td>\n      <td>15</td>\n      <td>121</td>\n      <td>1</td>\n      <td>...</td>\n      <td>2</td>\n      <td>2</td>\n      <td>2</td>\n      <td>1</td>\n      <td>4</td>\n      <td>6</td>\n      <td>99</td>\n      <td>MÃ©xico</td>\n      <td>97</td>\n      <td>97</td>\n    </tr>\n    <tr>\n      <th>2183260</th>\n      <td>2020-10-18</td>\n      <td>3b2e97</td>\n      <td>2</td>\n      <td>9</td>\n      <td>9</td>\n      <td>2</td>\n      <td>9</td>\n      <td>15</td>\n      <td>76</td>\n      <td>1</td>\n      <td>...</td>\n      <td>2</td>\n      <td>2</td>\n      <td>2</td>\n      <td>1</td>\n      <td>4</td>\n      <td>6</td>\n      <td>99</td>\n      <td>MÃ©xico</td>\n      <td>97</td>\n      <td>97</td>\n    </tr>\n    <tr>\n      <th>2183261</th>\n      <td>2020-10-18</td>\n      <td>3980f8</td>\n      <td>1</td>\n      <td>12</td>\n      <td>15</td>\n      <td>2</td>\n      <td>15</td>\n      <td>15</td>\n      <td>14</td>\n      <td>1</td>\n      <td>...</td>\n      <td>2</td>\n      <td>2</td>\n      <td>1</td>\n      <td>1</td>\n      <td>4</td>\n      <td>6</td>\n      <td>99</td>\n      <td>MÃ©xico</td>\n      <td>97</td>\n      <td>97</td>\n    </tr>\n  </tbody>\n</table>\n<p>98184 rows × 38 columns</p>\n</div>"
     },
     "metadata": {},
     "execution_count": 86
    }
   ],
   "source": [
    "sospechosos_sin_posibilidad=data[(data[\"CLASIFICACION_FINAL\"].isin([6,5,4]))&(data[\"RESULTADO_LAB\"].isin([4]))]\n",
    "sospechosos_sin_posibilidad"
   ]
  },
  {
   "source": [
    "## Defunciones\n",
    "\n",
    "Nos falta detectar los casos que corresponden a personas que fallecieron. Lamentablemente la base de datos no cuenta con una columna que indique de forma categórica si el caso falleció o no. Sin embargo podemos obtener este dato de forma indirecta. La base de datos cuenta con una columna que indica la fecha de defunción, esta columna es \"FECHA_DEF\". Exploremos cuales son sus valores..."
   ],
   "cell_type": "markdown",
   "metadata": {}
  },
  {
   "cell_type": "code",
   "execution_count": 90,
   "metadata": {},
   "outputs": [
    {
     "output_type": "execute_result",
     "data": {
      "text/plain": [
       "9999-99-99    2059923\n",
       "2020-07-06        980\n",
       "2020-07-07        966\n",
       "2020-06-16        956\n",
       "2020-07-13        948\n",
       "               ...   \n",
       "2020-03-08          5\n",
       "2020-01-06          3\n",
       "2020-01-05          2\n",
       "2020-01-04          1\n",
       "2020-01-02          1\n",
       "Name: FECHA_DEF, Length: 291, dtype: int64"
      ]
     },
     "metadata": {},
     "execution_count": 90
    }
   ],
   "source": [
    "data[\"FECHA_DEF\"].value_counts()"
   ]
  },
  {
   "source": [
    "Podemos observar que la columna efectivamente contiene fechas, el format de estas es \"Año-mes-día\". Además notamos que el valor más utilizado es el valor \"9999-99-99\" que no se corresponde con ninguna fecha válida. Podemos asumir que las filas que en esta columna tienen el valor \"9999-99-99\" corresponden con casos que no han fallecido.\n",
    "\n",
    "Filtrando con este valor podríamos obtener los casos que aún no han fallecido, filtrando por las filas que NO tienen este valor podemos identificar los casos que han fallecido.\n",
    "\n",
    "Para buscar un valor en específico utilizabamos el operador doble igual ==, para buscar valores diferentes usamos el operador \"diferente a\" que en Pandas es el símbolo != \n",
    "\n",
    "Para encontrar los casos fallecidos por COVID necesitamos hacer un filtro compuesto, necesitamos identificar los casos confirmados (columna \"CLASIFICACION_FINAL\" con valores 1,2 o 3) y ademas aquellos casos que fallecieron. Podríamos crear este filtro compuesto sobre nuestros datos originales, sin embargo aprovecharemos que previamente creamos el DataFrame \"confirmados\" que únicamente contiene los casos confirmados y aplicaremos el filtro de defunciones sobre este DataFrame. El DataFrame resultante lo guardamos en otra variable "
   ],
   "cell_type": "markdown",
   "metadata": {}
  },
  {
   "cell_type": "code",
   "execution_count": 92,
   "metadata": {},
   "outputs": [
    {
     "output_type": "execute_result",
     "data": {
      "text/plain": [
       "        FECHA_ACTUALIZACION ID_REGISTRO  ORIGEN  SECTOR  ENTIDAD_UM  SEXO  \\\n",
       "5                2020-10-18      043f64       2       4           9     2   \n",
       "6                2020-10-18      0e07d8       1       4          15     2   \n",
       "9                2020-10-18      11fb00       1      12           9     2   \n",
       "12               2020-10-18      1a1f12       2       4          14     2   \n",
       "20               2020-10-18      0e7853       1      13          21     1   \n",
       "...                     ...         ...     ...     ...         ...   ...   \n",
       "2176939          2020-10-18      429fc1       2      12           9     2   \n",
       "2177689          2020-10-18      2fb89e       2      10           9     2   \n",
       "2178901          2020-10-18      22b433       1       6           9     2   \n",
       "2180380          2020-10-18      36f81d       1       6           9     2   \n",
       "2183262          2020-10-18      365e11       1       6           9     1   \n",
       "\n",
       "         ENTIDAD_NAC  ENTIDAD_RES  MUNICIPIO_RES  TIPO_PACIENTE  ...  \\\n",
       "5                  9            9             10              2  ...   \n",
       "6                 15           15            104              2  ...   \n",
       "9                  9            9             15              1  ...   \n",
       "12                 9           14             67              2  ...   \n",
       "20                21           21             85              2  ...   \n",
       "...              ...          ...            ...            ...  ...   \n",
       "2176939            9            9              7              2  ...   \n",
       "2177689           16           15             60              2  ...   \n",
       "2178901            9            9             17              2  ...   \n",
       "2180380           21           15             58              2  ...   \n",
       "2183262           17           15             58              2  ...   \n",
       "\n",
       "        RENAL_CRONICA TABAQUISMO OTRO_CASO  TOMA_MUESTRA  RESULTADO_LAB  \\\n",
       "5                   1          2        99             1              1   \n",
       "6                   2          2        99             1              1   \n",
       "9                   2          2         1             1              1   \n",
       "12                  2          2         2             1              1   \n",
       "20                  2          2         2             1              1   \n",
       "...               ...        ...       ...           ...            ...   \n",
       "2176939             2          2         2             2             97   \n",
       "2177689             2          2         2             2             97   \n",
       "2178901             2          2         2             2             97   \n",
       "2180380            98         98         2             2             97   \n",
       "2183262             2          2         2             2             97   \n",
       "\n",
       "         CLASIFICACION_FINAL  MIGRANTE  PAIS_NACIONALIDAD  PAIS_ORIGEN  UCI  \n",
       "5                          3        99            MÃ©xico           97    1  \n",
       "6                          3        99            MÃ©xico           97    2  \n",
       "9                          3        99            MÃ©xico           97   97  \n",
       "12                         3        99            MÃ©xico           97    2  \n",
       "20                         3        99            MÃ©xico           97    2  \n",
       "...                      ...       ...                ...          ...  ...  \n",
       "2176939                    2        99            MÃ©xico           97    2  \n",
       "2177689                    1        99            MÃ©xico           97    2  \n",
       "2178901                    1        99            MÃ©xico           97    2  \n",
       "2180380                    1        99            MÃ©xico           97    2  \n",
       "2183262                    1        99            MÃ©xico           97    2  \n",
       "\n",
       "[86167 rows x 38 columns]"
      ],
      "text/html": "<div>\n<style scoped>\n    .dataframe tbody tr th:only-of-type {\n        vertical-align: middle;\n    }\n\n    .dataframe tbody tr th {\n        vertical-align: top;\n    }\n\n    .dataframe thead th {\n        text-align: right;\n    }\n</style>\n<table border=\"1\" class=\"dataframe\">\n  <thead>\n    <tr style=\"text-align: right;\">\n      <th></th>\n      <th>FECHA_ACTUALIZACION</th>\n      <th>ID_REGISTRO</th>\n      <th>ORIGEN</th>\n      <th>SECTOR</th>\n      <th>ENTIDAD_UM</th>\n      <th>SEXO</th>\n      <th>ENTIDAD_NAC</th>\n      <th>ENTIDAD_RES</th>\n      <th>MUNICIPIO_RES</th>\n      <th>TIPO_PACIENTE</th>\n      <th>...</th>\n      <th>RENAL_CRONICA</th>\n      <th>TABAQUISMO</th>\n      <th>OTRO_CASO</th>\n      <th>TOMA_MUESTRA</th>\n      <th>RESULTADO_LAB</th>\n      <th>CLASIFICACION_FINAL</th>\n      <th>MIGRANTE</th>\n      <th>PAIS_NACIONALIDAD</th>\n      <th>PAIS_ORIGEN</th>\n      <th>UCI</th>\n    </tr>\n  </thead>\n  <tbody>\n    <tr>\n      <th>5</th>\n      <td>2020-10-18</td>\n      <td>043f64</td>\n      <td>2</td>\n      <td>4</td>\n      <td>9</td>\n      <td>2</td>\n      <td>9</td>\n      <td>9</td>\n      <td>10</td>\n      <td>2</td>\n      <td>...</td>\n      <td>1</td>\n      <td>2</td>\n      <td>99</td>\n      <td>1</td>\n      <td>1</td>\n      <td>3</td>\n      <td>99</td>\n      <td>MÃ©xico</td>\n      <td>97</td>\n      <td>1</td>\n    </tr>\n    <tr>\n      <th>6</th>\n      <td>2020-10-18</td>\n      <td>0e07d8</td>\n      <td>1</td>\n      <td>4</td>\n      <td>15</td>\n      <td>2</td>\n      <td>15</td>\n      <td>15</td>\n      <td>104</td>\n      <td>2</td>\n      <td>...</td>\n      <td>2</td>\n      <td>2</td>\n      <td>99</td>\n      <td>1</td>\n      <td>1</td>\n      <td>3</td>\n      <td>99</td>\n      <td>MÃ©xico</td>\n      <td>97</td>\n      <td>2</td>\n    </tr>\n    <tr>\n      <th>9</th>\n      <td>2020-10-18</td>\n      <td>11fb00</td>\n      <td>1</td>\n      <td>12</td>\n      <td>9</td>\n      <td>2</td>\n      <td>9</td>\n      <td>9</td>\n      <td>15</td>\n      <td>1</td>\n      <td>...</td>\n      <td>2</td>\n      <td>2</td>\n      <td>1</td>\n      <td>1</td>\n      <td>1</td>\n      <td>3</td>\n      <td>99</td>\n      <td>MÃ©xico</td>\n      <td>97</td>\n      <td>97</td>\n    </tr>\n    <tr>\n      <th>12</th>\n      <td>2020-10-18</td>\n      <td>1a1f12</td>\n      <td>2</td>\n      <td>4</td>\n      <td>14</td>\n      <td>2</td>\n      <td>9</td>\n      <td>14</td>\n      <td>67</td>\n      <td>2</td>\n      <td>...</td>\n      <td>2</td>\n      <td>2</td>\n      <td>2</td>\n      <td>1</td>\n      <td>1</td>\n      <td>3</td>\n      <td>99</td>\n      <td>MÃ©xico</td>\n      <td>97</td>\n      <td>2</td>\n    </tr>\n    <tr>\n      <th>20</th>\n      <td>2020-10-18</td>\n      <td>0e7853</td>\n      <td>1</td>\n      <td>13</td>\n      <td>21</td>\n      <td>1</td>\n      <td>21</td>\n      <td>21</td>\n      <td>85</td>\n      <td>2</td>\n      <td>...</td>\n      <td>2</td>\n      <td>2</td>\n      <td>2</td>\n      <td>1</td>\n      <td>1</td>\n      <td>3</td>\n      <td>99</td>\n      <td>MÃ©xico</td>\n      <td>97</td>\n      <td>2</td>\n    </tr>\n    <tr>\n      <th>...</th>\n      <td>...</td>\n      <td>...</td>\n      <td>...</td>\n      <td>...</td>\n      <td>...</td>\n      <td>...</td>\n      <td>...</td>\n      <td>...</td>\n      <td>...</td>\n      <td>...</td>\n      <td>...</td>\n      <td>...</td>\n      <td>...</td>\n      <td>...</td>\n      <td>...</td>\n      <td>...</td>\n      <td>...</td>\n      <td>...</td>\n      <td>...</td>\n      <td>...</td>\n      <td>...</td>\n    </tr>\n    <tr>\n      <th>2176939</th>\n      <td>2020-10-18</td>\n      <td>429fc1</td>\n      <td>2</td>\n      <td>12</td>\n      <td>9</td>\n      <td>2</td>\n      <td>9</td>\n      <td>9</td>\n      <td>7</td>\n      <td>2</td>\n      <td>...</td>\n      <td>2</td>\n      <td>2</td>\n      <td>2</td>\n      <td>2</td>\n      <td>97</td>\n      <td>2</td>\n      <td>99</td>\n      <td>MÃ©xico</td>\n      <td>97</td>\n      <td>2</td>\n    </tr>\n    <tr>\n      <th>2177689</th>\n      <td>2020-10-18</td>\n      <td>2fb89e</td>\n      <td>2</td>\n      <td>10</td>\n      <td>9</td>\n      <td>2</td>\n      <td>16</td>\n      <td>15</td>\n      <td>60</td>\n      <td>2</td>\n      <td>...</td>\n      <td>2</td>\n      <td>2</td>\n      <td>2</td>\n      <td>2</td>\n      <td>97</td>\n      <td>1</td>\n      <td>99</td>\n      <td>MÃ©xico</td>\n      <td>97</td>\n      <td>2</td>\n    </tr>\n    <tr>\n      <th>2178901</th>\n      <td>2020-10-18</td>\n      <td>22b433</td>\n      <td>1</td>\n      <td>6</td>\n      <td>9</td>\n      <td>2</td>\n      <td>9</td>\n      <td>9</td>\n      <td>17</td>\n      <td>2</td>\n      <td>...</td>\n      <td>2</td>\n      <td>2</td>\n      <td>2</td>\n      <td>2</td>\n      <td>97</td>\n      <td>1</td>\n      <td>99</td>\n      <td>MÃ©xico</td>\n      <td>97</td>\n      <td>2</td>\n    </tr>\n    <tr>\n      <th>2180380</th>\n      <td>2020-10-18</td>\n      <td>36f81d</td>\n      <td>1</td>\n      <td>6</td>\n      <td>9</td>\n      <td>2</td>\n      <td>21</td>\n      <td>15</td>\n      <td>58</td>\n      <td>2</td>\n      <td>...</td>\n      <td>98</td>\n      <td>98</td>\n      <td>2</td>\n      <td>2</td>\n      <td>97</td>\n      <td>1</td>\n      <td>99</td>\n      <td>MÃ©xico</td>\n      <td>97</td>\n      <td>2</td>\n    </tr>\n    <tr>\n      <th>2183262</th>\n      <td>2020-10-18</td>\n      <td>365e11</td>\n      <td>1</td>\n      <td>6</td>\n      <td>9</td>\n      <td>1</td>\n      <td>17</td>\n      <td>15</td>\n      <td>58</td>\n      <td>2</td>\n      <td>...</td>\n      <td>2</td>\n      <td>2</td>\n      <td>2</td>\n      <td>2</td>\n      <td>97</td>\n      <td>1</td>\n      <td>99</td>\n      <td>MÃ©xico</td>\n      <td>97</td>\n      <td>2</td>\n    </tr>\n  </tbody>\n</table>\n<p>86167 rows × 38 columns</p>\n</div>"
     },
     "metadata": {},
     "execution_count": 92
    }
   ],
   "source": [
    "defunciones = confirmados[confirmados[\"FECHA_DEF\"]!=\"9999-99-99\"]\n",
    "defunciones"
   ]
  },
  {
   "source": [
    "Como podemos observar en el número de filas de los DataFrames creados y en la imágen de la conferencia de la secretaría, los reportes concuerdan. (Recuerda, si estás repitiendo este ejercicio tendrás otros datos y deberás comparar con la imágen correspondiente al día de tus datos. [Acá los videos de todas las conferencias](https://www.youtube.com/channel/UCu2Uc7YeJmE9mvGG9OK-zbQ))"
   ],
   "cell_type": "markdown",
   "metadata": {}
  },
  {
   "source": [
    "## Graficando los casos confirmados diarios\n",
    "\n",
    "Una vez que tenemos nuestros casos separados en categorías podemos hacer gráficas con ellos. A partir de aquí nos concentraremos en el DataFrame que creamos con casos confirmados. El proceso para hacer gráficas con los otros DataFrames es similar.\n",
    "\n",
    "La gráfica que queremos hacer es una gráfica en la cual se muestre el número de casos en función del tiempo."
   ],
   "cell_type": "markdown",
   "metadata": {}
  },
  {
   "source": [
    "## Agrupando por fechas\n",
    "\n",
    "Para realizar la gráfica necesitamos saber cuantos casos confirmados hubo por día. Anteriormente usamos la función value_counts() para saber cuantas filas se correspondían con ciertos valores en una columna. Esa función está bien para explorar los datos pero esta vez lo haremos agrupando filas de acuerdo a valores en ciertas columnas, el método de agrupar es más poderoso porque se puede hacer para varias columnas y es parte de uno de los procesos más importantes en el análisis de datos. Comencemos agrupando por los valores de una columna."
   ],
   "cell_type": "markdown",
   "metadata": {}
  },
  {
   "source": [
    "Para agrupar usaremos la función groupby(). Esta función utiliza como parámetros el nombre de una columna o una lista con las columnas que queremos utilizar para poder agrupar el DataFrame. El resultado de aplicar esta función es un grupo, los elementos de ese grupo serán estructuras de Datos similares a DataFrames, una por cada conjunto de valores únicos en las columnas que utilizamos para agrupar. Usemos la función para agrupar de acuerdo a los valores de solamente una columna. La columna que nos interesa es \"FECHA_SINTOMAS\" que indíca la fecha en la que presentó síntomas el caso.\n",
    "\n",
    "Agrupmos el DataFrame \"confirmados\" usando la función groupby() con la columna \"FECHA_SINTOMAS\", el resultado lo guardaremos en la variable grupos."
   ],
   "cell_type": "markdown",
   "metadata": {}
  },
  {
   "cell_type": "code",
   "execution_count": 95,
   "metadata": {},
   "outputs": [],
   "source": [
    "grupos = confirmados.groupby(\"FECHA_SINTOMAS\")"
   ]
  },
  {
   "source": [
    "Si exploramos que hay guardado en la variable grupos veremos que solamente obtenemos una indicación de que tenemos grupos guardados en ella. Esto es debido a que ya no es posible visualizar toda la estructura de datos. Cada elemento del grupo es similar a un DataFrame y entonces un grupo estaría hecho por muchos de estos elementos, por muchos DataFrames.\n",
    "\n",
    "No podemos verlos pero si podemos operar con ellos. Hay muchas operaciones que podemos hacer sobre cada uno de los grupos, en este ejemplo nos interesa una de las más simples. Solamente queremos saber cuantas filas quedaron en cada grupo. Para eso utilizamos la función size() sobre el grupo."
   ],
   "cell_type": "markdown",
   "metadata": {}
  },
  {
   "cell_type": "code",
   "execution_count": 96,
   "metadata": {},
   "outputs": [
    {
     "output_type": "execute_result",
     "data": {
      "text/plain": [
       "FECHA_SINTOMAS\n",
       "2020-01-13       1\n",
       "2020-01-29       1\n",
       "2020-02-06       1\n",
       "2020-02-18       1\n",
       "2020-02-19       1\n",
       "              ... \n",
       "2020-10-13    1389\n",
       "2020-10-14     671\n",
       "2020-10-15     335\n",
       "2020-10-16      63\n",
       "2020-10-17      18\n",
       "Length: 245, dtype: int64"
      ]
     },
     "metadata": {},
     "execution_count": 96
    }
   ],
   "source": [
    "grupos.size()"
   ]
  },
  {
   "source": [
    "El resultado es una serie, el índice de la serie es la fecha y los valores corresponden con el número de casos confirmados que iniciaron síntomas en la fecha correspondiente. Para graficar estos valores utilizaremos Bokeh, una librería para realizar gráficas. En bokeh es más fácil graficar si tenemos DataFrames y no series, por lo cual tenemos que cambiar nuestra Serie a un DataFrame. Podemos cambiarlo con la función to_frame() la cual puede adimitir un parámetro que nos permite ponerle un nombre a la columna. Encadenaremos la función al comando usado anteriormente"
   ],
   "cell_type": "markdown",
   "metadata": {}
  },
  {
   "cell_type": "code",
   "execution_count": 97,
   "metadata": {},
   "outputs": [
    {
     "output_type": "execute_result",
     "data": {
      "text/plain": [
       "                casos confirmados\n",
       "FECHA_SINTOMAS                   \n",
       "2020-01-13                      1\n",
       "2020-01-29                      1\n",
       "2020-02-06                      1\n",
       "2020-02-18                      1\n",
       "2020-02-19                      1\n",
       "...                           ...\n",
       "2020-10-13                   1389\n",
       "2020-10-14                    671\n",
       "2020-10-15                    335\n",
       "2020-10-16                     63\n",
       "2020-10-17                     18\n",
       "\n",
       "[245 rows x 1 columns]"
      ],
      "text/html": "<div>\n<style scoped>\n    .dataframe tbody tr th:only-of-type {\n        vertical-align: middle;\n    }\n\n    .dataframe tbody tr th {\n        vertical-align: top;\n    }\n\n    .dataframe thead th {\n        text-align: right;\n    }\n</style>\n<table border=\"1\" class=\"dataframe\">\n  <thead>\n    <tr style=\"text-align: right;\">\n      <th></th>\n      <th>casos confirmados</th>\n    </tr>\n    <tr>\n      <th>FECHA_SINTOMAS</th>\n      <th></th>\n    </tr>\n  </thead>\n  <tbody>\n    <tr>\n      <th>2020-01-13</th>\n      <td>1</td>\n    </tr>\n    <tr>\n      <th>2020-01-29</th>\n      <td>1</td>\n    </tr>\n    <tr>\n      <th>2020-02-06</th>\n      <td>1</td>\n    </tr>\n    <tr>\n      <th>2020-02-18</th>\n      <td>1</td>\n    </tr>\n    <tr>\n      <th>2020-02-19</th>\n      <td>1</td>\n    </tr>\n    <tr>\n      <th>...</th>\n      <td>...</td>\n    </tr>\n    <tr>\n      <th>2020-10-13</th>\n      <td>1389</td>\n    </tr>\n    <tr>\n      <th>2020-10-14</th>\n      <td>671</td>\n    </tr>\n    <tr>\n      <th>2020-10-15</th>\n      <td>335</td>\n    </tr>\n    <tr>\n      <th>2020-10-16</th>\n      <td>63</td>\n    </tr>\n    <tr>\n      <th>2020-10-17</th>\n      <td>18</td>\n    </tr>\n  </tbody>\n</table>\n<p>245 rows × 1 columns</p>\n</div>"
     },
     "metadata": {},
     "execution_count": 97
    }
   ],
   "source": [
    "grupos.size().to_frame(\"casos confirmados\")"
   ]
  },
  {
   "source": [
    "El resultado es un DataFrame de una columna. La columna tiene como nombre \"casos confirmados\". Este DataFrame ya no tiene un índice hecho con números como los anteriores. El índice en este caso es la fecha de inicio de síntomas. Los DataFrames pueden tener indices diversos. Para graficar necesitamos tener 2 columnas en nuestro DataFrame. Para esto encadenaremos la función reset_index() para convertir el índice en una columna del DataFrame"
   ],
   "cell_type": "markdown",
   "metadata": {}
  },
  {
   "cell_type": "code",
   "execution_count": 99,
   "metadata": {},
   "outputs": [
    {
     "output_type": "execute_result",
     "data": {
      "text/plain": [
       "    FECHA_SINTOMAS  casos confirmados\n",
       "0       2020-01-13                  1\n",
       "1       2020-01-29                  1\n",
       "2       2020-02-06                  1\n",
       "3       2020-02-18                  1\n",
       "4       2020-02-19                  1\n",
       "..             ...                ...\n",
       "240     2020-10-13               1389\n",
       "241     2020-10-14                671\n",
       "242     2020-10-15                335\n",
       "243     2020-10-16                 63\n",
       "244     2020-10-17                 18\n",
       "\n",
       "[245 rows x 2 columns]"
      ],
      "text/html": "<div>\n<style scoped>\n    .dataframe tbody tr th:only-of-type {\n        vertical-align: middle;\n    }\n\n    .dataframe tbody tr th {\n        vertical-align: top;\n    }\n\n    .dataframe thead th {\n        text-align: right;\n    }\n</style>\n<table border=\"1\" class=\"dataframe\">\n  <thead>\n    <tr style=\"text-align: right;\">\n      <th></th>\n      <th>FECHA_SINTOMAS</th>\n      <th>casos confirmados</th>\n    </tr>\n  </thead>\n  <tbody>\n    <tr>\n      <th>0</th>\n      <td>2020-01-13</td>\n      <td>1</td>\n    </tr>\n    <tr>\n      <th>1</th>\n      <td>2020-01-29</td>\n      <td>1</td>\n    </tr>\n    <tr>\n      <th>2</th>\n      <td>2020-02-06</td>\n      <td>1</td>\n    </tr>\n    <tr>\n      <th>3</th>\n      <td>2020-02-18</td>\n      <td>1</td>\n    </tr>\n    <tr>\n      <th>4</th>\n      <td>2020-02-19</td>\n      <td>1</td>\n    </tr>\n    <tr>\n      <th>...</th>\n      <td>...</td>\n      <td>...</td>\n    </tr>\n    <tr>\n      <th>240</th>\n      <td>2020-10-13</td>\n      <td>1389</td>\n    </tr>\n    <tr>\n      <th>241</th>\n      <td>2020-10-14</td>\n      <td>671</td>\n    </tr>\n    <tr>\n      <th>242</th>\n      <td>2020-10-15</td>\n      <td>335</td>\n    </tr>\n    <tr>\n      <th>243</th>\n      <td>2020-10-16</td>\n      <td>63</td>\n    </tr>\n    <tr>\n      <th>244</th>\n      <td>2020-10-17</td>\n      <td>18</td>\n    </tr>\n  </tbody>\n</table>\n<p>245 rows × 2 columns</p>\n</div>"
     },
     "metadata": {},
     "execution_count": 99
    }
   ],
   "source": [
    "grupos.size().to_frame(\"casos confirmados\").reset_index()"
   ]
  },
  {
   "source": [
    "El DataFrame es el que usaremos para graficar, guardémoslo en una variable y sigamos trabajando con el"
   ],
   "cell_type": "markdown",
   "metadata": {}
  },
  {
   "cell_type": "code",
   "execution_count": 100,
   "metadata": {},
   "outputs": [],
   "source": [
    "confirmados_por_fecha = grupos.size().to_frame(\"casos confirmados\").reset_index()"
   ]
  },
  {
   "source": [
    "## Tipos de datos en nuestros DataFrames\n",
    "\n",
    "Para poder graficar necesitamos asegurarnos que los datos en las columnas son del tipo correcto. Usualmente para graficar necesitamos datos numéricos. En este caso en el eje x tendremos fechas y en el eje y tendremos el número de casos que iniciaron síntomas en esos días. Existen diversos tipos de datos. Los más usuales son números, enteros y decimales o flotantes, cadenas de texto, fechas, valores booleanos (verdadero y falso).\n",
    "\n",
    "Antes de graficar necesitamos saber el tipo de datos que están guardados en nuestros DataFrames y convertir al tipo de datos correctos.\n",
    "\n",
    "Podemos saber el tipo de datos en cada una de las columnas de nuestro dataframe con la propiedad \"dtypes\""
   ],
   "cell_type": "markdown",
   "metadata": {}
  },
  {
   "cell_type": "code",
   "execution_count": 106,
   "metadata": {},
   "outputs": [
    {
     "output_type": "execute_result",
     "data": {
      "text/plain": [
       "FECHA_SINTOMAS       object\n",
       "casos confirmados     int64\n",
       "dtype: object"
      ]
     },
     "metadata": {},
     "execution_count": 106
    }
   ],
   "source": [
    "confirmados_por_fecha.dtypes"
   ]
  },
  {
   "source": [
    "Podemos observar que la columna \"FECHA_SINTOMAS\" es una columna con datos de tipo \"object\" y la columna casos confirmados es una columna de tipo \"int64\". El tipo de datos \"object\" hace referencia a una columna que está compuesta por una mezcla entre cadenas de texto y números. El tipo \"int64\" hace referencia a una columna que está compues6ta por números enteros.\n",
    "\n",
    "Necesitamos convertir nuestras fechas a fechas verdaderas pues por ahora solamente son cadenas de texto. \n",
    "\n",
    "Para esto utilizaremos la función de pandas to_datetime() aplicada a la columna que nos interesa, es importante que al hacer la conversión usemos la opción \"format\" para decirle a la función el formato en el cual están escritas nuestras fechas. Como vimos anteriormente el formato de las fechas en la base de datos es \"Año-mes-día\", Año con cuatro cifras, el mes con dos cifras y el día con dos cifras. Este formato se puede especificar con la siguiente cadena de texto \"%Y-%m-%d\", la Y hace referencia al año y es importante que está en mayúsculas (de esta manera especificamos que tiene 4 cifras), la m hace referencia al mes y la d al día.\n",
    "\n",
    "Convertimos la columna de nuestro DataFrame de la siguiente manera:"
   ],
   "cell_type": "markdown",
   "metadata": {}
  },
  {
   "cell_type": "code",
   "execution_count": 107,
   "metadata": {},
   "outputs": [
    {
     "output_type": "execute_result",
     "data": {
      "text/plain": [
       "0     2020-01-13\n",
       "1     2020-01-29\n",
       "2     2020-02-06\n",
       "3     2020-02-18\n",
       "4     2020-02-19\n",
       "         ...    \n",
       "240   2020-10-13\n",
       "241   2020-10-14\n",
       "242   2020-10-15\n",
       "243   2020-10-16\n",
       "244   2020-10-17\n",
       "Name: FECHA_SINTOMAS, Length: 245, dtype: datetime64[ns]"
      ]
     },
     "metadata": {},
     "execution_count": 107
    }
   ],
   "source": [
    "pd.to_datetime(confirmados_por_fecha[\"FECHA_SINTOMAS\"])"
   ]
  },
  {
   "source": [
    "Podemos ver en la parte inferior que esta columna es del tipo correcto \"datetime64\" que es el tipo asociado a fechas. Con ella podremos graficar sin problemas. Sin embargo esta operación no se ha realizado sobre nuestro DataFrame, solamente sobre la columna y nos ha dado como resultado una serie. Es conveniente ponerla en nuestro DataFrame para que todo quede en un mismo lugar. Con Pandas podemos agregar columnas nuevas usando series. Basta con asignarlas. Es importante mencionar que si los índices no concuerdan Pandas se encargará de empatar aquellos que si concuerden y de escribir filas nuevas con aquellos índices que no esten en el DataFrame donde queremos escribir la nueva columna. Esto es un super poder de Pandas!\n",
    "\n",
    "Escribamos la nueva columna en nuestro DataFrame \"confirmados_por_fecha\""
   ],
   "cell_type": "markdown",
   "metadata": {}
  },
  {
   "cell_type": "code",
   "execution_count": 108,
   "metadata": {},
   "outputs": [],
   "source": [
    "confirmados_por_fecha[\"fecha de sintomas\"] = pd.to_datetime(confirmados_por_fecha[\"FECHA_SINTOMAS\"])"
   ]
  },
  {
   "source": [
    "Nuestro dataframe ahora tiene 3 columnas"
   ],
   "cell_type": "markdown",
   "metadata": {}
  },
  {
   "cell_type": "code",
   "execution_count": 109,
   "metadata": {},
   "outputs": [
    {
     "output_type": "execute_result",
     "data": {
      "text/plain": [
       "    FECHA_SINTOMAS  casos confirmados fecha de sintomas\n",
       "0       2020-01-13                  1        2020-01-13\n",
       "1       2020-01-29                  1        2020-01-29\n",
       "2       2020-02-06                  1        2020-02-06\n",
       "3       2020-02-18                  1        2020-02-18\n",
       "4       2020-02-19                  1        2020-02-19\n",
       "..             ...                ...               ...\n",
       "240     2020-10-13               1389        2020-10-13\n",
       "241     2020-10-14                671        2020-10-14\n",
       "242     2020-10-15                335        2020-10-15\n",
       "243     2020-10-16                 63        2020-10-16\n",
       "244     2020-10-17                 18        2020-10-17\n",
       "\n",
       "[245 rows x 3 columns]"
      ],
      "text/html": "<div>\n<style scoped>\n    .dataframe tbody tr th:only-of-type {\n        vertical-align: middle;\n    }\n\n    .dataframe tbody tr th {\n        vertical-align: top;\n    }\n\n    .dataframe thead th {\n        text-align: right;\n    }\n</style>\n<table border=\"1\" class=\"dataframe\">\n  <thead>\n    <tr style=\"text-align: right;\">\n      <th></th>\n      <th>FECHA_SINTOMAS</th>\n      <th>casos confirmados</th>\n      <th>fecha de sintomas</th>\n    </tr>\n  </thead>\n  <tbody>\n    <tr>\n      <th>0</th>\n      <td>2020-01-13</td>\n      <td>1</td>\n      <td>2020-01-13</td>\n    </tr>\n    <tr>\n      <th>1</th>\n      <td>2020-01-29</td>\n      <td>1</td>\n      <td>2020-01-29</td>\n    </tr>\n    <tr>\n      <th>2</th>\n      <td>2020-02-06</td>\n      <td>1</td>\n      <td>2020-02-06</td>\n    </tr>\n    <tr>\n      <th>3</th>\n      <td>2020-02-18</td>\n      <td>1</td>\n      <td>2020-02-18</td>\n    </tr>\n    <tr>\n      <th>4</th>\n      <td>2020-02-19</td>\n      <td>1</td>\n      <td>2020-02-19</td>\n    </tr>\n    <tr>\n      <th>...</th>\n      <td>...</td>\n      <td>...</td>\n      <td>...</td>\n    </tr>\n    <tr>\n      <th>240</th>\n      <td>2020-10-13</td>\n      <td>1389</td>\n      <td>2020-10-13</td>\n    </tr>\n    <tr>\n      <th>241</th>\n      <td>2020-10-14</td>\n      <td>671</td>\n      <td>2020-10-14</td>\n    </tr>\n    <tr>\n      <th>242</th>\n      <td>2020-10-15</td>\n      <td>335</td>\n      <td>2020-10-15</td>\n    </tr>\n    <tr>\n      <th>243</th>\n      <td>2020-10-16</td>\n      <td>63</td>\n      <td>2020-10-16</td>\n    </tr>\n    <tr>\n      <th>244</th>\n      <td>2020-10-17</td>\n      <td>18</td>\n      <td>2020-10-17</td>\n    </tr>\n  </tbody>\n</table>\n<p>245 rows × 3 columns</p>\n</div>"
     },
     "metadata": {},
     "execution_count": 109
    }
   ],
   "source": [
    "confirmados_por_fecha"
   ]
  },
  {
   "source": [
    "Con los tipos de datos correctos"
   ],
   "cell_type": "markdown",
   "metadata": {}
  },
  {
   "cell_type": "code",
   "execution_count": 110,
   "metadata": {},
   "outputs": [
    {
     "output_type": "execute_result",
     "data": {
      "text/plain": [
       "FECHA_SINTOMAS               object\n",
       "casos confirmados             int64\n",
       "fecha de sintomas    datetime64[ns]\n",
       "dtype: object"
      ]
     },
     "metadata": {},
     "execution_count": 110
    }
   ],
   "source": [
    "confirmados_por_fecha.dtypes"
   ]
  },
  {
   "source": [
    "## Graficando con Bokeh\n",
    "\n",
    "Como mencionamos anteriormente para graficar usaremos Bokeh. Bokeh tiene la posibilidad de varias salidas para nuestras gráficas. Si no indicamos a Bokeh donde queremos nuestra gráfica la arrojará a una pestaña nueva de nuestro explorador. Dado que nuestra gráfica es parte de la exploración de los datos es importante tenerla en nuestro Notebook. Necesitamos indicarle a Bokeh que la salida la queremos en nuestro notebook. Recordemos que al principio del Notebook asociamos Bokeh al alias bpl. Para indicar a Bokeh la salida usamos la función ouput_notebook() de Bokeh"
   ],
   "cell_type": "markdown",
   "metadata": {}
  },
  {
   "cell_type": "code",
   "execution_count": 111,
   "metadata": {},
   "outputs": [
    {
     "output_type": "display_data",
     "data": {
      "text/html": "\n    <div class=\"bk-root\">\n        <a href=\"https://bokeh.org\" target=\"_blank\" class=\"bk-logo bk-logo-small bk-logo-notebook\"></a>\n        <span id=\"1001\">Loading BokehJS ...</span>\n    </div>"
     },
     "metadata": {}
    },
    {
     "output_type": "display_data",
     "data": {
      "application/javascript": "\n(function(root) {\n  function now() {\n    return new Date();\n  }\n\n  var force = true;\n\n  if (typeof root._bokeh_onload_callbacks === \"undefined\" || force === true) {\n    root._bokeh_onload_callbacks = [];\n    root._bokeh_is_loading = undefined;\n  }\n\n  var JS_MIME_TYPE = 'application/javascript';\n  var HTML_MIME_TYPE = 'text/html';\n  var EXEC_MIME_TYPE = 'application/vnd.bokehjs_exec.v0+json';\n  var CLASS_NAME = 'output_bokeh rendered_html';\n\n  /**\n   * Render data to the DOM node\n   */\n  function render(props, node) {\n    var script = document.createElement(\"script\");\n    node.appendChild(script);\n  }\n\n  /**\n   * Handle when an output is cleared or removed\n   */\n  function handleClearOutput(event, handle) {\n    var cell = handle.cell;\n\n    var id = cell.output_area._bokeh_element_id;\n    var server_id = cell.output_area._bokeh_server_id;\n    // Clean up Bokeh references\n    if (id != null && id in Bokeh.index) {\n      Bokeh.index[id].model.document.clear();\n      delete Bokeh.index[id];\n    }\n\n    if (server_id !== undefined) {\n      // Clean up Bokeh references\n      var cmd = \"from bokeh.io.state import curstate; print(curstate().uuid_to_server['\" + server_id + \"'].get_sessions()[0].document.roots[0]._id)\";\n      cell.notebook.kernel.execute(cmd, {\n        iopub: {\n          output: function(msg) {\n            var id = msg.content.text.trim();\n            if (id in Bokeh.index) {\n              Bokeh.index[id].model.document.clear();\n              delete Bokeh.index[id];\n            }\n          }\n        }\n      });\n      // Destroy server and session\n      var cmd = \"import bokeh.io.notebook as ion; ion.destroy_server('\" + server_id + \"')\";\n      cell.notebook.kernel.execute(cmd);\n    }\n  }\n\n  /**\n   * Handle when a new output is added\n   */\n  function handleAddOutput(event, handle) {\n    var output_area = handle.output_area;\n    var output = handle.output;\n\n    // limit handleAddOutput to display_data with EXEC_MIME_TYPE content only\n    if ((output.output_type != \"display_data\") || (!output.data.hasOwnProperty(EXEC_MIME_TYPE))) {\n      return\n    }\n\n    var toinsert = output_area.element.find(\".\" + CLASS_NAME.split(' ')[0]);\n\n    if (output.metadata[EXEC_MIME_TYPE][\"id\"] !== undefined) {\n      toinsert[toinsert.length - 1].firstChild.textContent = output.data[JS_MIME_TYPE];\n      // store reference to embed id on output_area\n      output_area._bokeh_element_id = output.metadata[EXEC_MIME_TYPE][\"id\"];\n    }\n    if (output.metadata[EXEC_MIME_TYPE][\"server_id\"] !== undefined) {\n      var bk_div = document.createElement(\"div\");\n      bk_div.innerHTML = output.data[HTML_MIME_TYPE];\n      var script_attrs = bk_div.children[0].attributes;\n      for (var i = 0; i < script_attrs.length; i++) {\n        toinsert[toinsert.length - 1].firstChild.setAttribute(script_attrs[i].name, script_attrs[i].value);\n        toinsert[toinsert.length - 1].firstChild.textContent = bk_div.children[0].textContent\n      }\n      // store reference to server id on output_area\n      output_area._bokeh_server_id = output.metadata[EXEC_MIME_TYPE][\"server_id\"];\n    }\n  }\n\n  function register_renderer(events, OutputArea) {\n\n    function append_mime(data, metadata, element) {\n      // create a DOM node to render to\n      var toinsert = this.create_output_subarea(\n        metadata,\n        CLASS_NAME,\n        EXEC_MIME_TYPE\n      );\n      this.keyboard_manager.register_events(toinsert);\n      // Render to node\n      var props = {data: data, metadata: metadata[EXEC_MIME_TYPE]};\n      render(props, toinsert[toinsert.length - 1]);\n      element.append(toinsert);\n      return toinsert\n    }\n\n    /* Handle when an output is cleared or removed */\n    events.on('clear_output.CodeCell', handleClearOutput);\n    events.on('delete.Cell', handleClearOutput);\n\n    /* Handle when a new output is added */\n    events.on('output_added.OutputArea', handleAddOutput);\n\n    /**\n     * Register the mime type and append_mime function with output_area\n     */\n    OutputArea.prototype.register_mime_type(EXEC_MIME_TYPE, append_mime, {\n      /* Is output safe? */\n      safe: true,\n      /* Index of renderer in `output_area.display_order` */\n      index: 0\n    });\n  }\n\n  // register the mime type if in Jupyter Notebook environment and previously unregistered\n  if (root.Jupyter !== undefined) {\n    var events = require('base/js/events');\n    var OutputArea = require('notebook/js/outputarea').OutputArea;\n\n    if (OutputArea.prototype.mime_types().indexOf(EXEC_MIME_TYPE) == -1) {\n      register_renderer(events, OutputArea);\n    }\n  }\n\n  \n  if (typeof (root._bokeh_timeout) === \"undefined\" || force === true) {\n    root._bokeh_timeout = Date.now() + 5000;\n    root._bokeh_failed_load = false;\n  }\n\n  var NB_LOAD_WARNING = {'data': {'text/html':\n     \"<div style='background-color: #fdd'>\\n\"+\n     \"<p>\\n\"+\n     \"BokehJS does not appear to have successfully loaded. If loading BokehJS from CDN, this \\n\"+\n     \"may be due to a slow or bad network connection. Possible fixes:\\n\"+\n     \"</p>\\n\"+\n     \"<ul>\\n\"+\n     \"<li>re-rerun `output_notebook()` to attempt to load from CDN again, or</li>\\n\"+\n     \"<li>use INLINE resources instead, as so:</li>\\n\"+\n     \"</ul>\\n\"+\n     \"<code>\\n\"+\n     \"from bokeh.resources import INLINE\\n\"+\n     \"output_notebook(resources=INLINE)\\n\"+\n     \"</code>\\n\"+\n     \"</div>\"}};\n\n  function display_loaded() {\n    var el = document.getElementById(\"1001\");\n    if (el != null) {\n      el.textContent = \"BokehJS is loading...\";\n    }\n    if (root.Bokeh !== undefined) {\n      if (el != null) {\n        el.textContent = \"BokehJS \" + root.Bokeh.version + \" successfully loaded.\";\n      }\n    } else if (Date.now() < root._bokeh_timeout) {\n      setTimeout(display_loaded, 100)\n    }\n  }\n\n\n  function run_callbacks() {\n    try {\n      root._bokeh_onload_callbacks.forEach(function(callback) {\n        if (callback != null)\n          callback();\n      });\n    } finally {\n      delete root._bokeh_onload_callbacks\n    }\n    console.debug(\"Bokeh: all callbacks have finished\");\n  }\n\n  function load_libs(css_urls, js_urls, callback) {\n    if (css_urls == null) css_urls = [];\n    if (js_urls == null) js_urls = [];\n\n    root._bokeh_onload_callbacks.push(callback);\n    if (root._bokeh_is_loading > 0) {\n      console.debug(\"Bokeh: BokehJS is being loaded, scheduling callback at\", now());\n      return null;\n    }\n    if (js_urls == null || js_urls.length === 0) {\n      run_callbacks();\n      return null;\n    }\n    console.debug(\"Bokeh: BokehJS not loaded, scheduling load and callback at\", now());\n    root._bokeh_is_loading = css_urls.length + js_urls.length;\n\n    function on_load() {\n      root._bokeh_is_loading--;\n      if (root._bokeh_is_loading === 0) {\n        console.debug(\"Bokeh: all BokehJS libraries/stylesheets loaded\");\n        run_callbacks()\n      }\n    }\n\n    function on_error() {\n      console.error(\"failed to load \" + url);\n    }\n\n    for (var i = 0; i < css_urls.length; i++) {\n      var url = css_urls[i];\n      const element = document.createElement(\"link\");\n      element.onload = on_load;\n      element.onerror = on_error;\n      element.rel = \"stylesheet\";\n      element.type = \"text/css\";\n      element.href = url;\n      console.debug(\"Bokeh: injecting link tag for BokehJS stylesheet: \", url);\n      document.body.appendChild(element);\n    }\n\n    const hashes = {\"https://cdn.bokeh.org/bokeh/release/bokeh-2.2.1.min.js\": \"qkRvDQVAIfzsJo40iRBbxt6sttt0hv4lh74DG7OK4MCHv4C5oohXYoHUM5W11uqS\", \"https://cdn.bokeh.org/bokeh/release/bokeh-widgets-2.2.1.min.js\": \"Sb7Mr06a9TNlet/GEBeKaf5xH3eb6AlCzwjtU82wNPyDrnfoiVl26qnvlKjmcAd+\", \"https://cdn.bokeh.org/bokeh/release/bokeh-tables-2.2.1.min.js\": \"HaJ15vgfmcfRtB4c4YBOI4f1MUujukqInOWVqZJZZGK7Q+ivud0OKGSTn/Vm2iso\"};\n\n    for (var i = 0; i < js_urls.length; i++) {\n      var url = js_urls[i];\n      var element = document.createElement('script');\n      element.onload = on_load;\n      element.onerror = on_error;\n      element.async = false;\n      element.src = url;\n      if (url in hashes) {\n        element.crossOrigin = \"anonymous\";\n        element.integrity = \"sha384-\" + hashes[url];\n      }\n      console.debug(\"Bokeh: injecting script tag for BokehJS library: \", url);\n      document.head.appendChild(element);\n    }\n  };\n\n  function inject_raw_css(css) {\n    const element = document.createElement(\"style\");\n    element.appendChild(document.createTextNode(css));\n    document.body.appendChild(element);\n  }\n\n  \n  var js_urls = [\"https://cdn.bokeh.org/bokeh/release/bokeh-2.2.1.min.js\", \"https://cdn.bokeh.org/bokeh/release/bokeh-widgets-2.2.1.min.js\", \"https://cdn.bokeh.org/bokeh/release/bokeh-tables-2.2.1.min.js\"];\n  var css_urls = [];\n  \n\n  var inline_js = [\n    function(Bokeh) {\n      Bokeh.set_log_level(\"info\");\n    },\n    function(Bokeh) {\n    \n    \n    }\n  ];\n\n  function run_inline_js() {\n    \n    if (root.Bokeh !== undefined || force === true) {\n      \n    for (var i = 0; i < inline_js.length; i++) {\n      inline_js[i].call(root, root.Bokeh);\n    }\n    if (force === true) {\n        display_loaded();\n      }} else if (Date.now() < root._bokeh_timeout) {\n      setTimeout(run_inline_js, 100);\n    } else if (!root._bokeh_failed_load) {\n      console.log(\"Bokeh: BokehJS failed to load within specified timeout.\");\n      root._bokeh_failed_load = true;\n    } else if (force !== true) {\n      var cell = $(document.getElementById(\"1001\")).parents('.cell').data().cell;\n      cell.output_area.append_execute_result(NB_LOAD_WARNING)\n    }\n\n  }\n\n  if (root._bokeh_is_loading === 0) {\n    console.debug(\"Bokeh: BokehJS loaded, going straight to plotting\");\n    run_inline_js();\n  } else {\n    load_libs(css_urls, js_urls, function() {\n      console.debug(\"Bokeh: BokehJS plotting callback run at\", now());\n      run_inline_js();\n    });\n  }\n}(window));",
      "application/vnd.bokehjs_load.v0+json": "\n(function(root) {\n  function now() {\n    return new Date();\n  }\n\n  var force = true;\n\n  if (typeof root._bokeh_onload_callbacks === \"undefined\" || force === true) {\n    root._bokeh_onload_callbacks = [];\n    root._bokeh_is_loading = undefined;\n  }\n\n  \n\n  \n  if (typeof (root._bokeh_timeout) === \"undefined\" || force === true) {\n    root._bokeh_timeout = Date.now() + 5000;\n    root._bokeh_failed_load = false;\n  }\n\n  var NB_LOAD_WARNING = {'data': {'text/html':\n     \"<div style='background-color: #fdd'>\\n\"+\n     \"<p>\\n\"+\n     \"BokehJS does not appear to have successfully loaded. If loading BokehJS from CDN, this \\n\"+\n     \"may be due to a slow or bad network connection. Possible fixes:\\n\"+\n     \"</p>\\n\"+\n     \"<ul>\\n\"+\n     \"<li>re-rerun `output_notebook()` to attempt to load from CDN again, or</li>\\n\"+\n     \"<li>use INLINE resources instead, as so:</li>\\n\"+\n     \"</ul>\\n\"+\n     \"<code>\\n\"+\n     \"from bokeh.resources import INLINE\\n\"+\n     \"output_notebook(resources=INLINE)\\n\"+\n     \"</code>\\n\"+\n     \"</div>\"}};\n\n  function display_loaded() {\n    var el = document.getElementById(\"1001\");\n    if (el != null) {\n      el.textContent = \"BokehJS is loading...\";\n    }\n    if (root.Bokeh !== undefined) {\n      if (el != null) {\n        el.textContent = \"BokehJS \" + root.Bokeh.version + \" successfully loaded.\";\n      }\n    } else if (Date.now() < root._bokeh_timeout) {\n      setTimeout(display_loaded, 100)\n    }\n  }\n\n\n  function run_callbacks() {\n    try {\n      root._bokeh_onload_callbacks.forEach(function(callback) {\n        if (callback != null)\n          callback();\n      });\n    } finally {\n      delete root._bokeh_onload_callbacks\n    }\n    console.debug(\"Bokeh: all callbacks have finished\");\n  }\n\n  function load_libs(css_urls, js_urls, callback) {\n    if (css_urls == null) css_urls = [];\n    if (js_urls == null) js_urls = [];\n\n    root._bokeh_onload_callbacks.push(callback);\n    if (root._bokeh_is_loading > 0) {\n      console.debug(\"Bokeh: BokehJS is being loaded, scheduling callback at\", now());\n      return null;\n    }\n    if (js_urls == null || js_urls.length === 0) {\n      run_callbacks();\n      return null;\n    }\n    console.debug(\"Bokeh: BokehJS not loaded, scheduling load and callback at\", now());\n    root._bokeh_is_loading = css_urls.length + js_urls.length;\n\n    function on_load() {\n      root._bokeh_is_loading--;\n      if (root._bokeh_is_loading === 0) {\n        console.debug(\"Bokeh: all BokehJS libraries/stylesheets loaded\");\n        run_callbacks()\n      }\n    }\n\n    function on_error() {\n      console.error(\"failed to load \" + url);\n    }\n\n    for (var i = 0; i < css_urls.length; i++) {\n      var url = css_urls[i];\n      const element = document.createElement(\"link\");\n      element.onload = on_load;\n      element.onerror = on_error;\n      element.rel = \"stylesheet\";\n      element.type = \"text/css\";\n      element.href = url;\n      console.debug(\"Bokeh: injecting link tag for BokehJS stylesheet: \", url);\n      document.body.appendChild(element);\n    }\n\n    const hashes = {\"https://cdn.bokeh.org/bokeh/release/bokeh-2.2.1.min.js\": \"qkRvDQVAIfzsJo40iRBbxt6sttt0hv4lh74DG7OK4MCHv4C5oohXYoHUM5W11uqS\", \"https://cdn.bokeh.org/bokeh/release/bokeh-widgets-2.2.1.min.js\": \"Sb7Mr06a9TNlet/GEBeKaf5xH3eb6AlCzwjtU82wNPyDrnfoiVl26qnvlKjmcAd+\", \"https://cdn.bokeh.org/bokeh/release/bokeh-tables-2.2.1.min.js\": \"HaJ15vgfmcfRtB4c4YBOI4f1MUujukqInOWVqZJZZGK7Q+ivud0OKGSTn/Vm2iso\"};\n\n    for (var i = 0; i < js_urls.length; i++) {\n      var url = js_urls[i];\n      var element = document.createElement('script');\n      element.onload = on_load;\n      element.onerror = on_error;\n      element.async = false;\n      element.src = url;\n      if (url in hashes) {\n        element.crossOrigin = \"anonymous\";\n        element.integrity = \"sha384-\" + hashes[url];\n      }\n      console.debug(\"Bokeh: injecting script tag for BokehJS library: \", url);\n      document.head.appendChild(element);\n    }\n  };\n\n  function inject_raw_css(css) {\n    const element = document.createElement(\"style\");\n    element.appendChild(document.createTextNode(css));\n    document.body.appendChild(element);\n  }\n\n  \n  var js_urls = [\"https://cdn.bokeh.org/bokeh/release/bokeh-2.2.1.min.js\", \"https://cdn.bokeh.org/bokeh/release/bokeh-widgets-2.2.1.min.js\", \"https://cdn.bokeh.org/bokeh/release/bokeh-tables-2.2.1.min.js\"];\n  var css_urls = [];\n  \n\n  var inline_js = [\n    function(Bokeh) {\n      Bokeh.set_log_level(\"info\");\n    },\n    function(Bokeh) {\n    \n    \n    }\n  ];\n\n  function run_inline_js() {\n    \n    if (root.Bokeh !== undefined || force === true) {\n      \n    for (var i = 0; i < inline_js.length; i++) {\n      inline_js[i].call(root, root.Bokeh);\n    }\n    if (force === true) {\n        display_loaded();\n      }} else if (Date.now() < root._bokeh_timeout) {\n      setTimeout(run_inline_js, 100);\n    } else if (!root._bokeh_failed_load) {\n      console.log(\"Bokeh: BokehJS failed to load within specified timeout.\");\n      root._bokeh_failed_load = true;\n    } else if (force !== true) {\n      var cell = $(document.getElementById(\"1001\")).parents('.cell').data().cell;\n      cell.output_area.append_execute_result(NB_LOAD_WARNING)\n    }\n\n  }\n\n  if (root._bokeh_is_loading === 0) {\n    console.debug(\"Bokeh: BokehJS loaded, going straight to plotting\");\n    run_inline_js();\n  } else {\n    load_libs(css_urls, js_urls, function() {\n      console.debug(\"Bokeh: BokehJS plotting callback run at\", now());\n      run_inline_js();\n    });\n  }\n}(window));"
     },
     "metadata": {}
    }
   ],
   "source": [
    "bpl.output_notebook()"
   ]
  },
  {
   "source": [
    "Bokeh funciona de fomra muy similar a la mayoría de las librerías de graficación. Se define un \"plot\" en donde graficar y luego en ese plot se van pintando símbolos y elementos gráficos para conformar la gráfica. \n",
    "\n",
    "Definiremos nuestro plot y lo guardaremos en la variable \"p\". Cuando definimos nuestro plot podemos usar algunas opciones para cambiar propiedades del plot, por ejemplo podemos definir el alto y el ancho de la zona de piuntado.\n",
    "\n",
    "Debido a que nuestra gráfica tiene un tipo de datos especial en el eje x (fechas) es necesario especificar este tipo de datos en la definición del plot, lo hacemos con la opción \"x_axis_type\".\n",
    "\n",
    "El plot se define de la siguiente manera:"
   ],
   "cell_type": "markdown",
   "metadata": {}
  },
  {
   "cell_type": "code",
   "execution_count": 112,
   "metadata": {},
   "outputs": [],
   "source": [
    "p = bpl.figure(x_axis_type=\"datetime\", plot_width=800, plot_height=600)"
   ]
  },
  {
   "source": [
    "Una vez que hemos definido nuestrto plot podemos pintar en el elementos gráficos para conformar la gráfica. Bokeh tiene un monton de estos elementos para poder hacer gráficas, puedes verlos todos y la manera en la que se usan en la [documentación de Bokeh](https://docs.bokeh.org/en/latest/docs/user_guide/plotting.html).\n",
    "\n",
    "Comenzaremos por pintar puntos en nuestra gráfica. Queremosn un punto por cada fecha. En el eje x usaremos la columna con fechas de nuestro DataFrame y en el eje y usaremos la columna con el número de casos de nuestro DataFrame. Para gregar un tipo de elemento gráfico usamos la función correspondiente sobre nuestro plot que está guardado en \"p\". En este caso usaremos la funcion \"circle\"."
   ],
   "cell_type": "markdown",
   "metadata": {}
  },
  {
   "cell_type": "code",
   "execution_count": 113,
   "metadata": {},
   "outputs": [
    {
     "output_type": "execute_result",
     "data": {
      "text/plain": [
       "GlyphRenderer(id='1036', ...)"
      ],
      "text/html": "<div style=\"display: table;\"><div style=\"display: table-row;\"><div style=\"display: table-cell;\"><b title=\"bokeh.models.renderers.GlyphRenderer\">GlyphRenderer</b>(</div><div style=\"display: table-cell;\">id&nbsp;=&nbsp;'1036', <span id=\"1039\" style=\"cursor: pointer;\">&hellip;)</span></div></div><div class=\"1038\" style=\"display: none;\"><div style=\"display: table-cell;\"></div><div style=\"display: table-cell;\">data_source&nbsp;=&nbsp;ColumnDataSource(id='1033', ...),</div></div><div class=\"1038\" style=\"display: none;\"><div style=\"display: table-cell;\"></div><div style=\"display: table-cell;\">glyph&nbsp;=&nbsp;Circle(id='1034', ...),</div></div><div class=\"1038\" style=\"display: none;\"><div style=\"display: table-cell;\"></div><div style=\"display: table-cell;\">hover_glyph&nbsp;=&nbsp;None,</div></div><div class=\"1038\" style=\"display: none;\"><div style=\"display: table-cell;\"></div><div style=\"display: table-cell;\">js_event_callbacks&nbsp;=&nbsp;{},</div></div><div class=\"1038\" style=\"display: none;\"><div style=\"display: table-cell;\"></div><div style=\"display: table-cell;\">js_property_callbacks&nbsp;=&nbsp;{},</div></div><div class=\"1038\" style=\"display: none;\"><div style=\"display: table-cell;\"></div><div style=\"display: table-cell;\">level&nbsp;=&nbsp;'glyph',</div></div><div class=\"1038\" style=\"display: none;\"><div style=\"display: table-cell;\"></div><div style=\"display: table-cell;\">muted&nbsp;=&nbsp;False,</div></div><div class=\"1038\" style=\"display: none;\"><div style=\"display: table-cell;\"></div><div style=\"display: table-cell;\">muted_glyph&nbsp;=&nbsp;None,</div></div><div class=\"1038\" style=\"display: none;\"><div style=\"display: table-cell;\"></div><div style=\"display: table-cell;\">name&nbsp;=&nbsp;None,</div></div><div class=\"1038\" style=\"display: none;\"><div style=\"display: table-cell;\"></div><div style=\"display: table-cell;\">nonselection_glyph&nbsp;=&nbsp;Circle(id='1035', ...),</div></div><div class=\"1038\" style=\"display: none;\"><div style=\"display: table-cell;\"></div><div style=\"display: table-cell;\">selection_glyph&nbsp;=&nbsp;None,</div></div><div class=\"1038\" style=\"display: none;\"><div style=\"display: table-cell;\"></div><div style=\"display: table-cell;\">subscribed_events&nbsp;=&nbsp;[],</div></div><div class=\"1038\" style=\"display: none;\"><div style=\"display: table-cell;\"></div><div style=\"display: table-cell;\">tags&nbsp;=&nbsp;[],</div></div><div class=\"1038\" style=\"display: none;\"><div style=\"display: table-cell;\"></div><div style=\"display: table-cell;\">view&nbsp;=&nbsp;CDSView(id='1037', ...),</div></div><div class=\"1038\" style=\"display: none;\"><div style=\"display: table-cell;\"></div><div style=\"display: table-cell;\">visible&nbsp;=&nbsp;True,</div></div><div class=\"1038\" style=\"display: none;\"><div style=\"display: table-cell;\"></div><div style=\"display: table-cell;\">x_range_name&nbsp;=&nbsp;'default',</div></div><div class=\"1038\" style=\"display: none;\"><div style=\"display: table-cell;\"></div><div style=\"display: table-cell;\">y_range_name&nbsp;=&nbsp;'default')</div></div></div>\n<script>\n(function() {\n  var expanded = false;\n  var ellipsis = document.getElementById(\"1039\");\n  ellipsis.addEventListener(\"click\", function() {\n    var rows = document.getElementsByClassName(\"1038\");\n    for (var i = 0; i < rows.length; i++) {\n      var el = rows[i];\n      el.style.display = expanded ? \"none\" : \"table-row\";\n    }\n    ellipsis.innerHTML = expanded ? \"&hellip;)\" : \"&lsaquo;&lsaquo;&lsaquo;\";\n    expanded = !expanded;\n  });\n})();\n</script>\n"
     },
     "metadata": {},
     "execution_count": 113
    }
   ],
   "source": [
    "p.circle(x=confirmados_por_fecha[\"fecha de sintomas\"], y=confirmados_por_fecha[\"casos confirmados\"])"
   ]
  },
  {
   "source": [
    "Es importante notar que despues de ejecutar la función no obtenemos como resultado una gráfica, lo que hicimos fue agregar elementos gráficos a nuestra gráfica pero tiene vida propia. \n",
    "\n",
    "Podemos visualizar como va nuestra gráfica con la función de bokeh show() que utiliza como parámetro el plot que queremos ver.\n",
    "\n",
    "Veamos nuestra gráfica..."
   ],
   "cell_type": "markdown",
   "metadata": {}
  },
  {
   "cell_type": "code",
   "execution_count": 114,
   "metadata": {},
   "outputs": [
    {
     "output_type": "display_data",
     "data": {
      "text/html": "\n\n\n\n\n\n  <div class=\"bk-root\" id=\"712deb04-70ba-4356-aaf2-7d7a6f4f35ed\" data-root-id=\"1002\"></div>\n"
     },
     "metadata": {}
    },
    {
     "output_type": "display_data",
     "data": {
      "application/javascript": "(function(root) {\n  function embed_document(root) {\n    \n  var docs_json = {\"752a8514-f6b7-45c0-b8f3-4cec0777dbd6\":{\"roots\":{\"references\":[{\"attributes\":{\"below\":[{\"id\":\"1011\"}],\"center\":[{\"id\":\"1014\"},{\"id\":\"1018\"}],\"left\":[{\"id\":\"1015\"}],\"plot_width\":800,\"renderers\":[{\"id\":\"1036\"}],\"title\":{\"id\":\"1040\"},\"toolbar\":{\"id\":\"1026\"},\"x_range\":{\"id\":\"1003\"},\"x_scale\":{\"id\":\"1007\"},\"y_range\":{\"id\":\"1005\"},\"y_scale\":{\"id\":\"1009\"}},\"id\":\"1002\",\"subtype\":\"Figure\",\"type\":\"Plot\"},{\"attributes\":{\"active_drag\":\"auto\",\"active_inspect\":\"auto\",\"active_multi\":null,\"active_scroll\":\"auto\",\"active_tap\":\"auto\",\"tools\":[{\"id\":\"1019\"},{\"id\":\"1020\"},{\"id\":\"1021\"},{\"id\":\"1022\"},{\"id\":\"1023\"},{\"id\":\"1024\"}]},\"id\":\"1026\",\"type\":\"Toolbar\"},{\"attributes\":{\"formatter\":{\"id\":\"1043\"},\"ticker\":{\"id\":\"1016\"}},\"id\":\"1015\",\"type\":\"LinearAxis\"},{\"attributes\":{\"num_minor_ticks\":5,\"tickers\":[{\"id\":\"1049\"},{\"id\":\"1050\"},{\"id\":\"1051\"},{\"id\":\"1052\"},{\"id\":\"1053\"},{\"id\":\"1054\"},{\"id\":\"1055\"},{\"id\":\"1056\"},{\"id\":\"1057\"},{\"id\":\"1058\"},{\"id\":\"1059\"},{\"id\":\"1060\"}]},\"id\":\"1012\",\"type\":\"DatetimeTicker\"},{\"attributes\":{\"mantissas\":[1,2,5],\"max_interval\":500.0,\"num_minor_ticks\":0},\"id\":\"1049\",\"type\":\"AdaptiveTicker\"},{\"attributes\":{\"source\":{\"id\":\"1033\"}},\"id\":\"1037\",\"type\":\"CDSView\"},{\"attributes\":{\"days\":[1,8,15,22]},\"id\":\"1054\",\"type\":\"DaysTicker\"},{\"attributes\":{\"days\":[1,4,7,10,13,16,19,22,25,28]},\"id\":\"1053\",\"type\":\"DaysTicker\"},{\"attributes\":{\"text\":\"\"},\"id\":\"1040\",\"type\":\"Title\"},{\"attributes\":{\"fill_alpha\":{\"value\":0.1},\"fill_color\":{\"value\":\"#1f77b4\"},\"line_alpha\":{\"value\":0.1},\"line_color\":{\"value\":\"#1f77b4\"},\"x\":{\"field\":\"x\"},\"y\":{\"field\":\"y\"}},\"id\":\"1035\",\"type\":\"Circle\"},{\"attributes\":{\"days\":[1,2,3,4,5,6,7,8,9,10,11,12,13,14,15,16,17,18,19,20,21,22,23,24,25,26,27,28,29,30,31]},\"id\":\"1052\",\"type\":\"DaysTicker\"},{\"attributes\":{\"months\":[0,4,8]},\"id\":\"1058\",\"type\":\"MonthsTicker\"},{\"attributes\":{\"data_source\":{\"id\":\"1033\"},\"glyph\":{\"id\":\"1034\"},\"hover_glyph\":null,\"muted_glyph\":null,\"nonselection_glyph\":{\"id\":\"1035\"},\"selection_glyph\":null,\"view\":{\"id\":\"1037\"}},\"id\":\"1036\",\"type\":\"GlyphRenderer\"},{\"attributes\":{},\"id\":\"1022\",\"type\":\"SaveTool\"},{\"attributes\":{},\"id\":\"1016\",\"type\":\"BasicTicker\"},{\"attributes\":{\"axis\":{\"id\":\"1015\"},\"dimension\":1,\"ticker\":null},\"id\":\"1018\",\"type\":\"Grid\"},{\"attributes\":{},\"id\":\"1003\",\"type\":\"DataRange1d\"},{\"attributes\":{\"months\":[0,2,4,6,8,10]},\"id\":\"1057\",\"type\":\"MonthsTicker\"},{\"attributes\":{\"axis\":{\"id\":\"1011\"},\"ticker\":null},\"id\":\"1014\",\"type\":\"Grid\"},{\"attributes\":{\"days\":[1,15]},\"id\":\"1055\",\"type\":\"DaysTicker\"},{\"attributes\":{},\"id\":\"1020\",\"type\":\"WheelZoomTool\"},{\"attributes\":{\"base\":60,\"mantissas\":[1,2,5,10,15,20,30],\"max_interval\":1800000.0,\"min_interval\":1000.0,\"num_minor_ticks\":0},\"id\":\"1050\",\"type\":\"AdaptiveTicker\"},{\"attributes\":{},\"id\":\"1060\",\"type\":\"YearsTicker\"},{\"attributes\":{\"overlay\":{\"id\":\"1025\"}},\"id\":\"1021\",\"type\":\"BoxZoomTool\"},{\"attributes\":{},\"id\":\"1005\",\"type\":\"DataRange1d\"},{\"attributes\":{},\"id\":\"1043\",\"type\":\"BasicTickFormatter\"},{\"attributes\":{\"base\":24,\"mantissas\":[1,2,4,6,8,12],\"max_interval\":43200000.0,\"min_interval\":3600000.0,\"num_minor_ticks\":0},\"id\":\"1051\",\"type\":\"AdaptiveTicker\"},{\"attributes\":{\"months\":[0,6]},\"id\":\"1059\",\"type\":\"MonthsTicker\"},{\"attributes\":{\"months\":[0,1,2,3,4,5,6,7,8,9,10,11]},\"id\":\"1056\",\"type\":\"MonthsTicker\"},{\"attributes\":{},\"id\":\"1007\",\"type\":\"LinearScale\"},{\"attributes\":{},\"id\":\"1024\",\"type\":\"HelpTool\"},{\"attributes\":{\"formatter\":{\"id\":\"1045\"},\"ticker\":{\"id\":\"1012\"}},\"id\":\"1011\",\"type\":\"DatetimeAxis\"},{\"attributes\":{},\"id\":\"1019\",\"type\":\"PanTool\"},{\"attributes\":{},\"id\":\"1009\",\"type\":\"LinearScale\"},{\"attributes\":{},\"id\":\"1045\",\"type\":\"DatetimeTickFormatter\"},{\"attributes\":{},\"id\":\"1047\",\"type\":\"Selection\"},{\"attributes\":{\"bottom_units\":\"screen\",\"fill_alpha\":0.5,\"fill_color\":\"lightgrey\",\"left_units\":\"screen\",\"level\":\"overlay\",\"line_alpha\":1.0,\"line_color\":\"black\",\"line_dash\":[4,4],\"line_width\":2,\"right_units\":\"screen\",\"top_units\":\"screen\"},\"id\":\"1025\",\"type\":\"BoxAnnotation\"},{\"attributes\":{},\"id\":\"1046\",\"type\":\"UnionRenderers\"},{\"attributes\":{\"data\":{\"x\":{\"__ndarray__\":\"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\",\"dtype\":\"float64\",\"order\":\"little\",\"shape\":[245]},\"y\":[1,1,1,1,1,1,2,1,3,2,2,2,2,2,8,9,8,8,7,11,21,21,66,51,51,88,101,99,107,135,139,133,127,205,141,149,229,191,223,273,299,285,271,400,316,487,452,460,463,449,603,527,647,650,1002,762,805,998,938,1101,1062,1221,1307,1185,1923,1273,1311,1348,1606,1675,1495,1819,1606,1441,2009,2744,1961,1874,2385,2403,2150,2383,2780,2461,3313,3083,2776,2703,2716,4024,3052,2922,4210,3271,4508,3095,3898,3594,3382,5083,3737,3563,4059,4111,3958,3679,6691,4204,4162,4309,5339,4995,4227,5660,4571,6175,4462,5230,4655,4521,6978,5250,4521,5532,5622,7321,4667,5951,5185,5135,6156,6660,5194,6247,6595,6582,8490,6194,6645,5787,6396,7050,6461,5932,6078,9347,5971,6282,7602,6359,8021,6392,7162,7135,6395,9773,5979,5871,5808,6311,7384,5616,7233,5931,5104,5210,5497,8113,5193,6241,4828,5574,4826,5266,5480,4492,7641,4767,4773,4637,5361,5777,4519,5638,5666,4634,7286,5053,4825,4457,5859,5695,4741,4810,6000,4320,4735,5510,6957,4725,4513,4654,4979,4038,4995,4468,4185,5240,4083,3438,3293,4518,4828,3525,4245,4824,4516,5560,4736,4013,3837,3848,4918,3865,3835,4803,4081,4003,5449,4079,3733,3537,4851,3769,3641,3478,3319,3502,2113,2130,1389,671,335,63,18]},\"selected\":{\"id\":\"1047\"},\"selection_policy\":{\"id\":\"1046\"}},\"id\":\"1033\",\"type\":\"ColumnDataSource\"},{\"attributes\":{},\"id\":\"1023\",\"type\":\"ResetTool\"},{\"attributes\":{\"fill_color\":{\"value\":\"#1f77b4\"},\"line_color\":{\"value\":\"#1f77b4\"},\"x\":{\"field\":\"x\"},\"y\":{\"field\":\"y\"}},\"id\":\"1034\",\"type\":\"Circle\"}],\"root_ids\":[\"1002\"]},\"title\":\"Bokeh Application\",\"version\":\"2.2.1\"}};\n  var render_items = [{\"docid\":\"752a8514-f6b7-45c0-b8f3-4cec0777dbd6\",\"root_ids\":[\"1002\"],\"roots\":{\"1002\":\"712deb04-70ba-4356-aaf2-7d7a6f4f35ed\"}}];\n  root.Bokeh.embed.embed_items_notebook(docs_json, render_items);\n\n  }\n  if (root.Bokeh !== undefined) {\n    embed_document(root);\n  } else {\n    var attempts = 0;\n    var timer = setInterval(function(root) {\n      if (root.Bokeh !== undefined) {\n        clearInterval(timer);\n        embed_document(root);\n      } else {\n        attempts++;\n        if (attempts > 100) {\n          clearInterval(timer);\n          console.log(\"Bokeh: ERROR: Unable to run BokehJS code because BokehJS library is missing\");\n        }\n      }\n    }, 10, root)\n  }\n})(window);",
      "application/vnd.bokehjs_exec.v0+json": ""
     },
     "metadata": {
      "application/vnd.bokehjs_exec.v0+json": {
       "id": "1002"
      }
     }
    }
   ],
   "source": [
    "bpl.show(p)"
   ]
  },
  {
   "source": [
    "Podemos agregar también líneas o cualquier otro glyfo. Agreguemos una línea para ver como se hace, cambiemosle el grosor y el color. Para el color podemos utilizar colores en formato hexadecimal, hay muchas páginas para encontrar paletas de colores buenas, por ejemplo [Colorhunt](https://colorhunt.co/)."
   ],
   "cell_type": "markdown",
   "metadata": {}
  },
  {
   "source": [
    "p.line(x=confirmados_por_fecha[\"fecha de sintomas\"], y=confirmados_por_fecha[\"casos confirmados\"],line_width=0.5,color=\"#f5a25d\")"
   ],
   "cell_type": "code",
   "metadata": {},
   "execution_count": 120,
   "outputs": [
    {
     "output_type": "execute_result",
     "data": {
      "text/plain": [
       "GlyphRenderer(id='1314', ...)"
      ],
      "text/html": "<div style=\"display: table;\"><div style=\"display: table-row;\"><div style=\"display: table-cell;\"><b title=\"bokeh.models.renderers.GlyphRenderer\">GlyphRenderer</b>(</div><div style=\"display: table-cell;\">id&nbsp;=&nbsp;'1314', <span id=\"1342\" style=\"cursor: pointer;\">&hellip;)</span></div></div><div class=\"1341\" style=\"display: none;\"><div style=\"display: table-cell;\"></div><div style=\"display: table-cell;\">data_source&nbsp;=&nbsp;ColumnDataSource(id='1311', ...),</div></div><div class=\"1341\" style=\"display: none;\"><div style=\"display: table-cell;\"></div><div style=\"display: table-cell;\">glyph&nbsp;=&nbsp;Line(id='1312', ...),</div></div><div class=\"1341\" style=\"display: none;\"><div style=\"display: table-cell;\"></div><div style=\"display: table-cell;\">hover_glyph&nbsp;=&nbsp;None,</div></div><div class=\"1341\" style=\"display: none;\"><div style=\"display: table-cell;\"></div><div style=\"display: table-cell;\">js_event_callbacks&nbsp;=&nbsp;{},</div></div><div class=\"1341\" style=\"display: none;\"><div style=\"display: table-cell;\"></div><div style=\"display: table-cell;\">js_property_callbacks&nbsp;=&nbsp;{},</div></div><div class=\"1341\" style=\"display: none;\"><div style=\"display: table-cell;\"></div><div style=\"display: table-cell;\">level&nbsp;=&nbsp;'glyph',</div></div><div class=\"1341\" style=\"display: none;\"><div style=\"display: table-cell;\"></div><div style=\"display: table-cell;\">muted&nbsp;=&nbsp;False,</div></div><div class=\"1341\" style=\"display: none;\"><div style=\"display: table-cell;\"></div><div style=\"display: table-cell;\">muted_glyph&nbsp;=&nbsp;None,</div></div><div class=\"1341\" style=\"display: none;\"><div style=\"display: table-cell;\"></div><div style=\"display: table-cell;\">name&nbsp;=&nbsp;None,</div></div><div class=\"1341\" style=\"display: none;\"><div style=\"display: table-cell;\"></div><div style=\"display: table-cell;\">nonselection_glyph&nbsp;=&nbsp;Line(id='1313', ...),</div></div><div class=\"1341\" style=\"display: none;\"><div style=\"display: table-cell;\"></div><div style=\"display: table-cell;\">selection_glyph&nbsp;=&nbsp;None,</div></div><div class=\"1341\" style=\"display: none;\"><div style=\"display: table-cell;\"></div><div style=\"display: table-cell;\">subscribed_events&nbsp;=&nbsp;[],</div></div><div class=\"1341\" style=\"display: none;\"><div style=\"display: table-cell;\"></div><div style=\"display: table-cell;\">tags&nbsp;=&nbsp;[],</div></div><div class=\"1341\" style=\"display: none;\"><div style=\"display: table-cell;\"></div><div style=\"display: table-cell;\">view&nbsp;=&nbsp;CDSView(id='1315', ...),</div></div><div class=\"1341\" style=\"display: none;\"><div style=\"display: table-cell;\"></div><div style=\"display: table-cell;\">visible&nbsp;=&nbsp;True,</div></div><div class=\"1341\" style=\"display: none;\"><div style=\"display: table-cell;\"></div><div style=\"display: table-cell;\">x_range_name&nbsp;=&nbsp;'default',</div></div><div class=\"1341\" style=\"display: none;\"><div style=\"display: table-cell;\"></div><div style=\"display: table-cell;\">y_range_name&nbsp;=&nbsp;'default')</div></div></div>\n<script>\n(function() {\n  var expanded = false;\n  var ellipsis = document.getElementById(\"1342\");\n  ellipsis.addEventListener(\"click\", function() {\n    var rows = document.getElementsByClassName(\"1341\");\n    for (var i = 0; i < rows.length; i++) {\n      var el = rows[i];\n      el.style.display = expanded ? \"none\" : \"table-row\";\n    }\n    ellipsis.innerHTML = expanded ? \"&hellip;)\" : \"&lsaquo;&lsaquo;&lsaquo;\";\n    expanded = !expanded;\n  });\n})();\n</script>\n"
     },
     "metadata": {},
     "execution_count": 120
    }
   ]
  },
  {
   "cell_type": "code",
   "execution_count": 121,
   "metadata": {},
   "outputs": [
    {
     "output_type": "display_data",
     "data": {
      "text/html": "\n\n\n\n\n\n  <div class=\"bk-root\" id=\"c4efb155-4221-4c5e-b7fb-d25c63c36d2c\" data-root-id=\"1002\"></div>\n"
     },
     "metadata": {}
    },
    {
     "output_type": "display_data",
     "data": {
      "application/javascript": "(function(root) {\n  function embed_document(root) {\n    \n  var docs_json = {\"cb089ce8-c826-4680-8497-7736d9783477\":{\"roots\":{\"references\":[{\"attributes\":{\"below\":[{\"id\":\"1011\"}],\"center\":[{\"id\":\"1014\"},{\"id\":\"1018\"}],\"left\":[{\"id\":\"1015\"}],\"plot_width\":800,\"renderers\":[{\"id\":\"1036\"},{\"id\":\"1169\"},{\"id\":\"1314\"}],\"title\":{\"id\":\"1040\"},\"toolbar\":{\"id\":\"1026\"},\"x_range\":{\"id\":\"1003\"},\"x_scale\":{\"id\":\"1007\"},\"y_range\":{\"id\":\"1005\"},\"y_scale\":{\"id\":\"1009\"}},\"id\":\"1002\",\"subtype\":\"Figure\",\"type\":\"Plot\"},{\"attributes\":{\"active_drag\":\"auto\",\"active_inspect\":\"auto\",\"active_multi\":null,\"active_scroll\":\"auto\",\"active_tap\":\"auto\",\"tools\":[{\"id\":\"1019\"},{\"id\":\"1020\"},{\"id\":\"1021\"},{\"id\":\"1022\"},{\"id\":\"1023\"},{\"id\":\"1024\"}]},\"id\":\"1026\",\"type\":\"Toolbar\"},{\"attributes\":{\"formatter\":{\"id\":\"1043\"},\"ticker\":{\"id\":\"1016\"}},\"id\":\"1015\",\"type\":\"LinearAxis\"},{\"attributes\":{\"line_alpha\":0.1,\"line_color\":\"#f5a25d\",\"line_width\":0.3,\"x\":{\"field\":\"x\"},\"y\":{\"field\":\"y\"}},\"id\":\"1168\",\"type\":\"Line\"},{\"attributes\":{\"num_minor_ticks\":5,\"tickers\":[{\"id\":\"1049\"},{\"id\":\"1050\"},{\"id\":\"1051\"},{\"id\":\"1052\"},{\"id\":\"1053\"},{\"id\":\"1054\"},{\"id\":\"1055\"},{\"id\":\"1056\"},{\"id\":\"1057\"},{\"id\":\"1058\"},{\"id\":\"1059\"},{\"id\":\"1060\"}]},\"id\":\"1012\",\"type\":\"DatetimeTicker\"},{\"attributes\":{\"mantissas\":[1,2,5],\"max_interval\":500.0,\"num_minor_ticks\":0},\"id\":\"1049\",\"type\":\"AdaptiveTicker\"},{\"attributes\":{\"source\":{\"id\":\"1033\"}},\"id\":\"1037\",\"type\":\"CDSView\"},{\"attributes\":{\"days\":[1,8,15,22]},\"id\":\"1054\",\"type\":\"DaysTicker\"},{\"attributes\":{\"days\":[1,4,7,10,13,16,19,22,25,28]},\"id\":\"1053\",\"type\":\"DaysTicker\"},{\"attributes\":{\"text\":\"\"},\"id\":\"1040\",\"type\":\"Title\"},{\"attributes\":{\"fill_alpha\":{\"value\":0.1},\"fill_color\":{\"value\":\"#1f77b4\"},\"line_alpha\":{\"value\":0.1},\"line_color\":{\"value\":\"#1f77b4\"},\"x\":{\"field\":\"x\"},\"y\":{\"field\":\"y\"}},\"id\":\"1035\",\"type\":\"Circle\"},{\"attributes\":{\"days\":[1,2,3,4,5,6,7,8,9,10,11,12,13,14,15,16,17,18,19,20,21,22,23,24,25,26,27,28,29,30,31]},\"id\":\"1052\",\"type\":\"DaysTicker\"},{\"attributes\":{\"months\":[0,4,8]},\"id\":\"1058\",\"type\":\"MonthsTicker\"},{\"attributes\":{\"data_source\":{\"id\":\"1033\"},\"glyph\":{\"id\":\"1034\"},\"hover_glyph\":null,\"muted_glyph\":null,\"nonselection_glyph\":{\"id\":\"1035\"},\"selection_glyph\":null,\"view\":{\"id\":\"1037\"}},\"id\":\"1036\",\"type\":\"GlyphRenderer\"},{\"attributes\":{},\"id\":\"1022\",\"type\":\"SaveTool\"},{\"attributes\":{},\"id\":\"1016\",\"type\":\"BasicTicker\"},{\"attributes\":{\"axis\":{\"id\":\"1015\"},\"dimension\":1,\"ticker\":null},\"id\":\"1018\",\"type\":\"Grid\"},{\"attributes\":{},\"id\":\"1003\",\"type\":\"DataRange1d\"},{\"attributes\":{\"months\":[0,2,4,6,8,10]},\"id\":\"1057\",\"type\":\"MonthsTicker\"},{\"attributes\":{\"axis\":{\"id\":\"1011\"},\"ticker\":null},\"id\":\"1014\",\"type\":\"Grid\"},{\"attributes\":{\"days\":[1,15]},\"id\":\"1055\",\"type\":\"DaysTicker\"},{\"attributes\":{},\"id\":\"1020\",\"type\":\"WheelZoomTool\"},{\"attributes\":{\"base\":60,\"mantissas\":[1,2,5,10,15,20,30],\"max_interval\":1800000.0,\"min_interval\":1000.0,\"num_minor_ticks\":0},\"id\":\"1050\",\"type\":\"AdaptiveTicker\"},{\"attributes\":{},\"id\":\"1060\",\"type\":\"YearsTicker\"},{\"attributes\":{\"overlay\":{\"id\":\"1025\"}},\"id\":\"1021\",\"type\":\"BoxZoomTool\"},{\"attributes\":{\"line_alpha\":0.1,\"line_color\":\"#f5a25d\",\"line_width\":0.5,\"x\":{\"field\":\"x\"},\"y\":{\"field\":\"y\"}},\"id\":\"1313\",\"type\":\"Line\"},{\"attributes\":{},\"id\":\"1005\",\"type\":\"DataRange1d\"},{\"attributes\":{},\"id\":\"1043\",\"type\":\"BasicTickFormatter\"},{\"attributes\":{\"base\":24,\"mantissas\":[1,2,4,6,8,12],\"max_interval\":43200000.0,\"min_interval\":3600000.0,\"num_minor_ticks\":0},\"id\":\"1051\",\"type\":\"AdaptiveTicker\"},{\"attributes\":{\"months\":[0,6]},\"id\":\"1059\",\"type\":\"MonthsTicker\"},{\"attributes\":{\"line_color\":\"#f5a25d\",\"line_width\":0.5,\"x\":{\"field\":\"x\"},\"y\":{\"field\":\"y\"}},\"id\":\"1312\",\"type\":\"Line\"},{\"attributes\":{\"line_color\":\"#f5a25d\",\"line_width\":0.3,\"x\":{\"field\":\"x\"},\"y\":{\"field\":\"y\"}},\"id\":\"1167\",\"type\":\"Line\"},{\"attributes\":{\"months\":[0,1,2,3,4,5,6,7,8,9,10,11]},\"id\":\"1056\",\"type\":\"MonthsTicker\"},{\"attributes\":{},\"id\":\"1007\",\"type\":\"LinearScale\"},{\"attributes\":{},\"id\":\"1024\",\"type\":\"HelpTool\"},{\"attributes\":{\"formatter\":{\"id\":\"1045\"},\"ticker\":{\"id\":\"1012\"}},\"id\":\"1011\",\"type\":\"DatetimeAxis\"},{\"attributes\":{},\"id\":\"1326\",\"type\":\"UnionRenderers\"},{\"attributes\":{},\"id\":\"1019\",\"type\":\"PanTool\"},{\"attributes\":{},\"id\":\"1009\",\"type\":\"LinearScale\"},{\"attributes\":{},\"id\":\"1045\",\"type\":\"DatetimeTickFormatter\"},{\"attributes\":{\"source\":{\"id\":\"1166\"}},\"id\":\"1170\",\"type\":\"CDSView\"},{\"attributes\":{\"source\":{\"id\":\"1311\"}},\"id\":\"1315\",\"type\":\"CDSView\"},{\"attributes\":{},\"id\":\"1179\",\"type\":\"UnionRenderers\"},{\"attributes\":{\"data_source\":{\"id\":\"1311\"},\"glyph\":{\"id\":\"1312\"},\"hover_glyph\":null,\"muted_glyph\":null,\"nonselection_glyph\":{\"id\":\"1313\"},\"selection_glyph\":null,\"view\":{\"id\":\"1315\"}},\"id\":\"1314\",\"type\":\"GlyphRenderer\"},{\"attributes\":{},\"id\":\"1047\",\"type\":\"Selection\"},{\"attributes\":{\"bottom_units\":\"screen\",\"fill_alpha\":0.5,\"fill_color\":\"lightgrey\",\"left_units\":\"screen\",\"level\":\"overlay\",\"line_alpha\":1.0,\"line_color\":\"black\",\"line_dash\":[4,4],\"line_width\":2,\"right_units\":\"screen\",\"top_units\":\"screen\"},\"id\":\"1025\",\"type\":\"BoxAnnotation\"},{\"attributes\":{},\"id\":\"1046\",\"type\":\"UnionRenderers\"},{\"attributes\":{},\"id\":\"1327\",\"type\":\"Selection\"},{\"attributes\":{},\"id\":\"1180\",\"type\":\"Selection\"},{\"attributes\":{\"data\":{\"x\":{\"__ndarray__\":\"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\",\"dtype\":\"float64\",\"order\":\"little\",\"shape\":[245]},\"y\":[1,1,1,1,1,1,2,1,3,2,2,2,2,2,8,9,8,8,7,11,21,21,66,51,51,88,101,99,107,135,139,133,127,205,141,149,229,191,223,273,299,285,271,400,316,487,452,460,463,449,603,527,647,650,1002,762,805,998,938,1101,1062,1221,1307,1185,1923,1273,1311,1348,1606,1675,1495,1819,1606,1441,2009,2744,1961,1874,2385,2403,2150,2383,2780,2461,3313,3083,2776,2703,2716,4024,3052,2922,4210,3271,4508,3095,3898,3594,3382,5083,3737,3563,4059,4111,3958,3679,6691,4204,4162,4309,5339,4995,4227,5660,4571,6175,4462,5230,4655,4521,6978,5250,4521,5532,5622,7321,4667,5951,5185,5135,6156,6660,5194,6247,6595,6582,8490,6194,6645,5787,6396,7050,6461,5932,6078,9347,5971,6282,7602,6359,8021,6392,7162,7135,6395,9773,5979,5871,5808,6311,7384,5616,7233,5931,5104,5210,5497,8113,5193,6241,4828,5574,4826,5266,5480,4492,7641,4767,4773,4637,5361,5777,4519,5638,5666,4634,7286,5053,4825,4457,5859,5695,4741,4810,6000,4320,4735,5510,6957,4725,4513,4654,4979,4038,4995,4468,4185,5240,4083,3438,3293,4518,4828,3525,4245,4824,4516,5560,4736,4013,3837,3848,4918,3865,3835,4803,4081,4003,5449,4079,3733,3537,4851,3769,3641,3478,3319,3502,2113,2130,1389,671,335,63,18]},\"selected\":{\"id\":\"1047\"},\"selection_policy\":{\"id\":\"1046\"}},\"id\":\"1033\",\"type\":\"ColumnDataSource\"},{\"attributes\":{},\"id\":\"1023\",\"type\":\"ResetTool\"},{\"attributes\":{\"fill_color\":{\"value\":\"#1f77b4\"},\"line_color\":{\"value\":\"#1f77b4\"},\"x\":{\"field\":\"x\"},\"y\":{\"field\":\"y\"}},\"id\":\"1034\",\"type\":\"Circle\"},{\"attributes\":{\"data\":{\"x\":{\"__ndarray__\":\"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\",\"dtype\":\"float64\",\"order\":\"little\",\"shape\":[245]},\"y\":[1,1,1,1,1,1,2,1,3,2,2,2,2,2,8,9,8,8,7,11,21,21,66,51,51,88,101,99,107,135,139,133,127,205,141,149,229,191,223,273,299,285,271,400,316,487,452,460,463,449,603,527,647,650,1002,762,805,998,938,1101,1062,1221,1307,1185,1923,1273,1311,1348,1606,1675,1495,1819,1606,1441,2009,2744,1961,1874,2385,2403,2150,2383,2780,2461,3313,3083,2776,2703,2716,4024,3052,2922,4210,3271,4508,3095,3898,3594,3382,5083,3737,3563,4059,4111,3958,3679,6691,4204,4162,4309,5339,4995,4227,5660,4571,6175,4462,5230,4655,4521,6978,5250,4521,5532,5622,7321,4667,5951,5185,5135,6156,6660,5194,6247,6595,6582,8490,6194,6645,5787,6396,7050,6461,5932,6078,9347,5971,6282,7602,6359,8021,6392,7162,7135,6395,9773,5979,5871,5808,6311,7384,5616,7233,5931,5104,5210,5497,8113,5193,6241,4828,5574,4826,5266,5480,4492,7641,4767,4773,4637,5361,5777,4519,5638,5666,4634,7286,5053,4825,4457,5859,5695,4741,4810,6000,4320,4735,5510,6957,4725,4513,4654,4979,4038,4995,4468,4185,5240,4083,3438,3293,4518,4828,3525,4245,4824,4516,5560,4736,4013,3837,3848,4918,3865,3835,4803,4081,4003,5449,4079,3733,3537,4851,3769,3641,3478,3319,3502,2113,2130,1389,671,335,63,18]},\"selected\":{\"id\":\"1327\"},\"selection_policy\":{\"id\":\"1326\"}},\"id\":\"1311\",\"type\":\"ColumnDataSource\"},{\"attributes\":{\"data_source\":{\"id\":\"1166\"},\"glyph\":{\"id\":\"1167\"},\"hover_glyph\":null,\"muted_glyph\":null,\"nonselection_glyph\":{\"id\":\"1168\"},\"selection_glyph\":null,\"view\":{\"id\":\"1170\"}},\"id\":\"1169\",\"type\":\"GlyphRenderer\"},{\"attributes\":{\"data\":{\"x\":{\"__ndarray__\":\"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\",\"dtype\":\"float64\",\"order\":\"little\",\"shape\":[245]},\"y\":[1,1,1,1,1,1,2,1,3,2,2,2,2,2,8,9,8,8,7,11,21,21,66,51,51,88,101,99,107,135,139,133,127,205,141,149,229,191,223,273,299,285,271,400,316,487,452,460,463,449,603,527,647,650,1002,762,805,998,938,1101,1062,1221,1307,1185,1923,1273,1311,1348,1606,1675,1495,1819,1606,1441,2009,2744,1961,1874,2385,2403,2150,2383,2780,2461,3313,3083,2776,2703,2716,4024,3052,2922,4210,3271,4508,3095,3898,3594,3382,5083,3737,3563,4059,4111,3958,3679,6691,4204,4162,4309,5339,4995,4227,5660,4571,6175,4462,5230,4655,4521,6978,5250,4521,5532,5622,7321,4667,5951,5185,5135,6156,6660,5194,6247,6595,6582,8490,6194,6645,5787,6396,7050,6461,5932,6078,9347,5971,6282,7602,6359,8021,6392,7162,7135,6395,9773,5979,5871,5808,6311,7384,5616,7233,5931,5104,5210,5497,8113,5193,6241,4828,5574,4826,5266,5480,4492,7641,4767,4773,4637,5361,5777,4519,5638,5666,4634,7286,5053,4825,4457,5859,5695,4741,4810,6000,4320,4735,5510,6957,4725,4513,4654,4979,4038,4995,4468,4185,5240,4083,3438,3293,4518,4828,3525,4245,4824,4516,5560,4736,4013,3837,3848,4918,3865,3835,4803,4081,4003,5449,4079,3733,3537,4851,3769,3641,3478,3319,3502,2113,2130,1389,671,335,63,18]},\"selected\":{\"id\":\"1180\"},\"selection_policy\":{\"id\":\"1179\"}},\"id\":\"1166\",\"type\":\"ColumnDataSource\"}],\"root_ids\":[\"1002\"]},\"title\":\"Bokeh Application\",\"version\":\"2.2.1\"}};\n  var render_items = [{\"docid\":\"cb089ce8-c826-4680-8497-7736d9783477\",\"root_ids\":[\"1002\"],\"roots\":{\"1002\":\"c4efb155-4221-4c5e-b7fb-d25c63c36d2c\"}}];\n  root.Bokeh.embed.embed_items_notebook(docs_json, render_items);\n\n  }\n  if (root.Bokeh !== undefined) {\n    embed_document(root);\n  } else {\n    var attempts = 0;\n    var timer = setInterval(function(root) {\n      if (root.Bokeh !== undefined) {\n        clearInterval(timer);\n        embed_document(root);\n      } else {\n        attempts++;\n        if (attempts > 100) {\n          clearInterval(timer);\n          console.log(\"Bokeh: ERROR: Unable to run BokehJS code because BokehJS library is missing\");\n        }\n      }\n    }, 10, root)\n  }\n})(window);",
      "application/vnd.bokehjs_exec.v0+json": ""
     },
     "metadata": {
      "application/vnd.bokehjs_exec.v0+json": {
       "id": "1002"
      }
     }
    }
   ],
   "source": [
    "bpl.show(p)"
   ]
  },
  {
   "source": [
    "Agreguemos etiquetas en los ejes"
   ],
   "cell_type": "markdown",
   "metadata": {}
  },
  {
   "cell_type": "code",
   "execution_count": 123,
   "metadata": {},
   "outputs": [],
   "source": [
    "p.xaxis.axis_label = 'Fecha'\n",
    "p.yaxis.axis_label = 'Casos confirmados'"
   ]
  },
  {
   "cell_type": "code",
   "execution_count": 124,
   "metadata": {},
   "outputs": [
    {
     "output_type": "display_data",
     "data": {
      "text/html": "\n\n\n\n\n\n  <div class=\"bk-root\" id=\"c40f9429-dffa-4010-8a67-149f342feab3\" data-root-id=\"1002\"></div>\n"
     },
     "metadata": {}
    },
    {
     "output_type": "display_data",
     "data": {
      "application/javascript": "(function(root) {\n  function embed_document(root) {\n    \n  var docs_json = {\"ea07aa92-9d63-4b33-9995-5c52ba9d89af\":{\"roots\":{\"references\":[{\"attributes\":{\"below\":[{\"id\":\"1011\"}],\"center\":[{\"id\":\"1014\"},{\"id\":\"1018\"}],\"left\":[{\"id\":\"1015\"}],\"plot_width\":800,\"renderers\":[{\"id\":\"1036\"},{\"id\":\"1169\"},{\"id\":\"1314\"}],\"title\":{\"id\":\"1040\"},\"toolbar\":{\"id\":\"1026\"},\"x_range\":{\"id\":\"1003\"},\"x_scale\":{\"id\":\"1007\"},\"y_range\":{\"id\":\"1005\"},\"y_scale\":{\"id\":\"1009\"}},\"id\":\"1002\",\"subtype\":\"Figure\",\"type\":\"Plot\"},{\"attributes\":{\"active_drag\":\"auto\",\"active_inspect\":\"auto\",\"active_multi\":null,\"active_scroll\":\"auto\",\"active_tap\":\"auto\",\"tools\":[{\"id\":\"1019\"},{\"id\":\"1020\"},{\"id\":\"1021\"},{\"id\":\"1022\"},{\"id\":\"1023\"},{\"id\":\"1024\"}]},\"id\":\"1026\",\"type\":\"Toolbar\"},{\"attributes\":{\"axis_label\":\"Casos confirmados\",\"formatter\":{\"id\":\"1043\"},\"ticker\":{\"id\":\"1016\"}},\"id\":\"1015\",\"type\":\"LinearAxis\"},{\"attributes\":{\"line_alpha\":0.1,\"line_color\":\"#f5a25d\",\"line_width\":0.3,\"x\":{\"field\":\"x\"},\"y\":{\"field\":\"y\"}},\"id\":\"1168\",\"type\":\"Line\"},{\"attributes\":{\"num_minor_ticks\":5,\"tickers\":[{\"id\":\"1049\"},{\"id\":\"1050\"},{\"id\":\"1051\"},{\"id\":\"1052\"},{\"id\":\"1053\"},{\"id\":\"1054\"},{\"id\":\"1055\"},{\"id\":\"1056\"},{\"id\":\"1057\"},{\"id\":\"1058\"},{\"id\":\"1059\"},{\"id\":\"1060\"}]},\"id\":\"1012\",\"type\":\"DatetimeTicker\"},{\"attributes\":{\"mantissas\":[1,2,5],\"max_interval\":500.0,\"num_minor_ticks\":0},\"id\":\"1049\",\"type\":\"AdaptiveTicker\"},{\"attributes\":{\"source\":{\"id\":\"1033\"}},\"id\":\"1037\",\"type\":\"CDSView\"},{\"attributes\":{\"days\":[1,8,15,22]},\"id\":\"1054\",\"type\":\"DaysTicker\"},{\"attributes\":{\"days\":[1,4,7,10,13,16,19,22,25,28]},\"id\":\"1053\",\"type\":\"DaysTicker\"},{\"attributes\":{\"text\":\"\"},\"id\":\"1040\",\"type\":\"Title\"},{\"attributes\":{\"fill_alpha\":{\"value\":0.1},\"fill_color\":{\"value\":\"#1f77b4\"},\"line_alpha\":{\"value\":0.1},\"line_color\":{\"value\":\"#1f77b4\"},\"x\":{\"field\":\"x\"},\"y\":{\"field\":\"y\"}},\"id\":\"1035\",\"type\":\"Circle\"},{\"attributes\":{\"days\":[1,2,3,4,5,6,7,8,9,10,11,12,13,14,15,16,17,18,19,20,21,22,23,24,25,26,27,28,29,30,31]},\"id\":\"1052\",\"type\":\"DaysTicker\"},{\"attributes\":{\"months\":[0,4,8]},\"id\":\"1058\",\"type\":\"MonthsTicker\"},{\"attributes\":{\"data_source\":{\"id\":\"1033\"},\"glyph\":{\"id\":\"1034\"},\"hover_glyph\":null,\"muted_glyph\":null,\"nonselection_glyph\":{\"id\":\"1035\"},\"selection_glyph\":null,\"view\":{\"id\":\"1037\"}},\"id\":\"1036\",\"type\":\"GlyphRenderer\"},{\"attributes\":{},\"id\":\"1022\",\"type\":\"SaveTool\"},{\"attributes\":{},\"id\":\"1016\",\"type\":\"BasicTicker\"},{\"attributes\":{\"axis\":{\"id\":\"1015\"},\"dimension\":1,\"ticker\":null},\"id\":\"1018\",\"type\":\"Grid\"},{\"attributes\":{},\"id\":\"1003\",\"type\":\"DataRange1d\"},{\"attributes\":{\"months\":[0,2,4,6,8,10]},\"id\":\"1057\",\"type\":\"MonthsTicker\"},{\"attributes\":{\"axis\":{\"id\":\"1011\"},\"ticker\":null},\"id\":\"1014\",\"type\":\"Grid\"},{\"attributes\":{\"days\":[1,15]},\"id\":\"1055\",\"type\":\"DaysTicker\"},{\"attributes\":{},\"id\":\"1020\",\"type\":\"WheelZoomTool\"},{\"attributes\":{\"base\":60,\"mantissas\":[1,2,5,10,15,20,30],\"max_interval\":1800000.0,\"min_interval\":1000.0,\"num_minor_ticks\":0},\"id\":\"1050\",\"type\":\"AdaptiveTicker\"},{\"attributes\":{},\"id\":\"1060\",\"type\":\"YearsTicker\"},{\"attributes\":{\"overlay\":{\"id\":\"1025\"}},\"id\":\"1021\",\"type\":\"BoxZoomTool\"},{\"attributes\":{\"line_alpha\":0.1,\"line_color\":\"#f5a25d\",\"line_width\":0.5,\"x\":{\"field\":\"x\"},\"y\":{\"field\":\"y\"}},\"id\":\"1313\",\"type\":\"Line\"},{\"attributes\":{},\"id\":\"1005\",\"type\":\"DataRange1d\"},{\"attributes\":{},\"id\":\"1043\",\"type\":\"BasicTickFormatter\"},{\"attributes\":{\"base\":24,\"mantissas\":[1,2,4,6,8,12],\"max_interval\":43200000.0,\"min_interval\":3600000.0,\"num_minor_ticks\":0},\"id\":\"1051\",\"type\":\"AdaptiveTicker\"},{\"attributes\":{\"months\":[0,6]},\"id\":\"1059\",\"type\":\"MonthsTicker\"},{\"attributes\":{\"line_color\":\"#f5a25d\",\"line_width\":0.5,\"x\":{\"field\":\"x\"},\"y\":{\"field\":\"y\"}},\"id\":\"1312\",\"type\":\"Line\"},{\"attributes\":{\"line_color\":\"#f5a25d\",\"line_width\":0.3,\"x\":{\"field\":\"x\"},\"y\":{\"field\":\"y\"}},\"id\":\"1167\",\"type\":\"Line\"},{\"attributes\":{\"months\":[0,1,2,3,4,5,6,7,8,9,10,11]},\"id\":\"1056\",\"type\":\"MonthsTicker\"},{\"attributes\":{},\"id\":\"1007\",\"type\":\"LinearScale\"},{\"attributes\":{},\"id\":\"1024\",\"type\":\"HelpTool\"},{\"attributes\":{\"axis_label\":\"Fecha\",\"formatter\":{\"id\":\"1045\"},\"ticker\":{\"id\":\"1012\"}},\"id\":\"1011\",\"type\":\"DatetimeAxis\"},{\"attributes\":{},\"id\":\"1326\",\"type\":\"UnionRenderers\"},{\"attributes\":{},\"id\":\"1019\",\"type\":\"PanTool\"},{\"attributes\":{},\"id\":\"1009\",\"type\":\"LinearScale\"},{\"attributes\":{},\"id\":\"1045\",\"type\":\"DatetimeTickFormatter\"},{\"attributes\":{\"source\":{\"id\":\"1166\"}},\"id\":\"1170\",\"type\":\"CDSView\"},{\"attributes\":{\"source\":{\"id\":\"1311\"}},\"id\":\"1315\",\"type\":\"CDSView\"},{\"attributes\":{},\"id\":\"1179\",\"type\":\"UnionRenderers\"},{\"attributes\":{\"data_source\":{\"id\":\"1311\"},\"glyph\":{\"id\":\"1312\"},\"hover_glyph\":null,\"muted_glyph\":null,\"nonselection_glyph\":{\"id\":\"1313\"},\"selection_glyph\":null,\"view\":{\"id\":\"1315\"}},\"id\":\"1314\",\"type\":\"GlyphRenderer\"},{\"attributes\":{},\"id\":\"1047\",\"type\":\"Selection\"},{\"attributes\":{\"bottom_units\":\"screen\",\"fill_alpha\":0.5,\"fill_color\":\"lightgrey\",\"left_units\":\"screen\",\"level\":\"overlay\",\"line_alpha\":1.0,\"line_color\":\"black\",\"line_dash\":[4,4],\"line_width\":2,\"right_units\":\"screen\",\"top_units\":\"screen\"},\"id\":\"1025\",\"type\":\"BoxAnnotation\"},{\"attributes\":{},\"id\":\"1046\",\"type\":\"UnionRenderers\"},{\"attributes\":{},\"id\":\"1327\",\"type\":\"Selection\"},{\"attributes\":{},\"id\":\"1180\",\"type\":\"Selection\"},{\"attributes\":{\"data\":{\"x\":{\"__ndarray__\":\"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\",\"dtype\":\"float64\",\"order\":\"little\",\"shape\":[245]},\"y\":[1,1,1,1,1,1,2,1,3,2,2,2,2,2,8,9,8,8,7,11,21,21,66,51,51,88,101,99,107,135,139,133,127,205,141,149,229,191,223,273,299,285,271,400,316,487,452,460,463,449,603,527,647,650,1002,762,805,998,938,1101,1062,1221,1307,1185,1923,1273,1311,1348,1606,1675,1495,1819,1606,1441,2009,2744,1961,1874,2385,2403,2150,2383,2780,2461,3313,3083,2776,2703,2716,4024,3052,2922,4210,3271,4508,3095,3898,3594,3382,5083,3737,3563,4059,4111,3958,3679,6691,4204,4162,4309,5339,4995,4227,5660,4571,6175,4462,5230,4655,4521,6978,5250,4521,5532,5622,7321,4667,5951,5185,5135,6156,6660,5194,6247,6595,6582,8490,6194,6645,5787,6396,7050,6461,5932,6078,9347,5971,6282,7602,6359,8021,6392,7162,7135,6395,9773,5979,5871,5808,6311,7384,5616,7233,5931,5104,5210,5497,8113,5193,6241,4828,5574,4826,5266,5480,4492,7641,4767,4773,4637,5361,5777,4519,5638,5666,4634,7286,5053,4825,4457,5859,5695,4741,4810,6000,4320,4735,5510,6957,4725,4513,4654,4979,4038,4995,4468,4185,5240,4083,3438,3293,4518,4828,3525,4245,4824,4516,5560,4736,4013,3837,3848,4918,3865,3835,4803,4081,4003,5449,4079,3733,3537,4851,3769,3641,3478,3319,3502,2113,2130,1389,671,335,63,18]},\"selected\":{\"id\":\"1047\"},\"selection_policy\":{\"id\":\"1046\"}},\"id\":\"1033\",\"type\":\"ColumnDataSource\"},{\"attributes\":{},\"id\":\"1023\",\"type\":\"ResetTool\"},{\"attributes\":{\"fill_color\":{\"value\":\"#1f77b4\"},\"line_color\":{\"value\":\"#1f77b4\"},\"x\":{\"field\":\"x\"},\"y\":{\"field\":\"y\"}},\"id\":\"1034\",\"type\":\"Circle\"},{\"attributes\":{\"data\":{\"x\":{\"__ndarray__\":\"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\",\"dtype\":\"float64\",\"order\":\"little\",\"shape\":[245]},\"y\":[1,1,1,1,1,1,2,1,3,2,2,2,2,2,8,9,8,8,7,11,21,21,66,51,51,88,101,99,107,135,139,133,127,205,141,149,229,191,223,273,299,285,271,400,316,487,452,460,463,449,603,527,647,650,1002,762,805,998,938,1101,1062,1221,1307,1185,1923,1273,1311,1348,1606,1675,1495,1819,1606,1441,2009,2744,1961,1874,2385,2403,2150,2383,2780,2461,3313,3083,2776,2703,2716,4024,3052,2922,4210,3271,4508,3095,3898,3594,3382,5083,3737,3563,4059,4111,3958,3679,6691,4204,4162,4309,5339,4995,4227,5660,4571,6175,4462,5230,4655,4521,6978,5250,4521,5532,5622,7321,4667,5951,5185,5135,6156,6660,5194,6247,6595,6582,8490,6194,6645,5787,6396,7050,6461,5932,6078,9347,5971,6282,7602,6359,8021,6392,7162,7135,6395,9773,5979,5871,5808,6311,7384,5616,7233,5931,5104,5210,5497,8113,5193,6241,4828,5574,4826,5266,5480,4492,7641,4767,4773,4637,5361,5777,4519,5638,5666,4634,7286,5053,4825,4457,5859,5695,4741,4810,6000,4320,4735,5510,6957,4725,4513,4654,4979,4038,4995,4468,4185,5240,4083,3438,3293,4518,4828,3525,4245,4824,4516,5560,4736,4013,3837,3848,4918,3865,3835,4803,4081,4003,5449,4079,3733,3537,4851,3769,3641,3478,3319,3502,2113,2130,1389,671,335,63,18]},\"selected\":{\"id\":\"1327\"},\"selection_policy\":{\"id\":\"1326\"}},\"id\":\"1311\",\"type\":\"ColumnDataSource\"},{\"attributes\":{\"data_source\":{\"id\":\"1166\"},\"glyph\":{\"id\":\"1167\"},\"hover_glyph\":null,\"muted_glyph\":null,\"nonselection_glyph\":{\"id\":\"1168\"},\"selection_glyph\":null,\"view\":{\"id\":\"1170\"}},\"id\":\"1169\",\"type\":\"GlyphRenderer\"},{\"attributes\":{\"data\":{\"x\":{\"__ndarray__\":\"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\",\"dtype\":\"float64\",\"order\":\"little\",\"shape\":[245]},\"y\":[1,1,1,1,1,1,2,1,3,2,2,2,2,2,8,9,8,8,7,11,21,21,66,51,51,88,101,99,107,135,139,133,127,205,141,149,229,191,223,273,299,285,271,400,316,487,452,460,463,449,603,527,647,650,1002,762,805,998,938,1101,1062,1221,1307,1185,1923,1273,1311,1348,1606,1675,1495,1819,1606,1441,2009,2744,1961,1874,2385,2403,2150,2383,2780,2461,3313,3083,2776,2703,2716,4024,3052,2922,4210,3271,4508,3095,3898,3594,3382,5083,3737,3563,4059,4111,3958,3679,6691,4204,4162,4309,5339,4995,4227,5660,4571,6175,4462,5230,4655,4521,6978,5250,4521,5532,5622,7321,4667,5951,5185,5135,6156,6660,5194,6247,6595,6582,8490,6194,6645,5787,6396,7050,6461,5932,6078,9347,5971,6282,7602,6359,8021,6392,7162,7135,6395,9773,5979,5871,5808,6311,7384,5616,7233,5931,5104,5210,5497,8113,5193,6241,4828,5574,4826,5266,5480,4492,7641,4767,4773,4637,5361,5777,4519,5638,5666,4634,7286,5053,4825,4457,5859,5695,4741,4810,6000,4320,4735,5510,6957,4725,4513,4654,4979,4038,4995,4468,4185,5240,4083,3438,3293,4518,4828,3525,4245,4824,4516,5560,4736,4013,3837,3848,4918,3865,3835,4803,4081,4003,5449,4079,3733,3537,4851,3769,3641,3478,3319,3502,2113,2130,1389,671,335,63,18]},\"selected\":{\"id\":\"1180\"},\"selection_policy\":{\"id\":\"1179\"}},\"id\":\"1166\",\"type\":\"ColumnDataSource\"}],\"root_ids\":[\"1002\"]},\"title\":\"Bokeh Application\",\"version\":\"2.2.1\"}};\n  var render_items = [{\"docid\":\"ea07aa92-9d63-4b33-9995-5c52ba9d89af\",\"root_ids\":[\"1002\"],\"roots\":{\"1002\":\"c40f9429-dffa-4010-8a67-149f342feab3\"}}];\n  root.Bokeh.embed.embed_items_notebook(docs_json, render_items);\n\n  }\n  if (root.Bokeh !== undefined) {\n    embed_document(root);\n  } else {\n    var attempts = 0;\n    var timer = setInterval(function(root) {\n      if (root.Bokeh !== undefined) {\n        clearInterval(timer);\n        embed_document(root);\n      } else {\n        attempts++;\n        if (attempts > 100) {\n          clearInterval(timer);\n          console.log(\"Bokeh: ERROR: Unable to run BokehJS code because BokehJS library is missing\");\n        }\n      }\n    }, 10, root)\n  }\n})(window);",
      "application/vnd.bokehjs_exec.v0+json": ""
     },
     "metadata": {
      "application/vnd.bokehjs_exec.v0+json": {
       "id": "1002"
      }
     }
    }
   ],
   "source": [
    "bpl.show(p)"
   ]
  },
  {
   "source": [
    "## Graficando la distribución por estado\n",
    "\n",
    "Hagamos otra gráfica, veamos como es la distribución de casos por estado. Regresemos a nuestro DataFrame de casos confirmados"
   ],
   "cell_type": "markdown",
   "metadata": {}
  },
  {
   "cell_type": "code",
   "execution_count": 137,
   "metadata": {},
   "outputs": [
    {
     "output_type": "execute_result",
     "data": {
      "text/plain": [
       "        FECHA_ACTUALIZACION ID_REGISTRO  ORIGEN  SECTOR  ENTIDAD_UM  SEXO  \\\n",
       "0                2020-10-18      1426fb       1       4          10     1   \n",
       "1                2020-10-18      1c4583       2      12           9     2   \n",
       "2                2020-10-18      0d55c9       2      12           9     1   \n",
       "3                2020-10-18      071735       2       9          21     2   \n",
       "4                2020-10-18      1468a5       1       4           5     1   \n",
       "...                     ...         ...     ...     ...         ...   ...   \n",
       "2183114          2020-10-18      2fcdc7       1      12          26     1   \n",
       "2183136          2020-10-18      3c6f4d       1      12          26     2   \n",
       "2183216          2020-10-18      373591       1       6          20     1   \n",
       "2183262          2020-10-18      365e11       1       6           9     1   \n",
       "2183269          2020-10-18      408ef1       2       6           9     2   \n",
       "\n",
       "         ENTIDAD_NAC  ENTIDAD_RES  MUNICIPIO_RES  TIPO_PACIENTE  ...  \\\n",
       "0                 28           10              7              1  ...   \n",
       "1                  9            9              4              1  ...   \n",
       "2                  9            9             16              1  ...   \n",
       "3                 21           21            114              1  ...   \n",
       "4                 15            5             18              1  ...   \n",
       "...              ...          ...            ...            ...  ...   \n",
       "2183114           26           26             30              1  ...   \n",
       "2183136           26           26             19              1  ...   \n",
       "2183216           20           20            399              1  ...   \n",
       "2183262           17           15             58              2  ...   \n",
       "2183269            9            9              5              1  ...   \n",
       "\n",
       "        RENAL_CRONICA TABAQUISMO OTRO_CASO  TOMA_MUESTRA  RESULTADO_LAB  \\\n",
       "0                   2          2        99             1              1   \n",
       "1                   2          2         2             1              1   \n",
       "2                   2          2         2             1              1   \n",
       "3                   2          2         2             1              1   \n",
       "4                   2          2         1             1              1   \n",
       "...               ...        ...       ...           ...            ...   \n",
       "2183114             2          2         1             2             97   \n",
       "2183136             2          2         1             2             97   \n",
       "2183216             2          2         2             2             97   \n",
       "2183262             2          2         2             2             97   \n",
       "2183269             2          2         1             2             97   \n",
       "\n",
       "         CLASIFICACION_FINAL  MIGRANTE  PAIS_NACIONALIDAD  PAIS_ORIGEN  UCI  \n",
       "0                          3        99            MÃ©xico           97   97  \n",
       "1                          3        99            MÃ©xico           97   97  \n",
       "2                          3        99            MÃ©xico           97   97  \n",
       "3                          3        99            MÃ©xico           97   97  \n",
       "4                          3        99            MÃ©xico           97   97  \n",
       "...                      ...       ...                ...          ...  ...  \n",
       "2183114                    1        99            MÃ©xico           97   97  \n",
       "2183136                    1        99            MÃ©xico           97   97  \n",
       "2183216                    1        99            MÃ©xico           97   97  \n",
       "2183262                    1        99            MÃ©xico           97    2  \n",
       "2183269                    1        99            MÃ©xico           97   97  \n",
       "\n",
       "[851227 rows x 38 columns]"
      ],
      "text/html": "<div>\n<style scoped>\n    .dataframe tbody tr th:only-of-type {\n        vertical-align: middle;\n    }\n\n    .dataframe tbody tr th {\n        vertical-align: top;\n    }\n\n    .dataframe thead th {\n        text-align: right;\n    }\n</style>\n<table border=\"1\" class=\"dataframe\">\n  <thead>\n    <tr style=\"text-align: right;\">\n      <th></th>\n      <th>FECHA_ACTUALIZACION</th>\n      <th>ID_REGISTRO</th>\n      <th>ORIGEN</th>\n      <th>SECTOR</th>\n      <th>ENTIDAD_UM</th>\n      <th>SEXO</th>\n      <th>ENTIDAD_NAC</th>\n      <th>ENTIDAD_RES</th>\n      <th>MUNICIPIO_RES</th>\n      <th>TIPO_PACIENTE</th>\n      <th>...</th>\n      <th>RENAL_CRONICA</th>\n      <th>TABAQUISMO</th>\n      <th>OTRO_CASO</th>\n      <th>TOMA_MUESTRA</th>\n      <th>RESULTADO_LAB</th>\n      <th>CLASIFICACION_FINAL</th>\n      <th>MIGRANTE</th>\n      <th>PAIS_NACIONALIDAD</th>\n      <th>PAIS_ORIGEN</th>\n      <th>UCI</th>\n    </tr>\n  </thead>\n  <tbody>\n    <tr>\n      <th>0</th>\n      <td>2020-10-18</td>\n      <td>1426fb</td>\n      <td>1</td>\n      <td>4</td>\n      <td>10</td>\n      <td>1</td>\n      <td>28</td>\n      <td>10</td>\n      <td>7</td>\n      <td>1</td>\n      <td>...</td>\n      <td>2</td>\n      <td>2</td>\n      <td>99</td>\n      <td>1</td>\n      <td>1</td>\n      <td>3</td>\n      <td>99</td>\n      <td>MÃ©xico</td>\n      <td>97</td>\n      <td>97</td>\n    </tr>\n    <tr>\n      <th>1</th>\n      <td>2020-10-18</td>\n      <td>1c4583</td>\n      <td>2</td>\n      <td>12</td>\n      <td>9</td>\n      <td>2</td>\n      <td>9</td>\n      <td>9</td>\n      <td>4</td>\n      <td>1</td>\n      <td>...</td>\n      <td>2</td>\n      <td>2</td>\n      <td>2</td>\n      <td>1</td>\n      <td>1</td>\n      <td>3</td>\n      <td>99</td>\n      <td>MÃ©xico</td>\n      <td>97</td>\n      <td>97</td>\n    </tr>\n    <tr>\n      <th>2</th>\n      <td>2020-10-18</td>\n      <td>0d55c9</td>\n      <td>2</td>\n      <td>12</td>\n      <td>9</td>\n      <td>1</td>\n      <td>9</td>\n      <td>9</td>\n      <td>16</td>\n      <td>1</td>\n      <td>...</td>\n      <td>2</td>\n      <td>2</td>\n      <td>2</td>\n      <td>1</td>\n      <td>1</td>\n      <td>3</td>\n      <td>99</td>\n      <td>MÃ©xico</td>\n      <td>97</td>\n      <td>97</td>\n    </tr>\n    <tr>\n      <th>3</th>\n      <td>2020-10-18</td>\n      <td>071735</td>\n      <td>2</td>\n      <td>9</td>\n      <td>21</td>\n      <td>2</td>\n      <td>21</td>\n      <td>21</td>\n      <td>114</td>\n      <td>1</td>\n      <td>...</td>\n      <td>2</td>\n      <td>2</td>\n      <td>2</td>\n      <td>1</td>\n      <td>1</td>\n      <td>3</td>\n      <td>99</td>\n      <td>MÃ©xico</td>\n      <td>97</td>\n      <td>97</td>\n    </tr>\n    <tr>\n      <th>4</th>\n      <td>2020-10-18</td>\n      <td>1468a5</td>\n      <td>1</td>\n      <td>4</td>\n      <td>5</td>\n      <td>1</td>\n      <td>15</td>\n      <td>5</td>\n      <td>18</td>\n      <td>1</td>\n      <td>...</td>\n      <td>2</td>\n      <td>2</td>\n      <td>1</td>\n      <td>1</td>\n      <td>1</td>\n      <td>3</td>\n      <td>99</td>\n      <td>MÃ©xico</td>\n      <td>97</td>\n      <td>97</td>\n    </tr>\n    <tr>\n      <th>...</th>\n      <td>...</td>\n      <td>...</td>\n      <td>...</td>\n      <td>...</td>\n      <td>...</td>\n      <td>...</td>\n      <td>...</td>\n      <td>...</td>\n      <td>...</td>\n      <td>...</td>\n      <td>...</td>\n      <td>...</td>\n      <td>...</td>\n      <td>...</td>\n      <td>...</td>\n      <td>...</td>\n      <td>...</td>\n      <td>...</td>\n      <td>...</td>\n      <td>...</td>\n      <td>...</td>\n    </tr>\n    <tr>\n      <th>2183114</th>\n      <td>2020-10-18</td>\n      <td>2fcdc7</td>\n      <td>1</td>\n      <td>12</td>\n      <td>26</td>\n      <td>1</td>\n      <td>26</td>\n      <td>26</td>\n      <td>30</td>\n      <td>1</td>\n      <td>...</td>\n      <td>2</td>\n      <td>2</td>\n      <td>1</td>\n      <td>2</td>\n      <td>97</td>\n      <td>1</td>\n      <td>99</td>\n      <td>MÃ©xico</td>\n      <td>97</td>\n      <td>97</td>\n    </tr>\n    <tr>\n      <th>2183136</th>\n      <td>2020-10-18</td>\n      <td>3c6f4d</td>\n      <td>1</td>\n      <td>12</td>\n      <td>26</td>\n      <td>2</td>\n      <td>26</td>\n      <td>26</td>\n      <td>19</td>\n      <td>1</td>\n      <td>...</td>\n      <td>2</td>\n      <td>2</td>\n      <td>1</td>\n      <td>2</td>\n      <td>97</td>\n      <td>1</td>\n      <td>99</td>\n      <td>MÃ©xico</td>\n      <td>97</td>\n      <td>97</td>\n    </tr>\n    <tr>\n      <th>2183216</th>\n      <td>2020-10-18</td>\n      <td>373591</td>\n      <td>1</td>\n      <td>6</td>\n      <td>20</td>\n      <td>1</td>\n      <td>20</td>\n      <td>20</td>\n      <td>399</td>\n      <td>1</td>\n      <td>...</td>\n      <td>2</td>\n      <td>2</td>\n      <td>2</td>\n      <td>2</td>\n      <td>97</td>\n      <td>1</td>\n      <td>99</td>\n      <td>MÃ©xico</td>\n      <td>97</td>\n      <td>97</td>\n    </tr>\n    <tr>\n      <th>2183262</th>\n      <td>2020-10-18</td>\n      <td>365e11</td>\n      <td>1</td>\n      <td>6</td>\n      <td>9</td>\n      <td>1</td>\n      <td>17</td>\n      <td>15</td>\n      <td>58</td>\n      <td>2</td>\n      <td>...</td>\n      <td>2</td>\n      <td>2</td>\n      <td>2</td>\n      <td>2</td>\n      <td>97</td>\n      <td>1</td>\n      <td>99</td>\n      <td>MÃ©xico</td>\n      <td>97</td>\n      <td>2</td>\n    </tr>\n    <tr>\n      <th>2183269</th>\n      <td>2020-10-18</td>\n      <td>408ef1</td>\n      <td>2</td>\n      <td>6</td>\n      <td>9</td>\n      <td>2</td>\n      <td>9</td>\n      <td>9</td>\n      <td>5</td>\n      <td>1</td>\n      <td>...</td>\n      <td>2</td>\n      <td>2</td>\n      <td>1</td>\n      <td>2</td>\n      <td>97</td>\n      <td>1</td>\n      <td>99</td>\n      <td>MÃ©xico</td>\n      <td>97</td>\n      <td>97</td>\n    </tr>\n  </tbody>\n</table>\n<p>851227 rows × 38 columns</p>\n</div>"
     },
     "metadata": {},
     "execution_count": 137
    }
   ],
   "source": [
    "confirmados"
   ]
  },
  {
   "source": [
    "## Agrupando por estado\n",
    "\n",
    "La base de datos tiene codificado para cada caso tres estados, la entidad de nacimiento en la columna \"ENTIDAD_NAC\", la entidad de residencia en la columna \"ENTIDAD_RES\" y la entidad de la unidad médica en la columna \"ENTIDAD_UM\". Nos concentraremos en la entidad de residencia. Necesitamos saber cuantos casos están asociados a cada entidad. Podemos volver a agrupar con la función groupby(), esta vez con la columna \"ENTIDAD_RES\""
   ],
   "cell_type": "markdown",
   "metadata": {}
  },
  {
   "cell_type": "code",
   "execution_count": 138,
   "metadata": {},
   "outputs": [],
   "source": [
    "grupos_estado = confirmados.groupby(\"ENTIDAD_RES\")"
   ]
  },
  {
   "source": [
    "Podemos preguntarle a cada grupo cuantos elementos tiene y crear un DataFrame con esta información de manera similar a como lo hicimos anteriormente:"
   ],
   "cell_type": "markdown",
   "metadata": {}
  },
  {
   "cell_type": "code",
   "execution_count": 142,
   "metadata": {},
   "outputs": [
    {
     "output_type": "execute_result",
     "data": {
      "text/plain": [
       "    ENTIDAD_RES  casos confirmados\n",
       "0             1               8406\n",
       "1             2              21767\n",
       "2             3              11578\n",
       "3             4               6336\n",
       "4             5              30211\n",
       "5             6               6113\n",
       "6             7               7428\n",
       "7             8              14366\n",
       "8             9             146952\n",
       "9            10              11126\n",
       "10           11              44965\n",
       "11           12              21206\n",
       "12           13              14552\n",
       "13           14              31093\n",
       "14           15              91571\n",
       "15           16              23094\n",
       "16           17               6532\n",
       "17           18               6480\n",
       "18           19              47793\n",
       "19           20              19831\n",
       "20           21              33942\n",
       "21           22              11425\n",
       "22           23              13028\n",
       "23           24              26190\n",
       "24           25              20779\n",
       "25           26              36414\n",
       "26           27              33587\n",
       "27           28              30828\n",
       "28           29               8156\n",
       "29           30              35818\n",
       "30           31              20318\n",
       "31           32               9342"
      ],
      "text/html": "<div>\n<style scoped>\n    .dataframe tbody tr th:only-of-type {\n        vertical-align: middle;\n    }\n\n    .dataframe tbody tr th {\n        vertical-align: top;\n    }\n\n    .dataframe thead th {\n        text-align: right;\n    }\n</style>\n<table border=\"1\" class=\"dataframe\">\n  <thead>\n    <tr style=\"text-align: right;\">\n      <th></th>\n      <th>ENTIDAD_RES</th>\n      <th>casos confirmados</th>\n    </tr>\n  </thead>\n  <tbody>\n    <tr>\n      <th>0</th>\n      <td>1</td>\n      <td>8406</td>\n    </tr>\n    <tr>\n      <th>1</th>\n      <td>2</td>\n      <td>21767</td>\n    </tr>\n    <tr>\n      <th>2</th>\n      <td>3</td>\n      <td>11578</td>\n    </tr>\n    <tr>\n      <th>3</th>\n      <td>4</td>\n      <td>6336</td>\n    </tr>\n    <tr>\n      <th>4</th>\n      <td>5</td>\n      <td>30211</td>\n    </tr>\n    <tr>\n      <th>5</th>\n      <td>6</td>\n      <td>6113</td>\n    </tr>\n    <tr>\n      <th>6</th>\n      <td>7</td>\n      <td>7428</td>\n    </tr>\n    <tr>\n      <th>7</th>\n      <td>8</td>\n      <td>14366</td>\n    </tr>\n    <tr>\n      <th>8</th>\n      <td>9</td>\n      <td>146952</td>\n    </tr>\n    <tr>\n      <th>9</th>\n      <td>10</td>\n      <td>11126</td>\n    </tr>\n    <tr>\n      <th>10</th>\n      <td>11</td>\n      <td>44965</td>\n    </tr>\n    <tr>\n      <th>11</th>\n      <td>12</td>\n      <td>21206</td>\n    </tr>\n    <tr>\n      <th>12</th>\n      <td>13</td>\n      <td>14552</td>\n    </tr>\n    <tr>\n      <th>13</th>\n      <td>14</td>\n      <td>31093</td>\n    </tr>\n    <tr>\n      <th>14</th>\n      <td>15</td>\n      <td>91571</td>\n    </tr>\n    <tr>\n      <th>15</th>\n      <td>16</td>\n      <td>23094</td>\n    </tr>\n    <tr>\n      <th>16</th>\n      <td>17</td>\n      <td>6532</td>\n    </tr>\n    <tr>\n      <th>17</th>\n      <td>18</td>\n      <td>6480</td>\n    </tr>\n    <tr>\n      <th>18</th>\n      <td>19</td>\n      <td>47793</td>\n    </tr>\n    <tr>\n      <th>19</th>\n      <td>20</td>\n      <td>19831</td>\n    </tr>\n    <tr>\n      <th>20</th>\n      <td>21</td>\n      <td>33942</td>\n    </tr>\n    <tr>\n      <th>21</th>\n      <td>22</td>\n      <td>11425</td>\n    </tr>\n    <tr>\n      <th>22</th>\n      <td>23</td>\n      <td>13028</td>\n    </tr>\n    <tr>\n      <th>23</th>\n      <td>24</td>\n      <td>26190</td>\n    </tr>\n    <tr>\n      <th>24</th>\n      <td>25</td>\n      <td>20779</td>\n    </tr>\n    <tr>\n      <th>25</th>\n      <td>26</td>\n      <td>36414</td>\n    </tr>\n    <tr>\n      <th>26</th>\n      <td>27</td>\n      <td>33587</td>\n    </tr>\n    <tr>\n      <th>27</th>\n      <td>28</td>\n      <td>30828</td>\n    </tr>\n    <tr>\n      <th>28</th>\n      <td>29</td>\n      <td>8156</td>\n    </tr>\n    <tr>\n      <th>29</th>\n      <td>30</td>\n      <td>35818</td>\n    </tr>\n    <tr>\n      <th>30</th>\n      <td>31</td>\n      <td>20318</td>\n    </tr>\n    <tr>\n      <th>31</th>\n      <td>32</td>\n      <td>9342</td>\n    </tr>\n  </tbody>\n</table>\n</div>"
     },
     "metadata": {},
     "execution_count": 142
    }
   ],
   "source": [
    "confirmados_por_estado = grupos_estado.size().to_frame(\"casos confirmados\").reset_index()\n",
    "confirmados_por_estado"
   ]
  },
  {
   "source": [
    "## Cargando los diccionarios\n",
    "\n",
    "Los estados vienen codificados de acuerdo a su clave de estado (una clave que el INEGI les ha asignado a cada estado). Usando el diccionario podemos saber a que estado pertenece cada clave. Si queremos que el nombre de los estados aparezca en nuestra gráfica necesitamos cargar esa información. El diccionario de datos se puede descargar de [aquí](http://datosabiertos.salud.gob.mx/gobmx/salud/datos_abiertos/diccionario_datos_covid19.zip). La Secretaría lo proporciona en un archivo Zip, dentro de ese archivo viene además el archivo descriptor de la base de datos por lo cual no podremos cargar directamente el archivo a nuestro Notebook. Tendrás que ir por el y descomprimirlo. Este repositorio tiene una copia del diccionario en la carpeta \"diccionarios\".\n",
    "\n",
    "El diccionario es un archivo de excel. Pandas tiene la capacidad de cargar archivos de excel. Usaremos la función read_excel. El primer parámetro es la ruta a donde está el archivo, además podemos usar algunas opciones. Los archivos de excel usualmente tienen varias hojas, para poder cargarlas todas usaremos la opción \"sheet_name=None\".\n",
    "\n",
    "Si descargaste los diccionarios desde la secretaría de salud colócalos en una subcarpeta llamada diccionarios en la misma carpeta en donde está este notebook o coloca la ruta correcta."
   ],
   "cell_type": "markdown",
   "metadata": {}
  },
  {
   "cell_type": "code",
   "execution_count": 145,
   "metadata": {},
   "outputs": [],
   "source": [
    "dics = pd.read_excel(\"./diccionarios/Catalogos_071020.xlsx\", sheet_name=None)"
   ]
  },
  {
   "source": [
    "El archivo de diccionarios es un archivo que tiene muchas hojas, por cada hoja Pandas ha creado un DataFrame. Están guardados en una estructura de datos de python llamada diccionario que a su vez nosotros hemos guardado en la variable dics. Los diccionarios de python pueden acceder a su contenido de acuerdo a una llave. Podemos conocer las llaves existentes en dics con la función keys()"
   ],
   "cell_type": "markdown",
   "metadata": {}
  },
  {
   "cell_type": "code",
   "execution_count": 146,
   "metadata": {},
   "outputs": [
    {
     "output_type": "execute_result",
     "data": {
      "text/plain": [
       "dict_keys(['Catálogo ORIGEN', 'Catálogo SECTOR', 'Catálogo SEXO', 'Catálogo TIPO_PACIENTE', 'Catálogo SI_NO', 'Catálogo NACIONALIDAD', 'Catálogo RESULTADO_LAB', 'Catálogo CLASIFICACION_FINAL', 'Catálogo de ENTIDADES', 'Catálogo MUNICIPIOS'])"
      ]
     },
     "metadata": {},
     "execution_count": 146
    }
   ],
   "source": [
    "dics.keys()"
   ]
  },
  {
   "source": [
    "De las llaves existentes nos interesa la que se llama \"Catálogo de ENTIDADES\". Ahí está guardado el DataFrame que nos interesa. Accedemos a el de manera similar a como lo hacemos con las columnas de los DataFrames. Guardamos este DataFrame en la variable dic_estados"
   ],
   "cell_type": "markdown",
   "metadata": {}
  },
  {
   "cell_type": "code",
   "execution_count": 150,
   "metadata": {},
   "outputs": [
    {
     "output_type": "execute_result",
     "data": {
      "text/plain": [
       "    CLAVE_ENTIDAD               ENTIDAD_FEDERATIVA ABREVIATURA\n",
       "0               1                   AGUASCALIENTES          AS\n",
       "1               2                  BAJA CALIFORNIA          BC\n",
       "2               3              BAJA CALIFORNIA SUR          BS\n",
       "3               4                         CAMPECHE          CC\n",
       "4               5             COAHUILA DE ZARAGOZA          CL\n",
       "5               6                           COLIMA          CM\n",
       "6               7                          CHIAPAS          CS\n",
       "7               8                        CHIHUAHUA          CH\n",
       "8               9                 CIUDAD DE MÉXICO          DF\n",
       "9              10                          DURANGO          DG\n",
       "10             11                       GUANAJUATO          GT\n",
       "11             12                         GUERRERO          GR\n",
       "12             13                          HIDALGO          HG\n",
       "13             14                          JALISCO          JC\n",
       "14             15                           MÉXICO          MC\n",
       "15             16              MICHOACÁN DE OCAMPO          MN\n",
       "16             17                          MORELOS          MS\n",
       "17             18                          NAYARIT          NT\n",
       "18             19                       NUEVO LEÓN          NL\n",
       "19             20                           OAXACA          OC\n",
       "20             21                           PUEBLA          PL\n",
       "21             22                        QUERÉTARO          QT\n",
       "22             23                     QUINTANA ROO          QR\n",
       "23             24                  SAN LUIS POTOSÍ          SP\n",
       "24             25                          SINALOA          SL\n",
       "25             26                           SONORA          SR\n",
       "26             27                          TABASCO          TC\n",
       "27             28                       TAMAULIPAS          TS\n",
       "28             29                         TLAXCALA          TL\n",
       "29             30  VERACRUZ DE IGNACIO DE LA LLAVE          VZ\n",
       "30             31                          YUCATÁN          YN\n",
       "31             32                        ZACATECAS          ZS\n",
       "32             36         ESTADOS UNIDOS MEXICANOS         EUM\n",
       "33             97                        NO APLICA         NaN\n",
       "34             98                        SE IGNORA          SI\n",
       "35             99                  NO ESPECIFICADO          NE"
      ],
      "text/html": "<div>\n<style scoped>\n    .dataframe tbody tr th:only-of-type {\n        vertical-align: middle;\n    }\n\n    .dataframe tbody tr th {\n        vertical-align: top;\n    }\n\n    .dataframe thead th {\n        text-align: right;\n    }\n</style>\n<table border=\"1\" class=\"dataframe\">\n  <thead>\n    <tr style=\"text-align: right;\">\n      <th></th>\n      <th>CLAVE_ENTIDAD</th>\n      <th>ENTIDAD_FEDERATIVA</th>\n      <th>ABREVIATURA</th>\n    </tr>\n  </thead>\n  <tbody>\n    <tr>\n      <th>0</th>\n      <td>1</td>\n      <td>AGUASCALIENTES</td>\n      <td>AS</td>\n    </tr>\n    <tr>\n      <th>1</th>\n      <td>2</td>\n      <td>BAJA CALIFORNIA</td>\n      <td>BC</td>\n    </tr>\n    <tr>\n      <th>2</th>\n      <td>3</td>\n      <td>BAJA CALIFORNIA SUR</td>\n      <td>BS</td>\n    </tr>\n    <tr>\n      <th>3</th>\n      <td>4</td>\n      <td>CAMPECHE</td>\n      <td>CC</td>\n    </tr>\n    <tr>\n      <th>4</th>\n      <td>5</td>\n      <td>COAHUILA DE ZARAGOZA</td>\n      <td>CL</td>\n    </tr>\n    <tr>\n      <th>5</th>\n      <td>6</td>\n      <td>COLIMA</td>\n      <td>CM</td>\n    </tr>\n    <tr>\n      <th>6</th>\n      <td>7</td>\n      <td>CHIAPAS</td>\n      <td>CS</td>\n    </tr>\n    <tr>\n      <th>7</th>\n      <td>8</td>\n      <td>CHIHUAHUA</td>\n      <td>CH</td>\n    </tr>\n    <tr>\n      <th>8</th>\n      <td>9</td>\n      <td>CIUDAD DE MÉXICO</td>\n      <td>DF</td>\n    </tr>\n    <tr>\n      <th>9</th>\n      <td>10</td>\n      <td>DURANGO</td>\n      <td>DG</td>\n    </tr>\n    <tr>\n      <th>10</th>\n      <td>11</td>\n      <td>GUANAJUATO</td>\n      <td>GT</td>\n    </tr>\n    <tr>\n      <th>11</th>\n      <td>12</td>\n      <td>GUERRERO</td>\n      <td>GR</td>\n    </tr>\n    <tr>\n      <th>12</th>\n      <td>13</td>\n      <td>HIDALGO</td>\n      <td>HG</td>\n    </tr>\n    <tr>\n      <th>13</th>\n      <td>14</td>\n      <td>JALISCO</td>\n      <td>JC</td>\n    </tr>\n    <tr>\n      <th>14</th>\n      <td>15</td>\n      <td>MÉXICO</td>\n      <td>MC</td>\n    </tr>\n    <tr>\n      <th>15</th>\n      <td>16</td>\n      <td>MICHOACÁN DE OCAMPO</td>\n      <td>MN</td>\n    </tr>\n    <tr>\n      <th>16</th>\n      <td>17</td>\n      <td>MORELOS</td>\n      <td>MS</td>\n    </tr>\n    <tr>\n      <th>17</th>\n      <td>18</td>\n      <td>NAYARIT</td>\n      <td>NT</td>\n    </tr>\n    <tr>\n      <th>18</th>\n      <td>19</td>\n      <td>NUEVO LEÓN</td>\n      <td>NL</td>\n    </tr>\n    <tr>\n      <th>19</th>\n      <td>20</td>\n      <td>OAXACA</td>\n      <td>OC</td>\n    </tr>\n    <tr>\n      <th>20</th>\n      <td>21</td>\n      <td>PUEBLA</td>\n      <td>PL</td>\n    </tr>\n    <tr>\n      <th>21</th>\n      <td>22</td>\n      <td>QUERÉTARO</td>\n      <td>QT</td>\n    </tr>\n    <tr>\n      <th>22</th>\n      <td>23</td>\n      <td>QUINTANA ROO</td>\n      <td>QR</td>\n    </tr>\n    <tr>\n      <th>23</th>\n      <td>24</td>\n      <td>SAN LUIS POTOSÍ</td>\n      <td>SP</td>\n    </tr>\n    <tr>\n      <th>24</th>\n      <td>25</td>\n      <td>SINALOA</td>\n      <td>SL</td>\n    </tr>\n    <tr>\n      <th>25</th>\n      <td>26</td>\n      <td>SONORA</td>\n      <td>SR</td>\n    </tr>\n    <tr>\n      <th>26</th>\n      <td>27</td>\n      <td>TABASCO</td>\n      <td>TC</td>\n    </tr>\n    <tr>\n      <th>27</th>\n      <td>28</td>\n      <td>TAMAULIPAS</td>\n      <td>TS</td>\n    </tr>\n    <tr>\n      <th>28</th>\n      <td>29</td>\n      <td>TLAXCALA</td>\n      <td>TL</td>\n    </tr>\n    <tr>\n      <th>29</th>\n      <td>30</td>\n      <td>VERACRUZ DE IGNACIO DE LA LLAVE</td>\n      <td>VZ</td>\n    </tr>\n    <tr>\n      <th>30</th>\n      <td>31</td>\n      <td>YUCATÁN</td>\n      <td>YN</td>\n    </tr>\n    <tr>\n      <th>31</th>\n      <td>32</td>\n      <td>ZACATECAS</td>\n      <td>ZS</td>\n    </tr>\n    <tr>\n      <th>32</th>\n      <td>36</td>\n      <td>ESTADOS UNIDOS MEXICANOS</td>\n      <td>EUM</td>\n    </tr>\n    <tr>\n      <th>33</th>\n      <td>97</td>\n      <td>NO APLICA</td>\n      <td>NaN</td>\n    </tr>\n    <tr>\n      <th>34</th>\n      <td>98</td>\n      <td>SE IGNORA</td>\n      <td>SI</td>\n    </tr>\n    <tr>\n      <th>35</th>\n      <td>99</td>\n      <td>NO ESPECIFICADO</td>\n      <td>NE</td>\n    </tr>\n  </tbody>\n</table>\n</div>"
     },
     "metadata": {},
     "execution_count": 150
    }
   ],
   "source": [
    "dic_estados = dics[\"Catálogo de ENTIDADES\"]\n",
    "dic_estados"
   ]
  },
  {
   "source": [
    "## Mezclando dos DataFrames\n",
    "\n",
    "Listo, tenemos la información que queremos en dos DataFrames, por un lado tenemos el número de casos confirmados en el DataFrame \"confirmados_por_estado\" y por otro lado tenemos la información del nombre de cada estado en el DataFrame \"dic_estados\".\n",
    "\n",
    "Pandas nos permite mezclar dos DataFrames de acuerdo a los valores que existan en alguna columna que tenga valores en común. En este caso ambos DataFrames tienen una columna con la clave de la entidad. Esta operación se llama \"merge\".\n",
    "\n",
    "Si nos fijamos con atención algunos de los valores en estas columnas se corresponden y existen otros que solamente están en una columna o en otra. Un merge se hace entre dos DataFrames, de acuerdo a donde lo colocamos en la función les llamamos \"left\" al que ponemos a la izquierda y \"right\" al que ponemos a la derecha. Cuando hacemos un merge podemos decidir que filas queremos mantener, las del DataFrame de la izquierda (left), las filas del DataFrame de la derecha (right), todas las filas de ambos DataFrames (outer) o solamente las filas que en ambos DataFrames existen. \n",
    "\n",
    "Al hacer un merge tenemos que indicar dentro de la función los DataFrames a mezclar, la manera en la que los vamos a mezclar, y las columnas que usaremos para mezclarlas. En este caso queremos mantener solo las filas del DataFrame de casos confirmados y dado que lo pondremos a la izquierda haremos un merge a la izquierda. En el DataFrame de la izquierda usaremos la columna \"ENTIDAD_RES\" y en el de la derecha usaremos la columna \"CLAVE_ENTIDAD\".\n",
    "\n",
    "El resultado lo guardaremos en la variable \"confirmados_edo\""
   ],
   "cell_type": "markdown",
   "metadata": {}
  },
  {
   "cell_type": "code",
   "execution_count": 153,
   "metadata": {},
   "outputs": [
    {
     "output_type": "execute_result",
     "data": {
      "text/plain": [
       "    ENTIDAD_RES  casos confirmados  CLAVE_ENTIDAD  \\\n",
       "0             1               8406              1   \n",
       "1             2              21767              2   \n",
       "2             3              11578              3   \n",
       "3             4               6336              4   \n",
       "4             5              30211              5   \n",
       "5             6               6113              6   \n",
       "6             7               7428              7   \n",
       "7             8              14366              8   \n",
       "8             9             146952              9   \n",
       "9            10              11126             10   \n",
       "10           11              44965             11   \n",
       "11           12              21206             12   \n",
       "12           13              14552             13   \n",
       "13           14              31093             14   \n",
       "14           15              91571             15   \n",
       "15           16              23094             16   \n",
       "16           17               6532             17   \n",
       "17           18               6480             18   \n",
       "18           19              47793             19   \n",
       "19           20              19831             20   \n",
       "20           21              33942             21   \n",
       "21           22              11425             22   \n",
       "22           23              13028             23   \n",
       "23           24              26190             24   \n",
       "24           25              20779             25   \n",
       "25           26              36414             26   \n",
       "26           27              33587             27   \n",
       "27           28              30828             28   \n",
       "28           29               8156             29   \n",
       "29           30              35818             30   \n",
       "30           31              20318             31   \n",
       "31           32               9342             32   \n",
       "\n",
       "                 ENTIDAD_FEDERATIVA ABREVIATURA  \n",
       "0                    AGUASCALIENTES          AS  \n",
       "1                   BAJA CALIFORNIA          BC  \n",
       "2               BAJA CALIFORNIA SUR          BS  \n",
       "3                          CAMPECHE          CC  \n",
       "4              COAHUILA DE ZARAGOZA          CL  \n",
       "5                            COLIMA          CM  \n",
       "6                           CHIAPAS          CS  \n",
       "7                         CHIHUAHUA          CH  \n",
       "8                  CIUDAD DE MÉXICO          DF  \n",
       "9                           DURANGO          DG  \n",
       "10                       GUANAJUATO          GT  \n",
       "11                         GUERRERO          GR  \n",
       "12                          HIDALGO          HG  \n",
       "13                          JALISCO          JC  \n",
       "14                           MÉXICO          MC  \n",
       "15              MICHOACÁN DE OCAMPO          MN  \n",
       "16                          MORELOS          MS  \n",
       "17                          NAYARIT          NT  \n",
       "18                       NUEVO LEÓN          NL  \n",
       "19                           OAXACA          OC  \n",
       "20                           PUEBLA          PL  \n",
       "21                        QUERÉTARO          QT  \n",
       "22                     QUINTANA ROO          QR  \n",
       "23                  SAN LUIS POTOSÍ          SP  \n",
       "24                          SINALOA          SL  \n",
       "25                           SONORA          SR  \n",
       "26                          TABASCO          TC  \n",
       "27                       TAMAULIPAS          TS  \n",
       "28                         TLAXCALA          TL  \n",
       "29  VERACRUZ DE IGNACIO DE LA LLAVE          VZ  \n",
       "30                          YUCATÁN          YN  \n",
       "31                        ZACATECAS          ZS  "
      ],
      "text/html": "<div>\n<style scoped>\n    .dataframe tbody tr th:only-of-type {\n        vertical-align: middle;\n    }\n\n    .dataframe tbody tr th {\n        vertical-align: top;\n    }\n\n    .dataframe thead th {\n        text-align: right;\n    }\n</style>\n<table border=\"1\" class=\"dataframe\">\n  <thead>\n    <tr style=\"text-align: right;\">\n      <th></th>\n      <th>ENTIDAD_RES</th>\n      <th>casos confirmados</th>\n      <th>CLAVE_ENTIDAD</th>\n      <th>ENTIDAD_FEDERATIVA</th>\n      <th>ABREVIATURA</th>\n    </tr>\n  </thead>\n  <tbody>\n    <tr>\n      <th>0</th>\n      <td>1</td>\n      <td>8406</td>\n      <td>1</td>\n      <td>AGUASCALIENTES</td>\n      <td>AS</td>\n    </tr>\n    <tr>\n      <th>1</th>\n      <td>2</td>\n      <td>21767</td>\n      <td>2</td>\n      <td>BAJA CALIFORNIA</td>\n      <td>BC</td>\n    </tr>\n    <tr>\n      <th>2</th>\n      <td>3</td>\n      <td>11578</td>\n      <td>3</td>\n      <td>BAJA CALIFORNIA SUR</td>\n      <td>BS</td>\n    </tr>\n    <tr>\n      <th>3</th>\n      <td>4</td>\n      <td>6336</td>\n      <td>4</td>\n      <td>CAMPECHE</td>\n      <td>CC</td>\n    </tr>\n    <tr>\n      <th>4</th>\n      <td>5</td>\n      <td>30211</td>\n      <td>5</td>\n      <td>COAHUILA DE ZARAGOZA</td>\n      <td>CL</td>\n    </tr>\n    <tr>\n      <th>5</th>\n      <td>6</td>\n      <td>6113</td>\n      <td>6</td>\n      <td>COLIMA</td>\n      <td>CM</td>\n    </tr>\n    <tr>\n      <th>6</th>\n      <td>7</td>\n      <td>7428</td>\n      <td>7</td>\n      <td>CHIAPAS</td>\n      <td>CS</td>\n    </tr>\n    <tr>\n      <th>7</th>\n      <td>8</td>\n      <td>14366</td>\n      <td>8</td>\n      <td>CHIHUAHUA</td>\n      <td>CH</td>\n    </tr>\n    <tr>\n      <th>8</th>\n      <td>9</td>\n      <td>146952</td>\n      <td>9</td>\n      <td>CIUDAD DE MÉXICO</td>\n      <td>DF</td>\n    </tr>\n    <tr>\n      <th>9</th>\n      <td>10</td>\n      <td>11126</td>\n      <td>10</td>\n      <td>DURANGO</td>\n      <td>DG</td>\n    </tr>\n    <tr>\n      <th>10</th>\n      <td>11</td>\n      <td>44965</td>\n      <td>11</td>\n      <td>GUANAJUATO</td>\n      <td>GT</td>\n    </tr>\n    <tr>\n      <th>11</th>\n      <td>12</td>\n      <td>21206</td>\n      <td>12</td>\n      <td>GUERRERO</td>\n      <td>GR</td>\n    </tr>\n    <tr>\n      <th>12</th>\n      <td>13</td>\n      <td>14552</td>\n      <td>13</td>\n      <td>HIDALGO</td>\n      <td>HG</td>\n    </tr>\n    <tr>\n      <th>13</th>\n      <td>14</td>\n      <td>31093</td>\n      <td>14</td>\n      <td>JALISCO</td>\n      <td>JC</td>\n    </tr>\n    <tr>\n      <th>14</th>\n      <td>15</td>\n      <td>91571</td>\n      <td>15</td>\n      <td>MÉXICO</td>\n      <td>MC</td>\n    </tr>\n    <tr>\n      <th>15</th>\n      <td>16</td>\n      <td>23094</td>\n      <td>16</td>\n      <td>MICHOACÁN DE OCAMPO</td>\n      <td>MN</td>\n    </tr>\n    <tr>\n      <th>16</th>\n      <td>17</td>\n      <td>6532</td>\n      <td>17</td>\n      <td>MORELOS</td>\n      <td>MS</td>\n    </tr>\n    <tr>\n      <th>17</th>\n      <td>18</td>\n      <td>6480</td>\n      <td>18</td>\n      <td>NAYARIT</td>\n      <td>NT</td>\n    </tr>\n    <tr>\n      <th>18</th>\n      <td>19</td>\n      <td>47793</td>\n      <td>19</td>\n      <td>NUEVO LEÓN</td>\n      <td>NL</td>\n    </tr>\n    <tr>\n      <th>19</th>\n      <td>20</td>\n      <td>19831</td>\n      <td>20</td>\n      <td>OAXACA</td>\n      <td>OC</td>\n    </tr>\n    <tr>\n      <th>20</th>\n      <td>21</td>\n      <td>33942</td>\n      <td>21</td>\n      <td>PUEBLA</td>\n      <td>PL</td>\n    </tr>\n    <tr>\n      <th>21</th>\n      <td>22</td>\n      <td>11425</td>\n      <td>22</td>\n      <td>QUERÉTARO</td>\n      <td>QT</td>\n    </tr>\n    <tr>\n      <th>22</th>\n      <td>23</td>\n      <td>13028</td>\n      <td>23</td>\n      <td>QUINTANA ROO</td>\n      <td>QR</td>\n    </tr>\n    <tr>\n      <th>23</th>\n      <td>24</td>\n      <td>26190</td>\n      <td>24</td>\n      <td>SAN LUIS POTOSÍ</td>\n      <td>SP</td>\n    </tr>\n    <tr>\n      <th>24</th>\n      <td>25</td>\n      <td>20779</td>\n      <td>25</td>\n      <td>SINALOA</td>\n      <td>SL</td>\n    </tr>\n    <tr>\n      <th>25</th>\n      <td>26</td>\n      <td>36414</td>\n      <td>26</td>\n      <td>SONORA</td>\n      <td>SR</td>\n    </tr>\n    <tr>\n      <th>26</th>\n      <td>27</td>\n      <td>33587</td>\n      <td>27</td>\n      <td>TABASCO</td>\n      <td>TC</td>\n    </tr>\n    <tr>\n      <th>27</th>\n      <td>28</td>\n      <td>30828</td>\n      <td>28</td>\n      <td>TAMAULIPAS</td>\n      <td>TS</td>\n    </tr>\n    <tr>\n      <th>28</th>\n      <td>29</td>\n      <td>8156</td>\n      <td>29</td>\n      <td>TLAXCALA</td>\n      <td>TL</td>\n    </tr>\n    <tr>\n      <th>29</th>\n      <td>30</td>\n      <td>35818</td>\n      <td>30</td>\n      <td>VERACRUZ DE IGNACIO DE LA LLAVE</td>\n      <td>VZ</td>\n    </tr>\n    <tr>\n      <th>30</th>\n      <td>31</td>\n      <td>20318</td>\n      <td>31</td>\n      <td>YUCATÁN</td>\n      <td>YN</td>\n    </tr>\n    <tr>\n      <th>31</th>\n      <td>32</td>\n      <td>9342</td>\n      <td>32</td>\n      <td>ZACATECAS</td>\n      <td>ZS</td>\n    </tr>\n  </tbody>\n</table>\n</div>"
     },
     "metadata": {},
     "execution_count": 153
    }
   ],
   "source": [
    "confirmados_edo = pd.merge(confirmados_por_estado,dic_estados,how=\"left\",left_on=\"ENTIDAD_RES\",right_on=\"CLAVE_ENTIDAD\")\n",
    "confirmados_edo"
   ]
  },
  {
   "source": [
    "Este nuevo DataFrame contiene toda la información que necesitamos para la siguiente gráfica. Chequémos el tipo de datos que existen en cada columna"
   ],
   "cell_type": "markdown",
   "metadata": {}
  },
  {
   "cell_type": "code",
   "execution_count": 154,
   "metadata": {},
   "outputs": [
    {
     "output_type": "execute_result",
     "data": {
      "text/plain": [
       "ENTIDAD_RES            int64\n",
       "casos confirmados      int64\n",
       "CLAVE_ENTIDAD          int64\n",
       "ENTIDAD_FEDERATIVA    object\n",
       "ABREVIATURA           object\n",
       "dtype: object"
      ]
     },
     "metadata": {},
     "execution_count": 154
    }
   ],
   "source": [
    "confirmados_edo.dtypes"
   ]
  },
  {
   "source": [
    "Vemos que tenemos 3 columnas de enteros y dos columnas de tipo \"object\". La gráfica que haremos es una gráfica de barras en donde en el eje x pondremos el estado identificado por su abreviatura y en el eje y pondremos el número de casos para cada estado. Las dos columnas que nos interesan \"ABREVIATURA\" y \"casos confirmados\" son de tipo \"object\" y de tipo entero. Con esos tipos podemos graficar sin problema"
   ],
   "cell_type": "markdown",
   "metadata": {}
  },
  {
   "source": [
    "## Graficando los casos por estado\n",
    "\n",
    "Definimos un nuevo plot y lo guardamos en la variable \"s\". En la definición debemos especificar que el eje x será un eje con variables categóricas, la manera de especificar esto es usando la opción x_range y pasandole una lista con las categorías que usaremos en el orden que las usaremos. En nuestro caso las categorías son los estados, específicamente las abreviaturas."
   ],
   "cell_type": "markdown",
   "metadata": {}
  },
  {
   "cell_type": "code",
   "execution_count": 155,
   "metadata": {},
   "outputs": [],
   "source": [
    "s = bpl.figure(x_range=confirmados_edo[\"ABREVIATURA\"], plot_width=800, plot_height=600)"
   ]
  },
  {
   "source": [
    "Despues de definir el plot podemos agregar elementos gráficos. En este caso agregaremos glifos llamados \"vbar\" que hacen referencia a barras verticales. Las barras verticales requieren que especifiquemos la coordenada en x, que en este caso es la columna con las abreviaturas, además podemos especificar el valor del eje y en donde empieza y en donde termina el rectangulo correspondiente a la barra. Usualmente especificaremos únicamente el valor donde terminan usando la opción \"top\", la opción de \"bottom\" indica donde empiezan y su valor por default es 0. Otro parámetro que es necesario es la opción \"width\" que especifica el ancho de la barra, barras de ancho 1 son barras de un ancho igual al espacio disponible para cada categoría."
   ],
   "cell_type": "markdown",
   "metadata": {}
  },
  {
   "cell_type": "code",
   "execution_count": 156,
   "metadata": {},
   "outputs": [
    {
     "output_type": "execute_result",
     "data": {
      "text/plain": [
       "GlyphRenderer(id='1630', ...)"
      ],
      "text/html": "<div style=\"display: table;\"><div style=\"display: table-row;\"><div style=\"display: table-cell;\"><b title=\"bokeh.models.renderers.GlyphRenderer\">GlyphRenderer</b>(</div><div style=\"display: table-cell;\">id&nbsp;=&nbsp;'1630', <span id=\"1633\" style=\"cursor: pointer;\">&hellip;)</span></div></div><div class=\"1632\" style=\"display: none;\"><div style=\"display: table-cell;\"></div><div style=\"display: table-cell;\">data_source&nbsp;=&nbsp;ColumnDataSource(id='1627', ...),</div></div><div class=\"1632\" style=\"display: none;\"><div style=\"display: table-cell;\"></div><div style=\"display: table-cell;\">glyph&nbsp;=&nbsp;VBar(id='1628', ...),</div></div><div class=\"1632\" style=\"display: none;\"><div style=\"display: table-cell;\"></div><div style=\"display: table-cell;\">hover_glyph&nbsp;=&nbsp;None,</div></div><div class=\"1632\" style=\"display: none;\"><div style=\"display: table-cell;\"></div><div style=\"display: table-cell;\">js_event_callbacks&nbsp;=&nbsp;{},</div></div><div class=\"1632\" style=\"display: none;\"><div style=\"display: table-cell;\"></div><div style=\"display: table-cell;\">js_property_callbacks&nbsp;=&nbsp;{},</div></div><div class=\"1632\" style=\"display: none;\"><div style=\"display: table-cell;\"></div><div style=\"display: table-cell;\">level&nbsp;=&nbsp;'glyph',</div></div><div class=\"1632\" style=\"display: none;\"><div style=\"display: table-cell;\"></div><div style=\"display: table-cell;\">muted&nbsp;=&nbsp;False,</div></div><div class=\"1632\" style=\"display: none;\"><div style=\"display: table-cell;\"></div><div style=\"display: table-cell;\">muted_glyph&nbsp;=&nbsp;None,</div></div><div class=\"1632\" style=\"display: none;\"><div style=\"display: table-cell;\"></div><div style=\"display: table-cell;\">name&nbsp;=&nbsp;None,</div></div><div class=\"1632\" style=\"display: none;\"><div style=\"display: table-cell;\"></div><div style=\"display: table-cell;\">nonselection_glyph&nbsp;=&nbsp;VBar(id='1629', ...),</div></div><div class=\"1632\" style=\"display: none;\"><div style=\"display: table-cell;\"></div><div style=\"display: table-cell;\">selection_glyph&nbsp;=&nbsp;None,</div></div><div class=\"1632\" style=\"display: none;\"><div style=\"display: table-cell;\"></div><div style=\"display: table-cell;\">subscribed_events&nbsp;=&nbsp;[],</div></div><div class=\"1632\" style=\"display: none;\"><div style=\"display: table-cell;\"></div><div style=\"display: table-cell;\">tags&nbsp;=&nbsp;[],</div></div><div class=\"1632\" style=\"display: none;\"><div style=\"display: table-cell;\"></div><div style=\"display: table-cell;\">view&nbsp;=&nbsp;CDSView(id='1631', ...),</div></div><div class=\"1632\" style=\"display: none;\"><div style=\"display: table-cell;\"></div><div style=\"display: table-cell;\">visible&nbsp;=&nbsp;True,</div></div><div class=\"1632\" style=\"display: none;\"><div style=\"display: table-cell;\"></div><div style=\"display: table-cell;\">x_range_name&nbsp;=&nbsp;'default',</div></div><div class=\"1632\" style=\"display: none;\"><div style=\"display: table-cell;\"></div><div style=\"display: table-cell;\">y_range_name&nbsp;=&nbsp;'default')</div></div></div>\n<script>\n(function() {\n  var expanded = false;\n  var ellipsis = document.getElementById(\"1633\");\n  ellipsis.addEventListener(\"click\", function() {\n    var rows = document.getElementsByClassName(\"1632\");\n    for (var i = 0; i < rows.length; i++) {\n      var el = rows[i];\n      el.style.display = expanded ? \"none\" : \"table-row\";\n    }\n    ellipsis.innerHTML = expanded ? \"&hellip;)\" : \"&lsaquo;&lsaquo;&lsaquo;\";\n    expanded = !expanded;\n  });\n})();\n</script>\n"
     },
     "metadata": {},
     "execution_count": 156
    }
   ],
   "source": [
    "s.vbar(x=confirmados_edo[\"ABREVIATURA\"],top=confirmados_edo[\"casos confirmados\"], width=0.7)"
   ]
  },
  {
   "cell_type": "code",
   "execution_count": 157,
   "metadata": {},
   "outputs": [
    {
     "output_type": "display_data",
     "data": {
      "text/html": "\n\n\n\n\n\n  <div class=\"bk-root\" id=\"47297e6f-b3ba-4c36-a196-899bcde44bb0\" data-root-id=\"1593\"></div>\n"
     },
     "metadata": {}
    },
    {
     "output_type": "display_data",
     "data": {
      "application/javascript": "(function(root) {\n  function embed_document(root) {\n    \n  var docs_json = {\"4331d384-1cf8-4830-8f89-0b43bcce3edd\":{\"roots\":{\"references\":[{\"attributes\":{\"below\":[{\"id\":\"1602\"}],\"center\":[{\"id\":\"1604\"},{\"id\":\"1608\"}],\"left\":[{\"id\":\"1605\"}],\"margin\":[0,0,0,0],\"plot_width\":800,\"renderers\":[{\"id\":\"1630\"}],\"title\":{\"id\":\"1624\"},\"toolbar\":{\"id\":\"1616\"},\"x_range\":{\"id\":\"1594\"},\"x_scale\":{\"id\":\"1598\"},\"y_range\":{\"id\":\"1596\"},\"y_scale\":{\"id\":\"1600\"}},\"id\":\"1593\",\"subtype\":\"Figure\",\"type\":\"Plot\"},{\"attributes\":{},\"id\":\"1600\",\"type\":\"LinearScale\"},{\"attributes\":{},\"id\":\"1612\",\"type\":\"SaveTool\"},{\"attributes\":{\"formatter\":{\"id\":\"1662\"},\"ticker\":{\"id\":\"1606\"}},\"id\":\"1605\",\"type\":\"LinearAxis\"},{\"attributes\":{},\"id\":\"1598\",\"type\":\"CategoricalScale\"},{\"attributes\":{},\"id\":\"1664\",\"type\":\"CategoricalTickFormatter\"},{\"attributes\":{\"data\":{\"top\":[8406,21767,11578,6336,30211,6113,7428,14366,146952,11126,44965,21206,14552,31093,91571,23094,6532,6480,47793,19831,33942,11425,13028,26190,20779,36414,33587,30828,8156,35818,20318,9342],\"x\":[\"AS\",\"BC\",\"BS\",\"CC\",\"CL\",\"CM\",\"CS\",\"CH\",\"DF\",\"DG\",\"GT\",\"GR\",\"HG\",\"JC\",\"MC\",\"MN\",\"MS\",\"NT\",\"NL\",\"OC\",\"PL\",\"QT\",\"QR\",\"SP\",\"SL\",\"SR\",\"TC\",\"TS\",\"TL\",\"VZ\",\"YN\",\"ZS\"]},\"selected\":{\"id\":\"1666\"},\"selection_policy\":{\"id\":\"1665\"}},\"id\":\"1627\",\"type\":\"ColumnDataSource\"},{\"attributes\":{},\"id\":\"1613\",\"type\":\"ResetTool\"},{\"attributes\":{\"fill_color\":{\"value\":\"#1f77b4\"},\"line_color\":{\"value\":\"#1f77b4\"},\"top\":{\"field\":\"top\"},\"width\":{\"value\":0.7},\"x\":{\"field\":\"x\"}},\"id\":\"1628\",\"type\":\"VBar\"},{\"attributes\":{\"fill_alpha\":{\"value\":0.1},\"fill_color\":{\"value\":\"#1f77b4\"},\"line_alpha\":{\"value\":0.1},\"line_color\":{\"value\":\"#1f77b4\"},\"top\":{\"field\":\"top\"},\"width\":{\"value\":0.7},\"x\":{\"field\":\"x\"}},\"id\":\"1629\",\"type\":\"VBar\"},{\"attributes\":{\"overlay\":{\"id\":\"1615\"}},\"id\":\"1611\",\"type\":\"BoxZoomTool\"},{\"attributes\":{},\"id\":\"1666\",\"type\":\"Selection\"},{\"attributes\":{\"source\":{\"id\":\"1627\"}},\"id\":\"1631\",\"type\":\"CDSView\"},{\"attributes\":{\"data_source\":{\"id\":\"1627\"},\"glyph\":{\"id\":\"1628\"},\"hover_glyph\":null,\"muted_glyph\":null,\"nonselection_glyph\":{\"id\":\"1629\"},\"selection_glyph\":null,\"view\":{\"id\":\"1631\"}},\"id\":\"1630\",\"type\":\"GlyphRenderer\"},{\"attributes\":{\"factors\":[\"AS\",\"BC\",\"BS\",\"CC\",\"CL\",\"CM\",\"CS\",\"CH\",\"DF\",\"DG\",\"GT\",\"GR\",\"HG\",\"JC\",\"MC\",\"MN\",\"MS\",\"NT\",\"NL\",\"OC\",\"PL\",\"QT\",\"QR\",\"SP\",\"SL\",\"SR\",\"TC\",\"TS\",\"TL\",\"VZ\",\"YN\",\"ZS\"]},\"id\":\"1594\",\"type\":\"FactorRange\"},{\"attributes\":{},\"id\":\"1596\",\"type\":\"DataRange1d\"},{\"attributes\":{\"axis\":{\"id\":\"1602\"},\"ticker\":null},\"id\":\"1604\",\"type\":\"Grid\"},{\"attributes\":{},\"id\":\"1662\",\"type\":\"BasicTickFormatter\"},{\"attributes\":{},\"id\":\"1603\",\"type\":\"CategoricalTicker\"},{\"attributes\":{},\"id\":\"1610\",\"type\":\"WheelZoomTool\"},{\"attributes\":{\"active_drag\":\"auto\",\"active_inspect\":\"auto\",\"active_multi\":null,\"active_scroll\":\"auto\",\"active_tap\":\"auto\",\"tools\":[{\"id\":\"1609\"},{\"id\":\"1610\"},{\"id\":\"1611\"},{\"id\":\"1612\"},{\"id\":\"1613\"},{\"id\":\"1614\"}]},\"id\":\"1616\",\"type\":\"Toolbar\"},{\"attributes\":{\"bottom_units\":\"screen\",\"fill_alpha\":0.5,\"fill_color\":\"lightgrey\",\"left_units\":\"screen\",\"level\":\"overlay\",\"line_alpha\":1.0,\"line_color\":\"black\",\"line_dash\":[4,4],\"line_width\":2,\"right_units\":\"screen\",\"top_units\":\"screen\"},\"id\":\"1615\",\"type\":\"BoxAnnotation\"},{\"attributes\":{\"formatter\":{\"id\":\"1664\"},\"ticker\":{\"id\":\"1603\"}},\"id\":\"1602\",\"type\":\"CategoricalAxis\"},{\"attributes\":{},\"id\":\"1614\",\"type\":\"HelpTool\"},{\"attributes\":{},\"id\":\"1665\",\"type\":\"UnionRenderers\"},{\"attributes\":{\"text\":\"\"},\"id\":\"1624\",\"type\":\"Title\"},{\"attributes\":{\"axis\":{\"id\":\"1605\"},\"dimension\":1,\"ticker\":null},\"id\":\"1608\",\"type\":\"Grid\"},{\"attributes\":{},\"id\":\"1606\",\"type\":\"BasicTicker\"},{\"attributes\":{},\"id\":\"1609\",\"type\":\"PanTool\"}],\"root_ids\":[\"1593\"]},\"title\":\"Bokeh Application\",\"version\":\"2.2.1\"}};\n  var render_items = [{\"docid\":\"4331d384-1cf8-4830-8f89-0b43bcce3edd\",\"root_ids\":[\"1593\"],\"roots\":{\"1593\":\"47297e6f-b3ba-4c36-a196-899bcde44bb0\"}}];\n  root.Bokeh.embed.embed_items_notebook(docs_json, render_items);\n\n  }\n  if (root.Bokeh !== undefined) {\n    embed_document(root);\n  } else {\n    var attempts = 0;\n    var timer = setInterval(function(root) {\n      if (root.Bokeh !== undefined) {\n        clearInterval(timer);\n        embed_document(root);\n      } else {\n        attempts++;\n        if (attempts > 100) {\n          clearInterval(timer);\n          console.log(\"Bokeh: ERROR: Unable to run BokehJS code because BokehJS library is missing\");\n        }\n      }\n    }, 10, root)\n  }\n})(window);",
      "application/vnd.bokehjs_exec.v0+json": ""
     },
     "metadata": {
      "application/vnd.bokehjs_exec.v0+json": {
       "id": "1593"
      }
     }
    }
   ],
   "source": [
    "bpl.show(s)"
   ]
  },
  {
   "source": [
    "En la gráfica anterior los estados se ordenan de forma alfabética, podríamos ordenarlos de acuerdo al monto. Para esto necesitamos modificar nuestro DataFrame con la función sort_values(). Esta función requiere como parámetro el nombre de la columna con la cual ordenaremos los valores, en este caso los casos confirmados, además podemos especificar usando la opción ascending=\"False\" que queremos ordenar el DataFrame de mayor a menor. Además usamos la opción inplace=True para que el resultado se almacene en el mismo DataFrame y no tengamos que guardarlo en otra variable."
   ],
   "cell_type": "markdown",
   "metadata": {}
  },
  {
   "cell_type": "code",
   "execution_count": 161,
   "metadata": {},
   "outputs": [
    {
     "output_type": "execute_result",
     "data": {
      "text/plain": [
       "    ENTIDAD_RES  casos confirmados  CLAVE_ENTIDAD  \\\n",
       "8             9             146952              9   \n",
       "14           15              91571             15   \n",
       "18           19              47793             19   \n",
       "10           11              44965             11   \n",
       "25           26              36414             26   \n",
       "29           30              35818             30   \n",
       "20           21              33942             21   \n",
       "26           27              33587             27   \n",
       "13           14              31093             14   \n",
       "27           28              30828             28   \n",
       "4             5              30211              5   \n",
       "23           24              26190             24   \n",
       "15           16              23094             16   \n",
       "1             2              21767              2   \n",
       "11           12              21206             12   \n",
       "24           25              20779             25   \n",
       "30           31              20318             31   \n",
       "19           20              19831             20   \n",
       "12           13              14552             13   \n",
       "7             8              14366              8   \n",
       "22           23              13028             23   \n",
       "2             3              11578              3   \n",
       "21           22              11425             22   \n",
       "9            10              11126             10   \n",
       "31           32               9342             32   \n",
       "0             1               8406              1   \n",
       "28           29               8156             29   \n",
       "6             7               7428              7   \n",
       "16           17               6532             17   \n",
       "17           18               6480             18   \n",
       "3             4               6336              4   \n",
       "5             6               6113              6   \n",
       "\n",
       "                 ENTIDAD_FEDERATIVA ABREVIATURA  \n",
       "8                  CIUDAD DE MÉXICO          DF  \n",
       "14                           MÉXICO          MC  \n",
       "18                       NUEVO LEÓN          NL  \n",
       "10                       GUANAJUATO          GT  \n",
       "25                           SONORA          SR  \n",
       "29  VERACRUZ DE IGNACIO DE LA LLAVE          VZ  \n",
       "20                           PUEBLA          PL  \n",
       "26                          TABASCO          TC  \n",
       "13                          JALISCO          JC  \n",
       "27                       TAMAULIPAS          TS  \n",
       "4              COAHUILA DE ZARAGOZA          CL  \n",
       "23                  SAN LUIS POTOSÍ          SP  \n",
       "15              MICHOACÁN DE OCAMPO          MN  \n",
       "1                   BAJA CALIFORNIA          BC  \n",
       "11                         GUERRERO          GR  \n",
       "24                          SINALOA          SL  \n",
       "30                          YUCATÁN          YN  \n",
       "19                           OAXACA          OC  \n",
       "12                          HIDALGO          HG  \n",
       "7                         CHIHUAHUA          CH  \n",
       "22                     QUINTANA ROO          QR  \n",
       "2               BAJA CALIFORNIA SUR          BS  \n",
       "21                        QUERÉTARO          QT  \n",
       "9                           DURANGO          DG  \n",
       "31                        ZACATECAS          ZS  \n",
       "0                    AGUASCALIENTES          AS  \n",
       "28                         TLAXCALA          TL  \n",
       "6                           CHIAPAS          CS  \n",
       "16                          MORELOS          MS  \n",
       "17                          NAYARIT          NT  \n",
       "3                          CAMPECHE          CC  \n",
       "5                            COLIMA          CM  "
      ],
      "text/html": "<div>\n<style scoped>\n    .dataframe tbody tr th:only-of-type {\n        vertical-align: middle;\n    }\n\n    .dataframe tbody tr th {\n        vertical-align: top;\n    }\n\n    .dataframe thead th {\n        text-align: right;\n    }\n</style>\n<table border=\"1\" class=\"dataframe\">\n  <thead>\n    <tr style=\"text-align: right;\">\n      <th></th>\n      <th>ENTIDAD_RES</th>\n      <th>casos confirmados</th>\n      <th>CLAVE_ENTIDAD</th>\n      <th>ENTIDAD_FEDERATIVA</th>\n      <th>ABREVIATURA</th>\n    </tr>\n  </thead>\n  <tbody>\n    <tr>\n      <th>8</th>\n      <td>9</td>\n      <td>146952</td>\n      <td>9</td>\n      <td>CIUDAD DE MÉXICO</td>\n      <td>DF</td>\n    </tr>\n    <tr>\n      <th>14</th>\n      <td>15</td>\n      <td>91571</td>\n      <td>15</td>\n      <td>MÉXICO</td>\n      <td>MC</td>\n    </tr>\n    <tr>\n      <th>18</th>\n      <td>19</td>\n      <td>47793</td>\n      <td>19</td>\n      <td>NUEVO LEÓN</td>\n      <td>NL</td>\n    </tr>\n    <tr>\n      <th>10</th>\n      <td>11</td>\n      <td>44965</td>\n      <td>11</td>\n      <td>GUANAJUATO</td>\n      <td>GT</td>\n    </tr>\n    <tr>\n      <th>25</th>\n      <td>26</td>\n      <td>36414</td>\n      <td>26</td>\n      <td>SONORA</td>\n      <td>SR</td>\n    </tr>\n    <tr>\n      <th>29</th>\n      <td>30</td>\n      <td>35818</td>\n      <td>30</td>\n      <td>VERACRUZ DE IGNACIO DE LA LLAVE</td>\n      <td>VZ</td>\n    </tr>\n    <tr>\n      <th>20</th>\n      <td>21</td>\n      <td>33942</td>\n      <td>21</td>\n      <td>PUEBLA</td>\n      <td>PL</td>\n    </tr>\n    <tr>\n      <th>26</th>\n      <td>27</td>\n      <td>33587</td>\n      <td>27</td>\n      <td>TABASCO</td>\n      <td>TC</td>\n    </tr>\n    <tr>\n      <th>13</th>\n      <td>14</td>\n      <td>31093</td>\n      <td>14</td>\n      <td>JALISCO</td>\n      <td>JC</td>\n    </tr>\n    <tr>\n      <th>27</th>\n      <td>28</td>\n      <td>30828</td>\n      <td>28</td>\n      <td>TAMAULIPAS</td>\n      <td>TS</td>\n    </tr>\n    <tr>\n      <th>4</th>\n      <td>5</td>\n      <td>30211</td>\n      <td>5</td>\n      <td>COAHUILA DE ZARAGOZA</td>\n      <td>CL</td>\n    </tr>\n    <tr>\n      <th>23</th>\n      <td>24</td>\n      <td>26190</td>\n      <td>24</td>\n      <td>SAN LUIS POTOSÍ</td>\n      <td>SP</td>\n    </tr>\n    <tr>\n      <th>15</th>\n      <td>16</td>\n      <td>23094</td>\n      <td>16</td>\n      <td>MICHOACÁN DE OCAMPO</td>\n      <td>MN</td>\n    </tr>\n    <tr>\n      <th>1</th>\n      <td>2</td>\n      <td>21767</td>\n      <td>2</td>\n      <td>BAJA CALIFORNIA</td>\n      <td>BC</td>\n    </tr>\n    <tr>\n      <th>11</th>\n      <td>12</td>\n      <td>21206</td>\n      <td>12</td>\n      <td>GUERRERO</td>\n      <td>GR</td>\n    </tr>\n    <tr>\n      <th>24</th>\n      <td>25</td>\n      <td>20779</td>\n      <td>25</td>\n      <td>SINALOA</td>\n      <td>SL</td>\n    </tr>\n    <tr>\n      <th>30</th>\n      <td>31</td>\n      <td>20318</td>\n      <td>31</td>\n      <td>YUCATÁN</td>\n      <td>YN</td>\n    </tr>\n    <tr>\n      <th>19</th>\n      <td>20</td>\n      <td>19831</td>\n      <td>20</td>\n      <td>OAXACA</td>\n      <td>OC</td>\n    </tr>\n    <tr>\n      <th>12</th>\n      <td>13</td>\n      <td>14552</td>\n      <td>13</td>\n      <td>HIDALGO</td>\n      <td>HG</td>\n    </tr>\n    <tr>\n      <th>7</th>\n      <td>8</td>\n      <td>14366</td>\n      <td>8</td>\n      <td>CHIHUAHUA</td>\n      <td>CH</td>\n    </tr>\n    <tr>\n      <th>22</th>\n      <td>23</td>\n      <td>13028</td>\n      <td>23</td>\n      <td>QUINTANA ROO</td>\n      <td>QR</td>\n    </tr>\n    <tr>\n      <th>2</th>\n      <td>3</td>\n      <td>11578</td>\n      <td>3</td>\n      <td>BAJA CALIFORNIA SUR</td>\n      <td>BS</td>\n    </tr>\n    <tr>\n      <th>21</th>\n      <td>22</td>\n      <td>11425</td>\n      <td>22</td>\n      <td>QUERÉTARO</td>\n      <td>QT</td>\n    </tr>\n    <tr>\n      <th>9</th>\n      <td>10</td>\n      <td>11126</td>\n      <td>10</td>\n      <td>DURANGO</td>\n      <td>DG</td>\n    </tr>\n    <tr>\n      <th>31</th>\n      <td>32</td>\n      <td>9342</td>\n      <td>32</td>\n      <td>ZACATECAS</td>\n      <td>ZS</td>\n    </tr>\n    <tr>\n      <th>0</th>\n      <td>1</td>\n      <td>8406</td>\n      <td>1</td>\n      <td>AGUASCALIENTES</td>\n      <td>AS</td>\n    </tr>\n    <tr>\n      <th>28</th>\n      <td>29</td>\n      <td>8156</td>\n      <td>29</td>\n      <td>TLAXCALA</td>\n      <td>TL</td>\n    </tr>\n    <tr>\n      <th>6</th>\n      <td>7</td>\n      <td>7428</td>\n      <td>7</td>\n      <td>CHIAPAS</td>\n      <td>CS</td>\n    </tr>\n    <tr>\n      <th>16</th>\n      <td>17</td>\n      <td>6532</td>\n      <td>17</td>\n      <td>MORELOS</td>\n      <td>MS</td>\n    </tr>\n    <tr>\n      <th>17</th>\n      <td>18</td>\n      <td>6480</td>\n      <td>18</td>\n      <td>NAYARIT</td>\n      <td>NT</td>\n    </tr>\n    <tr>\n      <th>3</th>\n      <td>4</td>\n      <td>6336</td>\n      <td>4</td>\n      <td>CAMPECHE</td>\n      <td>CC</td>\n    </tr>\n    <tr>\n      <th>5</th>\n      <td>6</td>\n      <td>6113</td>\n      <td>6</td>\n      <td>COLIMA</td>\n      <td>CM</td>\n    </tr>\n  </tbody>\n</table>\n</div>"
     },
     "metadata": {},
     "execution_count": 161
    }
   ],
   "source": [
    "confirmados_edo.sort_values(\"casos confirmados\", ascending = False, inplace=True)\n",
    "confirmados_edo"
   ]
  },
  {
   "source": [
    "Una vez que tenemos ordenado el DataFrame podemos volver a definir nuestra grafíca y nuestros glifos para pintarla de nuevo"
   ],
   "cell_type": "markdown",
   "metadata": {}
  },
  {
   "cell_type": "code",
   "execution_count": 162,
   "metadata": {},
   "outputs": [
    {
     "output_type": "execute_result",
     "data": {
      "text/plain": [
       "GlyphRenderer(id='1746', ...)"
      ],
      "text/html": "<div style=\"display: table;\"><div style=\"display: table-row;\"><div style=\"display: table-cell;\"><b title=\"bokeh.models.renderers.GlyphRenderer\">GlyphRenderer</b>(</div><div style=\"display: table-cell;\">id&nbsp;=&nbsp;'1746', <span id=\"1749\" style=\"cursor: pointer;\">&hellip;)</span></div></div><div class=\"1748\" style=\"display: none;\"><div style=\"display: table-cell;\"></div><div style=\"display: table-cell;\">data_source&nbsp;=&nbsp;ColumnDataSource(id='1743', ...),</div></div><div class=\"1748\" style=\"display: none;\"><div style=\"display: table-cell;\"></div><div style=\"display: table-cell;\">glyph&nbsp;=&nbsp;VBar(id='1744', ...),</div></div><div class=\"1748\" style=\"display: none;\"><div style=\"display: table-cell;\"></div><div style=\"display: table-cell;\">hover_glyph&nbsp;=&nbsp;None,</div></div><div class=\"1748\" style=\"display: none;\"><div style=\"display: table-cell;\"></div><div style=\"display: table-cell;\">js_event_callbacks&nbsp;=&nbsp;{},</div></div><div class=\"1748\" style=\"display: none;\"><div style=\"display: table-cell;\"></div><div style=\"display: table-cell;\">js_property_callbacks&nbsp;=&nbsp;{},</div></div><div class=\"1748\" style=\"display: none;\"><div style=\"display: table-cell;\"></div><div style=\"display: table-cell;\">level&nbsp;=&nbsp;'glyph',</div></div><div class=\"1748\" style=\"display: none;\"><div style=\"display: table-cell;\"></div><div style=\"display: table-cell;\">muted&nbsp;=&nbsp;False,</div></div><div class=\"1748\" style=\"display: none;\"><div style=\"display: table-cell;\"></div><div style=\"display: table-cell;\">muted_glyph&nbsp;=&nbsp;None,</div></div><div class=\"1748\" style=\"display: none;\"><div style=\"display: table-cell;\"></div><div style=\"display: table-cell;\">name&nbsp;=&nbsp;None,</div></div><div class=\"1748\" style=\"display: none;\"><div style=\"display: table-cell;\"></div><div style=\"display: table-cell;\">nonselection_glyph&nbsp;=&nbsp;VBar(id='1745', ...),</div></div><div class=\"1748\" style=\"display: none;\"><div style=\"display: table-cell;\"></div><div style=\"display: table-cell;\">selection_glyph&nbsp;=&nbsp;None,</div></div><div class=\"1748\" style=\"display: none;\"><div style=\"display: table-cell;\"></div><div style=\"display: table-cell;\">subscribed_events&nbsp;=&nbsp;[],</div></div><div class=\"1748\" style=\"display: none;\"><div style=\"display: table-cell;\"></div><div style=\"display: table-cell;\">tags&nbsp;=&nbsp;[],</div></div><div class=\"1748\" style=\"display: none;\"><div style=\"display: table-cell;\"></div><div style=\"display: table-cell;\">view&nbsp;=&nbsp;CDSView(id='1747', ...),</div></div><div class=\"1748\" style=\"display: none;\"><div style=\"display: table-cell;\"></div><div style=\"display: table-cell;\">visible&nbsp;=&nbsp;True,</div></div><div class=\"1748\" style=\"display: none;\"><div style=\"display: table-cell;\"></div><div style=\"display: table-cell;\">x_range_name&nbsp;=&nbsp;'default',</div></div><div class=\"1748\" style=\"display: none;\"><div style=\"display: table-cell;\"></div><div style=\"display: table-cell;\">y_range_name&nbsp;=&nbsp;'default')</div></div></div>\n<script>\n(function() {\n  var expanded = false;\n  var ellipsis = document.getElementById(\"1749\");\n  ellipsis.addEventListener(\"click\", function() {\n    var rows = document.getElementsByClassName(\"1748\");\n    for (var i = 0; i < rows.length; i++) {\n      var el = rows[i];\n      el.style.display = expanded ? \"none\" : \"table-row\";\n    }\n    ellipsis.innerHTML = expanded ? \"&hellip;)\" : \"&lsaquo;&lsaquo;&lsaquo;\";\n    expanded = !expanded;\n  });\n})();\n</script>\n"
     },
     "metadata": {},
     "execution_count": 162
    }
   ],
   "source": [
    "s = bpl.figure(x_range=confirmados_edo[\"ABREVIATURA\"], plot_width=800, plot_height=600)\n",
    "s.vbar(x=confirmados_edo[\"ABREVIATURA\"],top=confirmados_edo[\"casos confirmados\"], width=0.7)"
   ]
  },
  {
   "source": [
    "Por último mostramos esta nueva gráfica..."
   ],
   "cell_type": "markdown",
   "metadata": {}
  },
  {
   "cell_type": "code",
   "execution_count": 163,
   "metadata": {},
   "outputs": [
    {
     "output_type": "display_data",
     "data": {
      "text/html": "\n\n\n\n\n\n  <div class=\"bk-root\" id=\"c47fe58a-133f-4f75-867c-af3679b65ecd\" data-root-id=\"1713\"></div>\n"
     },
     "metadata": {}
    },
    {
     "output_type": "display_data",
     "data": {
      "application/javascript": "(function(root) {\n  function embed_document(root) {\n    \n  var docs_json = {\"1d2d0212-7a6b-4a29-9440-85535c8e402d\":{\"roots\":{\"references\":[{\"attributes\":{\"below\":[{\"id\":\"1722\"}],\"center\":[{\"id\":\"1724\"},{\"id\":\"1728\"}],\"left\":[{\"id\":\"1725\"}],\"plot_width\":800,\"renderers\":[{\"id\":\"1746\"}],\"title\":{\"id\":\"1784\"},\"toolbar\":{\"id\":\"1736\"},\"x_range\":{\"id\":\"1714\"},\"x_scale\":{\"id\":\"1718\"},\"y_range\":{\"id\":\"1716\"},\"y_scale\":{\"id\":\"1720\"}},\"id\":\"1713\",\"subtype\":\"Figure\",\"type\":\"Plot\"},{\"attributes\":{\"factors\":[\"DF\",\"MC\",\"NL\",\"GT\",\"SR\",\"VZ\",\"PL\",\"TC\",\"JC\",\"TS\",\"CL\",\"SP\",\"MN\",\"BC\",\"GR\",\"SL\",\"YN\",\"OC\",\"HG\",\"CH\",\"QR\",\"BS\",\"QT\",\"DG\",\"ZS\",\"AS\",\"TL\",\"CS\",\"MS\",\"NT\",\"CC\",\"CM\"]},\"id\":\"1714\",\"type\":\"FactorRange\"},{\"attributes\":{},\"id\":\"1730\",\"type\":\"WheelZoomTool\"},{\"attributes\":{},\"id\":\"1732\",\"type\":\"SaveTool\"},{\"attributes\":{\"bottom_units\":\"screen\",\"fill_alpha\":0.5,\"fill_color\":\"lightgrey\",\"left_units\":\"screen\",\"level\":\"overlay\",\"line_alpha\":1.0,\"line_color\":\"black\",\"line_dash\":[4,4],\"line_width\":2,\"right_units\":\"screen\",\"top_units\":\"screen\"},\"id\":\"1735\",\"type\":\"BoxAnnotation\"},{\"attributes\":{\"fill_alpha\":{\"value\":0.1},\"fill_color\":{\"value\":\"#1f77b4\"},\"line_alpha\":{\"value\":0.1},\"line_color\":{\"value\":\"#1f77b4\"},\"top\":{\"field\":\"top\"},\"width\":{\"value\":0.7},\"x\":{\"field\":\"x\"}},\"id\":\"1745\",\"type\":\"VBar\"},{\"attributes\":{\"fill_color\":{\"value\":\"#1f77b4\"},\"line_color\":{\"value\":\"#1f77b4\"},\"top\":{\"field\":\"top\"},\"width\":{\"value\":0.7},\"x\":{\"field\":\"x\"}},\"id\":\"1744\",\"type\":\"VBar\"},{\"attributes\":{},\"id\":\"1789\",\"type\":\"CategoricalTickFormatter\"},{\"attributes\":{},\"id\":\"1716\",\"type\":\"DataRange1d\"},{\"attributes\":{\"data\":{\"top\":[146952,91571,47793,44965,36414,35818,33942,33587,31093,30828,30211,26190,23094,21767,21206,20779,20318,19831,14552,14366,13028,11578,11425,11126,9342,8406,8156,7428,6532,6480,6336,6113],\"x\":[\"DF\",\"MC\",\"NL\",\"GT\",\"SR\",\"VZ\",\"PL\",\"TC\",\"JC\",\"TS\",\"CL\",\"SP\",\"MN\",\"BC\",\"GR\",\"SL\",\"YN\",\"OC\",\"HG\",\"CH\",\"QR\",\"BS\",\"QT\",\"DG\",\"ZS\",\"AS\",\"TL\",\"CS\",\"MS\",\"NT\",\"CC\",\"CM\"]},\"selected\":{\"id\":\"1791\"},\"selection_policy\":{\"id\":\"1790\"}},\"id\":\"1743\",\"type\":\"ColumnDataSource\"},{\"attributes\":{},\"id\":\"1720\",\"type\":\"LinearScale\"},{\"attributes\":{\"source\":{\"id\":\"1743\"}},\"id\":\"1747\",\"type\":\"CDSView\"},{\"attributes\":{\"formatter\":{\"id\":\"1787\"},\"ticker\":{\"id\":\"1726\"}},\"id\":\"1725\",\"type\":\"LinearAxis\"},{\"attributes\":{\"data_source\":{\"id\":\"1743\"},\"glyph\":{\"id\":\"1744\"},\"hover_glyph\":null,\"muted_glyph\":null,\"nonselection_glyph\":{\"id\":\"1745\"},\"selection_glyph\":null,\"view\":{\"id\":\"1747\"}},\"id\":\"1746\",\"type\":\"GlyphRenderer\"},{\"attributes\":{},\"id\":\"1790\",\"type\":\"UnionRenderers\"},{\"attributes\":{},\"id\":\"1723\",\"type\":\"CategoricalTicker\"},{\"attributes\":{\"overlay\":{\"id\":\"1735\"}},\"id\":\"1731\",\"type\":\"BoxZoomTool\"},{\"attributes\":{\"active_drag\":\"auto\",\"active_inspect\":\"auto\",\"active_multi\":null,\"active_scroll\":\"auto\",\"active_tap\":\"auto\",\"tools\":[{\"id\":\"1729\"},{\"id\":\"1730\"},{\"id\":\"1731\"},{\"id\":\"1732\"},{\"id\":\"1733\"},{\"id\":\"1734\"}]},\"id\":\"1736\",\"type\":\"Toolbar\"},{\"attributes\":{},\"id\":\"1787\",\"type\":\"BasicTickFormatter\"},{\"attributes\":{\"axis\":{\"id\":\"1725\"},\"dimension\":1,\"ticker\":null},\"id\":\"1728\",\"type\":\"Grid\"},{\"attributes\":{},\"id\":\"1726\",\"type\":\"BasicTicker\"},{\"attributes\":{},\"id\":\"1734\",\"type\":\"HelpTool\"},{\"attributes\":{\"axis\":{\"id\":\"1722\"},\"ticker\":null},\"id\":\"1724\",\"type\":\"Grid\"},{\"attributes\":{\"formatter\":{\"id\":\"1789\"},\"ticker\":{\"id\":\"1723\"}},\"id\":\"1722\",\"type\":\"CategoricalAxis\"},{\"attributes\":{},\"id\":\"1729\",\"type\":\"PanTool\"},{\"attributes\":{\"text\":\"\"},\"id\":\"1784\",\"type\":\"Title\"},{\"attributes\":{},\"id\":\"1791\",\"type\":\"Selection\"},{\"attributes\":{},\"id\":\"1718\",\"type\":\"CategoricalScale\"},{\"attributes\":{},\"id\":\"1733\",\"type\":\"ResetTool\"}],\"root_ids\":[\"1713\"]},\"title\":\"Bokeh Application\",\"version\":\"2.2.1\"}};\n  var render_items = [{\"docid\":\"1d2d0212-7a6b-4a29-9440-85535c8e402d\",\"root_ids\":[\"1713\"],\"roots\":{\"1713\":\"c47fe58a-133f-4f75-867c-af3679b65ecd\"}}];\n  root.Bokeh.embed.embed_items_notebook(docs_json, render_items);\n\n  }\n  if (root.Bokeh !== undefined) {\n    embed_document(root);\n  } else {\n    var attempts = 0;\n    var timer = setInterval(function(root) {\n      if (root.Bokeh !== undefined) {\n        clearInterval(timer);\n        embed_document(root);\n      } else {\n        attempts++;\n        if (attempts > 100) {\n          clearInterval(timer);\n          console.log(\"Bokeh: ERROR: Unable to run BokehJS code because BokehJS library is missing\");\n        }\n      }\n    }, 10, root)\n  }\n})(window);",
      "application/vnd.bokehjs_exec.v0+json": ""
     },
     "metadata": {
      "application/vnd.bokehjs_exec.v0+json": {
       "id": "1713"
      }
     }
    }
   ],
   "source": [
    "bpl.show(s)"
   ]
  },
  {
   "source": [
    "Nuestra gráfica es buena pero tramposa, no nos permite comparar pues el efecto de la población está escondido. Podemos suponer que en la ciudad de México hay más casos simplemente porque hay más personas, necesitamos tasar por población, es decir calcular el número de casos por cada 100mil habitantes en cada estado. Para ello necesitaremos los datos de la población. Los datos de población a nivel estatal los podemos conseguir de las proyecciones que hace CONAPO las cuales se encuentran [aquí](http://www.conapo.gob.mx/work/models/CONAPO/Datos_Abiertos/Proyecciones2018/pob_mit_proyecciones.csv)\n",
    "\n",
    "En el enlace se encuentran los datos en formato CSV, con lo cual podemos cargarlos sin problema usando Pandas con la función read_csv():"
   ],
   "cell_type": "markdown",
   "metadata": {}
  },
  {
   "cell_type": "code",
   "execution_count": 164,
   "metadata": {},
   "outputs": [],
   "source": [
    "poblaciones = pd.read_csv(\"http://www.conapo.gob.mx/work/models/CONAPO/Datos_Abiertos/Proyecciones2018/pob_mit_proyecciones.csv\", encoding=\"latin1\")"
   ]
  },
  {
   "cell_type": "code",
   "execution_count": 165,
   "metadata": {},
   "outputs": [
    {
     "output_type": "execute_result",
     "data": {
      "text/plain": [
       "        RENGLON   AÑO             ENTIDAD  CVE_GEO  EDAD     SEXO  POBLACION\n",
       "0             1  1950  República Mexicana        0     0  Hombres     572103\n",
       "1             2  1950  República Mexicana        0     0  Mujeres     559162\n",
       "2             3  1950  República Mexicana        0     1  Hombres     514540\n",
       "3             4  1950  República Mexicana        0     1  Mujeres     505269\n",
       "4             5  1950  República Mexicana        0     2  Hombres     478546\n",
       "...         ...   ...                 ...      ...   ...      ...        ...\n",
       "592455   592456  2050           Zacatecas       32   107  Mujeres          4\n",
       "592456   592457  2050           Zacatecas       32   108  Hombres          1\n",
       "592457   592458  2050           Zacatecas       32   108  Mujeres          2\n",
       "592458   592459  2050           Zacatecas       32   109  Hombres          0\n",
       "592459   592460  2050           Zacatecas       32   109  Mujeres          1\n",
       "\n",
       "[592460 rows x 7 columns]"
      ],
      "text/html": "<div>\n<style scoped>\n    .dataframe tbody tr th:only-of-type {\n        vertical-align: middle;\n    }\n\n    .dataframe tbody tr th {\n        vertical-align: top;\n    }\n\n    .dataframe thead th {\n        text-align: right;\n    }\n</style>\n<table border=\"1\" class=\"dataframe\">\n  <thead>\n    <tr style=\"text-align: right;\">\n      <th></th>\n      <th>RENGLON</th>\n      <th>AÑO</th>\n      <th>ENTIDAD</th>\n      <th>CVE_GEO</th>\n      <th>EDAD</th>\n      <th>SEXO</th>\n      <th>POBLACION</th>\n    </tr>\n  </thead>\n  <tbody>\n    <tr>\n      <th>0</th>\n      <td>1</td>\n      <td>1950</td>\n      <td>República Mexicana</td>\n      <td>0</td>\n      <td>0</td>\n      <td>Hombres</td>\n      <td>572103</td>\n    </tr>\n    <tr>\n      <th>1</th>\n      <td>2</td>\n      <td>1950</td>\n      <td>República Mexicana</td>\n      <td>0</td>\n      <td>0</td>\n      <td>Mujeres</td>\n      <td>559162</td>\n    </tr>\n    <tr>\n      <th>2</th>\n      <td>3</td>\n      <td>1950</td>\n      <td>República Mexicana</td>\n      <td>0</td>\n      <td>1</td>\n      <td>Hombres</td>\n      <td>514540</td>\n    </tr>\n    <tr>\n      <th>3</th>\n      <td>4</td>\n      <td>1950</td>\n      <td>República Mexicana</td>\n      <td>0</td>\n      <td>1</td>\n      <td>Mujeres</td>\n      <td>505269</td>\n    </tr>\n    <tr>\n      <th>4</th>\n      <td>5</td>\n      <td>1950</td>\n      <td>República Mexicana</td>\n      <td>0</td>\n      <td>2</td>\n      <td>Hombres</td>\n      <td>478546</td>\n    </tr>\n    <tr>\n      <th>...</th>\n      <td>...</td>\n      <td>...</td>\n      <td>...</td>\n      <td>...</td>\n      <td>...</td>\n      <td>...</td>\n      <td>...</td>\n    </tr>\n    <tr>\n      <th>592455</th>\n      <td>592456</td>\n      <td>2050</td>\n      <td>Zacatecas</td>\n      <td>32</td>\n      <td>107</td>\n      <td>Mujeres</td>\n      <td>4</td>\n    </tr>\n    <tr>\n      <th>592456</th>\n      <td>592457</td>\n      <td>2050</td>\n      <td>Zacatecas</td>\n      <td>32</td>\n      <td>108</td>\n      <td>Hombres</td>\n      <td>1</td>\n    </tr>\n    <tr>\n      <th>592457</th>\n      <td>592458</td>\n      <td>2050</td>\n      <td>Zacatecas</td>\n      <td>32</td>\n      <td>108</td>\n      <td>Mujeres</td>\n      <td>2</td>\n    </tr>\n    <tr>\n      <th>592458</th>\n      <td>592459</td>\n      <td>2050</td>\n      <td>Zacatecas</td>\n      <td>32</td>\n      <td>109</td>\n      <td>Hombres</td>\n      <td>0</td>\n    </tr>\n    <tr>\n      <th>592459</th>\n      <td>592460</td>\n      <td>2050</td>\n      <td>Zacatecas</td>\n      <td>32</td>\n      <td>109</td>\n      <td>Mujeres</td>\n      <td>1</td>\n    </tr>\n  </tbody>\n</table>\n<p>592460 rows × 7 columns</p>\n</div>"
     },
     "metadata": {},
     "execution_count": 165
    }
   ],
   "source": [
    "poblaciones"
   ]
  },
  {
   "source": [
    "Al explorar el DataFrame obtenido podemos observar que las poblaciones vienen desagregadas por año, estado, sexo y edad. Necesitaremos filtrar el DataFrame. Obtengamos un DataFrame con las poblaciones correspondientes a 2020. para filtrar lo hacemos de la misma manera en la que filtramos los casos. El filtro que buscamos son todas las filas que cumplan con la condición de tener el valor 2020 en la columna \"AÑO\""
   ],
   "cell_type": "markdown",
   "metadata": {}
  },
  {
   "cell_type": "code",
   "execution_count": 168,
   "metadata": {},
   "outputs": [
    {
     "output_type": "execute_result",
     "data": {
      "text/plain": [
       "        RENGLON   AÑO             ENTIDAD  CVE_GEO  EDAD     SEXO  POBLACION\n",
       "15400     15401  2020  República Mexicana        0     0  Hombres    1087447\n",
       "15401     15402  2020  República Mexicana        0     0  Mujeres    1048275\n",
       "15402     15403  2020  República Mexicana        0     1  Hombres    1093379\n",
       "15403     15404  2020  República Mexicana        0     1  Mujeres    1054636\n",
       "15404     15405  2020  República Mexicana        0     2  Hombres    1100800\n",
       "...         ...   ...                 ...      ...   ...      ...        ...\n",
       "585855   585856  2020           Zacatecas       32   107  Mujeres          1\n",
       "585856   585857  2020           Zacatecas       32   108  Hombres          0\n",
       "585857   585858  2020           Zacatecas       32   108  Mujeres          0\n",
       "585858   585859  2020           Zacatecas       32   109  Hombres          0\n",
       "585859   585860  2020           Zacatecas       32   109  Mujeres          0\n",
       "\n",
       "[7260 rows x 7 columns]"
      ],
      "text/html": "<div>\n<style scoped>\n    .dataframe tbody tr th:only-of-type {\n        vertical-align: middle;\n    }\n\n    .dataframe tbody tr th {\n        vertical-align: top;\n    }\n\n    .dataframe thead th {\n        text-align: right;\n    }\n</style>\n<table border=\"1\" class=\"dataframe\">\n  <thead>\n    <tr style=\"text-align: right;\">\n      <th></th>\n      <th>RENGLON</th>\n      <th>AÑO</th>\n      <th>ENTIDAD</th>\n      <th>CVE_GEO</th>\n      <th>EDAD</th>\n      <th>SEXO</th>\n      <th>POBLACION</th>\n    </tr>\n  </thead>\n  <tbody>\n    <tr>\n      <th>15400</th>\n      <td>15401</td>\n      <td>2020</td>\n      <td>República Mexicana</td>\n      <td>0</td>\n      <td>0</td>\n      <td>Hombres</td>\n      <td>1087447</td>\n    </tr>\n    <tr>\n      <th>15401</th>\n      <td>15402</td>\n      <td>2020</td>\n      <td>República Mexicana</td>\n      <td>0</td>\n      <td>0</td>\n      <td>Mujeres</td>\n      <td>1048275</td>\n    </tr>\n    <tr>\n      <th>15402</th>\n      <td>15403</td>\n      <td>2020</td>\n      <td>República Mexicana</td>\n      <td>0</td>\n      <td>1</td>\n      <td>Hombres</td>\n      <td>1093379</td>\n    </tr>\n    <tr>\n      <th>15403</th>\n      <td>15404</td>\n      <td>2020</td>\n      <td>República Mexicana</td>\n      <td>0</td>\n      <td>1</td>\n      <td>Mujeres</td>\n      <td>1054636</td>\n    </tr>\n    <tr>\n      <th>15404</th>\n      <td>15405</td>\n      <td>2020</td>\n      <td>República Mexicana</td>\n      <td>0</td>\n      <td>2</td>\n      <td>Hombres</td>\n      <td>1100800</td>\n    </tr>\n    <tr>\n      <th>...</th>\n      <td>...</td>\n      <td>...</td>\n      <td>...</td>\n      <td>...</td>\n      <td>...</td>\n      <td>...</td>\n      <td>...</td>\n    </tr>\n    <tr>\n      <th>585855</th>\n      <td>585856</td>\n      <td>2020</td>\n      <td>Zacatecas</td>\n      <td>32</td>\n      <td>107</td>\n      <td>Mujeres</td>\n      <td>1</td>\n    </tr>\n    <tr>\n      <th>585856</th>\n      <td>585857</td>\n      <td>2020</td>\n      <td>Zacatecas</td>\n      <td>32</td>\n      <td>108</td>\n      <td>Hombres</td>\n      <td>0</td>\n    </tr>\n    <tr>\n      <th>585857</th>\n      <td>585858</td>\n      <td>2020</td>\n      <td>Zacatecas</td>\n      <td>32</td>\n      <td>108</td>\n      <td>Mujeres</td>\n      <td>0</td>\n    </tr>\n    <tr>\n      <th>585858</th>\n      <td>585859</td>\n      <td>2020</td>\n      <td>Zacatecas</td>\n      <td>32</td>\n      <td>109</td>\n      <td>Hombres</td>\n      <td>0</td>\n    </tr>\n    <tr>\n      <th>585859</th>\n      <td>585860</td>\n      <td>2020</td>\n      <td>Zacatecas</td>\n      <td>32</td>\n      <td>109</td>\n      <td>Mujeres</td>\n      <td>0</td>\n    </tr>\n  </tbody>\n</table>\n<p>7260 rows × 7 columns</p>\n</div>"
     },
     "metadata": {},
     "execution_count": 168
    }
   ],
   "source": [
    "pob2020 = poblaciones[poblaciones[\"AÑO\"]==2020]\n",
    "pob2020"
   ]
  },
  {
   "source": [
    "Nos interesa agrupar por estado, entonces agrupamos por la columna \"CVE_GEO\" (esta clave es la misma clave que hemos manejado para cada estado) y además conservaremos la columna con el nombre del estado \"ENTIDAD\", esto para poder checar que las claves correspondan en los dos DataFrames."
   ],
   "cell_type": "markdown",
   "metadata": {}
  },
  {
   "cell_type": "code",
   "execution_count": 206,
   "metadata": {},
   "outputs": [],
   "source": [
    "grupos_poblacion = pob2020.groupby([\"CVE_GEO\",\"ENTIDAD\"])"
   ]
  },
  {
   "source": [
    "Cada elemento de este grupo es una estructura tipo DataFrame sobre la cual podemos operar. Anteriormente solamente habíamos contado el número de filas en cada elemento. Esta vez la operación que necesitamos es más compleja, tomaremos todas las filas pertenecientes al grupo y sumaremos el valor que tengan en la columna \"POBLACION\", para hacerlo necesitamos indicar que sobre la columna \"POBLACION\" vamos a aplicar la función sum(), lo hacemos de la siguiente manera..."
   ],
   "cell_type": "markdown",
   "metadata": {}
  },
  {
   "cell_type": "code",
   "execution_count": 207,
   "metadata": {},
   "outputs": [
    {
     "output_type": "execute_result",
     "data": {
      "text/plain": [
       "CVE_GEO  ENTIDAD            \n",
       "0        República Mexicana     127792286\n",
       "1        Aguascalientes           1434635\n",
       "2        Baja California          3634868\n",
       "3        Baja California Sur       804708\n",
       "4        Campeche                 1000617\n",
       "5        Coahuila                 3218720\n",
       "6        Colima                    785153\n",
       "7        Chiapas                  5730367\n",
       "8        Chihuahua                3801487\n",
       "9        Ciudad de México         9018645\n",
       "10       Durango                  1868996\n",
       "11       Guanajuato               6228175\n",
       "12       Guerrero                 3657048\n",
       "13       Hidalgo                  3086414\n",
       "14       Jalisco                  8409693\n",
       "15       México                  17427790\n",
       "16       Michoacán                4825401\n",
       "17       Morelos                  2044058\n",
       "18       Nayarit                  1288571\n",
       "19       Nuevo León               5610153\n",
       "20       Oaxaca                   4143593\n",
       "21       Puebla                   6604451\n",
       "22       Querétaro                2279637\n",
       "23       Quintana Roo             1723259\n",
       "24       San Luis Potosí          2866142\n",
       "25       Sinaloa                  3156674\n",
       "26       Sonora                   3074745\n",
       "27       Tabasco                  2572287\n",
       "28       Tamaulipas               3650602\n",
       "29       Tlaxcala                 1380011\n",
       "30       Veracruz                 8539862\n",
       "31       Yucatán                  2259098\n",
       "32       Zacatecas                1666426\n",
       "Name: POBLACION, dtype: int64"
      ]
     },
     "metadata": {},
     "execution_count": 207
    }
   ],
   "source": [
    "grupos_poblacion[\"POBLACION\"].sum()"
   ]
  },
  {
   "source": [
    "El resultado obtenido es una serie con la suma de los valores, cada fila en esta serie corresponde con cada uno de los elementos en el grupo creado. Transformaremos esta serie en un DataFrame de la misma manera en la que lo hicimos anteriormente y lo guardaremos en una variable nueva"
   ],
   "cell_type": "markdown",
   "metadata": {}
  },
  {
   "cell_type": "code",
   "execution_count": 208,
   "metadata": {},
   "outputs": [
    {
     "output_type": "execute_result",
     "data": {
      "text/plain": [
       "    CVE_GEO              ENTIDAD  poblacion\n",
       "0         0   República Mexicana  127792286\n",
       "1         1       Aguascalientes    1434635\n",
       "2         2      Baja California    3634868\n",
       "3         3  Baja California Sur     804708\n",
       "4         4             Campeche    1000617\n",
       "5         5             Coahuila    3218720\n",
       "6         6               Colima     785153\n",
       "7         7              Chiapas    5730367\n",
       "8         8            Chihuahua    3801487\n",
       "9         9     Ciudad de México    9018645\n",
       "10       10              Durango    1868996\n",
       "11       11           Guanajuato    6228175\n",
       "12       12             Guerrero    3657048\n",
       "13       13              Hidalgo    3086414\n",
       "14       14              Jalisco    8409693\n",
       "15       15               México   17427790\n",
       "16       16            Michoacán    4825401\n",
       "17       17              Morelos    2044058\n",
       "18       18              Nayarit    1288571\n",
       "19       19           Nuevo León    5610153\n",
       "20       20               Oaxaca    4143593\n",
       "21       21               Puebla    6604451\n",
       "22       22            Querétaro    2279637\n",
       "23       23         Quintana Roo    1723259\n",
       "24       24      San Luis Potosí    2866142\n",
       "25       25              Sinaloa    3156674\n",
       "26       26               Sonora    3074745\n",
       "27       27              Tabasco    2572287\n",
       "28       28           Tamaulipas    3650602\n",
       "29       29             Tlaxcala    1380011\n",
       "30       30             Veracruz    8539862\n",
       "31       31              Yucatán    2259098\n",
       "32       32            Zacatecas    1666426"
      ],
      "text/html": "<div>\n<style scoped>\n    .dataframe tbody tr th:only-of-type {\n        vertical-align: middle;\n    }\n\n    .dataframe tbody tr th {\n        vertical-align: top;\n    }\n\n    .dataframe thead th {\n        text-align: right;\n    }\n</style>\n<table border=\"1\" class=\"dataframe\">\n  <thead>\n    <tr style=\"text-align: right;\">\n      <th></th>\n      <th>CVE_GEO</th>\n      <th>ENTIDAD</th>\n      <th>poblacion</th>\n    </tr>\n  </thead>\n  <tbody>\n    <tr>\n      <th>0</th>\n      <td>0</td>\n      <td>República Mexicana</td>\n      <td>127792286</td>\n    </tr>\n    <tr>\n      <th>1</th>\n      <td>1</td>\n      <td>Aguascalientes</td>\n      <td>1434635</td>\n    </tr>\n    <tr>\n      <th>2</th>\n      <td>2</td>\n      <td>Baja California</td>\n      <td>3634868</td>\n    </tr>\n    <tr>\n      <th>3</th>\n      <td>3</td>\n      <td>Baja California Sur</td>\n      <td>804708</td>\n    </tr>\n    <tr>\n      <th>4</th>\n      <td>4</td>\n      <td>Campeche</td>\n      <td>1000617</td>\n    </tr>\n    <tr>\n      <th>5</th>\n      <td>5</td>\n      <td>Coahuila</td>\n      <td>3218720</td>\n    </tr>\n    <tr>\n      <th>6</th>\n      <td>6</td>\n      <td>Colima</td>\n      <td>785153</td>\n    </tr>\n    <tr>\n      <th>7</th>\n      <td>7</td>\n      <td>Chiapas</td>\n      <td>5730367</td>\n    </tr>\n    <tr>\n      <th>8</th>\n      <td>8</td>\n      <td>Chihuahua</td>\n      <td>3801487</td>\n    </tr>\n    <tr>\n      <th>9</th>\n      <td>9</td>\n      <td>Ciudad de México</td>\n      <td>9018645</td>\n    </tr>\n    <tr>\n      <th>10</th>\n      <td>10</td>\n      <td>Durango</td>\n      <td>1868996</td>\n    </tr>\n    <tr>\n      <th>11</th>\n      <td>11</td>\n      <td>Guanajuato</td>\n      <td>6228175</td>\n    </tr>\n    <tr>\n      <th>12</th>\n      <td>12</td>\n      <td>Guerrero</td>\n      <td>3657048</td>\n    </tr>\n    <tr>\n      <th>13</th>\n      <td>13</td>\n      <td>Hidalgo</td>\n      <td>3086414</td>\n    </tr>\n    <tr>\n      <th>14</th>\n      <td>14</td>\n      <td>Jalisco</td>\n      <td>8409693</td>\n    </tr>\n    <tr>\n      <th>15</th>\n      <td>15</td>\n      <td>México</td>\n      <td>17427790</td>\n    </tr>\n    <tr>\n      <th>16</th>\n      <td>16</td>\n      <td>Michoacán</td>\n      <td>4825401</td>\n    </tr>\n    <tr>\n      <th>17</th>\n      <td>17</td>\n      <td>Morelos</td>\n      <td>2044058</td>\n    </tr>\n    <tr>\n      <th>18</th>\n      <td>18</td>\n      <td>Nayarit</td>\n      <td>1288571</td>\n    </tr>\n    <tr>\n      <th>19</th>\n      <td>19</td>\n      <td>Nuevo León</td>\n      <td>5610153</td>\n    </tr>\n    <tr>\n      <th>20</th>\n      <td>20</td>\n      <td>Oaxaca</td>\n      <td>4143593</td>\n    </tr>\n    <tr>\n      <th>21</th>\n      <td>21</td>\n      <td>Puebla</td>\n      <td>6604451</td>\n    </tr>\n    <tr>\n      <th>22</th>\n      <td>22</td>\n      <td>Querétaro</td>\n      <td>2279637</td>\n    </tr>\n    <tr>\n      <th>23</th>\n      <td>23</td>\n      <td>Quintana Roo</td>\n      <td>1723259</td>\n    </tr>\n    <tr>\n      <th>24</th>\n      <td>24</td>\n      <td>San Luis Potosí</td>\n      <td>2866142</td>\n    </tr>\n    <tr>\n      <th>25</th>\n      <td>25</td>\n      <td>Sinaloa</td>\n      <td>3156674</td>\n    </tr>\n    <tr>\n      <th>26</th>\n      <td>26</td>\n      <td>Sonora</td>\n      <td>3074745</td>\n    </tr>\n    <tr>\n      <th>27</th>\n      <td>27</td>\n      <td>Tabasco</td>\n      <td>2572287</td>\n    </tr>\n    <tr>\n      <th>28</th>\n      <td>28</td>\n      <td>Tamaulipas</td>\n      <td>3650602</td>\n    </tr>\n    <tr>\n      <th>29</th>\n      <td>29</td>\n      <td>Tlaxcala</td>\n      <td>1380011</td>\n    </tr>\n    <tr>\n      <th>30</th>\n      <td>30</td>\n      <td>Veracruz</td>\n      <td>8539862</td>\n    </tr>\n    <tr>\n      <th>31</th>\n      <td>31</td>\n      <td>Yucatán</td>\n      <td>2259098</td>\n    </tr>\n    <tr>\n      <th>32</th>\n      <td>32</td>\n      <td>Zacatecas</td>\n      <td>1666426</td>\n    </tr>\n  </tbody>\n</table>\n</div>"
     },
     "metadata": {},
     "execution_count": 208
    }
   ],
   "source": [
    "poblacion_edo = grupos_poblacion[\"POBLACION\"].sum().to_frame(\"poblacion\").reset_index()\n",
    "poblacion_edo"
   ]
  },
  {
   "source": [
    "Ya que tenemos la información de la población haremos merge entre este DataFrame y nuestro DataFrame de casos confirmados por estado. Pondremos los casos confirmados a la izquierda, las poblaciones a la derecha y usaremos las columnas de las claves para mezclarlos y lo guardaremos en una nueva variable"
   ],
   "cell_type": "markdown",
   "metadata": {}
  },
  {
   "cell_type": "code",
   "execution_count": 209,
   "metadata": {},
   "outputs": [
    {
     "output_type": "execute_result",
     "data": {
      "text/plain": [
       "    ENTIDAD_RES  casos confirmados  CLAVE_ENTIDAD  \\\n",
       "0             9             146952              9   \n",
       "1            15              91571             15   \n",
       "2            19              47793             19   \n",
       "3            11              44965             11   \n",
       "4            26              36414             26   \n",
       "5            30              35818             30   \n",
       "6            21              33942             21   \n",
       "7            27              33587             27   \n",
       "8            14              31093             14   \n",
       "9            28              30828             28   \n",
       "10            5              30211              5   \n",
       "11           24              26190             24   \n",
       "12           16              23094             16   \n",
       "13            2              21767              2   \n",
       "14           12              21206             12   \n",
       "15           25              20779             25   \n",
       "16           31              20318             31   \n",
       "17           20              19831             20   \n",
       "18           13              14552             13   \n",
       "19            8              14366              8   \n",
       "20           23              13028             23   \n",
       "21            3              11578              3   \n",
       "22           22              11425             22   \n",
       "23           10              11126             10   \n",
       "24           32               9342             32   \n",
       "25            1               8406              1   \n",
       "26           29               8156             29   \n",
       "27            7               7428              7   \n",
       "28           17               6532             17   \n",
       "29           18               6480             18   \n",
       "30            4               6336              4   \n",
       "31            6               6113              6   \n",
       "\n",
       "                 ENTIDAD_FEDERATIVA ABREVIATURA  CVE_GEO              ENTIDAD  \\\n",
       "0                  CIUDAD DE MÉXICO          DF        9     Ciudad de México   \n",
       "1                            MÉXICO          MC       15               México   \n",
       "2                        NUEVO LEÓN          NL       19           Nuevo León   \n",
       "3                        GUANAJUATO          GT       11           Guanajuato   \n",
       "4                            SONORA          SR       26               Sonora   \n",
       "5   VERACRUZ DE IGNACIO DE LA LLAVE          VZ       30             Veracruz   \n",
       "6                            PUEBLA          PL       21               Puebla   \n",
       "7                           TABASCO          TC       27              Tabasco   \n",
       "8                           JALISCO          JC       14              Jalisco   \n",
       "9                        TAMAULIPAS          TS       28           Tamaulipas   \n",
       "10             COAHUILA DE ZARAGOZA          CL        5             Coahuila   \n",
       "11                  SAN LUIS POTOSÍ          SP       24      San Luis Potosí   \n",
       "12              MICHOACÁN DE OCAMPO          MN       16            Michoacán   \n",
       "13                  BAJA CALIFORNIA          BC        2      Baja California   \n",
       "14                         GUERRERO          GR       12             Guerrero   \n",
       "15                          SINALOA          SL       25              Sinaloa   \n",
       "16                          YUCATÁN          YN       31              Yucatán   \n",
       "17                           OAXACA          OC       20               Oaxaca   \n",
       "18                          HIDALGO          HG       13              Hidalgo   \n",
       "19                        CHIHUAHUA          CH        8            Chihuahua   \n",
       "20                     QUINTANA ROO          QR       23         Quintana Roo   \n",
       "21              BAJA CALIFORNIA SUR          BS        3  Baja California Sur   \n",
       "22                        QUERÉTARO          QT       22            Querétaro   \n",
       "23                          DURANGO          DG       10              Durango   \n",
       "24                        ZACATECAS          ZS       32            Zacatecas   \n",
       "25                   AGUASCALIENTES          AS        1       Aguascalientes   \n",
       "26                         TLAXCALA          TL       29             Tlaxcala   \n",
       "27                          CHIAPAS          CS        7              Chiapas   \n",
       "28                          MORELOS          MS       17              Morelos   \n",
       "29                          NAYARIT          NT       18              Nayarit   \n",
       "30                         CAMPECHE          CC        4             Campeche   \n",
       "31                           COLIMA          CM        6               Colima   \n",
       "\n",
       "    poblacion  \n",
       "0     9018645  \n",
       "1    17427790  \n",
       "2     5610153  \n",
       "3     6228175  \n",
       "4     3074745  \n",
       "5     8539862  \n",
       "6     6604451  \n",
       "7     2572287  \n",
       "8     8409693  \n",
       "9     3650602  \n",
       "10    3218720  \n",
       "11    2866142  \n",
       "12    4825401  \n",
       "13    3634868  \n",
       "14    3657048  \n",
       "15    3156674  \n",
       "16    2259098  \n",
       "17    4143593  \n",
       "18    3086414  \n",
       "19    3801487  \n",
       "20    1723259  \n",
       "21     804708  \n",
       "22    2279637  \n",
       "23    1868996  \n",
       "24    1666426  \n",
       "25    1434635  \n",
       "26    1380011  \n",
       "27    5730367  \n",
       "28    2044058  \n",
       "29    1288571  \n",
       "30    1000617  \n",
       "31     785153  "
      ],
      "text/html": "<div>\n<style scoped>\n    .dataframe tbody tr th:only-of-type {\n        vertical-align: middle;\n    }\n\n    .dataframe tbody tr th {\n        vertical-align: top;\n    }\n\n    .dataframe thead th {\n        text-align: right;\n    }\n</style>\n<table border=\"1\" class=\"dataframe\">\n  <thead>\n    <tr style=\"text-align: right;\">\n      <th></th>\n      <th>ENTIDAD_RES</th>\n      <th>casos confirmados</th>\n      <th>CLAVE_ENTIDAD</th>\n      <th>ENTIDAD_FEDERATIVA</th>\n      <th>ABREVIATURA</th>\n      <th>CVE_GEO</th>\n      <th>ENTIDAD</th>\n      <th>poblacion</th>\n    </tr>\n  </thead>\n  <tbody>\n    <tr>\n      <th>0</th>\n      <td>9</td>\n      <td>146952</td>\n      <td>9</td>\n      <td>CIUDAD DE MÉXICO</td>\n      <td>DF</td>\n      <td>9</td>\n      <td>Ciudad de México</td>\n      <td>9018645</td>\n    </tr>\n    <tr>\n      <th>1</th>\n      <td>15</td>\n      <td>91571</td>\n      <td>15</td>\n      <td>MÉXICO</td>\n      <td>MC</td>\n      <td>15</td>\n      <td>México</td>\n      <td>17427790</td>\n    </tr>\n    <tr>\n      <th>2</th>\n      <td>19</td>\n      <td>47793</td>\n      <td>19</td>\n      <td>NUEVO LEÓN</td>\n      <td>NL</td>\n      <td>19</td>\n      <td>Nuevo León</td>\n      <td>5610153</td>\n    </tr>\n    <tr>\n      <th>3</th>\n      <td>11</td>\n      <td>44965</td>\n      <td>11</td>\n      <td>GUANAJUATO</td>\n      <td>GT</td>\n      <td>11</td>\n      <td>Guanajuato</td>\n      <td>6228175</td>\n    </tr>\n    <tr>\n      <th>4</th>\n      <td>26</td>\n      <td>36414</td>\n      <td>26</td>\n      <td>SONORA</td>\n      <td>SR</td>\n      <td>26</td>\n      <td>Sonora</td>\n      <td>3074745</td>\n    </tr>\n    <tr>\n      <th>5</th>\n      <td>30</td>\n      <td>35818</td>\n      <td>30</td>\n      <td>VERACRUZ DE IGNACIO DE LA LLAVE</td>\n      <td>VZ</td>\n      <td>30</td>\n      <td>Veracruz</td>\n      <td>8539862</td>\n    </tr>\n    <tr>\n      <th>6</th>\n      <td>21</td>\n      <td>33942</td>\n      <td>21</td>\n      <td>PUEBLA</td>\n      <td>PL</td>\n      <td>21</td>\n      <td>Puebla</td>\n      <td>6604451</td>\n    </tr>\n    <tr>\n      <th>7</th>\n      <td>27</td>\n      <td>33587</td>\n      <td>27</td>\n      <td>TABASCO</td>\n      <td>TC</td>\n      <td>27</td>\n      <td>Tabasco</td>\n      <td>2572287</td>\n    </tr>\n    <tr>\n      <th>8</th>\n      <td>14</td>\n      <td>31093</td>\n      <td>14</td>\n      <td>JALISCO</td>\n      <td>JC</td>\n      <td>14</td>\n      <td>Jalisco</td>\n      <td>8409693</td>\n    </tr>\n    <tr>\n      <th>9</th>\n      <td>28</td>\n      <td>30828</td>\n      <td>28</td>\n      <td>TAMAULIPAS</td>\n      <td>TS</td>\n      <td>28</td>\n      <td>Tamaulipas</td>\n      <td>3650602</td>\n    </tr>\n    <tr>\n      <th>10</th>\n      <td>5</td>\n      <td>30211</td>\n      <td>5</td>\n      <td>COAHUILA DE ZARAGOZA</td>\n      <td>CL</td>\n      <td>5</td>\n      <td>Coahuila</td>\n      <td>3218720</td>\n    </tr>\n    <tr>\n      <th>11</th>\n      <td>24</td>\n      <td>26190</td>\n      <td>24</td>\n      <td>SAN LUIS POTOSÍ</td>\n      <td>SP</td>\n      <td>24</td>\n      <td>San Luis Potosí</td>\n      <td>2866142</td>\n    </tr>\n    <tr>\n      <th>12</th>\n      <td>16</td>\n      <td>23094</td>\n      <td>16</td>\n      <td>MICHOACÁN DE OCAMPO</td>\n      <td>MN</td>\n      <td>16</td>\n      <td>Michoacán</td>\n      <td>4825401</td>\n    </tr>\n    <tr>\n      <th>13</th>\n      <td>2</td>\n      <td>21767</td>\n      <td>2</td>\n      <td>BAJA CALIFORNIA</td>\n      <td>BC</td>\n      <td>2</td>\n      <td>Baja California</td>\n      <td>3634868</td>\n    </tr>\n    <tr>\n      <th>14</th>\n      <td>12</td>\n      <td>21206</td>\n      <td>12</td>\n      <td>GUERRERO</td>\n      <td>GR</td>\n      <td>12</td>\n      <td>Guerrero</td>\n      <td>3657048</td>\n    </tr>\n    <tr>\n      <th>15</th>\n      <td>25</td>\n      <td>20779</td>\n      <td>25</td>\n      <td>SINALOA</td>\n      <td>SL</td>\n      <td>25</td>\n      <td>Sinaloa</td>\n      <td>3156674</td>\n    </tr>\n    <tr>\n      <th>16</th>\n      <td>31</td>\n      <td>20318</td>\n      <td>31</td>\n      <td>YUCATÁN</td>\n      <td>YN</td>\n      <td>31</td>\n      <td>Yucatán</td>\n      <td>2259098</td>\n    </tr>\n    <tr>\n      <th>17</th>\n      <td>20</td>\n      <td>19831</td>\n      <td>20</td>\n      <td>OAXACA</td>\n      <td>OC</td>\n      <td>20</td>\n      <td>Oaxaca</td>\n      <td>4143593</td>\n    </tr>\n    <tr>\n      <th>18</th>\n      <td>13</td>\n      <td>14552</td>\n      <td>13</td>\n      <td>HIDALGO</td>\n      <td>HG</td>\n      <td>13</td>\n      <td>Hidalgo</td>\n      <td>3086414</td>\n    </tr>\n    <tr>\n      <th>19</th>\n      <td>8</td>\n      <td>14366</td>\n      <td>8</td>\n      <td>CHIHUAHUA</td>\n      <td>CH</td>\n      <td>8</td>\n      <td>Chihuahua</td>\n      <td>3801487</td>\n    </tr>\n    <tr>\n      <th>20</th>\n      <td>23</td>\n      <td>13028</td>\n      <td>23</td>\n      <td>QUINTANA ROO</td>\n      <td>QR</td>\n      <td>23</td>\n      <td>Quintana Roo</td>\n      <td>1723259</td>\n    </tr>\n    <tr>\n      <th>21</th>\n      <td>3</td>\n      <td>11578</td>\n      <td>3</td>\n      <td>BAJA CALIFORNIA SUR</td>\n      <td>BS</td>\n      <td>3</td>\n      <td>Baja California Sur</td>\n      <td>804708</td>\n    </tr>\n    <tr>\n      <th>22</th>\n      <td>22</td>\n      <td>11425</td>\n      <td>22</td>\n      <td>QUERÉTARO</td>\n      <td>QT</td>\n      <td>22</td>\n      <td>Querétaro</td>\n      <td>2279637</td>\n    </tr>\n    <tr>\n      <th>23</th>\n      <td>10</td>\n      <td>11126</td>\n      <td>10</td>\n      <td>DURANGO</td>\n      <td>DG</td>\n      <td>10</td>\n      <td>Durango</td>\n      <td>1868996</td>\n    </tr>\n    <tr>\n      <th>24</th>\n      <td>32</td>\n      <td>9342</td>\n      <td>32</td>\n      <td>ZACATECAS</td>\n      <td>ZS</td>\n      <td>32</td>\n      <td>Zacatecas</td>\n      <td>1666426</td>\n    </tr>\n    <tr>\n      <th>25</th>\n      <td>1</td>\n      <td>8406</td>\n      <td>1</td>\n      <td>AGUASCALIENTES</td>\n      <td>AS</td>\n      <td>1</td>\n      <td>Aguascalientes</td>\n      <td>1434635</td>\n    </tr>\n    <tr>\n      <th>26</th>\n      <td>29</td>\n      <td>8156</td>\n      <td>29</td>\n      <td>TLAXCALA</td>\n      <td>TL</td>\n      <td>29</td>\n      <td>Tlaxcala</td>\n      <td>1380011</td>\n    </tr>\n    <tr>\n      <th>27</th>\n      <td>7</td>\n      <td>7428</td>\n      <td>7</td>\n      <td>CHIAPAS</td>\n      <td>CS</td>\n      <td>7</td>\n      <td>Chiapas</td>\n      <td>5730367</td>\n    </tr>\n    <tr>\n      <th>28</th>\n      <td>17</td>\n      <td>6532</td>\n      <td>17</td>\n      <td>MORELOS</td>\n      <td>MS</td>\n      <td>17</td>\n      <td>Morelos</td>\n      <td>2044058</td>\n    </tr>\n    <tr>\n      <th>29</th>\n      <td>18</td>\n      <td>6480</td>\n      <td>18</td>\n      <td>NAYARIT</td>\n      <td>NT</td>\n      <td>18</td>\n      <td>Nayarit</td>\n      <td>1288571</td>\n    </tr>\n    <tr>\n      <th>30</th>\n      <td>4</td>\n      <td>6336</td>\n      <td>4</td>\n      <td>CAMPECHE</td>\n      <td>CC</td>\n      <td>4</td>\n      <td>Campeche</td>\n      <td>1000617</td>\n    </tr>\n    <tr>\n      <th>31</th>\n      <td>6</td>\n      <td>6113</td>\n      <td>6</td>\n      <td>COLIMA</td>\n      <td>CM</td>\n      <td>6</td>\n      <td>Colima</td>\n      <td>785153</td>\n    </tr>\n  </tbody>\n</table>\n</div>"
     },
     "metadata": {},
     "execution_count": 209
    }
   ],
   "source": [
    "conf_pob_edo = pd.merge(confirmados_edo,poblacion_edo,how=\"left\",left_on=\"CLAVE_ENTIDAD\",right_on=\"CVE_GEO\")\n",
    "conf_pob_edo"
   ]
  },
  {
   "source": [
    "Para calcular la tasa de casos confirmados dividimos el número de casos entre la población del estado y lo multiplicamos por 100mil. Pandas nos permite hacer estas operaciones en todas las filas al mismo tiempo"
   ],
   "cell_type": "markdown",
   "metadata": {}
  },
  {
   "cell_type": "code",
   "execution_count": 210,
   "metadata": {},
   "outputs": [
    {
     "output_type": "execute_result",
     "data": {
      "text/plain": [
       "0     1629.424376\n",
       "1      525.430935\n",
       "2      851.901900\n",
       "3      721.961088\n",
       "4     1184.293332\n",
       "5      419.421297\n",
       "6      513.926139\n",
       "7     1305.725217\n",
       "8      369.728122\n",
       "9      844.463461\n",
       "10     938.602923\n",
       "11     913.771893\n",
       "12     478.592349\n",
       "13     598.838802\n",
       "14     579.866603\n",
       "15     658.256127\n",
       "16     899.385507\n",
       "17     478.594302\n",
       "18     471.485679\n",
       "19     377.904751\n",
       "20     756.009398\n",
       "21    1438.782763\n",
       "22     501.176284\n",
       "23     595.292874\n",
       "24     560.600951\n",
       "25     585.933007\n",
       "26     591.009782\n",
       "27     129.625206\n",
       "28     319.560404\n",
       "29     502.882651\n",
       "30     633.209310\n",
       "31     778.574367\n",
       "dtype: float64"
      ]
     },
     "metadata": {},
     "execution_count": 210
    }
   ],
   "source": [
    "conf_pob_edo[\"casos confirmados\"]/conf_pob_edo[\"poblacion\"]*100000"
   ]
  },
  {
   "source": [
    "El resultado es una serie y lo guardaremos en una columna nueva de nuestro DataFrame"
   ],
   "cell_type": "markdown",
   "metadata": {}
  },
  {
   "cell_type": "code",
   "execution_count": 211,
   "metadata": {},
   "outputs": [],
   "source": [
    "conf_pob_edo[\"tasa de casos\"] = conf_pob_edo[\"casos confirmados\"]/conf_pob_edo[\"poblacion\"]*100000"
   ]
  },
  {
   "source": [
    "Cambiemos el orden de nuestro DataFrame una vez más, esta ves usando la columna \"tasa de casos\""
   ],
   "cell_type": "markdown",
   "metadata": {}
  },
  {
   "cell_type": "code",
   "execution_count": 212,
   "metadata": {},
   "outputs": [
    {
     "output_type": "execute_result",
     "data": {
      "text/plain": [
       "    ENTIDAD_RES  casos confirmados  CLAVE_ENTIDAD  \\\n",
       "0             9             146952              9   \n",
       "21            3              11578              3   \n",
       "7            27              33587             27   \n",
       "4            26              36414             26   \n",
       "10            5              30211              5   \n",
       "11           24              26190             24   \n",
       "16           31              20318             31   \n",
       "2            19              47793             19   \n",
       "9            28              30828             28   \n",
       "31            6               6113              6   \n",
       "20           23              13028             23   \n",
       "3            11              44965             11   \n",
       "15           25              20779             25   \n",
       "30            4               6336              4   \n",
       "13            2              21767              2   \n",
       "23           10              11126             10   \n",
       "26           29               8156             29   \n",
       "25            1               8406              1   \n",
       "14           12              21206             12   \n",
       "24           32               9342             32   \n",
       "1            15              91571             15   \n",
       "6            21              33942             21   \n",
       "29           18               6480             18   \n",
       "22           22              11425             22   \n",
       "17           20              19831             20   \n",
       "12           16              23094             16   \n",
       "18           13              14552             13   \n",
       "5            30              35818             30   \n",
       "19            8              14366              8   \n",
       "8            14              31093             14   \n",
       "28           17               6532             17   \n",
       "27            7               7428              7   \n",
       "\n",
       "                 ENTIDAD_FEDERATIVA ABREVIATURA  CVE_GEO              ENTIDAD  \\\n",
       "0                  CIUDAD DE MÉXICO          DF        9     Ciudad de México   \n",
       "21              BAJA CALIFORNIA SUR          BS        3  Baja California Sur   \n",
       "7                           TABASCO          TC       27              Tabasco   \n",
       "4                            SONORA          SR       26               Sonora   \n",
       "10             COAHUILA DE ZARAGOZA          CL        5             Coahuila   \n",
       "11                  SAN LUIS POTOSÍ          SP       24      San Luis Potosí   \n",
       "16                          YUCATÁN          YN       31              Yucatán   \n",
       "2                        NUEVO LEÓN          NL       19           Nuevo León   \n",
       "9                        TAMAULIPAS          TS       28           Tamaulipas   \n",
       "31                           COLIMA          CM        6               Colima   \n",
       "20                     QUINTANA ROO          QR       23         Quintana Roo   \n",
       "3                        GUANAJUATO          GT       11           Guanajuato   \n",
       "15                          SINALOA          SL       25              Sinaloa   \n",
       "30                         CAMPECHE          CC        4             Campeche   \n",
       "13                  BAJA CALIFORNIA          BC        2      Baja California   \n",
       "23                          DURANGO          DG       10              Durango   \n",
       "26                         TLAXCALA          TL       29             Tlaxcala   \n",
       "25                   AGUASCALIENTES          AS        1       Aguascalientes   \n",
       "14                         GUERRERO          GR       12             Guerrero   \n",
       "24                        ZACATECAS          ZS       32            Zacatecas   \n",
       "1                            MÉXICO          MC       15               México   \n",
       "6                            PUEBLA          PL       21               Puebla   \n",
       "29                          NAYARIT          NT       18              Nayarit   \n",
       "22                        QUERÉTARO          QT       22            Querétaro   \n",
       "17                           OAXACA          OC       20               Oaxaca   \n",
       "12              MICHOACÁN DE OCAMPO          MN       16            Michoacán   \n",
       "18                          HIDALGO          HG       13              Hidalgo   \n",
       "5   VERACRUZ DE IGNACIO DE LA LLAVE          VZ       30             Veracruz   \n",
       "19                        CHIHUAHUA          CH        8            Chihuahua   \n",
       "8                           JALISCO          JC       14              Jalisco   \n",
       "28                          MORELOS          MS       17              Morelos   \n",
       "27                          CHIAPAS          CS        7              Chiapas   \n",
       "\n",
       "    poblacion  tasa de casos  \n",
       "0     9018645    1629.424376  \n",
       "21     804708    1438.782763  \n",
       "7     2572287    1305.725217  \n",
       "4     3074745    1184.293332  \n",
       "10    3218720     938.602923  \n",
       "11    2866142     913.771893  \n",
       "16    2259098     899.385507  \n",
       "2     5610153     851.901900  \n",
       "9     3650602     844.463461  \n",
       "31     785153     778.574367  \n",
       "20    1723259     756.009398  \n",
       "3     6228175     721.961088  \n",
       "15    3156674     658.256127  \n",
       "30    1000617     633.209310  \n",
       "13    3634868     598.838802  \n",
       "23    1868996     595.292874  \n",
       "26    1380011     591.009782  \n",
       "25    1434635     585.933007  \n",
       "14    3657048     579.866603  \n",
       "24    1666426     560.600951  \n",
       "1    17427790     525.430935  \n",
       "6     6604451     513.926139  \n",
       "29    1288571     502.882651  \n",
       "22    2279637     501.176284  \n",
       "17    4143593     478.594302  \n",
       "12    4825401     478.592349  \n",
       "18    3086414     471.485679  \n",
       "5     8539862     419.421297  \n",
       "19    3801487     377.904751  \n",
       "8     8409693     369.728122  \n",
       "28    2044058     319.560404  \n",
       "27    5730367     129.625206  "
      ],
      "text/html": "<div>\n<style scoped>\n    .dataframe tbody tr th:only-of-type {\n        vertical-align: middle;\n    }\n\n    .dataframe tbody tr th {\n        vertical-align: top;\n    }\n\n    .dataframe thead th {\n        text-align: right;\n    }\n</style>\n<table border=\"1\" class=\"dataframe\">\n  <thead>\n    <tr style=\"text-align: right;\">\n      <th></th>\n      <th>ENTIDAD_RES</th>\n      <th>casos confirmados</th>\n      <th>CLAVE_ENTIDAD</th>\n      <th>ENTIDAD_FEDERATIVA</th>\n      <th>ABREVIATURA</th>\n      <th>CVE_GEO</th>\n      <th>ENTIDAD</th>\n      <th>poblacion</th>\n      <th>tasa de casos</th>\n    </tr>\n  </thead>\n  <tbody>\n    <tr>\n      <th>0</th>\n      <td>9</td>\n      <td>146952</td>\n      <td>9</td>\n      <td>CIUDAD DE MÉXICO</td>\n      <td>DF</td>\n      <td>9</td>\n      <td>Ciudad de México</td>\n      <td>9018645</td>\n      <td>1629.424376</td>\n    </tr>\n    <tr>\n      <th>21</th>\n      <td>3</td>\n      <td>11578</td>\n      <td>3</td>\n      <td>BAJA CALIFORNIA SUR</td>\n      <td>BS</td>\n      <td>3</td>\n      <td>Baja California Sur</td>\n      <td>804708</td>\n      <td>1438.782763</td>\n    </tr>\n    <tr>\n      <th>7</th>\n      <td>27</td>\n      <td>33587</td>\n      <td>27</td>\n      <td>TABASCO</td>\n      <td>TC</td>\n      <td>27</td>\n      <td>Tabasco</td>\n      <td>2572287</td>\n      <td>1305.725217</td>\n    </tr>\n    <tr>\n      <th>4</th>\n      <td>26</td>\n      <td>36414</td>\n      <td>26</td>\n      <td>SONORA</td>\n      <td>SR</td>\n      <td>26</td>\n      <td>Sonora</td>\n      <td>3074745</td>\n      <td>1184.293332</td>\n    </tr>\n    <tr>\n      <th>10</th>\n      <td>5</td>\n      <td>30211</td>\n      <td>5</td>\n      <td>COAHUILA DE ZARAGOZA</td>\n      <td>CL</td>\n      <td>5</td>\n      <td>Coahuila</td>\n      <td>3218720</td>\n      <td>938.602923</td>\n    </tr>\n    <tr>\n      <th>11</th>\n      <td>24</td>\n      <td>26190</td>\n      <td>24</td>\n      <td>SAN LUIS POTOSÍ</td>\n      <td>SP</td>\n      <td>24</td>\n      <td>San Luis Potosí</td>\n      <td>2866142</td>\n      <td>913.771893</td>\n    </tr>\n    <tr>\n      <th>16</th>\n      <td>31</td>\n      <td>20318</td>\n      <td>31</td>\n      <td>YUCATÁN</td>\n      <td>YN</td>\n      <td>31</td>\n      <td>Yucatán</td>\n      <td>2259098</td>\n      <td>899.385507</td>\n    </tr>\n    <tr>\n      <th>2</th>\n      <td>19</td>\n      <td>47793</td>\n      <td>19</td>\n      <td>NUEVO LEÓN</td>\n      <td>NL</td>\n      <td>19</td>\n      <td>Nuevo León</td>\n      <td>5610153</td>\n      <td>851.901900</td>\n    </tr>\n    <tr>\n      <th>9</th>\n      <td>28</td>\n      <td>30828</td>\n      <td>28</td>\n      <td>TAMAULIPAS</td>\n      <td>TS</td>\n      <td>28</td>\n      <td>Tamaulipas</td>\n      <td>3650602</td>\n      <td>844.463461</td>\n    </tr>\n    <tr>\n      <th>31</th>\n      <td>6</td>\n      <td>6113</td>\n      <td>6</td>\n      <td>COLIMA</td>\n      <td>CM</td>\n      <td>6</td>\n      <td>Colima</td>\n      <td>785153</td>\n      <td>778.574367</td>\n    </tr>\n    <tr>\n      <th>20</th>\n      <td>23</td>\n      <td>13028</td>\n      <td>23</td>\n      <td>QUINTANA ROO</td>\n      <td>QR</td>\n      <td>23</td>\n      <td>Quintana Roo</td>\n      <td>1723259</td>\n      <td>756.009398</td>\n    </tr>\n    <tr>\n      <th>3</th>\n      <td>11</td>\n      <td>44965</td>\n      <td>11</td>\n      <td>GUANAJUATO</td>\n      <td>GT</td>\n      <td>11</td>\n      <td>Guanajuato</td>\n      <td>6228175</td>\n      <td>721.961088</td>\n    </tr>\n    <tr>\n      <th>15</th>\n      <td>25</td>\n      <td>20779</td>\n      <td>25</td>\n      <td>SINALOA</td>\n      <td>SL</td>\n      <td>25</td>\n      <td>Sinaloa</td>\n      <td>3156674</td>\n      <td>658.256127</td>\n    </tr>\n    <tr>\n      <th>30</th>\n      <td>4</td>\n      <td>6336</td>\n      <td>4</td>\n      <td>CAMPECHE</td>\n      <td>CC</td>\n      <td>4</td>\n      <td>Campeche</td>\n      <td>1000617</td>\n      <td>633.209310</td>\n    </tr>\n    <tr>\n      <th>13</th>\n      <td>2</td>\n      <td>21767</td>\n      <td>2</td>\n      <td>BAJA CALIFORNIA</td>\n      <td>BC</td>\n      <td>2</td>\n      <td>Baja California</td>\n      <td>3634868</td>\n      <td>598.838802</td>\n    </tr>\n    <tr>\n      <th>23</th>\n      <td>10</td>\n      <td>11126</td>\n      <td>10</td>\n      <td>DURANGO</td>\n      <td>DG</td>\n      <td>10</td>\n      <td>Durango</td>\n      <td>1868996</td>\n      <td>595.292874</td>\n    </tr>\n    <tr>\n      <th>26</th>\n      <td>29</td>\n      <td>8156</td>\n      <td>29</td>\n      <td>TLAXCALA</td>\n      <td>TL</td>\n      <td>29</td>\n      <td>Tlaxcala</td>\n      <td>1380011</td>\n      <td>591.009782</td>\n    </tr>\n    <tr>\n      <th>25</th>\n      <td>1</td>\n      <td>8406</td>\n      <td>1</td>\n      <td>AGUASCALIENTES</td>\n      <td>AS</td>\n      <td>1</td>\n      <td>Aguascalientes</td>\n      <td>1434635</td>\n      <td>585.933007</td>\n    </tr>\n    <tr>\n      <th>14</th>\n      <td>12</td>\n      <td>21206</td>\n      <td>12</td>\n      <td>GUERRERO</td>\n      <td>GR</td>\n      <td>12</td>\n      <td>Guerrero</td>\n      <td>3657048</td>\n      <td>579.866603</td>\n    </tr>\n    <tr>\n      <th>24</th>\n      <td>32</td>\n      <td>9342</td>\n      <td>32</td>\n      <td>ZACATECAS</td>\n      <td>ZS</td>\n      <td>32</td>\n      <td>Zacatecas</td>\n      <td>1666426</td>\n      <td>560.600951</td>\n    </tr>\n    <tr>\n      <th>1</th>\n      <td>15</td>\n      <td>91571</td>\n      <td>15</td>\n      <td>MÉXICO</td>\n      <td>MC</td>\n      <td>15</td>\n      <td>México</td>\n      <td>17427790</td>\n      <td>525.430935</td>\n    </tr>\n    <tr>\n      <th>6</th>\n      <td>21</td>\n      <td>33942</td>\n      <td>21</td>\n      <td>PUEBLA</td>\n      <td>PL</td>\n      <td>21</td>\n      <td>Puebla</td>\n      <td>6604451</td>\n      <td>513.926139</td>\n    </tr>\n    <tr>\n      <th>29</th>\n      <td>18</td>\n      <td>6480</td>\n      <td>18</td>\n      <td>NAYARIT</td>\n      <td>NT</td>\n      <td>18</td>\n      <td>Nayarit</td>\n      <td>1288571</td>\n      <td>502.882651</td>\n    </tr>\n    <tr>\n      <th>22</th>\n      <td>22</td>\n      <td>11425</td>\n      <td>22</td>\n      <td>QUERÉTARO</td>\n      <td>QT</td>\n      <td>22</td>\n      <td>Querétaro</td>\n      <td>2279637</td>\n      <td>501.176284</td>\n    </tr>\n    <tr>\n      <th>17</th>\n      <td>20</td>\n      <td>19831</td>\n      <td>20</td>\n      <td>OAXACA</td>\n      <td>OC</td>\n      <td>20</td>\n      <td>Oaxaca</td>\n      <td>4143593</td>\n      <td>478.594302</td>\n    </tr>\n    <tr>\n      <th>12</th>\n      <td>16</td>\n      <td>23094</td>\n      <td>16</td>\n      <td>MICHOACÁN DE OCAMPO</td>\n      <td>MN</td>\n      <td>16</td>\n      <td>Michoacán</td>\n      <td>4825401</td>\n      <td>478.592349</td>\n    </tr>\n    <tr>\n      <th>18</th>\n      <td>13</td>\n      <td>14552</td>\n      <td>13</td>\n      <td>HIDALGO</td>\n      <td>HG</td>\n      <td>13</td>\n      <td>Hidalgo</td>\n      <td>3086414</td>\n      <td>471.485679</td>\n    </tr>\n    <tr>\n      <th>5</th>\n      <td>30</td>\n      <td>35818</td>\n      <td>30</td>\n      <td>VERACRUZ DE IGNACIO DE LA LLAVE</td>\n      <td>VZ</td>\n      <td>30</td>\n      <td>Veracruz</td>\n      <td>8539862</td>\n      <td>419.421297</td>\n    </tr>\n    <tr>\n      <th>19</th>\n      <td>8</td>\n      <td>14366</td>\n      <td>8</td>\n      <td>CHIHUAHUA</td>\n      <td>CH</td>\n      <td>8</td>\n      <td>Chihuahua</td>\n      <td>3801487</td>\n      <td>377.904751</td>\n    </tr>\n    <tr>\n      <th>8</th>\n      <td>14</td>\n      <td>31093</td>\n      <td>14</td>\n      <td>JALISCO</td>\n      <td>JC</td>\n      <td>14</td>\n      <td>Jalisco</td>\n      <td>8409693</td>\n      <td>369.728122</td>\n    </tr>\n    <tr>\n      <th>28</th>\n      <td>17</td>\n      <td>6532</td>\n      <td>17</td>\n      <td>MORELOS</td>\n      <td>MS</td>\n      <td>17</td>\n      <td>Morelos</td>\n      <td>2044058</td>\n      <td>319.560404</td>\n    </tr>\n    <tr>\n      <th>27</th>\n      <td>7</td>\n      <td>7428</td>\n      <td>7</td>\n      <td>CHIAPAS</td>\n      <td>CS</td>\n      <td>7</td>\n      <td>Chiapas</td>\n      <td>5730367</td>\n      <td>129.625206</td>\n    </tr>\n  </tbody>\n</table>\n</div>"
     },
     "metadata": {},
     "execution_count": 212
    }
   ],
   "source": [
    "conf_pob_edo.sort_values(\"tasa de casos\", ascending=False, inplace=True)\n",
    "conf_pob_edo"
   ]
  },
  {
   "source": [
    "Volvamos a graficar pero ahora utilizando el nuevo DataFrame y la columna \"tasa de casos\""
   ],
   "cell_type": "markdown",
   "metadata": {}
  },
  {
   "cell_type": "code",
   "execution_count": 213,
   "metadata": {},
   "outputs": [
    {
     "output_type": "execute_result",
     "data": {
      "text/plain": [
       "GlyphRenderer(id='2035', ...)"
      ],
      "text/html": "<div style=\"display: table;\"><div style=\"display: table-row;\"><div style=\"display: table-cell;\"><b title=\"bokeh.models.renderers.GlyphRenderer\">GlyphRenderer</b>(</div><div style=\"display: table-cell;\">id&nbsp;=&nbsp;'2035', <span id=\"2038\" style=\"cursor: pointer;\">&hellip;)</span></div></div><div class=\"2037\" style=\"display: none;\"><div style=\"display: table-cell;\"></div><div style=\"display: table-cell;\">data_source&nbsp;=&nbsp;ColumnDataSource(id='2032', ...),</div></div><div class=\"2037\" style=\"display: none;\"><div style=\"display: table-cell;\"></div><div style=\"display: table-cell;\">glyph&nbsp;=&nbsp;VBar(id='2033', ...),</div></div><div class=\"2037\" style=\"display: none;\"><div style=\"display: table-cell;\"></div><div style=\"display: table-cell;\">hover_glyph&nbsp;=&nbsp;None,</div></div><div class=\"2037\" style=\"display: none;\"><div style=\"display: table-cell;\"></div><div style=\"display: table-cell;\">js_event_callbacks&nbsp;=&nbsp;{},</div></div><div class=\"2037\" style=\"display: none;\"><div style=\"display: table-cell;\"></div><div style=\"display: table-cell;\">js_property_callbacks&nbsp;=&nbsp;{},</div></div><div class=\"2037\" style=\"display: none;\"><div style=\"display: table-cell;\"></div><div style=\"display: table-cell;\">level&nbsp;=&nbsp;'glyph',</div></div><div class=\"2037\" style=\"display: none;\"><div style=\"display: table-cell;\"></div><div style=\"display: table-cell;\">muted&nbsp;=&nbsp;False,</div></div><div class=\"2037\" style=\"display: none;\"><div style=\"display: table-cell;\"></div><div style=\"display: table-cell;\">muted_glyph&nbsp;=&nbsp;None,</div></div><div class=\"2037\" style=\"display: none;\"><div style=\"display: table-cell;\"></div><div style=\"display: table-cell;\">name&nbsp;=&nbsp;None,</div></div><div class=\"2037\" style=\"display: none;\"><div style=\"display: table-cell;\"></div><div style=\"display: table-cell;\">nonselection_glyph&nbsp;=&nbsp;VBar(id='2034', ...),</div></div><div class=\"2037\" style=\"display: none;\"><div style=\"display: table-cell;\"></div><div style=\"display: table-cell;\">selection_glyph&nbsp;=&nbsp;None,</div></div><div class=\"2037\" style=\"display: none;\"><div style=\"display: table-cell;\"></div><div style=\"display: table-cell;\">subscribed_events&nbsp;=&nbsp;[],</div></div><div class=\"2037\" style=\"display: none;\"><div style=\"display: table-cell;\"></div><div style=\"display: table-cell;\">tags&nbsp;=&nbsp;[],</div></div><div class=\"2037\" style=\"display: none;\"><div style=\"display: table-cell;\"></div><div style=\"display: table-cell;\">view&nbsp;=&nbsp;CDSView(id='2036', ...),</div></div><div class=\"2037\" style=\"display: none;\"><div style=\"display: table-cell;\"></div><div style=\"display: table-cell;\">visible&nbsp;=&nbsp;True,</div></div><div class=\"2037\" style=\"display: none;\"><div style=\"display: table-cell;\"></div><div style=\"display: table-cell;\">x_range_name&nbsp;=&nbsp;'default',</div></div><div class=\"2037\" style=\"display: none;\"><div style=\"display: table-cell;\"></div><div style=\"display: table-cell;\">y_range_name&nbsp;=&nbsp;'default')</div></div></div>\n<script>\n(function() {\n  var expanded = false;\n  var ellipsis = document.getElementById(\"2038\");\n  ellipsis.addEventListener(\"click\", function() {\n    var rows = document.getElementsByClassName(\"2037\");\n    for (var i = 0; i < rows.length; i++) {\n      var el = rows[i];\n      el.style.display = expanded ? \"none\" : \"table-row\";\n    }\n    ellipsis.innerHTML = expanded ? \"&hellip;)\" : \"&lsaquo;&lsaquo;&lsaquo;\";\n    expanded = !expanded;\n  });\n})();\n</script>\n"
     },
     "metadata": {},
     "execution_count": 213
    }
   ],
   "source": [
    "s = bpl.figure(x_range=conf_pob_edo[\"ABREVIATURA\"], plot_width=800, plot_height=600)\n",
    "s.vbar(x=conf_pob_edo[\"ABREVIATURA\"],top=conf_pob_edo[\"tasa de casos\"], width=0.7)"
   ]
  },
  {
   "cell_type": "code",
   "execution_count": 214,
   "metadata": {},
   "outputs": [
    {
     "output_type": "display_data",
     "data": {
      "text/html": "\n\n\n\n\n\n  <div class=\"bk-root\" id=\"2ed69026-2337-4649-a172-8dc0b8d19122\" data-root-id=\"2002\"></div>\n"
     },
     "metadata": {}
    },
    {
     "output_type": "display_data",
     "data": {
      "application/javascript": "(function(root) {\n  function embed_document(root) {\n    \n  var docs_json = {\"7cf3f21c-f011-4e19-9fdc-e600cfbf0285\":{\"roots\":{\"references\":[{\"attributes\":{\"below\":[{\"id\":\"2011\"}],\"center\":[{\"id\":\"2013\"},{\"id\":\"2017\"}],\"left\":[{\"id\":\"2014\"}],\"plot_width\":800,\"renderers\":[{\"id\":\"2035\"}],\"title\":{\"id\":\"2091\"},\"toolbar\":{\"id\":\"2025\"},\"x_range\":{\"id\":\"2003\"},\"x_scale\":{\"id\":\"2007\"},\"y_range\":{\"id\":\"2005\"},\"y_scale\":{\"id\":\"2009\"}},\"id\":\"2002\",\"subtype\":\"Figure\",\"type\":\"Plot\"},{\"attributes\":{\"fill_alpha\":{\"value\":0.1},\"fill_color\":{\"value\":\"#1f77b4\"},\"line_alpha\":{\"value\":0.1},\"line_color\":{\"value\":\"#1f77b4\"},\"top\":{\"field\":\"top\"},\"width\":{\"value\":0.7},\"x\":{\"field\":\"x\"}},\"id\":\"2034\",\"type\":\"VBar\"},{\"attributes\":{},\"id\":\"2096\",\"type\":\"CategoricalTickFormatter\"},{\"attributes\":{\"text\":\"\"},\"id\":\"2091\",\"type\":\"Title\"},{\"attributes\":{\"fill_color\":{\"value\":\"#1f77b4\"},\"line_color\":{\"value\":\"#1f77b4\"},\"top\":{\"field\":\"top\"},\"width\":{\"value\":0.7},\"x\":{\"field\":\"x\"}},\"id\":\"2033\",\"type\":\"VBar\"},{\"attributes\":{},\"id\":\"2098\",\"type\":\"Selection\"},{\"attributes\":{},\"id\":\"2023\",\"type\":\"HelpTool\"},{\"attributes\":{\"active_drag\":\"auto\",\"active_inspect\":\"auto\",\"active_multi\":null,\"active_scroll\":\"auto\",\"active_tap\":\"auto\",\"tools\":[{\"id\":\"2018\"},{\"id\":\"2019\"},{\"id\":\"2020\"},{\"id\":\"2021\"},{\"id\":\"2022\"},{\"id\":\"2023\"}]},\"id\":\"2025\",\"type\":\"Toolbar\"},{\"attributes\":{},\"id\":\"2009\",\"type\":\"LinearScale\"},{\"attributes\":{},\"id\":\"2015\",\"type\":\"BasicTicker\"},{\"attributes\":{},\"id\":\"2094\",\"type\":\"BasicTickFormatter\"},{\"attributes\":{},\"id\":\"2012\",\"type\":\"CategoricalTicker\"},{\"attributes\":{\"bottom_units\":\"screen\",\"fill_alpha\":0.5,\"fill_color\":\"lightgrey\",\"left_units\":\"screen\",\"level\":\"overlay\",\"line_alpha\":1.0,\"line_color\":\"black\",\"line_dash\":[4,4],\"line_width\":2,\"right_units\":\"screen\",\"top_units\":\"screen\"},\"id\":\"2024\",\"type\":\"BoxAnnotation\"},{\"attributes\":{\"axis\":{\"id\":\"2011\"},\"ticker\":null},\"id\":\"2013\",\"type\":\"Grid\"},{\"attributes\":{},\"id\":\"2022\",\"type\":\"ResetTool\"},{\"attributes\":{\"axis\":{\"id\":\"2014\"},\"dimension\":1,\"ticker\":null},\"id\":\"2017\",\"type\":\"Grid\"},{\"attributes\":{\"factors\":[\"DF\",\"BS\",\"TC\",\"SR\",\"CL\",\"SP\",\"YN\",\"NL\",\"TS\",\"CM\",\"QR\",\"GT\",\"SL\",\"CC\",\"BC\",\"DG\",\"TL\",\"AS\",\"GR\",\"ZS\",\"MC\",\"PL\",\"NT\",\"QT\",\"OC\",\"MN\",\"HG\",\"VZ\",\"CH\",\"JC\",\"MS\",\"CS\"]},\"id\":\"2003\",\"type\":\"FactorRange\"},{\"attributes\":{\"formatter\":{\"id\":\"2096\"},\"ticker\":{\"id\":\"2012\"}},\"id\":\"2011\",\"type\":\"CategoricalAxis\"},{\"attributes\":{},\"id\":\"2019\",\"type\":\"WheelZoomTool\"},{\"attributes\":{},\"id\":\"2007\",\"type\":\"CategoricalScale\"},{\"attributes\":{\"source\":{\"id\":\"2032\"}},\"id\":\"2036\",\"type\":\"CDSView\"},{\"attributes\":{\"overlay\":{\"id\":\"2024\"}},\"id\":\"2020\",\"type\":\"BoxZoomTool\"},{\"attributes\":{\"data\":{\"top\":{\"__ndarray__\":\"fy2Uj7J1mUCjDL2MIXuWQCUeKJ/mZpRAbUchXyyBkkBv7z3J0lSNQKNhENYsjoxAUymshBUbjEAOG1kXN5+KQNksFyu1Y4pALF6+TZhUiEDdcYE/E6CHQPfV906wj4ZAfbkSjAyShEDJS6WqrMmDQMJKCN61toJAP9k6zleagkDryXsIFHiCQMnDjsx2T4JAuI1xze4egkDP90e/zoSBQA+PNY5ya4BAX6Vau2gPgEBVUkNWH25/QAul7Q7SUn9ActPpQoLpfUDKIhBDeul9QAJiL1fFd31AqHZior02ekBr2LDceZ53QKR7UWOmG3dAgJYKavf4c0BbNvquATRgQA==\",\"dtype\":\"float64\",\"order\":\"little\",\"shape\":[32]},\"x\":[\"DF\",\"BS\",\"TC\",\"SR\",\"CL\",\"SP\",\"YN\",\"NL\",\"TS\",\"CM\",\"QR\",\"GT\",\"SL\",\"CC\",\"BC\",\"DG\",\"TL\",\"AS\",\"GR\",\"ZS\",\"MC\",\"PL\",\"NT\",\"QT\",\"OC\",\"MN\",\"HG\",\"VZ\",\"CH\",\"JC\",\"MS\",\"CS\"]},\"selected\":{\"id\":\"2098\"},\"selection_policy\":{\"id\":\"2097\"}},\"id\":\"2032\",\"type\":\"ColumnDataSource\"},{\"attributes\":{\"data_source\":{\"id\":\"2032\"},\"glyph\":{\"id\":\"2033\"},\"hover_glyph\":null,\"muted_glyph\":null,\"nonselection_glyph\":{\"id\":\"2034\"},\"selection_glyph\":null,\"view\":{\"id\":\"2036\"}},\"id\":\"2035\",\"type\":\"GlyphRenderer\"},{\"attributes\":{},\"id\":\"2005\",\"type\":\"DataRange1d\"},{\"attributes\":{\"formatter\":{\"id\":\"2094\"},\"ticker\":{\"id\":\"2015\"}},\"id\":\"2014\",\"type\":\"LinearAxis\"},{\"attributes\":{},\"id\":\"2018\",\"type\":\"PanTool\"},{\"attributes\":{},\"id\":\"2021\",\"type\":\"SaveTool\"},{\"attributes\":{},\"id\":\"2097\",\"type\":\"UnionRenderers\"}],\"root_ids\":[\"2002\"]},\"title\":\"Bokeh Application\",\"version\":\"2.2.1\"}};\n  var render_items = [{\"docid\":\"7cf3f21c-f011-4e19-9fdc-e600cfbf0285\",\"root_ids\":[\"2002\"],\"roots\":{\"2002\":\"2ed69026-2337-4649-a172-8dc0b8d19122\"}}];\n  root.Bokeh.embed.embed_items_notebook(docs_json, render_items);\n\n  }\n  if (root.Bokeh !== undefined) {\n    embed_document(root);\n  } else {\n    var attempts = 0;\n    var timer = setInterval(function(root) {\n      if (root.Bokeh !== undefined) {\n        clearInterval(timer);\n        embed_document(root);\n      } else {\n        attempts++;\n        if (attempts > 100) {\n          clearInterval(timer);\n          console.log(\"Bokeh: ERROR: Unable to run BokehJS code because BokehJS library is missing\");\n        }\n      }\n    }, 10, root)\n  }\n})(window);",
      "application/vnd.bokehjs_exec.v0+json": ""
     },
     "metadata": {
      "application/vnd.bokehjs_exec.v0+json": {
       "id": "2002"
      }
     }
    }
   ],
   "source": [
    "bpl.show(s)"
   ]
  },
  {
   "source": [
    "Con este último DataFrame trabajaremos en nuestra visualización en la web. Necesitamos exportarlo! Pero antes lo limpiaremos un poco pues tenemos columnas repetidas, por ejemplo la clave del estado la tenemos en 3 columnas diferentes (debido a los 3 DataFrames diferentes de donde proviene) y el nombre del estado lo tenemos en 2 columnas diferentes. Dejaremos solamente una columna de clave, una columna de nombre del estado, la columna de las abreviaturas y las 3 columnas de valores. Podemos hacerlo simplemente invocando las columnas que queremos y guardandolas en una nueva variable"
   ],
   "cell_type": "markdown",
   "metadata": {}
  },
  {
   "cell_type": "code",
   "execution_count": 215,
   "metadata": {},
   "outputs": [
    {
     "output_type": "execute_result",
     "data": {
      "text/plain": [
       "    CVE_GEO              ENTIDAD ABREVIATURA  poblacion  casos confirmados  \\\n",
       "0         9     Ciudad de México          DF    9018645             146952   \n",
       "21        3  Baja California Sur          BS     804708              11578   \n",
       "7        27              Tabasco          TC    2572287              33587   \n",
       "4        26               Sonora          SR    3074745              36414   \n",
       "10        5             Coahuila          CL    3218720              30211   \n",
       "11       24      San Luis Potosí          SP    2866142              26190   \n",
       "16       31              Yucatán          YN    2259098              20318   \n",
       "2        19           Nuevo León          NL    5610153              47793   \n",
       "9        28           Tamaulipas          TS    3650602              30828   \n",
       "31        6               Colima          CM     785153               6113   \n",
       "20       23         Quintana Roo          QR    1723259              13028   \n",
       "3        11           Guanajuato          GT    6228175              44965   \n",
       "15       25              Sinaloa          SL    3156674              20779   \n",
       "30        4             Campeche          CC    1000617               6336   \n",
       "13        2      Baja California          BC    3634868              21767   \n",
       "23       10              Durango          DG    1868996              11126   \n",
       "26       29             Tlaxcala          TL    1380011               8156   \n",
       "25        1       Aguascalientes          AS    1434635               8406   \n",
       "14       12             Guerrero          GR    3657048              21206   \n",
       "24       32            Zacatecas          ZS    1666426               9342   \n",
       "1        15               México          MC   17427790              91571   \n",
       "6        21               Puebla          PL    6604451              33942   \n",
       "29       18              Nayarit          NT    1288571               6480   \n",
       "22       22            Querétaro          QT    2279637              11425   \n",
       "17       20               Oaxaca          OC    4143593              19831   \n",
       "12       16            Michoacán          MN    4825401              23094   \n",
       "18       13              Hidalgo          HG    3086414              14552   \n",
       "5        30             Veracruz          VZ    8539862              35818   \n",
       "19        8            Chihuahua          CH    3801487              14366   \n",
       "8        14              Jalisco          JC    8409693              31093   \n",
       "28       17              Morelos          MS    2044058               6532   \n",
       "27        7              Chiapas          CS    5730367               7428   \n",
       "\n",
       "    tasa de casos  \n",
       "0     1629.424376  \n",
       "21    1438.782763  \n",
       "7     1305.725217  \n",
       "4     1184.293332  \n",
       "10     938.602923  \n",
       "11     913.771893  \n",
       "16     899.385507  \n",
       "2      851.901900  \n",
       "9      844.463461  \n",
       "31     778.574367  \n",
       "20     756.009398  \n",
       "3      721.961088  \n",
       "15     658.256127  \n",
       "30     633.209310  \n",
       "13     598.838802  \n",
       "23     595.292874  \n",
       "26     591.009782  \n",
       "25     585.933007  \n",
       "14     579.866603  \n",
       "24     560.600951  \n",
       "1      525.430935  \n",
       "6      513.926139  \n",
       "29     502.882651  \n",
       "22     501.176284  \n",
       "17     478.594302  \n",
       "12     478.592349  \n",
       "18     471.485679  \n",
       "5      419.421297  \n",
       "19     377.904751  \n",
       "8      369.728122  \n",
       "28     319.560404  \n",
       "27     129.625206  "
      ],
      "text/html": "<div>\n<style scoped>\n    .dataframe tbody tr th:only-of-type {\n        vertical-align: middle;\n    }\n\n    .dataframe tbody tr th {\n        vertical-align: top;\n    }\n\n    .dataframe thead th {\n        text-align: right;\n    }\n</style>\n<table border=\"1\" class=\"dataframe\">\n  <thead>\n    <tr style=\"text-align: right;\">\n      <th></th>\n      <th>CVE_GEO</th>\n      <th>ENTIDAD</th>\n      <th>ABREVIATURA</th>\n      <th>poblacion</th>\n      <th>casos confirmados</th>\n      <th>tasa de casos</th>\n    </tr>\n  </thead>\n  <tbody>\n    <tr>\n      <th>0</th>\n      <td>9</td>\n      <td>Ciudad de México</td>\n      <td>DF</td>\n      <td>9018645</td>\n      <td>146952</td>\n      <td>1629.424376</td>\n    </tr>\n    <tr>\n      <th>21</th>\n      <td>3</td>\n      <td>Baja California Sur</td>\n      <td>BS</td>\n      <td>804708</td>\n      <td>11578</td>\n      <td>1438.782763</td>\n    </tr>\n    <tr>\n      <th>7</th>\n      <td>27</td>\n      <td>Tabasco</td>\n      <td>TC</td>\n      <td>2572287</td>\n      <td>33587</td>\n      <td>1305.725217</td>\n    </tr>\n    <tr>\n      <th>4</th>\n      <td>26</td>\n      <td>Sonora</td>\n      <td>SR</td>\n      <td>3074745</td>\n      <td>36414</td>\n      <td>1184.293332</td>\n    </tr>\n    <tr>\n      <th>10</th>\n      <td>5</td>\n      <td>Coahuila</td>\n      <td>CL</td>\n      <td>3218720</td>\n      <td>30211</td>\n      <td>938.602923</td>\n    </tr>\n    <tr>\n      <th>11</th>\n      <td>24</td>\n      <td>San Luis Potosí</td>\n      <td>SP</td>\n      <td>2866142</td>\n      <td>26190</td>\n      <td>913.771893</td>\n    </tr>\n    <tr>\n      <th>16</th>\n      <td>31</td>\n      <td>Yucatán</td>\n      <td>YN</td>\n      <td>2259098</td>\n      <td>20318</td>\n      <td>899.385507</td>\n    </tr>\n    <tr>\n      <th>2</th>\n      <td>19</td>\n      <td>Nuevo León</td>\n      <td>NL</td>\n      <td>5610153</td>\n      <td>47793</td>\n      <td>851.901900</td>\n    </tr>\n    <tr>\n      <th>9</th>\n      <td>28</td>\n      <td>Tamaulipas</td>\n      <td>TS</td>\n      <td>3650602</td>\n      <td>30828</td>\n      <td>844.463461</td>\n    </tr>\n    <tr>\n      <th>31</th>\n      <td>6</td>\n      <td>Colima</td>\n      <td>CM</td>\n      <td>785153</td>\n      <td>6113</td>\n      <td>778.574367</td>\n    </tr>\n    <tr>\n      <th>20</th>\n      <td>23</td>\n      <td>Quintana Roo</td>\n      <td>QR</td>\n      <td>1723259</td>\n      <td>13028</td>\n      <td>756.009398</td>\n    </tr>\n    <tr>\n      <th>3</th>\n      <td>11</td>\n      <td>Guanajuato</td>\n      <td>GT</td>\n      <td>6228175</td>\n      <td>44965</td>\n      <td>721.961088</td>\n    </tr>\n    <tr>\n      <th>15</th>\n      <td>25</td>\n      <td>Sinaloa</td>\n      <td>SL</td>\n      <td>3156674</td>\n      <td>20779</td>\n      <td>658.256127</td>\n    </tr>\n    <tr>\n      <th>30</th>\n      <td>4</td>\n      <td>Campeche</td>\n      <td>CC</td>\n      <td>1000617</td>\n      <td>6336</td>\n      <td>633.209310</td>\n    </tr>\n    <tr>\n      <th>13</th>\n      <td>2</td>\n      <td>Baja California</td>\n      <td>BC</td>\n      <td>3634868</td>\n      <td>21767</td>\n      <td>598.838802</td>\n    </tr>\n    <tr>\n      <th>23</th>\n      <td>10</td>\n      <td>Durango</td>\n      <td>DG</td>\n      <td>1868996</td>\n      <td>11126</td>\n      <td>595.292874</td>\n    </tr>\n    <tr>\n      <th>26</th>\n      <td>29</td>\n      <td>Tlaxcala</td>\n      <td>TL</td>\n      <td>1380011</td>\n      <td>8156</td>\n      <td>591.009782</td>\n    </tr>\n    <tr>\n      <th>25</th>\n      <td>1</td>\n      <td>Aguascalientes</td>\n      <td>AS</td>\n      <td>1434635</td>\n      <td>8406</td>\n      <td>585.933007</td>\n    </tr>\n    <tr>\n      <th>14</th>\n      <td>12</td>\n      <td>Guerrero</td>\n      <td>GR</td>\n      <td>3657048</td>\n      <td>21206</td>\n      <td>579.866603</td>\n    </tr>\n    <tr>\n      <th>24</th>\n      <td>32</td>\n      <td>Zacatecas</td>\n      <td>ZS</td>\n      <td>1666426</td>\n      <td>9342</td>\n      <td>560.600951</td>\n    </tr>\n    <tr>\n      <th>1</th>\n      <td>15</td>\n      <td>México</td>\n      <td>MC</td>\n      <td>17427790</td>\n      <td>91571</td>\n      <td>525.430935</td>\n    </tr>\n    <tr>\n      <th>6</th>\n      <td>21</td>\n      <td>Puebla</td>\n      <td>PL</td>\n      <td>6604451</td>\n      <td>33942</td>\n      <td>513.926139</td>\n    </tr>\n    <tr>\n      <th>29</th>\n      <td>18</td>\n      <td>Nayarit</td>\n      <td>NT</td>\n      <td>1288571</td>\n      <td>6480</td>\n      <td>502.882651</td>\n    </tr>\n    <tr>\n      <th>22</th>\n      <td>22</td>\n      <td>Querétaro</td>\n      <td>QT</td>\n      <td>2279637</td>\n      <td>11425</td>\n      <td>501.176284</td>\n    </tr>\n    <tr>\n      <th>17</th>\n      <td>20</td>\n      <td>Oaxaca</td>\n      <td>OC</td>\n      <td>4143593</td>\n      <td>19831</td>\n      <td>478.594302</td>\n    </tr>\n    <tr>\n      <th>12</th>\n      <td>16</td>\n      <td>Michoacán</td>\n      <td>MN</td>\n      <td>4825401</td>\n      <td>23094</td>\n      <td>478.592349</td>\n    </tr>\n    <tr>\n      <th>18</th>\n      <td>13</td>\n      <td>Hidalgo</td>\n      <td>HG</td>\n      <td>3086414</td>\n      <td>14552</td>\n      <td>471.485679</td>\n    </tr>\n    <tr>\n      <th>5</th>\n      <td>30</td>\n      <td>Veracruz</td>\n      <td>VZ</td>\n      <td>8539862</td>\n      <td>35818</td>\n      <td>419.421297</td>\n    </tr>\n    <tr>\n      <th>19</th>\n      <td>8</td>\n      <td>Chihuahua</td>\n      <td>CH</td>\n      <td>3801487</td>\n      <td>14366</td>\n      <td>377.904751</td>\n    </tr>\n    <tr>\n      <th>8</th>\n      <td>14</td>\n      <td>Jalisco</td>\n      <td>JC</td>\n      <td>8409693</td>\n      <td>31093</td>\n      <td>369.728122</td>\n    </tr>\n    <tr>\n      <th>28</th>\n      <td>17</td>\n      <td>Morelos</td>\n      <td>MS</td>\n      <td>2044058</td>\n      <td>6532</td>\n      <td>319.560404</td>\n    </tr>\n    <tr>\n      <th>27</th>\n      <td>7</td>\n      <td>Chiapas</td>\n      <td>CS</td>\n      <td>5730367</td>\n      <td>7428</td>\n      <td>129.625206</td>\n    </tr>\n  </tbody>\n</table>\n</div>"
     },
     "metadata": {},
     "execution_count": 215
    }
   ],
   "source": [
    "frame_salida = conf_pob_edo[[\"CVE_GEO\",\"ENTIDAD\",\"ABREVIATURA\",\"poblacion\",\"casos confirmados\",\"tasa de casos\"]]\n",
    "frame_salida"
   ]
  },
  {
   "source": [
    "Por último exportamos este frame. Podemos hacerlo con la función to_csv() aplicada a nuestro frame. El primer parámetro es la ruta en donde queremos guardar el archivo, lo guardaremos en una carpeta que creamos previamente que se llama datos_procesados. Además usaremos la opción index=False para indicar que no queremos exportar el indice del DataFrame"
   ],
   "cell_type": "markdown",
   "metadata": {}
  },
  {
   "cell_type": "code",
   "execution_count": 216,
   "metadata": {},
   "outputs": [],
   "source": [
    "frame_salida.to_csv(\"./datos_procesados/casos_estado.csv\", index=False)"
   ]
  },
  {
   "source": [
    "Listo! En esta parte del tutorial aprendimos las partes básicas del análisis de datos en python y construimos un archivo con los datos necesarios para la siguiente parte del tutorial en la cual haremos algunas gráficas en la web.\n",
    "\n",
    "Para continuar con el tutorial regresa al [README.md del repositorio](https://github.com/irvingfisica/taller01)."
   ],
   "cell_type": "markdown",
   "metadata": {}
  },
  {
   "cell_type": "code",
   "execution_count": null,
   "metadata": {},
   "outputs": [],
   "source": []
  }
 ]
}